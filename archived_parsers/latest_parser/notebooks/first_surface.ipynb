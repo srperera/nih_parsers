{
 "cells": [
  {
   "cell_type": "code",
   "execution_count": 1,
   "metadata": {},
   "outputs": [],
   "source": [
    "import os\n",
    "import numpy as np\n",
    "import pandas as pd\n",
    "\n",
    "from parsers.time_step_surface_parser import TimeStepSurfaceParserDistributed\n",
    "from imaris.imaris import ImarisDataObject\n",
    "\n",
    "from typing import List\n"
   ]
  },
  {
   "cell_type": "code",
   "execution_count": 2,
   "metadata": {},
   "outputs": [
    {
     "data": {
      "text/plain": [
       "True"
      ]
     },
     "execution_count": 2,
     "metadata": {},
     "output_type": "execute_result"
    }
   ],
   "source": [
    "data_path = \"../data/multi_surface_track_parser_dev_data/GFP #1 Sec1 Roi2 2x2 1h30min.ims\"\n",
    "os.path.isfile(data_path)"
   ]
  },
  {
   "cell_type": "code",
   "execution_count": 3,
   "metadata": {},
   "outputs": [],
   "source": [
    "parser = TimeStepSurfaceParserDistributed(data_path, surface_id=0)"
   ]
  },
  {
   "cell_type": "code",
   "execution_count": 4,
   "metadata": {},
   "outputs": [],
   "source": [
    "out = parser.inspect(surface_id=0)"
   ]
  },
  {
   "cell_type": "code",
   "execution_count": 5,
   "metadata": {},
   "outputs": [
    {
     "data": {
      "text/plain": [
       "['surface_name',\n",
       " 'stat_names_raw',\n",
       " 'stat_values_raw',\n",
       " 'track_id',\n",
       " 'factor',\n",
       " 'stat_names_channel_info',\n",
       " 'stat_names_surface_info',\n",
       " 'stat_values_filtered',\n",
       " 'organized_stats',\n",
       " 'stats_df']"
      ]
     },
     "execution_count": 5,
     "metadata": {},
     "output_type": "execute_result"
    }
   ],
   "source": [
    "list(out.keys())"
   ]
  },
  {
   "cell_type": "code",
   "execution_count": 23,
   "metadata": {},
   "outputs": [
    {
     "data": {
      "text/html": [
       "<div>\n",
       "<style scoped>\n",
       "    .dataframe tbody tr th:only-of-type {\n",
       "        vertical-align: middle;\n",
       "    }\n",
       "\n",
       "    .dataframe tbody tr th {\n",
       "        vertical-align: top;\n",
       "    }\n",
       "\n",
       "    .dataframe thead th {\n",
       "        text-align: right;\n",
       "    }\n",
       "</style>\n",
       "<table border=\"1\" class=\"dataframe\">\n",
       "  <thead>\n",
       "    <tr style=\"text-align: right;\">\n",
       "      <th></th>\n",
       "      <th>ID_Time</th>\n",
       "      <th>ID_Object</th>\n",
       "      <th>ID_StatisticsType</th>\n",
       "      <th>Value</th>\n",
       "    </tr>\n",
       "  </thead>\n",
       "  <tbody>\n",
       "    <tr>\n",
       "      <th>0</th>\n",
       "      <td>-1</td>\n",
       "      <td>-1</td>\n",
       "      <td>5</td>\n",
       "      <td>4.032000e+03</td>\n",
       "    </tr>\n",
       "    <tr>\n",
       "      <th>1</th>\n",
       "      <td>-1</td>\n",
       "      <td>-1</td>\n",
       "      <td>6</td>\n",
       "      <td>1.005690e+05</td>\n",
       "    </tr>\n",
       "    <tr>\n",
       "      <th>2</th>\n",
       "      <td>-1</td>\n",
       "      <td>-1</td>\n",
       "      <td>7</td>\n",
       "      <td>1.005690e+05</td>\n",
       "    </tr>\n",
       "    <tr>\n",
       "      <th>3</th>\n",
       "      <td>-1</td>\n",
       "      <td>-1</td>\n",
       "      <td>8</td>\n",
       "      <td>7.727098e+07</td>\n",
       "    </tr>\n",
       "    <tr>\n",
       "      <th>4</th>\n",
       "      <td>-1</td>\n",
       "      <td>-1</td>\n",
       "      <td>9</td>\n",
       "      <td>2.012542e+07</td>\n",
       "    </tr>\n",
       "    <tr>\n",
       "      <th>...</th>\n",
       "      <td>...</td>\n",
       "      <td>...</td>\n",
       "      <td>...</td>\n",
       "      <td>...</td>\n",
       "    </tr>\n",
       "    <tr>\n",
       "      <th>13998063</th>\n",
       "      <td>79</td>\n",
       "      <td>217890</td>\n",
       "      <td>26291</td>\n",
       "      <td>4.607695e+02</td>\n",
       "    </tr>\n",
       "    <tr>\n",
       "      <th>13998064</th>\n",
       "      <td>79</td>\n",
       "      <td>217908</td>\n",
       "      <td>26291</td>\n",
       "      <td>1.336841e+03</td>\n",
       "    </tr>\n",
       "    <tr>\n",
       "      <th>13998065</th>\n",
       "      <td>79</td>\n",
       "      <td>217938</td>\n",
       "      <td>26291</td>\n",
       "      <td>8.189819e+02</td>\n",
       "    </tr>\n",
       "    <tr>\n",
       "      <th>13998066</th>\n",
       "      <td>79</td>\n",
       "      <td>218019</td>\n",
       "      <td>26291</td>\n",
       "      <td>5.936770e+02</td>\n",
       "    </tr>\n",
       "    <tr>\n",
       "      <th>13998067</th>\n",
       "      <td>79</td>\n",
       "      <td>218023</td>\n",
       "      <td>26291</td>\n",
       "      <td>2.994599e+03</td>\n",
       "    </tr>\n",
       "  </tbody>\n",
       "</table>\n",
       "<p>13998068 rows × 4 columns</p>\n",
       "</div>"
      ],
      "text/plain": [
       "          ID_Time  ID_Object  ID_StatisticsType         Value\n",
       "0              -1         -1                  5  4.032000e+03\n",
       "1              -1         -1                  6  1.005690e+05\n",
       "2              -1         -1                  7  1.005690e+05\n",
       "3              -1         -1                  8  7.727098e+07\n",
       "4              -1         -1                  9  2.012542e+07\n",
       "...           ...        ...                ...           ...\n",
       "13998063       79     217890              26291  4.607695e+02\n",
       "13998064       79     217908              26291  1.336841e+03\n",
       "13998065       79     217938              26291  8.189819e+02\n",
       "13998066       79     218019              26291  5.936770e+02\n",
       "13998067       79     218023              26291  2.994599e+03\n",
       "\n",
       "[13998068 rows x 4 columns]"
      ]
     },
     "execution_count": 23,
     "metadata": {},
     "output_type": "execute_result"
    }
   ],
   "source": [
    "raw = out[\"stat_values_raw\"]\n",
    "raw"
   ]
  },
  {
   "cell_type": "code",
   "execution_count": 24,
   "metadata": {},
   "outputs": [
    {
     "data": {
      "text/html": [
       "<div>\n",
       "<style scoped>\n",
       "    .dataframe tbody tr th:only-of-type {\n",
       "        vertical-align: middle;\n",
       "    }\n",
       "\n",
       "    .dataframe tbody tr th {\n",
       "        vertical-align: top;\n",
       "    }\n",
       "\n",
       "    .dataframe thead th {\n",
       "        text-align: right;\n",
       "    }\n",
       "</style>\n",
       "<table border=\"1\" class=\"dataframe\">\n",
       "  <thead>\n",
       "    <tr style=\"text-align: right;\">\n",
       "      <th></th>\n",
       "      <th>ID_Time</th>\n",
       "      <th>ID_Object</th>\n",
       "      <th>ID_StatisticsType</th>\n",
       "      <th>Value</th>\n",
       "    </tr>\n",
       "  </thead>\n",
       "  <tbody>\n",
       "    <tr>\n",
       "      <th>527599</th>\n",
       "      <td>0</td>\n",
       "      <td>-1</td>\n",
       "      <td>24926</td>\n",
       "      <td>1098.0</td>\n",
       "    </tr>\n",
       "    <tr>\n",
       "      <th>527600</th>\n",
       "      <td>0</td>\n",
       "      <td>-1</td>\n",
       "      <td>24925</td>\n",
       "      <td>1098.0</td>\n",
       "    </tr>\n",
       "  </tbody>\n",
       "</table>\n",
       "</div>"
      ],
      "text/plain": [
       "        ID_Time  ID_Object  ID_StatisticsType   Value\n",
       "527599        0         -1              24926  1098.0\n",
       "527600        0         -1              24925  1098.0"
      ]
     },
     "execution_count": 24,
     "metadata": {},
     "output_type": "execute_result"
    }
   ],
   "source": [
    "x = raw[raw[\"ID_Time\"] == 0]\n",
    "x[x[\"ID_Object\"] == -1]"
   ]
  },
  {
   "cell_type": "code",
   "execution_count": 22,
   "metadata": {},
   "outputs": [
    {
     "data": {
      "text/html": [
       "<div>\n",
       "<style scoped>\n",
       "    .dataframe tbody tr th:only-of-type {\n",
       "        vertical-align: middle;\n",
       "    }\n",
       "\n",
       "    .dataframe tbody tr th {\n",
       "        vertical-align: top;\n",
       "    }\n",
       "\n",
       "    .dataframe thead th {\n",
       "        text-align: right;\n",
       "    }\n",
       "</style>\n",
       "<table border=\"1\" class=\"dataframe\">\n",
       "  <thead>\n",
       "    <tr style=\"text-align: right;\">\n",
       "      <th></th>\n",
       "      <th>ID_Time</th>\n",
       "      <th>ID_Object</th>\n",
       "      <th>ID_StatisticsType</th>\n",
       "      <th>Value</th>\n",
       "    </tr>\n",
       "  </thead>\n",
       "  <tbody>\n",
       "    <tr>\n",
       "      <th>421093</th>\n",
       "      <td>0</td>\n",
       "      <td>0</td>\n",
       "      <td>26071</td>\n",
       "      <td>0.000000</td>\n",
       "    </tr>\n",
       "    <tr>\n",
       "      <th>421094</th>\n",
       "      <td>0</td>\n",
       "      <td>2</td>\n",
       "      <td>26071</td>\n",
       "      <td>0.000000</td>\n",
       "    </tr>\n",
       "    <tr>\n",
       "      <th>421095</th>\n",
       "      <td>0</td>\n",
       "      <td>3</td>\n",
       "      <td>26071</td>\n",
       "      <td>0.000000</td>\n",
       "    </tr>\n",
       "    <tr>\n",
       "      <th>421096</th>\n",
       "      <td>0</td>\n",
       "      <td>4</td>\n",
       "      <td>26071</td>\n",
       "      <td>0.000000</td>\n",
       "    </tr>\n",
       "    <tr>\n",
       "      <th>421097</th>\n",
       "      <td>0</td>\n",
       "      <td>6</td>\n",
       "      <td>26071</td>\n",
       "      <td>0.000000</td>\n",
       "    </tr>\n",
       "    <tr>\n",
       "      <th>...</th>\n",
       "      <td>...</td>\n",
       "      <td>...</td>\n",
       "      <td>...</td>\n",
       "      <td>...</td>\n",
       "    </tr>\n",
       "    <tr>\n",
       "      <th>569320</th>\n",
       "      <td>0</td>\n",
       "      <td>1435</td>\n",
       "      <td>26291</td>\n",
       "      <td>863.469788</td>\n",
       "    </tr>\n",
       "    <tr>\n",
       "      <th>569321</th>\n",
       "      <td>0</td>\n",
       "      <td>1436</td>\n",
       "      <td>26291</td>\n",
       "      <td>1182.071777</td>\n",
       "    </tr>\n",
       "    <tr>\n",
       "      <th>569322</th>\n",
       "      <td>0</td>\n",
       "      <td>1437</td>\n",
       "      <td>26291</td>\n",
       "      <td>339.832031</td>\n",
       "    </tr>\n",
       "    <tr>\n",
       "      <th>569323</th>\n",
       "      <td>0</td>\n",
       "      <td>1439</td>\n",
       "      <td>26291</td>\n",
       "      <td>227.914978</td>\n",
       "    </tr>\n",
       "    <tr>\n",
       "      <th>569324</th>\n",
       "      <td>0</td>\n",
       "      <td>1440</td>\n",
       "      <td>26291</td>\n",
       "      <td>1143.985718</td>\n",
       "    </tr>\n",
       "  </tbody>\n",
       "</table>\n",
       "<p>148230 rows × 4 columns</p>\n",
       "</div>"
      ],
      "text/plain": [
       "        ID_Time  ID_Object  ID_StatisticsType        Value\n",
       "421093        0          0              26071     0.000000\n",
       "421094        0          2              26071     0.000000\n",
       "421095        0          3              26071     0.000000\n",
       "421096        0          4              26071     0.000000\n",
       "421097        0          6              26071     0.000000\n",
       "...         ...        ...                ...          ...\n",
       "569320        0       1435              26291   863.469788\n",
       "569321        0       1436              26291  1182.071777\n",
       "569322        0       1437              26291   339.832031\n",
       "569323        0       1439              26291   227.914978\n",
       "569324        0       1440              26291  1143.985718\n",
       "\n",
       "[148230 rows x 4 columns]"
      ]
     },
     "execution_count": 22,
     "metadata": {},
     "output_type": "execute_result"
    }
   ],
   "source": [
    "y = out[\"stat_values_filtered\"]\n",
    "y"
   ]
  },
  {
   "cell_type": "code",
   "execution_count": 14,
   "metadata": {},
   "outputs": [
    {
     "data": {
      "text/plain": [
       "1099"
      ]
     },
     "execution_count": 14,
     "metadata": {},
     "output_type": "execute_result"
    }
   ],
   "source": [
    "len(x)"
   ]
  },
  {
   "cell_type": "code",
   "execution_count": 15,
   "metadata": {},
   "outputs": [
    {
     "data": {
      "text/plain": [
       "1098"
      ]
     },
     "execution_count": 15,
     "metadata": {},
     "output_type": "execute_result"
    }
   ],
   "source": [
    "len(y)"
   ]
  },
  {
   "cell_type": "code",
   "execution_count": 16,
   "metadata": {},
   "outputs": [
    {
     "data": {
      "text/plain": [
       "array([   0,    2,    3, ..., 1439, 1440,   -1])"
      ]
     },
     "execution_count": 16,
     "metadata": {},
     "output_type": "execute_result"
    }
   ],
   "source": [
    "x"
   ]
  },
  {
   "cell_type": "code",
   "execution_count": 18,
   "metadata": {},
   "outputs": [
    {
     "data": {
      "text/plain": [
       "array([   0,    2,    3, ..., 1437, 1439, 1440])"
      ]
     },
     "execution_count": 18,
     "metadata": {},
     "output_type": "execute_result"
    }
   ],
   "source": [
    "y"
   ]
  },
  {
   "cell_type": "code",
   "execution_count": null,
   "metadata": {},
   "outputs": [],
   "source": []
  }
 ],
 "metadata": {
  "kernelspec": {
   "display_name": "corev2",
   "language": "python",
   "name": "python3"
  },
  "language_info": {
   "codemirror_mode": {
    "name": "ipython",
    "version": 3
   },
   "file_extension": ".py",
   "mimetype": "text/x-python",
   "name": "python",
   "nbconvert_exporter": "python",
   "pygments_lexer": "ipython3",
   "version": "3.10.10"
  }
 },
 "nbformat": 4,
 "nbformat_minor": 2
}
