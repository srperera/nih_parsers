{
 "cells": [
  {
   "cell_type": "code",
   "execution_count": 22,
   "metadata": {},
   "outputs": [],
   "source": [
    "import os\n",
    "import numpy as np\n",
    "import pandas as pd\n",
    "\n",
    "#from parsers.time_step_surface_parser import TimeStepSurfaceParserDistributed\n",
    "#from parsers.surface_parser import SurfaceParserDistributed\n",
    "from parsers.track_parser import TrackParserDistributed\n",
    "from imaris.imaris import ImarisDataObject\n",
    "\n",
    "from typing import List\n"
   ]
  },
  {
   "cell_type": "code",
   "execution_count": 23,
   "metadata": {},
   "outputs": [
    {
     "data": {
      "text/plain": [
       "True"
      ]
     },
     "execution_count": 23,
     "metadata": {},
     "output_type": "execute_result"
    }
   ],
   "source": [
    "data_path = \"C:/Users/perer/Downloads/FIX/FIX/F1/GFP #1 Sec2 Roi1 2x2 1h30min.ims\"\n",
    "os.path.isfile(data_path)"
   ]
  },
  {
   "cell_type": "code",
   "execution_count": 24,
   "metadata": {},
   "outputs": [],
   "source": [
    "parser = TrackParserDistributed(data_path, surface_id=3)"
   ]
  },
  {
   "cell_type": "code",
   "execution_count": 25,
   "metadata": {},
   "outputs": [],
   "source": [
    "out = parser.inspect(surface_id=0)"
   ]
  },
  {
   "cell_type": "code",
   "execution_count": 26,
   "metadata": {},
   "outputs": [
    {
     "data": {
      "text/plain": [
       "['surface_name',\n",
       " 'stat_names_raw',\n",
       " 'stat_values_raw',\n",
       " 'track_id',\n",
       " 'factor',\n",
       " 'stat_names_channel_info',\n",
       " 'stat_names_surface_info',\n",
       " 'stat_values_filtered',\n",
       " 'organized_stats',\n",
       " 'stats_df']"
      ]
     },
     "execution_count": 26,
     "metadata": {},
     "output_type": "execute_result"
    }
   ],
   "source": [
    "list(out.keys())"
   ]
  },
  {
   "cell_type": "code",
   "execution_count": 28,
   "metadata": {},
   "outputs": [],
   "source": [
    "final = out[\"stats_df\"]"
   ]
  },
  {
   "cell_type": "code",
   "execution_count": 29,
   "metadata": {},
   "outputs": [
    {
     "data": {
      "text/plain": [
       "1000000000    16.949593\n",
       "1000000002    25.778427\n",
       "1000000003    29.837364\n",
       "1000000005    19.944979\n",
       "1000000006    -2.458879\n",
       "                ...    \n",
       "1000201494     7.670794\n",
       "1000201604    37.066799\n",
       "1000201750     0.000000\n",
       "1000201752     0.000000\n",
       "1000201968    40.214455\n",
       "Name: Track Shortest Distance to Surfaces Min_Surfaces Unnamed 2 BCGmR.icsx_[ibrx_2023-06-26T09-47-24.240], Length: 2173, dtype: float64"
      ]
     },
     "execution_count": 29,
     "metadata": {},
     "output_type": "execute_result"
    }
   ],
   "source": [
    "final[\"Track Shortest Distance to Surfaces Min_Surfaces Unnamed 2 BCGmR.icsx_[ibrx_2023-06-26T09-47-24.240]\"]"
   ]
  },
  {
   "cell_type": "code",
   "execution_count": 30,
   "metadata": {},
   "outputs": [
    {
     "data": {
      "text/html": [
       "<div>\n",
       "<style scoped>\n",
       "    .dataframe tbody tr th:only-of-type {\n",
       "        vertical-align: middle;\n",
       "    }\n",
       "\n",
       "    .dataframe tbody tr th {\n",
       "        vertical-align: top;\n",
       "    }\n",
       "\n",
       "    .dataframe thead th {\n",
       "        text-align: right;\n",
       "    }\n",
       "</style>\n",
       "<table border=\"1\" class=\"dataframe\">\n",
       "  <thead>\n",
       "    <tr style=\"text-align: right;\">\n",
       "      <th></th>\n",
       "      <th>Track Shortest Distance to Surfaces Min</th>\n",
       "      <th>Unit</th>\n",
       "      <th>Category</th>\n",
       "      <th>Surfaces</th>\n",
       "      <th>ID</th>\n",
       "      <th>Unnamed: 5</th>\n",
       "    </tr>\n",
       "  </thead>\n",
       "  <tbody>\n",
       "    <tr>\n",
       "      <th>0</th>\n",
       "      <td>16.94960</td>\n",
       "      <td>µm</td>\n",
       "      <td>Track</td>\n",
       "      <td>Surfaces Unnamed 2 BCGmR.icsx_[ibrx_2023-06-26...</td>\n",
       "      <td>1000000000</td>\n",
       "      <td>NaN</td>\n",
       "    </tr>\n",
       "    <tr>\n",
       "      <th>1</th>\n",
       "      <td>25.77840</td>\n",
       "      <td>µm</td>\n",
       "      <td>Track</td>\n",
       "      <td>Surfaces Unnamed 2 BCGmR.icsx_[ibrx_2023-06-26...</td>\n",
       "      <td>1000000002</td>\n",
       "      <td>NaN</td>\n",
       "    </tr>\n",
       "    <tr>\n",
       "      <th>2</th>\n",
       "      <td>29.83740</td>\n",
       "      <td>µm</td>\n",
       "      <td>Track</td>\n",
       "      <td>Surfaces Unnamed 2 BCGmR.icsx_[ibrx_2023-06-26...</td>\n",
       "      <td>1000000003</td>\n",
       "      <td>NaN</td>\n",
       "    </tr>\n",
       "    <tr>\n",
       "      <th>3</th>\n",
       "      <td>19.94500</td>\n",
       "      <td>µm</td>\n",
       "      <td>Track</td>\n",
       "      <td>Surfaces Unnamed 2 BCGmR.icsx_[ibrx_2023-06-26...</td>\n",
       "      <td>1000000005</td>\n",
       "      <td>NaN</td>\n",
       "    </tr>\n",
       "    <tr>\n",
       "      <th>4</th>\n",
       "      <td>-2.45888</td>\n",
       "      <td>µm</td>\n",
       "      <td>Track</td>\n",
       "      <td>Surfaces Unnamed 2 BCGmR.icsx_[ibrx_2023-06-26...</td>\n",
       "      <td>1000000006</td>\n",
       "      <td>NaN</td>\n",
       "    </tr>\n",
       "  </tbody>\n",
       "</table>\n",
       "</div>"
      ],
      "text/plain": [
       "   Track Shortest Distance to Surfaces Min Unit Category  \\\n",
       "0                                 16.94960   µm    Track   \n",
       "1                                 25.77840   µm    Track   \n",
       "2                                 29.83740   µm    Track   \n",
       "3                                 19.94500   µm    Track   \n",
       "4                                 -2.45888   µm    Track   \n",
       "\n",
       "                                            Surfaces          ID  Unnamed: 5  \n",
       "0  Surfaces Unnamed 2 BCGmR.icsx_[ibrx_2023-06-26...  1000000000         NaN  \n",
       "1  Surfaces Unnamed 2 BCGmR.icsx_[ibrx_2023-06-26...  1000000002         NaN  \n",
       "2  Surfaces Unnamed 2 BCGmR.icsx_[ibrx_2023-06-26...  1000000003         NaN  \n",
       "3  Surfaces Unnamed 2 BCGmR.icsx_[ibrx_2023-06-26...  1000000005         NaN  \n",
       "4  Surfaces Unnamed 2 BCGmR.icsx_[ibrx_2023-06-26...  1000000006         NaN  "
      ]
     },
     "execution_count": 30,
     "metadata": {},
     "output_type": "execute_result"
    }
   ],
   "source": [
    "df = pd.read_csv(\"temp\\GFP #1 Sec2 Roi1 2x2 1h30min_Statistics\\GFP #1 Sec2 Roi1 2x2 1h30min_Track_Shortest_Distance_to_Surfaces_Min_Surfaces=Surfaces_Unnamed_2_BCGmR.icsx_[ibrx_2023-06-26T09-47-24.240].csv\")\n",
    "df.head()"
   ]
  },
  {
   "cell_type": "code",
   "execution_count": 32,
   "metadata": {},
   "outputs": [
    {
     "name": "stdout",
     "output_type": "stream",
     "text": [
      "1000000000 16.9496 16.94959259033203\n",
      "1000000002 25.7784 25.778427124023438\n",
      "1000000003 29.8374 29.837364196777344\n",
      "1000000005 19.945 19.944978713989258\n",
      "1000000006 -2.45888 -2.4588794708251953\n",
      "1000000007 3.11048 3.1104753017425537\n",
      "1000000008 4.34006 4.34006404876709\n",
      "1000000010 4.91581 4.915812015533447\n",
      "1000000012 17.0364 17.036413192749023\n",
      "1000000013 18.4685 18.468456268310547\n",
      "1000000014 37.8512 37.85116958618164\n",
      "1000000015 22.6025 22.602500915527344\n",
      "1000000016 13.2209 13.22085952758789\n",
      "1000000017 14.0713 14.071317672729492\n",
      "1000000018 26.2781 26.27811622619629\n",
      "1000000019 11.8086 11.808622360229492\n",
      "1000000020 21.6914 21.691448211669922\n",
      "1000000022 9.76851 9.768505096435547\n",
      "1000000023 26.939 26.938953399658203\n",
      "1000000024 0.0 0.0\n",
      "1000000025 11.3081 11.308090209960938\n"
     ]
    },
    {
     "data": {
      "text/plain": [
       "0"
      ]
     },
     "execution_count": 32,
     "metadata": {},
     "output_type": "execute_result"
    }
   ],
   "source": [
    "counter = 0\n",
    "for idx, obj_id in enumerate(list(df[\"ID\"].to_list())):\n",
    "    \n",
    "    real = df[df[\"ID\"] == obj_id][\"Track Shortest Distance to Surfaces Min\"].item()\n",
    "    id_ = final[final['Object_ID'] == obj_id][\"Track Shortest Distance to Surfaces Min_Surfaces Unnamed 2 BCGmR.icsx_[ibrx_2023-06-26T09-47-24.240]\"].item()\n",
    "    \n",
    "    if np.abs(real - id_) > 1:\n",
    "        counter += 1\n",
    "    print(obj_id, real, id_)\n",
    "    \n",
    "    if idx == 20:\n",
    "        break\n",
    "    \n",
    "counter"
   ]
  },
  {
   "cell_type": "code",
   "execution_count": 17,
   "metadata": {},
   "outputs": [],
   "source": [
    "with open(\"temp\\GFP #1 Sec2 Roi1 2x2 1h30min_Statistics\\GFP #1 Sec2 Roi1 2x2 1h30min_Track_Straightness.csv\") as file:\n",
    "    df = file.read()\n",
    "    df = df.split(\"\\n\")[3:]"
   ]
  },
  {
   "cell_type": "code",
   "execution_count": null,
   "metadata": {},
   "outputs": [],
   "source": []
  },
  {
   "cell_type": "code",
   "execution_count": null,
   "metadata": {},
   "outputs": [],
   "source": [
    "x = raw[raw[\"ID_Time\"] == 0]\n",
    "x[x[\"ID_Object\"] == -1]"
   ]
  },
  {
   "cell_type": "code",
   "execution_count": null,
   "metadata": {},
   "outputs": [],
   "source": [
    "y = out[\"stat_values_filtered\"]\n",
    "y"
   ]
  },
  {
   "cell_type": "code",
   "execution_count": null,
   "metadata": {},
   "outputs": [],
   "source": [
    "len(x)"
   ]
  },
  {
   "cell_type": "code",
   "execution_count": null,
   "metadata": {},
   "outputs": [],
   "source": [
    "len(y)"
   ]
  },
  {
   "cell_type": "code",
   "execution_count": null,
   "metadata": {},
   "outputs": [],
   "source": [
    "x"
   ]
  },
  {
   "cell_type": "code",
   "execution_count": null,
   "metadata": {},
   "outputs": [],
   "source": [
    "y"
   ]
  },
  {
   "cell_type": "code",
   "execution_count": null,
   "metadata": {},
   "outputs": [],
   "source": []
  }
 ],
 "metadata": {
  "kernelspec": {
   "display_name": "corev2",
   "language": "python",
   "name": "python3"
  },
  "language_info": {
   "codemirror_mode": {
    "name": "ipython",
    "version": 3
   },
   "file_extension": ".py",
   "mimetype": "text/x-python",
   "name": "python",
   "nbconvert_exporter": "python",
   "pygments_lexer": "ipython3",
   "version": "3.11.5"
  }
 },
 "nbformat": 4,
 "nbformat_minor": 2
}
