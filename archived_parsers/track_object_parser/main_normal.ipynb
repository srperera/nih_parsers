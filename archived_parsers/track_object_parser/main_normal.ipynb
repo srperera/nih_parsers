{
 "cells": [
  {
   "cell_type": "code",
   "execution_count": 1,
   "id": "a7b308e1-5963-4b1f-9f78-25577e53f840",
   "metadata": {},
   "outputs": [],
   "source": [
    "import h5py\n",
    "import numpy as np\n",
    "from numba import jit, njit\n",
    "import matplotlib.pyplot as plt\n",
    "from rich import print\n",
    "import copy\n",
    "import pandas as pd\n",
    "import re\n",
    "from tqdm import tqdm\n",
    "import timeit\n",
    "import re\n",
    "from utils import *\n",
    "\n",
    "from stats import Stats\n",
    "from statscols import StatsColumns\n",
    "import yaml\n",
    "import glob\n",
    "import os\n",
    "import time"
   ]
  },
  {
   "cell_type": "code",
   "execution_count": 2,
   "id": "e1369601-6221-4a51-a2d5-ab993ebd4018",
   "metadata": {},
   "outputs": [],
   "source": [
    "def run(config: dict, data_path: str, categories: list, drop_duplicates: bool):\n",
    "    '''\n",
    "    args:\n",
    "        data_path: path to imaris file\n",
    "    '''\n",
    "    # load the data\n",
    "    full_data_file = load_data(data_path)\n",
    "\n",
    "    # get the points info inside the file\n",
    "    points = get_points(full_data_file)\n",
    "    \n",
    "    # storage to store multiple dataframes\n",
    "    dataframe_storage = list()\n",
    "\n",
    "    full_storage = {}\n",
    "    \n",
    "    # metadata storage\n",
    "    metadata_storage = {}\n",
    "\n",
    "    # loop over each point\n",
    "    for idx, point in tqdm(enumerate(points)):\n",
    "\n",
    "        # create a dictionary that maps the statistics name to the \n",
    "        stats_dict = get_statistics_dict(full_data_file, point)\n",
    "        \n",
    "        # create the functions dict\n",
    "        remove_list = read_txt(config['remove_list_path'])\n",
    "        functions_dict = create_functions_dict(categories, remove_list, stats_dict)\n",
    "\n",
    "        try:\n",
    "            # get the track information\n",
    "            track_id_data = get_stats(full_data_file, point, 'Track0')\n",
    "\n",
    "            # get the track object information\n",
    "            track_object_data = get_stats(full_data_file, point, 'TrackObject0')\n",
    "\n",
    "            # get the stistics value information\n",
    "            stats_values = get_stats(full_data_file, point, 'StatisticsValue')\n",
    "\n",
    "            # get the track and object id information in one np array\n",
    "            track_and_object_id_info = convert_to_matrix(track_id_data, track_object_data)\n",
    "\n",
    "            # create a dict to extract the data \n",
    "            stats_data = extract_data(track_and_object_id_info, stats_values)\n",
    "\n",
    "            # invert the stats dict ie: swap key and values\n",
    "            inv_stats_dict = invert_stats_dict(stats_dict)\n",
    "\n",
    "            # initialize the class to create all the necessary columns\n",
    "            statscols = StatsColumns(\n",
    "                idx,\n",
    "                stats_dict,\n",
    "                track_id_data,\n",
    "                track_object_data,\n",
    "                stats_values,\n",
    "                track_and_object_id_info,\n",
    "                stats_data,\n",
    "                inv_stats_dict)\n",
    "\n",
    "            # get the number of object in current point\n",
    "            num_points = statscols.obj_ids.shape[0]\n",
    "\n",
    "            # create a empty storage dict to store the data from each point\n",
    "            storage_dict = {}\n",
    "\n",
    "            # update metadata\n",
    "            metadata_storage[point] = {'num_obj_ids': num_points, 'num_track_ids': statscols.track_and_object_id_info.shape[0]}\n",
    "            \n",
    "            # grab the special items\n",
    "            for key in functions_dict.keys():\n",
    "\n",
    "                if type(functions_dict[key]) == list: \n",
    "                    storage_dict[key] = getattr(statscols, 'universal_create_track_channel_value_column')(*functions_dict[key])\n",
    "                else:\n",
    "                    if key not in config['special_items']:\n",
    "                        storage_dict[key] = getattr(statscols, 'universal_create_stats_column')(functions_dict[key])\n",
    "                    else:\n",
    "                        storage_dict[key] = getattr(statscols, functions_dict[key])()\n",
    "                        \n",
    "            full_storage[point] = storage_dict\n",
    "\n",
    "            # update dataframe\n",
    "            points_data_arr = pd.DataFrame(\n",
    "                data=np.hstack(list(full_storage[point].values())),\n",
    "                columns=list(functions_dict.keys()))\n",
    "\n",
    "            dataframe_storage.append(points_data_arr)\n",
    "\n",
    "            print(f'info: found track')\n",
    "            \n",
    "        except (KeyError, AttributeError):\n",
    "            print(f'info: no track')\n",
    "            pass\n",
    "        \n",
    "    # concatenate all the points\n",
    "    \n",
    "    return pd.concat(dataframe_storage), metadata_storage"
   ]
  },
  {
   "cell_type": "code",
   "execution_count": 3,
   "id": "410b64da-f906-4d1c-8d2c-110d917f8b5e",
   "metadata": {},
   "outputs": [],
   "source": [
    "def main(config_path: str, drop_duplicates: bool=True) -> None:\n",
    "    '''\n",
    "    args:\n",
    "        config_path: path to the config yaml file\n",
    "    '''\n",
    "    # load yaml file as a dictionary\n",
    "    config = load_yaml(config_path)\n",
    "    \n",
    "    # get the statistics categories\n",
    "    categories = read_txt(config['stats_category_path'])\n",
    "    \n",
    "    # create saving directory\n",
    "    None if os.path.exists(config['save_dir']) else os.mkdir(config['save_dir'])\n",
    "    \n",
    "    for data_path in glob.glob(os.path.join(config['data_dir'], '*.ims')):\n",
    "        \n",
    "        print(f\"\\ninfo: data path -- {data_path}\")\n",
    "        # get the name of the imaris file\n",
    "        imaris_name = os.path.basename(data_path).split('.')[0]\n",
    "        csv_name = f\"{imaris_name}.csv\"\n",
    "        metadata_name = f\"{imaris_name}.yaml\"\n",
    "        \n",
    "        print(f\"info: file name -- {imaris_name}\")\n",
    "        \n",
    "        # create storage file\n",
    "        try: \n",
    "            data_frame, metadata = run(config, data_path, categories, drop_duplicates)\n",
    "            \n",
    "            # remove unwanted columns with no values\n",
    "            data_frame.dropna(how='all', axis=1, inplace=True)\n",
    "            \n",
    "            # save data_frame\n",
    "            # create directory to store csv file\n",
    "            save_path = os.path.join(config['save_dir'], config['data_dir'])\n",
    "\n",
    "#             # save a csv \n",
    "            if drop_duplicates:\n",
    "                data_frame = data_frame.drop_duplicates(subset=['ID'], keep='last', inplace=False, ignore_index=True)\n",
    "\n",
    "            data_frame.to_csv(os.path.join(config['save_dir'], csv_name), index=False)\n",
    "            # save metadata\n",
    "            dict_to_yaml(metadata, os.path.join(config['save_dir'], metadata_name))\n",
    "            \n",
    "        except (ValueError, AttributeError):\n",
    "            print(f'info: Skipping File - No Tracks Found\\n')\n",
    "            pass\n",
    "        \n",
    "\n",
    "         "
   ]
  },
  {
   "cell_type": "code",
   "execution_count": 4,
   "id": "b9c047b9-71fa-4f5b-80c6-91ad146d8650",
   "metadata": {
    "scrolled": true,
    "tags": []
   },
   "outputs": [
    {
     "data": {
      "text/html": [
       "<pre style=\"white-space:pre;overflow-x:auto;line-height:normal;font-family:Menlo,'DejaVu Sans Mono',consolas,'Courier New',monospace\">\n",
       "info: data path -- data_dir/new/DGI3_Gran_21_e_stable-3channels.ims\n",
       "</pre>\n"
      ],
      "text/plain": [
       "\n",
       "info: data path -- data_dir/new/DGI3_Gran_21_e_stable-3channels.ims\n"
      ]
     },
     "metadata": {},
     "output_type": "display_data"
    },
    {
     "data": {
      "text/html": [
       "<pre style=\"white-space:pre;overflow-x:auto;line-height:normal;font-family:Menlo,'DejaVu Sans Mono',consolas,'Courier New',monospace\">info: file name -- DGI3_Gran_21_e_stable-3channels\n",
       "</pre>\n"
      ],
      "text/plain": [
       "info: file name -- DGI3_Gran_21_e_stable-3channels\n"
      ]
     },
     "metadata": {},
     "output_type": "display_data"
    },
    {
     "name": "stderr",
     "output_type": "stream",
     "text": [
      "0it [00:00, ?it/s]"
     ]
    },
    {
     "data": {
      "text/html": [
       "<pre style=\"white-space:pre;overflow-x:auto;line-height:normal;font-family:Menlo,'DejaVu Sans Mono',consolas,'Courier New',monospace\">info: found track\n",
       "</pre>\n"
      ],
      "text/plain": [
       "info: found track\n"
      ]
     },
     "metadata": {},
     "output_type": "display_data"
    },
    {
     "name": "stderr",
     "output_type": "stream",
     "text": [
      "1it [00:56, 56.95s/it]"
     ]
    },
    {
     "data": {
      "text/html": [
       "<pre style=\"white-space:pre;overflow-x:auto;line-height:normal;font-family:Menlo,'DejaVu Sans Mono',consolas,'Courier New',monospace\">info: found track\n",
       "</pre>\n"
      ],
      "text/plain": [
       "info: found track\n"
      ]
     },
     "metadata": {},
     "output_type": "display_data"
    },
    {
     "name": "stderr",
     "output_type": "stream",
     "text": [
      "2it [02:05, 64.00s/it]"
     ]
    },
    {
     "data": {
      "text/html": [
       "<pre style=\"white-space:pre;overflow-x:auto;line-height:normal;font-family:Menlo,'DejaVu Sans Mono',consolas,'Courier New',monospace\">info: found track\n",
       "</pre>\n"
      ],
      "text/plain": [
       "info: found track\n"
      ]
     },
     "metadata": {},
     "output_type": "display_data"
    },
    {
     "name": "stderr",
     "output_type": "stream",
     "text": [
      "3it [02:47, 55.92s/it]\n"
     ]
    },
    {
     "data": {
      "text/html": [
       "<pre style=\"white-space:pre;overflow-x:auto;line-height:normal;font-family:Menlo,'DejaVu Sans Mono',consolas,'Courier New',monospace\">\n",
       "info: data path -- data_dir/new/Day2 RFL Gran2 3x3 2h_.ims\n",
       "</pre>\n"
      ],
      "text/plain": [
       "\n",
       "info: data path -- data_dir/new/Day2 RFL Gran2 3x3 2h_.ims\n"
      ]
     },
     "metadata": {},
     "output_type": "display_data"
    },
    {
     "data": {
      "text/html": [
       "<pre style=\"white-space:pre;overflow-x:auto;line-height:normal;font-family:Menlo,'DejaVu Sans Mono',consolas,'Courier New',monospace\">info: file name -- Day2 RFL Gran2 3x3 2h_\n",
       "</pre>\n"
      ],
      "text/plain": [
       "info: file name -- Day2 RFL Gran2 3x3 2h_\n"
      ]
     },
     "metadata": {},
     "output_type": "display_data"
    },
    {
     "name": "stderr",
     "output_type": "stream",
     "text": [
      "0it [00:00, ?it/s]"
     ]
    },
    {
     "data": {
      "text/html": [
       "<pre style=\"white-space:pre;overflow-x:auto;line-height:normal;font-family:Menlo,'DejaVu Sans Mono',consolas,'Courier New',monospace\">info: found track\n",
       "</pre>\n"
      ],
      "text/plain": [
       "info: found track\n"
      ]
     },
     "metadata": {},
     "output_type": "display_data"
    },
    {
     "name": "stderr",
     "output_type": "stream",
     "text": [
      "1it [00:30, 30.98s/it]"
     ]
    },
    {
     "data": {
      "text/html": [
       "<pre style=\"white-space:pre;overflow-x:auto;line-height:normal;font-family:Menlo,'DejaVu Sans Mono',consolas,'Courier New',monospace\">info: found track\n",
       "</pre>\n"
      ],
      "text/plain": [
       "info: found track\n"
      ]
     },
     "metadata": {},
     "output_type": "display_data"
    },
    {
     "name": "stderr",
     "output_type": "stream",
     "text": [
      "2it [00:51, 24.68s/it]"
     ]
    },
    {
     "data": {
      "text/html": [
       "<pre style=\"white-space:pre;overflow-x:auto;line-height:normal;font-family:Menlo,'DejaVu Sans Mono',consolas,'Courier New',monospace\">info: no track\n",
       "</pre>\n"
      ],
      "text/plain": [
       "info: no track\n"
      ]
     },
     "metadata": {},
     "output_type": "display_data"
    },
    {
     "data": {
      "text/html": [
       "<pre style=\"white-space:pre;overflow-x:auto;line-height:normal;font-family:Menlo,'DejaVu Sans Mono',consolas,'Courier New',monospace\">info: found track\n",
       "</pre>\n"
      ],
      "text/plain": [
       "info: found track\n"
      ]
     },
     "metadata": {},
     "output_type": "display_data"
    },
    {
     "name": "stderr",
     "output_type": "stream",
     "text": [
      "4it [00:59, 11.78s/it]"
     ]
    },
    {
     "data": {
      "text/html": [
       "<pre style=\"white-space:pre;overflow-x:auto;line-height:normal;font-family:Menlo,'DejaVu Sans Mono',consolas,'Courier New',monospace\">info: found track\n",
       "</pre>\n"
      ],
      "text/plain": [
       "info: found track\n"
      ]
     },
     "metadata": {},
     "output_type": "display_data"
    },
    {
     "name": "stderr",
     "output_type": "stream",
     "text": [
      "5it [00:59, 11.97s/it]\n"
     ]
    },
    {
     "data": {
      "text/html": [
       "<pre style=\"white-space:pre;overflow-x:auto;line-height:normal;font-family:Menlo,'DejaVu Sans Mono',consolas,'Courier New',monospace\"><span style=\"color: #008080; text-decoration-color: #008080; font-weight: bold\">232.38072514533997</span>\n",
       "</pre>\n"
      ],
      "text/plain": [
       "\u001b[1;36m232.38072514533997\u001b[0m\n"
      ]
     },
     "metadata": {},
     "output_type": "display_data"
    }
   ],
   "source": [
    "start = time.time()\n",
    "main('config.yaml', True)\n",
    "end = time.time()\n",
    "print(end - start)"
   ]
  },
  {
   "cell_type": "code",
   "execution_count": null,
   "id": "106c9269-b823-4f55-afde-15b5f6251f27",
   "metadata": {},
   "outputs": [],
   "source": []
  },
  {
   "cell_type": "code",
   "execution_count": null,
   "id": "9b922043-cd8d-40c9-939d-d616ff0efbd3",
   "metadata": {},
   "outputs": [],
   "source": []
  },
  {
   "cell_type": "code",
   "execution_count": null,
   "id": "82fb842e-238a-43de-b7b2-b42a869566f7",
   "metadata": {},
   "outputs": [],
   "source": []
  },
  {
   "cell_type": "code",
   "execution_count": null,
   "id": "81d32750-710c-4421-b4cc-89fef0bf4c87",
   "metadata": {},
   "outputs": [],
   "source": []
  }
 ],
 "metadata": {
  "kernelspec": {
   "display_name": "Python 3 (ipykernel)",
   "language": "python",
   "name": "python3"
  },
  "language_info": {
   "codemirror_mode": {
    "name": "ipython",
    "version": 3
   },
   "file_extension": ".py",
   "mimetype": "text/x-python",
   "name": "python",
   "nbconvert_exporter": "python",
   "pygments_lexer": "ipython3",
   "version": "3.8.10"
  }
 },
 "nbformat": 4,
 "nbformat_minor": 5
}
