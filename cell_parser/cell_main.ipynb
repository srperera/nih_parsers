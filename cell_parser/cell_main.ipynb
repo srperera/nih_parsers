{
 "cells": [
  {
   "cell_type": "code",
   "execution_count": 1,
   "metadata": {},
   "outputs": [],
   "source": [
    "import utils\n",
    "import numpy as np\n",
    "import glob\n",
    "import os\n",
    "import pandas as pd\n",
    "from cell_parser import extract_and_save\n",
    "import ray\n",
    "import time"
   ]
  },
  {
   "cell_type": "markdown",
   "metadata": {},
   "source": [
    "Get Available Categories"
   ]
  },
  {
   "cell_type": "code",
   "execution_count": 2,
   "metadata": {},
   "outputs": [],
   "source": [
    "def available_categories(ims_file_path: str, valid_surface: int):\n",
    "    # load the imaris file\n",
    "    data = utils.load_ims(ims_file_path)\n",
    "\n",
    "    # get surface we want to parse\n",
    "    surface_name = utils.get_object_names(full_data_file=data, search_for=\"Cell\")[\n",
    "        valid_surface\n",
    "    ]\n",
    "\n",
    "    # get all the statistics names\n",
    "    surface_stats_names = utils.get_statistics_names(\n",
    "        full_data_file=data, object_name=surface_name\n",
    "    )\n",
    "\n",
    "    # invert dictionary + name modifications\n",
    "    # this step is a cosmetic step\n",
    "    inverted_stats_names = utils.invert_stats_dict(surface_stats_names)\n",
    "    inverted_stats_names = utils.flatten(inverted_stats_names)\n",
    "\n",
    "    # reverse the stats names again such that key=num, value=name\n",
    "    # final_stats_names = {v: k for k,v in inverted_stats_names.items()}\n",
    "\n",
    "    np.savetxt(\"stats_categories.txt\", list(inverted_stats_names.keys()), fmt=\"%s\")\n",
    "\n",
    "    # print(f'Saved Stats Categories in directory: {os.path.dirname(os.path.abspath(ims_file_path))}')\n",
    "\n",
    "    return list(inverted_stats_names.keys())"
   ]
  },
  {
   "cell_type": "code",
   "execution_count": 3,
   "metadata": {},
   "outputs": [],
   "source": [
    "def generate_available_categories(config_path: str):\n",
    "    # load config path\n",
    "    yaml = utils.load_yaml(\"config.yaml\")\n",
    "\n",
    "    # files to scan\n",
    "    directories = yaml[\"data_dir\"]\n",
    "\n",
    "    # valid surface\n",
    "    valid_surface = int(yaml[\"valid_surface\"]) - 1\n",
    "\n",
    "    for directory in directories:\n",
    "        # grab all the files in the directory w/ .ims\n",
    "        filenames = list(glob.glob(os.path.join(directory, \"*.ims\")))\n",
    "\n",
    "        for filename in filenames:\n",
    "            # file path\n",
    "            file_path = filename\n",
    "\n",
    "            # print(file_path, filename, 'dafd')\n",
    "\n",
    "            # get and save the available categories csv file\n",
    "            available_categories(file_path, valid_surface)\n",
    "\n",
    "            break\n",
    "\n",
    "        break\n",
    "\n",
    "    print(\"[info] Please Edit The Statistics File\")"
   ]
  },
  {
   "cell_type": "code",
   "execution_count": 4,
   "metadata": {},
   "outputs": [
    {
     "name": "stdout",
     "output_type": "stream",
     "text": [
      "[info] Please Edit The Statistics File\n"
     ]
    }
   ],
   "source": [
    "# RUN GENERATE CATEGORIES\n",
    "generate_available_categories(\"config.yaml\")"
   ]
  },
  {
   "cell_type": "markdown",
   "metadata": {},
   "source": [
    "Generate Statistics "
   ]
  },
  {
   "cell_type": "code",
   "execution_count": 5,
   "metadata": {},
   "outputs": [],
   "source": [
    "def generate_statistics(config_path: str):\n",
    "    # load config path\n",
    "    yaml = utils.load_yaml(\"config.yaml\")\n",
    "\n",
    "    # files to scan\n",
    "    directories = yaml[\"data_dir\"]\n",
    "\n",
    "    # get the stats categories\n",
    "    stats_categories = utils.read_txt(yaml[\"stats_category_path\"])\n",
    "\n",
    "    # valid surface\n",
    "    valid_surface = int(yaml[\"valid_surface\"]) - 1\n",
    "\n",
    "    # create a list to hold ray subprocess\n",
    "    processes = []\n",
    "\n",
    "    for directory in directories:\n",
    "        # grab all the files in the directory w/ .ims\n",
    "        filenames = list(glob.glob(os.path.join(directory, \"*.ims\")))\n",
    "\n",
    "        for filename in filenames:\n",
    "            # file path\n",
    "            file_path = filename  # os.path.join(directory, filename)\n",
    "\n",
    "            # save_file_path\n",
    "            save_path = (\n",
    "                os.path.splitext(filename)[0]\n",
    "                + \"_cell_\"\n",
    "                + str(yaml[\"valid_surface\"])\n",
    "                + \".csv\"\n",
    "            )\n",
    "            # save_path = os.path.join(directory, save_path)\n",
    "\n",
    "            # extract and save\n",
    "            processes.append(\n",
    "                extract_and_save.remote(\n",
    "                    file_path, valid_surface, stats_categories, save_path\n",
    "                )\n",
    "            )\n",
    "\n",
    "    print(\"info -- running subprocesses:\")\n",
    "\n",
    "    ray.get(processes)"
   ]
  },
  {
   "cell_type": "code",
   "execution_count": 6,
   "metadata": {},
   "outputs": [
    {
     "name": "stdout",
     "output_type": "stream",
     "text": [
      "info -- running subprocesses:\n",
      "\u001b[2m\u001b[36m(extract_and_save pid=2405432)\u001b[0m [info] working on file ../data/cell.ims\n",
      "\u001b[2m\u001b[36m(extract_and_save pid=2405462)\u001b[0m [info] working on file ../data/new_cell.ims\n",
      "\u001b[2m\u001b[36m(extract_and_save pid=2405432)\u001b[0m --- [warning] -- user requested category Cell Cytoplasm Intensity Mean_channel_5 is NOT in current file\n",
      "\u001b[2m\u001b[36m(extract_and_save pid=2405432)\u001b[0m --- [warning] -- user requested category Cell Center of Image Mass X_channel_5 is NOT in current file\n",
      "\u001b[2m\u001b[36m(extract_and_save pid=2405432)\u001b[0m --- [warning] -- user requested category Cell Center of Image Mass Y_channel_5 is NOT in current file\n",
      "\u001b[2m\u001b[36m(extract_and_save pid=2405432)\u001b[0m --- [warning] -- user requested category Cell Center of Image Mass Z_channel_5 is NOT in current file\n",
      "\u001b[2m\u001b[36m(extract_and_save pid=2405432)\u001b[0m --- [warning] -- user requested category Cell Cytoplasm Intensity Max_channel_5 is NOT in current file\n",
      "\u001b[2m\u001b[36m(extract_and_save pid=2405432)\u001b[0m --- [warning] -- user requested category Cell Cytoplasm Intensity Min_channel_5 is NOT in current file\n",
      "\u001b[2m\u001b[36m(extract_and_save pid=2405432)\u001b[0m --- [warning] -- user requested category Cell Cytoplasm Intensity StdDev_channel_5 is NOT in current file\n",
      "\u001b[2m\u001b[36m(extract_and_save pid=2405432)\u001b[0m --- [warning] -- user requested category Cell Cytoplasm Intensity Sum_channel_5 is NOT in current file\n",
      "\u001b[2m\u001b[36m(extract_and_save pid=2405432)\u001b[0m --- [warning] -- user requested category Cell Intensity Center_channel_5 is NOT in current file\n",
      "\u001b[2m\u001b[36m(extract_and_save pid=2405432)\u001b[0m --- [warning] -- user requested category Cell Intensity Max_channel_5 is NOT in current file\n",
      "\u001b[2m\u001b[36m(extract_and_save pid=2405432)\u001b[0m --- [warning] -- user requested category Cell Intensity Mean_channel_5 is NOT in current file\n",
      "\u001b[2m\u001b[36m(extract_and_save pid=2405432)\u001b[0m --- [warning] -- user requested category Cell Intensity Min_channel_5 is NOT in current file\n",
      "\u001b[2m\u001b[36m(extract_and_save pid=2405432)\u001b[0m --- [warning] -- user requested category Cell Intensity StdDev_channel_5 is NOT in current file\n",
      "\u001b[2m\u001b[36m(extract_and_save pid=2405432)\u001b[0m --- [warning] -- user requested category Cell Intensity Sum_channel_5 is NOT in current file\n",
      "\u001b[2m\u001b[36m(extract_and_save pid=2405432)\u001b[0m --- [warning] -- user requested category Nucleus Center of Image Mass X_channel_5 is NOT in current file\n",
      "\u001b[2m\u001b[36m(extract_and_save pid=2405432)\u001b[0m --- [warning] -- user requested category Nucleus Center of Image Mass Y_channel_5 is NOT in current file\n",
      "\u001b[2m\u001b[36m(extract_and_save pid=2405432)\u001b[0m --- [warning] -- user requested category Nucleus Center of Image Mass Z_channel_5 is NOT in current file\n",
      "\u001b[2m\u001b[36m(extract_and_save pid=2405432)\u001b[0m --- [warning] -- user requested category Nucleus Intensity Center_channel_5 is NOT in current file\n",
      "\u001b[2m\u001b[36m(extract_and_save pid=2405432)\u001b[0m --- [warning] -- user requested category Nucleus Intensity Max_channel_5 is NOT in current file\n",
      "\u001b[2m\u001b[36m(extract_and_save pid=2405432)\u001b[0m --- [warning] -- user requested category Nucleus Intensity Mean_channel_5 is NOT in current file\n",
      "\u001b[2m\u001b[36m(extract_and_save pid=2405432)\u001b[0m --- [warning] -- user requested category Nucleus Intensity Min_channel_5 is NOT in current file\n",
      "\u001b[2m\u001b[36m(extract_and_save pid=2405432)\u001b[0m --- [warning] -- user requested category Nucleus Intensity StdDev_channel_5 is NOT in current file\n",
      "\u001b[2m\u001b[36m(extract_and_save pid=2405432)\u001b[0m --- [warning] -- user requested category Nucleus Intensity Sum_channel_5 is NOT in current file\n",
      "\u001b[2m\u001b[36m(extract_and_save pid=2405462)\u001b[0m [info] finished! \n",
      "\u001b[2m\u001b[36m(extract_and_save pid=2405462)\u001b[0m \n",
      "\u001b[2m\u001b[36m(extract_and_save pid=2405432)\u001b[0m [info] finished! \n",
      "\u001b[2m\u001b[36m(extract_and_save pid=2405432)\u001b[0m \n",
      "total run time:  16.47063789423555\n"
     ]
    }
   ],
   "source": [
    "# RUN GENERATE STATISTICS\n",
    "start = time.perf_counter()\n",
    "generate_statistics(config_path=\"config.yaml\")\n",
    "stop = time.perf_counter()\n",
    "\n",
    "print(\"total run time: \", stop - start)"
   ]
  },
  {
   "cell_type": "code",
   "execution_count": 7,
   "metadata": {},
   "outputs": [],
   "source": [
    "# Working"
   ]
  },
  {
   "cell_type": "code",
   "execution_count": null,
   "metadata": {},
   "outputs": [],
   "source": []
  }
 ],
 "metadata": {
  "kernelspec": {
   "display_name": "Python 3.8.13 ('core')",
   "language": "python",
   "name": "python3"
  },
  "language_info": {
   "codemirror_mode": {
    "name": "ipython",
    "version": 3
   },
   "file_extension": ".py",
   "mimetype": "text/x-python",
   "name": "python",
   "nbconvert_exporter": "python",
   "pygments_lexer": "ipython3",
   "version": "3.8.13"
  },
  "orig_nbformat": 4,
  "vscode": {
   "interpreter": {
    "hash": "04aae946aefb73757d94e4e7bfb7ede85957aa0149a3e71cc39e2fcc66c8e46e"
   }
  }
 },
 "nbformat": 4,
 "nbformat_minor": 2
}
