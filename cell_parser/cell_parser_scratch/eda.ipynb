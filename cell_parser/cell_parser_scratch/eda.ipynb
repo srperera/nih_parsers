{
 "cells": [
  {
   "cell_type": "code",
   "execution_count": 1,
   "metadata": {},
   "outputs": [],
   "source": [
    "from utils import *\n",
    "from rich import print\n",
    "import os\n",
    "from numba import jit, njit\n",
    "import copy\n",
    "import numpy as np\n",
    "import pandas as pd"
   ]
  },
  {
   "cell_type": "code",
   "execution_count": 2,
   "metadata": {},
   "outputs": [],
   "source": [
    "# load h5py data\n",
    "data = load_data('../data/new_cell.ims')"
   ]
  },
  {
   "cell_type": "code",
   "execution_count": 3,
   "metadata": {},
   "outputs": [
    {
     "data": {
      "text/plain": [
       "<KeysViewHDF5 ['DataSet', 'DataSet1', 'DataSet10', 'DataSet11', 'DataSet12', 'DataSet13', 'DataSet14', 'DataSet2', 'DataSet3', 'DataSet4', 'DataSet5', 'DataSet6', 'DataSet7', 'DataSet8', 'DataSet9', 'DataSetEvents', 'DataSetEvents1', 'DataSetEvents10', 'DataSetEvents11', 'DataSetEvents12', 'DataSetEvents13', 'DataSetEvents14', 'DataSetEvents2', 'DataSetEvents3', 'DataSetEvents4', 'DataSetEvents5', 'DataSetEvents6', 'DataSetEvents7', 'DataSetEvents8', 'DataSetEvents9', 'DataSetInfo', 'DataSetInfo1', 'DataSetInfo10', 'DataSetInfo11', 'DataSetInfo12', 'DataSetInfo13', 'DataSetInfo14', 'DataSetInfo2', 'DataSetInfo3', 'DataSetInfo4', 'DataSetInfo5', 'DataSetInfo6', 'DataSetInfo7', 'DataSetInfo8', 'DataSetInfo9', 'DataSetTimes', 'DataSetTimes1', 'DataSetTimes10', 'DataSetTimes11', 'DataSetTimes12', 'DataSetTimes13', 'DataSetTimes14', 'DataSetTimes2', 'DataSetTimes3', 'DataSetTimes4', 'DataSetTimes5', 'DataSetTimes6', 'DataSetTimes7', 'DataSetTimes8', 'DataSetTimes9', 'Scene', 'Scene8', 'Thumbnail']>"
      ]
     },
     "execution_count": 3,
     "metadata": {},
     "output_type": "execute_result"
    }
   ],
   "source": [
    "data.keys()\n"
   ]
  },
  {
   "cell_type": "code",
   "execution_count": 4,
   "metadata": {},
   "outputs": [
    {
     "data": {
      "text/plain": [
       "<KeysViewHDF5 ['Cells0', 'ImageMasks0', 'MegaSurfaces0', 'MegaSurfaces1']>"
      ]
     },
     "execution_count": 4,
     "metadata": {},
     "output_type": "execute_result"
    }
   ],
   "source": [
    "data.get('Scene').get('Content').keys()"
   ]
  },
  {
   "cell_type": "code",
   "execution_count": 10,
   "metadata": {},
   "outputs": [
    {
     "data": {
      "text/plain": [
       "<KeysViewHDF5 ['Category', 'Cells', 'Factor', 'FactorList', 'LabelColor', 'LabelColorData', 'LabelColorLabelGroupNames', 'LabelColorLabelValues', 'LabelGroupNames', 'LabelSetLabelIDs', 'LabelSetObjectIDs', 'LabelSets', 'LabelValues', 'MaskImage', 'Nuclei', 'StatisticsType', 'StatisticsValue', 'StatisticsValueTimeOffset', 'Time', 'TimeBegin']>"
      ]
     },
     "execution_count": 10,
     "metadata": {},
     "output_type": "execute_result"
    }
   ],
   "source": [
    "data.get('Scene8').get('Content').get('Cells0').keys()"
   ]
  },
  {
   "cell_type": "code",
   "execution_count": 28,
   "metadata": {},
   "outputs": [
    {
     "data": {
      "text/plain": [
       "<KeysViewHDF5 ['MainTrackSegmentTable', 'MainTrackSegmentTable_Focus', 'Nucleus', 'NucleusCellOffset', 'NucleusTimeOffset', 'TrackSegment0', 'TrackSegment0_Focus']>"
      ]
     },
     "execution_count": 28,
     "metadata": {},
     "output_type": "execute_result"
    }
   ],
   "source": [
    "data.get('Scene8').get('Content').get('Cells0').get('Nuclei').keys()\n"
   ]
  },
  {
   "cell_type": "code",
   "execution_count": 45,
   "metadata": {},
   "outputs": [
    {
     "data": {
      "text/plain": [
       "(100000320, 32719, 17664, 0)"
      ]
     },
     "execution_count": 45,
     "metadata": {},
     "output_type": "execute_result"
    }
   ],
   "source": [
    "np.array(data.get('Scene8').get('Content').get('Cells0').get('Nuclei')['Nucleus'])[1]"
   ]
  },
  {
   "cell_type": "code",
   "execution_count": 41,
   "metadata": {},
   "outputs": [
    {
     "data": {
      "text/plain": [
       "array([(    1,     0,     1), (    2,     1,     2),\n",
       "       (    3,     2,     3), ..., (16574, 15879, 15880),\n",
       "       (16575, 15880, 15881), (16576, 15881, 15882)],\n",
       "      dtype=[('ID', '<i8'), ('IndexBegin', '<i8'), ('IndexEnd', '<i8')])"
      ]
     },
     "execution_count": 41,
     "metadata": {},
     "output_type": "execute_result"
    }
   ],
   "source": [
    "np.array(data.get('Scene8').get('Content').get('Cells0').get('Nuclei')['NucleusCellOffset'])"
   ]
  },
  {
   "cell_type": "code",
   "execution_count": 29,
   "metadata": {},
   "outputs": [],
   "source": [
    "g = [None] * 15882\n",
    "\n",
    "r = np.array(data.get('Scene8').get('Content').get('Cells0').get('Nuclei').get('Nucleus'))\n",
    "\n",
    "for i in range(15882):\n",
    "    \n",
    "    g[i] = r[i][2]"
   ]
  },
  {
   "cell_type": "code",
   "execution_count": 32,
   "metadata": {},
   "outputs": [
    {
     "data": {
      "text/plain": [
       "17305"
      ]
     },
     "execution_count": 32,
     "metadata": {},
     "output_type": "execute_result"
    }
   ],
   "source": [
    "min(g)"
   ]
  },
  {
   "cell_type": "code",
   "execution_count": 36,
   "metadata": {},
   "outputs": [
    {
     "data": {
      "text/html": [
       "<pre style=\"white-space:pre;overflow-x:auto;line-height:normal;font-family:Menlo,'DejaVu Sans Mono',consolas,'Courier New',monospace\"><span style=\"font-weight: bold\">[</span><span style=\"color: #008000; text-decoration-color: #008000\">'Cells0'</span><span style=\"font-weight: bold\">]</span>\n",
       "</pre>\n"
      ],
      "text/plain": [
       "\u001b[1m[\u001b[0m\u001b[32m'Cells0'\u001b[0m\u001b[1m]\u001b[0m\n"
      ]
     },
     "metadata": {},
     "output_type": "display_data"
    }
   ],
   "source": [
    "## can we get surfaces by modifying following function\n",
    "def get_object_names(full_data_file: h5py.File, search_for: str) -> list:\n",
    "    \"\"\"\n",
    "    _summary_\n",
    "\n",
    "    Args:\n",
    "        full_data_file (h5py._hl.files.File): full imaris file in h5py File format\n",
    "        search_for (str): string containing full or partial filename to search for\n",
    "\n",
    "    Returns:\n",
    "        (list): a list of all the object names that match search_for parameter\n",
    "    \"\"\"\n",
    "    \n",
    "\n",
    "    values = full_data_file.get('Scene').get('Content').keys()\n",
    "    storage = list()\n",
    "    for item in values:\n",
    "        if len(re.findall(search_for, item)):\n",
    "            storage.append(item)\n",
    "    return storage\n",
    "\n",
    "# test function -- working\n",
    "out = get_object_names(data, 'Cells')\n",
    "print(out)"
   ]
  },
  {
   "cell_type": "code",
   "execution_count": 37,
   "metadata": {},
   "outputs": [
    {
     "data": {
      "text/plain": [
       "{413: b'Cell Area',\n",
       " 672: b'Cell BoundingBoxAA Length X',\n",
       " 673: b'Cell BoundingBoxAA Length Y',\n",
       " 674: b'Cell BoundingBoxAA Length Z',\n",
       " 675: b'Cell BoundingBoxOO Length A',\n",
       " 676: b'Cell BoundingBoxOO Length B',\n",
       " 677: b'Cell BoundingBoxOO Length C',\n",
       " 678: b'Cell Center of Homogeneous Mass X',\n",
       " 679: b'Cell Center of Homogeneous Mass Y',\n",
       " 680: b'Cell Center of Homogeneous Mass Z',\n",
       " 681: b'Cell Center of Image Mass X',\n",
       " 682: b'Cell Center of Image Mass X',\n",
       " 683: b'Cell Center of Image Mass X',\n",
       " 684: b'Cell Center of Image Mass X',\n",
       " 990: b'Cell Center of Image Mass X',\n",
       " 685: b'Cell Center of Image Mass Y',\n",
       " 686: b'Cell Center of Image Mass Y',\n",
       " 687: b'Cell Center of Image Mass Y',\n",
       " 688: b'Cell Center of Image Mass Y',\n",
       " 991: b'Cell Center of Image Mass Y',\n",
       " 689: b'Cell Center of Image Mass Z',\n",
       " 690: b'Cell Center of Image Mass Z',\n",
       " 691: b'Cell Center of Image Mass Z',\n",
       " 692: b'Cell Center of Image Mass Z',\n",
       " 992: b'Cell Center of Image Mass Z',\n",
       " 414: b'Cell Cytoplasm Area',\n",
       " 693: b'Cell Cytoplasm Intensity Max',\n",
       " 694: b'Cell Cytoplasm Intensity Max',\n",
       " 695: b'Cell Cytoplasm Intensity Max',\n",
       " 696: b'Cell Cytoplasm Intensity Max',\n",
       " 993: b'Cell Cytoplasm Intensity Max',\n",
       " 415: b'Cell Cytoplasm Intensity Mean',\n",
       " 416: b'Cell Cytoplasm Intensity Mean',\n",
       " 417: b'Cell Cytoplasm Intensity Mean',\n",
       " 418: b'Cell Cytoplasm Intensity Mean',\n",
       " 451: b'Cell Cytoplasm Intensity Mean',\n",
       " 697: b'Cell Cytoplasm Intensity Min',\n",
       " 698: b'Cell Cytoplasm Intensity Min',\n",
       " 699: b'Cell Cytoplasm Intensity Min',\n",
       " 700: b'Cell Cytoplasm Intensity Min',\n",
       " 994: b'Cell Cytoplasm Intensity Min',\n",
       " 701: b'Cell Cytoplasm Intensity StdDev',\n",
       " 702: b'Cell Cytoplasm Intensity StdDev',\n",
       " 703: b'Cell Cytoplasm Intensity StdDev',\n",
       " 704: b'Cell Cytoplasm Intensity StdDev',\n",
       " 995: b'Cell Cytoplasm Intensity StdDev',\n",
       " 705: b'Cell Cytoplasm Intensity Sum',\n",
       " 706: b'Cell Cytoplasm Intensity Sum',\n",
       " 707: b'Cell Cytoplasm Intensity Sum',\n",
       " 708: b'Cell Cytoplasm Intensity Sum',\n",
       " 996: b'Cell Cytoplasm Intensity Sum',\n",
       " 419: b'Cell Cytoplasm Number of Voxels',\n",
       " 420: b'Cell Cytoplasm Volume',\n",
       " 421: b'Cell Distance from Origin',\n",
       " 709: b'Cell Distance to Image Border XY',\n",
       " 710: b'Cell Distance to Image Border XYZ',\n",
       " 711: b'Cell Ellipsoid Axis A X',\n",
       " 712: b'Cell Ellipsoid Axis A Y',\n",
       " 713: b'Cell Ellipsoid Axis A Z',\n",
       " 714: b'Cell Ellipsoid Axis B X',\n",
       " 715: b'Cell Ellipsoid Axis B Y',\n",
       " 716: b'Cell Ellipsoid Axis B Z',\n",
       " 717: b'Cell Ellipsoid Axis C X',\n",
       " 718: b'Cell Ellipsoid Axis C Y',\n",
       " 719: b'Cell Ellipsoid Axis C Z',\n",
       " 720: b'Cell Ellipsoid Axis Length A',\n",
       " 721: b'Cell Ellipsoid Axis Length B',\n",
       " 722: b'Cell Ellipsoid Axis Length C',\n",
       " 723: b'Cell Ellipticity (oblate)',\n",
       " 724: b'Cell Ellipticity (prolate)',\n",
       " 422: b'Cell Generation',\n",
       " 725: b'Cell Intensity Center',\n",
       " 726: b'Cell Intensity Center',\n",
       " 727: b'Cell Intensity Center',\n",
       " 728: b'Cell Intensity Center',\n",
       " 997: b'Cell Intensity Center',\n",
       " 729: b'Cell Intensity Max',\n",
       " 730: b'Cell Intensity Max',\n",
       " 731: b'Cell Intensity Max',\n",
       " 732: b'Cell Intensity Max',\n",
       " 998: b'Cell Intensity Max',\n",
       " 733: b'Cell Intensity Mean',\n",
       " 734: b'Cell Intensity Mean',\n",
       " 735: b'Cell Intensity Mean',\n",
       " 736: b'Cell Intensity Mean',\n",
       " 999: b'Cell Intensity Mean',\n",
       " 737: b'Cell Intensity Min',\n",
       " 738: b'Cell Intensity Min',\n",
       " 739: b'Cell Intensity Min',\n",
       " 740: b'Cell Intensity Min',\n",
       " 1000: b'Cell Intensity Min',\n",
       " 741: b'Cell Intensity StdDev',\n",
       " 742: b'Cell Intensity StdDev',\n",
       " 743: b'Cell Intensity StdDev',\n",
       " 744: b'Cell Intensity StdDev',\n",
       " 1001: b'Cell Intensity StdDev',\n",
       " 745: b'Cell Intensity Sum',\n",
       " 746: b'Cell Intensity Sum',\n",
       " 747: b'Cell Intensity Sum',\n",
       " 748: b'Cell Intensity Sum',\n",
       " 1002: b'Cell Intensity Sum',\n",
       " 423: b'Cell Nucleus to Cytoplasm Volume Ratio',\n",
       " 424: b'Cell Number Of Nuclei',\n",
       " 179: b'Cell Number of Tracks',\n",
       " 177: b'Cell Number of Voxels',\n",
       " 425: b'Cell Position X',\n",
       " 426: b'Cell Position Y',\n",
       " 427: b'Cell Position Z',\n",
       " 749: b'Cell Sphericity',\n",
       " 428: b'Cell Time',\n",
       " 429: b'Cell Time Index',\n",
       " 430: b'Cell Volume',\n",
       " 750: b'Nucleus Area',\n",
       " 751: b'Nucleus BoundingBoxAA Length X',\n",
       " 752: b'Nucleus BoundingBoxAA Length Y',\n",
       " 753: b'Nucleus BoundingBoxAA Length Z',\n",
       " 754: b'Nucleus BoundingBoxOO Length A',\n",
       " 755: b'Nucleus BoundingBoxOO Length B',\n",
       " 756: b'Nucleus BoundingBoxOO Length C',\n",
       " 757: b'Nucleus Center of Homogeneous Mass X',\n",
       " 758: b'Nucleus Center of Homogeneous Mass Y',\n",
       " 759: b'Nucleus Center of Homogeneous Mass Z',\n",
       " 760: b'Nucleus Center of Image Mass X',\n",
       " 761: b'Nucleus Center of Image Mass X',\n",
       " 762: b'Nucleus Center of Image Mass X',\n",
       " 763: b'Nucleus Center of Image Mass X',\n",
       " 1003: b'Nucleus Center of Image Mass X',\n",
       " 764: b'Nucleus Center of Image Mass Y',\n",
       " 765: b'Nucleus Center of Image Mass Y',\n",
       " 766: b'Nucleus Center of Image Mass Y',\n",
       " 767: b'Nucleus Center of Image Mass Y',\n",
       " 1004: b'Nucleus Center of Image Mass Y',\n",
       " 768: b'Nucleus Center of Image Mass Z',\n",
       " 769: b'Nucleus Center of Image Mass Z',\n",
       " 770: b'Nucleus Center of Image Mass Z',\n",
       " 771: b'Nucleus Center of Image Mass Z',\n",
       " 1005: b'Nucleus Center of Image Mass Z',\n",
       " 977: b'Nucleus Distance from Center of Mass to Cell Membrane',\n",
       " 978: b'Nucleus Distance from Nucleus Membrane to Cell Membrane',\n",
       " 431: b'Nucleus Distance from Origin',\n",
       " 979: b'Nucleus Distance from Position to Cell Membrane',\n",
       " 432: b'Nucleus Ellipsoid Axis A X',\n",
       " 772: b'Nucleus Ellipsoid Axis A Y',\n",
       " 773: b'Nucleus Ellipsoid Axis A Z',\n",
       " 774: b'Nucleus Ellipsoid Axis B X',\n",
       " 775: b'Nucleus Ellipsoid Axis B Y',\n",
       " 776: b'Nucleus Ellipsoid Axis B Z',\n",
       " 777: b'Nucleus Ellipsoid Axis C X',\n",
       " 778: b'Nucleus Ellipsoid Axis C Y',\n",
       " 779: b'Nucleus Ellipsoid Axis C Z',\n",
       " 780: b'Nucleus Ellipsoid Axis Length A',\n",
       " 781: b'Nucleus Ellipsoid Axis Length B',\n",
       " 782: b'Nucleus Ellipsoid Axis Length C',\n",
       " 783: b'Nucleus Ellipticity (oblate)',\n",
       " 784: b'Nucleus Ellipticity (prolate)',\n",
       " 785: b'Nucleus Generation',\n",
       " 786: b'Nucleus Intensity Center',\n",
       " 787: b'Nucleus Intensity Center',\n",
       " 788: b'Nucleus Intensity Center',\n",
       " 789: b'Nucleus Intensity Center',\n",
       " 1006: b'Nucleus Intensity Center',\n",
       " 790: b'Nucleus Intensity Max',\n",
       " 791: b'Nucleus Intensity Max',\n",
       " 792: b'Nucleus Intensity Max',\n",
       " 793: b'Nucleus Intensity Max',\n",
       " 1007: b'Nucleus Intensity Max',\n",
       " 794: b'Nucleus Intensity Mean',\n",
       " 795: b'Nucleus Intensity Mean',\n",
       " 796: b'Nucleus Intensity Mean',\n",
       " 797: b'Nucleus Intensity Mean',\n",
       " 1008: b'Nucleus Intensity Mean',\n",
       " 798: b'Nucleus Intensity Min',\n",
       " 799: b'Nucleus Intensity Min',\n",
       " 800: b'Nucleus Intensity Min',\n",
       " 801: b'Nucleus Intensity Min',\n",
       " 1009: b'Nucleus Intensity Min',\n",
       " 802: b'Nucleus Intensity StdDev',\n",
       " 803: b'Nucleus Intensity StdDev',\n",
       " 804: b'Nucleus Intensity StdDev',\n",
       " 805: b'Nucleus Intensity StdDev',\n",
       " 1010: b'Nucleus Intensity StdDev',\n",
       " 806: b'Nucleus Intensity Sum',\n",
       " 807: b'Nucleus Intensity Sum',\n",
       " 808: b'Nucleus Intensity Sum',\n",
       " 809: b'Nucleus Intensity Sum',\n",
       " 1011: b'Nucleus Intensity Sum',\n",
       " 180: b'Nucleus Number of Tracks',\n",
       " 178: b'Nucleus Number of Voxels',\n",
       " 433: b'Nucleus Position X',\n",
       " 434: b'Nucleus Position Y',\n",
       " 435: b'Nucleus Position Z',\n",
       " 452: b'Nucleus Relative To Cell Distance from Origin',\n",
       " 980: b'Nucleus Relative To Cell Position X',\n",
       " 981: b'Nucleus Relative To Cell Position Y',\n",
       " 982: b'Nucleus Relative To Cell Position Z',\n",
       " 436: b'Nucleus Sphericity',\n",
       " 437: b'Nucleus Time',\n",
       " 438: b'Nucleus Time Index',\n",
       " 439: b'Nucleus Volume',\n",
       " 411: b'Number of Cells per Time Point',\n",
       " 412: b'Number of Nuclei per Time Point',\n",
       " 181: b'Total Number of Cells',\n",
       " 182: b'Total Number of Nuclei'}"
      ]
     },
     "execution_count": 37,
     "metadata": {},
     "output_type": "execute_result"
    }
   ],
   "source": [
    "# once we know the object names we want to extract data from use following function\n",
    "# this function doesnt grab any data values, just names\n",
    "def get_statistics_names(full_data_file: h5py.File, object_name: str) -> dict:\n",
    "    \"\"\"\n",
    "    for a given object_name, extracts the statistics names and ids into a dict\n",
    "    ex: statistics name = mean intensity, associated id=404\n",
    "\n",
    "    Args:\n",
    "        full_data_file (h5py._hl.files.File): full imaris file in h5py File format\n",
    "        object_name (str): name of the object to get statistic names from\n",
    "\n",
    "    Returns:\n",
    "        dict: a dict where the keys=unique stats ID, value=static name\n",
    "    \"\"\"\n",
    "\n",
    "    # get object specific data\n",
    "    obj_specific_data = full_data_file['Scene8']['Content'][object_name]\n",
    "    \n",
    "    # rearrange data\n",
    "    statistics_name = np.asarray(obj_specific_data['StatisticsType'])\n",
    "    statistics_name = pd.DataFrame(statistics_name)\n",
    "    \n",
    "    # extract statistics names\n",
    "    stats_name = statistics_name['Name']\n",
    "    \n",
    "    # extract statistics ID names\n",
    "    stats_type = statistics_name['ID']\n",
    "    \n",
    "    # combine stats type and stats names\n",
    "    return  dict(zip(stats_type, stats_name))\n",
    "\n",
    "# test -- working\n",
    "out_stats_names = get_statistics_names(data, 'Cells0')\n",
    "out_stats_names\n"
   ]
  },
  {
   "cell_type": "code",
   "execution_count": 27,
   "metadata": {},
   "outputs": [],
   "source": [
    "#np.savetxt('test.txt', list(out_stats_names.values()), fmt='%s')"
   ]
  },
  {
   "cell_type": "code",
   "execution_count": 28,
   "metadata": {},
   "outputs": [
    {
     "data": {
      "text/html": [
       "<pre style=\"white-space:pre;overflow-x:auto;line-height:normal;font-family:Menlo,'DejaVu Sans Mono',consolas,'Courier New',monospace\">         ID_Object  ID_StatisticsType         Value\n",
       "<span style=\"color: #008080; text-decoration-color: #008080; font-weight: bold\">0</span>               <span style=\"color: #008080; text-decoration-color: #008080; font-weight: bold\">-1</span>                <span style=\"color: #008080; text-decoration-color: #008080; font-weight: bold\">179</span>      <span style=\"color: #008080; text-decoration-color: #008080; font-weight: bold\">0.000000</span>\n",
       "<span style=\"color: #008080; text-decoration-color: #008080; font-weight: bold\">1</span>               <span style=\"color: #008080; text-decoration-color: #008080; font-weight: bold\">-1</span>                <span style=\"color: #008080; text-decoration-color: #008080; font-weight: bold\">180</span>      <span style=\"color: #008080; text-decoration-color: #008080; font-weight: bold\">0.000000</span>\n",
       "<span style=\"color: #008080; text-decoration-color: #008080; font-weight: bold\">2</span>               <span style=\"color: #008080; text-decoration-color: #008080; font-weight: bold\">-1</span>                <span style=\"color: #008080; text-decoration-color: #008080; font-weight: bold\">181</span>  <span style=\"color: #008080; text-decoration-color: #008080; font-weight: bold\">16577.000000</span>\n",
       "<span style=\"color: #008080; text-decoration-color: #008080; font-weight: bold\">3</span>               <span style=\"color: #008080; text-decoration-color: #008080; font-weight: bold\">-1</span>                <span style=\"color: #008080; text-decoration-color: #008080; font-weight: bold\">182</span>  <span style=\"color: #008080; text-decoration-color: #008080; font-weight: bold\">15882.000000</span>\n",
       "<span style=\"color: #008080; text-decoration-color: #008080; font-weight: bold\">4</span>                <span style=\"color: #008080; text-decoration-color: #008080; font-weight: bold\">0</span>                <span style=\"color: #008080; text-decoration-color: #008080; font-weight: bold\">413</span>   <span style=\"color: #008080; text-decoration-color: #008080; font-weight: bold\">2115.452637</span>\n",
       "<span style=\"color: #808000; text-decoration-color: #808000\">...</span>            <span style=\"color: #808000; text-decoration-color: #808000\">...</span>                <span style=\"color: #808000; text-decoration-color: #808000\">...</span>           <span style=\"color: #808000; text-decoration-color: #808000\">...</span>\n",
       "<span style=\"color: #008080; text-decoration-color: #008080; font-weight: bold\">3173500</span>  <span style=\"color: #008080; text-decoration-color: #008080; font-weight: bold\">100016607</span>                <span style=\"color: #008080; text-decoration-color: #008080; font-weight: bold\">439</span>    <span style=\"color: #008080; text-decoration-color: #008080; font-weight: bold\">336.423096</span>\n",
       "<span style=\"color: #008080; text-decoration-color: #008080; font-weight: bold\">3173501</span>  <span style=\"color: #008080; text-decoration-color: #008080; font-weight: bold\">100027732</span>                <span style=\"color: #008080; text-decoration-color: #008080; font-weight: bold\">439</span>    <span style=\"color: #008080; text-decoration-color: #008080; font-weight: bold\">367.477509</span>\n",
       "<span style=\"color: #008080; text-decoration-color: #008080; font-weight: bold\">3173502</span>  <span style=\"color: #008080; text-decoration-color: #008080; font-weight: bold\">100016399</span>                <span style=\"color: #008080; text-decoration-color: #008080; font-weight: bold\">439</span>    <span style=\"color: #008080; text-decoration-color: #008080; font-weight: bold\">631.440247</span>\n",
       "<span style=\"color: #008080; text-decoration-color: #008080; font-weight: bold\">3173503</span>         <span style=\"color: #008080; text-decoration-color: #008080; font-weight: bold\">-1</span>                <span style=\"color: #008080; text-decoration-color: #008080; font-weight: bold\">411</span>  <span style=\"color: #008080; text-decoration-color: #008080; font-weight: bold\">16577.000000</span>\n",
       "<span style=\"color: #008080; text-decoration-color: #008080; font-weight: bold\">3173504</span>         <span style=\"color: #008080; text-decoration-color: #008080; font-weight: bold\">-1</span>                <span style=\"color: #008080; text-decoration-color: #008080; font-weight: bold\">412</span>  <span style=\"color: #008080; text-decoration-color: #008080; font-weight: bold\">15882.000000</span>\n",
       "\n",
       "<span style=\"font-weight: bold\">[</span><span style=\"color: #008080; text-decoration-color: #008080; font-weight: bold\">3173505</span> rows x <span style=\"color: #008080; text-decoration-color: #008080; font-weight: bold\">3</span> columns<span style=\"font-weight: bold\">]</span>\n",
       "</pre>\n"
      ],
      "text/plain": [
       "         ID_Object  ID_StatisticsType         Value\n",
       "\u001b[1;36m0\u001b[0m               \u001b[1;36m-1\u001b[0m                \u001b[1;36m179\u001b[0m      \u001b[1;36m0.000000\u001b[0m\n",
       "\u001b[1;36m1\u001b[0m               \u001b[1;36m-1\u001b[0m                \u001b[1;36m180\u001b[0m      \u001b[1;36m0.000000\u001b[0m\n",
       "\u001b[1;36m2\u001b[0m               \u001b[1;36m-1\u001b[0m                \u001b[1;36m181\u001b[0m  \u001b[1;36m16577.000000\u001b[0m\n",
       "\u001b[1;36m3\u001b[0m               \u001b[1;36m-1\u001b[0m                \u001b[1;36m182\u001b[0m  \u001b[1;36m15882.000000\u001b[0m\n",
       "\u001b[1;36m4\u001b[0m                \u001b[1;36m0\u001b[0m                \u001b[1;36m413\u001b[0m   \u001b[1;36m2115.452637\u001b[0m\n",
       "\u001b[33m...\u001b[0m            \u001b[33m...\u001b[0m                \u001b[33m...\u001b[0m           \u001b[33m...\u001b[0m\n",
       "\u001b[1;36m3173500\u001b[0m  \u001b[1;36m100016607\u001b[0m                \u001b[1;36m439\u001b[0m    \u001b[1;36m336.423096\u001b[0m\n",
       "\u001b[1;36m3173501\u001b[0m  \u001b[1;36m100027732\u001b[0m                \u001b[1;36m439\u001b[0m    \u001b[1;36m367.477509\u001b[0m\n",
       "\u001b[1;36m3173502\u001b[0m  \u001b[1;36m100016399\u001b[0m                \u001b[1;36m439\u001b[0m    \u001b[1;36m631.440247\u001b[0m\n",
       "\u001b[1;36m3173503\u001b[0m         \u001b[1;36m-1\u001b[0m                \u001b[1;36m411\u001b[0m  \u001b[1;36m16577.000000\u001b[0m\n",
       "\u001b[1;36m3173504\u001b[0m         \u001b[1;36m-1\u001b[0m                \u001b[1;36m412\u001b[0m  \u001b[1;36m15882.000000\u001b[0m\n",
       "\n",
       "\u001b[1m[\u001b[0m\u001b[1;36m3173505\u001b[0m rows x \u001b[1;36m3\u001b[0m columns\u001b[1m]\u001b[0m\n"
      ]
     },
     "metadata": {},
     "output_type": "display_data"
    }
   ],
   "source": [
    "# once we have the statistics names we can get numerical statistics values\n",
    "# for each object id within the specified object\n",
    "def get_stats_values(full_data_file: h5py.File, object_name: str) -> pd.DataFrame:\n",
    "    \"\"\"\n",
    "    for a given object_name, extracts the statistics values for all object ids\n",
    "    within the object\n",
    "\n",
    "    Args:\n",
    "        full_data_file (h5py._hl.files.File): full imaris file in h5py File format\n",
    "        object_name (str): name of the object to get statistic names from\n",
    "\n",
    "    Returns:\n",
    "        pd.DataFrame: a pandas data frame that contains information about each object id\n",
    "        where each object id has a stats id and associated stats value.\n",
    "    \"\"\"\n",
    "    obj_specific_stats = full_data_file.get('Scene8').get('Content')[object_name]['StatisticsValue']\n",
    "    obj_specific_stats = np.asarray(obj_specific_stats)\n",
    "    return pd.DataFrame(obj_specific_stats)\n",
    "\n",
    "out = get_stats_values(data, 'Cells0').drop('ID_Time', axis=1)\n",
    "print(out)"
   ]
  },
  {
   "cell_type": "code",
   "execution_count": 29,
   "metadata": {},
   "outputs": [
    {
     "data": {
      "text/plain": [
       "3173505"
      ]
     },
     "execution_count": 29,
     "metadata": {},
     "output_type": "execute_result"
    }
   ],
   "source": [
    "len(out['ID_Object'])"
   ]
  },
  {
   "cell_type": "code",
   "execution_count": null,
   "metadata": {},
   "outputs": [],
   "source": []
  },
  {
   "cell_type": "code",
   "execution_count": 14,
   "metadata": {},
   "outputs": [],
   "source": [
    "extracted_stats = out.groupby('ID_Object')[\n",
    "    ['ID_StatisticsType', 'Value']].apply(lambda x: x.set_index('ID_StatisticsType').to_dict(orient='dict')).to_dict()\n",
    "extracted_stats = {k: v['Value'] for k, v in extracted_stats.items()} # clean up step for line above"
   ]
  },
  {
   "cell_type": "code",
   "execution_count": 16,
   "metadata": {},
   "outputs": [
    {
     "data": {
      "text/plain": [
       "{3501: 610.707763671875,\n",
       " 3502: 10.234375,\n",
       " 3503: 4.55078125,\n",
       " 3504: 32.00152587890625,\n",
       " 3505: 3.814706802368164,\n",
       " 3506: 9.053071975708008,\n",
       " 3507: 28.016679763793945,\n",
       " 3508: 65381.99609375,\n",
       " 3509: 42356.77734375,\n",
       " 3510: 17.762041091918945,\n",
       " 3511: 65381.2265625,\n",
       " 3512: 65382.421875,\n",
       " 3513: 65382.359375,\n",
       " 3514: 65381.44140625,\n",
       " 3515: 42356.94140625,\n",
       " 3516: 42356.5859375,\n",
       " 3517: 42356.37890625,\n",
       " 3518: 42356.765625,\n",
       " 3519: 13.57917594909668,\n",
       " 3520: 13.84041976928711,\n",
       " 3521: 17.814804077148438,\n",
       " 3522: 15.258231163024902,\n",
       " 3523: 1121.3994140625,\n",
       " 3290: 57.0,\n",
       " 3291: 37.0,\n",
       " 3292: 12.0,\n",
       " 3293: 31.0,\n",
       " 3294: 37.07692337036133,\n",
       " 3295: 14.307692527770996,\n",
       " 3296: 4.615384578704834,\n",
       " 3297: 17.538461685180664,\n",
       " 3298: 21.0,\n",
       " 3299: 3.0,\n",
       " 3300: 0.0,\n",
       " 3301: 6.0,\n",
       " 3524: 10.484138488769531,\n",
       " 3525: 11.598306655883789,\n",
       " 3526: 4.179408550262451,\n",
       " 3527: 7.880017280578613,\n",
       " 3528: 482.0,\n",
       " 3529: 186.0,\n",
       " 3530: 60.0,\n",
       " 3531: 228.0,\n",
       " 3532: 13.0,\n",
       " 3302: 67.2835693359375,\n",
       " 3533: 77903.1640625,\n",
       " 3534: 0.0,\n",
       " 3535: 0.0,\n",
       " 3536: 0.0988793894648552,\n",
       " 3537: -0.9950769543647766,\n",
       " 3538: 0.006687716115266085,\n",
       " 3539: 0.9950993657112122,\n",
       " 3540: 0.09887943416833878,\n",
       " 3541: -0.0003246717678848654,\n",
       " 3542: -0.00033820420503616333,\n",
       " 3543: 0.0066870455630123615,\n",
       " 3544: 0.9999775886535645,\n",
       " 3545: 1.9325729608535767,\n",
       " 3546: 4.298303127288818,\n",
       " 3547: 16.564420700073242,\n",
       " 3548: 0.12295602262020111,\n",
       " 3549: 0.3227047622203827,\n",
       " 3550: 0.0,\n",
       " 3551: 12.0,\n",
       " 3552: 74.0,\n",
       " 3553: 115.0,\n",
       " 3554: 14.0,\n",
       " 3303: 57.0,\n",
       " 3304: 146.0,\n",
       " 3305: 177.0,\n",
       " 3306: 31.0,\n",
       " 3307: 15.014925003051758,\n",
       " 3308: 29.80596923828125,\n",
       " 3309: 40.43283462524414,\n",
       " 3310: 9.447761535644531,\n",
       " 3311: 0.0,\n",
       " 3312: 0.0,\n",
       " 3313: 0.0,\n",
       " 3314: 0.0,\n",
       " 3555: 14.773405075073242,\n",
       " 3556: 33.80022048950195,\n",
       " 3557: 39.90557098388672,\n",
       " 3558: 7.409722328186035,\n",
       " 3559: 1006.0,\n",
       " 3560: 1997.0,\n",
       " 3561: 2709.0,\n",
       " 3562: 633.0,\n",
       " 3563: 4.1538472175598145,\n",
       " 3315: 1.0,\n",
       " 8: 67.0,\n",
       " 3317: 65381.99609375,\n",
       " 3318: 42356.77734375,\n",
       " 3319: 17.762041091918945,\n",
       " 3564: 0.39085090160369873,\n",
       " 3565: 0.0,\n",
       " 3566: 1.0,\n",
       " 3320: 346.76922607421875}"
      ]
     },
     "execution_count": 16,
     "metadata": {},
     "output_type": "execute_result"
    }
   ],
   "source": [
    "extracted_stats[1]"
   ]
  },
  {
   "cell_type": "code",
   "execution_count": null,
   "metadata": {},
   "outputs": [],
   "source": [
    "def invert_stats_dict(stats_dict: dict=None):\n",
    "    '''\n",
    "    creates a inverted_stats_dict --> [Statistics Type: Numeric Value]\n",
    "    '''\n",
    "    \n",
    "    # sort the dict\n",
    "    sorted_dict_key = sorted(stats_dict.keys())\n",
    "    stats_dict = {key: str(stats_dict[key]).strip('b')[1:-1] for key in sorted_dict_key }\n",
    "    \n",
    "    # create an empty dictionary\n",
    "    storage = {}\n",
    "    \n",
    "    for key in stats_dict.keys():\n",
    "        # if the word is not in the new storage dict\n",
    "        if stats_dict[key] not in storage.keys():\n",
    "            storage[stats_dict[key]] = key\n",
    "        else:\n",
    "            # get the value inside the key \n",
    "            current_value = storage[stats_dict[key]]\n",
    "            \n",
    "            # if its a single value create a dict else create a dict\n",
    "            if type(current_value) != dict:\n",
    "                # then its the first value\n",
    "                storage[stats_dict[key]] = {}\n",
    "                storage[stats_dict[key]]['channel_1'] = current_value\n",
    "                \n",
    "                # current value\n",
    "                storage[stats_dict[key]]['channel_2'] = key\n",
    "            else:\n",
    "                # get the length of the dict\n",
    "                count = len(current_value.keys())\n",
    "                # updated count\n",
    "                count += 1 \n",
    "                # create new key\n",
    "                new_key = f\"channel_{count}\"\n",
    "                current_value[new_key] = key\n",
    "                storage[stats_dict[key]] = current_value\n",
    "                \n",
    "    return storage\n",
    "# we can directly use this to invert the dict\n",
    "# this inverted dict can be used to create the final excel file"
   ]
  },
  {
   "cell_type": "code",
   "execution_count": null,
   "metadata": {},
   "outputs": [],
   "source": [
    "inverted_dict =  invert_stats_dict(out_stats_names)\n",
    "categories = [\n",
    "    'Position X',\n",
    "    'Position Y',\n",
    "    'Position Z',\n",
    "    'Intensity Mean_channel_1',\n",
    "    'Intensity Mean_channel_2',\n",
    "    'Intensity Mean_channel_3',\n",
    "    'Intensity Mean_channel_4',\n",
    "    'Intensity Mean_channel_5',\n",
    "    'Volume'\n",
    "]"
   ]
  },
  {
   "cell_type": "code",
   "execution_count": null,
   "metadata": {},
   "outputs": [],
   "source": [
    "# flatten dict \n",
    "from collections.abc import MutableMapping\n",
    "\n",
    "def flatten(d, parent_key='', sep='_'):\n",
    "    items = []\n",
    "    for k, v in d.items():\n",
    "        new_key = parent_key + sep + k if parent_key else k\n",
    "        if isinstance(v, MutableMapping):\n",
    "            items.extend(flatten(v, new_key, sep=sep).items())\n",
    "        else:\n",
    "            items.append((new_key, v))\n",
    "    return dict(items)"
   ]
  },
  {
   "cell_type": "code",
   "execution_count": null,
   "metadata": {},
   "outputs": [],
   "source": [
    "inverted_flatten = flatten(inverted_dict)\n",
    "# can we provide an editable list before anything starts so he can manually select which ones he wants\n",
    "# that way the names match exactly because I control it. \n",
    "\n",
    "# reverse dict again, key=num, value=name\n",
    "final_dict = {v: k for k,v in inverted_flatten.items()}\n",
    "\n",
    "# # can we use the categories reqested to create a list of numbers we dont want?\n",
    "# del_list = [None] * (len(inverted_flatten) - len(categories))\n",
    "# counter = 0\n",
    "# for idx, (k, v) in enumerate(inverted_flatten.items()):\n",
    "    \n",
    "#     if k not in categories and v != None:\n",
    "#         del_list[counter] = v\n",
    "#         counter += 1\n",
    "    "
   ]
  },
  {
   "cell_type": "code",
   "execution_count": null,
   "metadata": {},
   "outputs": [],
   "source": [
    "# map what the user wants to numeric values\n",
    "user_request_numeric = [inverted_flatten[x] for x in categories]\n",
    "\n",
    "# we can look at the final dict where key=num, value=name to filter\n",
    "final_dict_copy = copy.deepcopy(final_dict)\n",
    "for value in user_request_numeric:\n",
    "    final_dict_copy.pop(value)\n",
    "    \n",
    "new_del_list = list(final_dict_copy.keys())"
   ]
  },
  {
   "cell_type": "code",
   "execution_count": null,
   "metadata": {},
   "outputs": [],
   "source": [
    "print(len(final_dict_copy.keys()), len(final_dict.keys()), len(user_request_numeric))"
   ]
  },
  {
   "cell_type": "code",
   "execution_count": null,
   "metadata": {},
   "outputs": [],
   "source": []
  },
  {
   "cell_type": "code",
   "execution_count": null,
   "metadata": {},
   "outputs": [],
   "source": []
  },
  {
   "cell_type": "code",
   "execution_count": null,
   "metadata": {},
   "outputs": [],
   "source": [
    "final_df = pd.DataFrame(extracted_stats).transpose()\n",
    "f = final_df.drop(labels=del_list, axis=1)\n",
    "print(f)\n"
   ]
  },
  {
   "cell_type": "code",
   "execution_count": null,
   "metadata": {},
   "outputs": [],
   "source": [
    "final_df = pd.DataFrame(extracted_stats).transpose()\n",
    "f = final_df.drop(labels=[None], axis=1)\n",
    "print(f)s"
   ]
  },
  {
   "cell_type": "code",
   "execution_count": null,
   "metadata": {},
   "outputs": [],
   "source": [
    "# clean up df by changing number to names and rearranging columns\n",
    "columns = f.columns\n",
    "print(columns)\n",
    "\n",
    "new_names = {key: final_dict[key] for key in columns}\n",
    "print(new_names)\n",
    "\n",
    "# rename dict\n"
   ]
  },
  {
   "cell_type": "code",
   "execution_count": null,
   "metadata": {},
   "outputs": [],
   "source": [
    "final_df = f.rename(new_names, axis=1)\n",
    "print(final_df.head())"
   ]
  },
  {
   "cell_type": "code",
   "execution_count": null,
   "metadata": {},
   "outputs": [],
   "source": [
    "# create the final id column\n",
    "final_df['ID'] = final_df.index\n",
    "\n",
    "\n",
    "# rearrange\n",
    "final_order = [\n",
    "    'ID',\n",
    "    'Position X',\n",
    "    'Position Y',\n",
    "    'Position Z',\n",
    "    'Intensity Mean_channel_1',\n",
    "    'Intensity Mean_channel_2',\n",
    "    'Intensity Mean_channel_3',\n",
    "    'Intensity Mean_channel_4',\n",
    "    'Intensity Mean_channel_5',\n",
    "]\n",
    "\n",
    "final = final_df[final_order]\n",
    "print(final)"
   ]
  },
  {
   "cell_type": "code",
   "execution_count": null,
   "metadata": {},
   "outputs": [],
   "source": [
    "\n"
   ]
  },
  {
   "cell_type": "code",
   "execution_count": null,
   "metadata": {},
   "outputs": [],
   "source": []
  }
 ],
 "metadata": {
  "kernelspec": {
   "display_name": "Python 3.8.13 ('core')",
   "language": "python",
   "name": "python3"
  },
  "language_info": {
   "codemirror_mode": {
    "name": "ipython",
    "version": 3
   },
   "file_extension": ".py",
   "mimetype": "text/x-python",
   "name": "python",
   "nbconvert_exporter": "python",
   "pygments_lexer": "ipython3",
   "version": "3.8.13"
  },
  "orig_nbformat": 4,
  "vscode": {
   "interpreter": {
    "hash": "04aae946aefb73757d94e4e7bfb7ede85957aa0149a3e71cc39e2fcc66c8e46e"
   }
  }
 },
 "nbformat": 4,
 "nbformat_minor": 2
}
