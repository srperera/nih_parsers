{
 "cells": [
  {
   "cell_type": "code",
   "execution_count": 1,
   "metadata": {},
   "outputs": [],
   "source": [
    "from utils import *\n",
    "from rich import print\n",
    "import os\n",
    "from numba import jit, njit\n",
    "import copy"
   ]
  },
  {
   "cell_type": "code",
   "execution_count": 2,
   "metadata": {},
   "outputs": [],
   "source": [
    "# load h5py data\n",
    "data = load_data('../data/P1 DHBR Roi3 6x6_TileScan_001_Merging_Crop_0_batch.ims')"
   ]
  },
  {
   "cell_type": "code",
   "execution_count": 3,
   "metadata": {},
   "outputs": [
    {
     "data": {
      "text/plain": [
       "<KeysViewHDF5 ['DataSet', 'DataSetEvents', 'DataSetInfo', 'DataSetTimes', 'Scene', 'Scene8', 'Thumbnail']>"
      ]
     },
     "execution_count": 3,
     "metadata": {},
     "output_type": "execute_result"
    }
   ],
   "source": [
    "data.keys()\n"
   ]
  },
  {
   "cell_type": "code",
   "execution_count": 4,
   "metadata": {},
   "outputs": [
    {
     "data": {
      "text/plain": [
       "<KeysViewHDF5 ['MegaSurfaces0', 'MegaSurfaces1', 'MegaSurfaces2', 'MegaSurfaces3', 'MegaSurfaces4', 'MegaSurfaces5', 'MegaSurfaces6']>"
      ]
     },
     "execution_count": 4,
     "metadata": {},
     "output_type": "execute_result"
    }
   ],
   "source": [
    "data.get('Scene').get('Content').keys()"
   ]
  },
  {
   "cell_type": "code",
   "execution_count": 5,
   "metadata": {},
   "outputs": [
    {
     "data": {
      "text/plain": [
       "<KeysViewHDF5 ['BlockData', 'BlockInfo', 'BlockPath', 'Category', 'CategoryFunction', 'CreationParameters', 'Factor', 'FactorFunction', 'FactorList', 'FactorListFunction', 'LabelColor', 'LabelColorData', 'LabelColorLabelGroupNames', 'LabelColorLabelValues', 'LabelGroupNames', 'LabelSetLabelIDs', 'LabelSetObjectIDs', 'LabelSets', 'LabelValues', 'LevelInfo', 'MainTrackSegmentTable', 'MainTrackSegmentTable_Focus', 'SplitOffset', 'StatisticsType', 'StatisticsTypeFunction', 'StatisticsValue', 'StatisticsValueFunction', 'StatisticsValueTimeOffset', 'StatisticsValueTimeOffsetFunction', 'SurfaceModel', 'SurfaceModelInfo', 'SurfaceTimeOffset', 'Time', 'TimeBegin', 'TrackSegment0', 'TrackSegment0_Focus']>"
      ]
     },
     "execution_count": 5,
     "metadata": {},
     "output_type": "execute_result"
    }
   ],
   "source": [
    "data.get('Scene8').get('Content').get('MegaSurfaces6').keys()"
   ]
  },
  {
   "cell_type": "code",
   "execution_count": 6,
   "metadata": {},
   "outputs": [
    {
     "data": {
      "text/html": [
       "<pre style=\"white-space:pre;overflow-x:auto;line-height:normal;font-family:Menlo,'DejaVu Sans Mono',consolas,'Courier New',monospace\"><span style=\"font-weight: bold\">[</span>\n",
       "    <span style=\"color: #008000; text-decoration-color: #008000\">'MegaSurfaces0'</span>,\n",
       "    <span style=\"color: #008000; text-decoration-color: #008000\">'MegaSurfaces1'</span>,\n",
       "    <span style=\"color: #008000; text-decoration-color: #008000\">'MegaSurfaces2'</span>,\n",
       "    <span style=\"color: #008000; text-decoration-color: #008000\">'MegaSurfaces3'</span>,\n",
       "    <span style=\"color: #008000; text-decoration-color: #008000\">'MegaSurfaces4'</span>,\n",
       "    <span style=\"color: #008000; text-decoration-color: #008000\">'MegaSurfaces5'</span>,\n",
       "    <span style=\"color: #008000; text-decoration-color: #008000\">'MegaSurfaces6'</span>\n",
       "<span style=\"font-weight: bold\">]</span>\n",
       "</pre>\n"
      ],
      "text/plain": [
       "\u001b[1m[\u001b[0m\n",
       "    \u001b[32m'MegaSurfaces0'\u001b[0m,\n",
       "    \u001b[32m'MegaSurfaces1'\u001b[0m,\n",
       "    \u001b[32m'MegaSurfaces2'\u001b[0m,\n",
       "    \u001b[32m'MegaSurfaces3'\u001b[0m,\n",
       "    \u001b[32m'MegaSurfaces4'\u001b[0m,\n",
       "    \u001b[32m'MegaSurfaces5'\u001b[0m,\n",
       "    \u001b[32m'MegaSurfaces6'\u001b[0m\n",
       "\u001b[1m]\u001b[0m\n"
      ]
     },
     "metadata": {},
     "output_type": "display_data"
    }
   ],
   "source": [
    "## can we get surfaces by modifying following function\n",
    "def get_object_names(full_data_file: h5py.File, search_for: str) -> list:\n",
    "    \"\"\"\n",
    "    _summary_\n",
    "\n",
    "    Args:\n",
    "        full_data_file (h5py._hl.files.File): full imaris file in h5py File format\n",
    "        search_for (str): string containing full or partial filename to search for\n",
    "\n",
    "    Returns:\n",
    "        (list): a list of all the object names that match search_for parameter\n",
    "    \"\"\"\n",
    "\n",
    "    values = full_data_file.get('Scene').get('Content').keys()\n",
    "    storage = list()\n",
    "    for item in values:\n",
    "        if len(re.findall(search_for, item)):\n",
    "            storage.append(item)\n",
    "    return storage\n",
    "\n",
    "# test function -- working\n",
    "out = get_object_names(data, 'Surface')\n",
    "print(out)"
   ]
  },
  {
   "cell_type": "code",
   "execution_count": 7,
   "metadata": {},
   "outputs": [],
   "source": [
    "# once we know the object names we want to extract data from use following function\n",
    "# this function doesnt grab any data values, just names\n",
    "def get_statistics_names(full_data_file: h5py.File, object_name: str) -> dict:\n",
    "    \"\"\"\n",
    "    for a given object_name, extracts the statistics names and ids into a dict\n",
    "    ex: statistics name = mean intensity, associated id=404\n",
    "\n",
    "    Args:\n",
    "        full_data_file (h5py._hl.files.File): full imaris file in h5py File format\n",
    "        object_name (str): name of the object to get statistic names from\n",
    "\n",
    "    Returns:\n",
    "        dict: a dict where the keys=unique stats ID, value=static name\n",
    "    \"\"\"\n",
    "\n",
    "    # get object specific data\n",
    "    obj_specific_data = full_data_file['Scene8']['Content'][object_name]\n",
    "    \n",
    "    # rearrange data\n",
    "    statistics_name = np.asarray(obj_specific_data['StatisticsType'])\n",
    "    statistics_name = pd.DataFrame(statistics_name)\n",
    "    \n",
    "    # extract statistics names\n",
    "    stats_name = statistics_name['Name']\n",
    "    \n",
    "    # extract statistics ID names\n",
    "    stats_type = statistics_name['ID']\n",
    "    \n",
    "    # combine stats type and stats names\n",
    "    return  dict(zip(stats_type, stats_name))\n",
    "\n",
    "# test -- working\n",
    "out_stats_names = get_statistics_names(data, 'MegaSurfaces6')\n"
   ]
  },
  {
   "cell_type": "code",
   "execution_count": 8,
   "metadata": {},
   "outputs": [],
   "source": [
    "np.savetxt('test.txt', list(out_stats_names.values()), fmt='%s')"
   ]
  },
  {
   "cell_type": "code",
   "execution_count": 9,
   "metadata": {},
   "outputs": [
    {
     "data": {
      "text/html": [
       "<pre style=\"white-space:pre;overflow-x:auto;line-height:normal;font-family:Menlo,'DejaVu Sans Mono',consolas,'Courier New',monospace\">         ID_Time  ID_Object  ID_StatisticsType         Value\n",
       "<span style=\"color: #008080; text-decoration-color: #008080; font-weight: bold\">0</span>             <span style=\"color: #008080; text-decoration-color: #008080; font-weight: bold\">-1</span>         <span style=\"color: #008080; text-decoration-color: #008080; font-weight: bold\">-1</span>                  <span style=\"color: #008080; text-decoration-color: #008080; font-weight: bold\">4</span>  <span style=\"color: #008080; text-decoration-color: #008080; font-weight: bold\">0.000000e+00</span>\n",
       "<span style=\"color: #008080; text-decoration-color: #008080; font-weight: bold\">1</span>             <span style=\"color: #008080; text-decoration-color: #008080; font-weight: bold\">-1</span>         <span style=\"color: #008080; text-decoration-color: #008080; font-weight: bold\">-1</span>                  <span style=\"color: #008080; text-decoration-color: #008080; font-weight: bold\">5</span>  <span style=\"color: #008080; text-decoration-color: #008080; font-weight: bold\">2.601300e+04</span>\n",
       "<span style=\"color: #008080; text-decoration-color: #008080; font-weight: bold\">2</span>             <span style=\"color: #008080; text-decoration-color: #008080; font-weight: bold\">-1</span>         <span style=\"color: #008080; text-decoration-color: #008080; font-weight: bold\">-1</span>                  <span style=\"color: #008080; text-decoration-color: #008080; font-weight: bold\">6</span>  <span style=\"color: #008080; text-decoration-color: #008080; font-weight: bold\">2.601300e+04</span>\n",
       "<span style=\"color: #008080; text-decoration-color: #008080; font-weight: bold\">3</span>             <span style=\"color: #008080; text-decoration-color: #008080; font-weight: bold\">-1</span>         <span style=\"color: #008080; text-decoration-color: #008080; font-weight: bold\">-1</span>                  <span style=\"color: #008080; text-decoration-color: #008080; font-weight: bold\">7</span>  <span style=\"color: #008080; text-decoration-color: #008080; font-weight: bold\">3.879850e+07</span>\n",
       "<span style=\"color: #008080; text-decoration-color: #008080; font-weight: bold\">4</span>             <span style=\"color: #008080; text-decoration-color: #008080; font-weight: bold\">-1</span>         <span style=\"color: #008080; text-decoration-color: #008080; font-weight: bold\">-1</span>                  <span style=\"color: #008080; text-decoration-color: #008080; font-weight: bold\">8</span>  <span style=\"color: #008080; text-decoration-color: #008080; font-weight: bold\">1.793088e+07</span>\n",
       "<span style=\"color: #808000; text-decoration-color: #808000\">...</span>          <span style=\"color: #808000; text-decoration-color: #808000\">...</span>        <span style=\"color: #808000; text-decoration-color: #808000\">...</span>                <span style=\"color: #808000; text-decoration-color: #808000\">...</span>           <span style=\"color: #808000; text-decoration-color: #808000\">...</span>\n",
       "<span style=\"color: #008080; text-decoration-color: #008080; font-weight: bold\">2419211</span>        <span style=\"color: #008080; text-decoration-color: #008080; font-weight: bold\">0</span>      <span style=\"color: #008080; text-decoration-color: #008080; font-weight: bold\">27815</span>                <span style=\"color: #008080; text-decoration-color: #008080; font-weight: bold\">499</span>  <span style=\"color: #008080; text-decoration-color: #008080; font-weight: bold\">3.306918e+02</span>\n",
       "<span style=\"color: #008080; text-decoration-color: #008080; font-weight: bold\">2419212</span>        <span style=\"color: #008080; text-decoration-color: #008080; font-weight: bold\">0</span>      <span style=\"color: #008080; text-decoration-color: #008080; font-weight: bold\">27816</span>                <span style=\"color: #008080; text-decoration-color: #008080; font-weight: bold\">499</span>  <span style=\"color: #008080; text-decoration-color: #008080; font-weight: bold\">1.902942e+03</span>\n",
       "<span style=\"color: #008080; text-decoration-color: #008080; font-weight: bold\">2419213</span>        <span style=\"color: #008080; text-decoration-color: #008080; font-weight: bold\">0</span>      <span style=\"color: #008080; text-decoration-color: #008080; font-weight: bold\">27817</span>                <span style=\"color: #008080; text-decoration-color: #008080; font-weight: bold\">499</span>  <span style=\"color: #008080; text-decoration-color: #008080; font-weight: bold\">8.085729e+02</span>\n",
       "<span style=\"color: #008080; text-decoration-color: #008080; font-weight: bold\">2419214</span>        <span style=\"color: #008080; text-decoration-color: #008080; font-weight: bold\">0</span>      <span style=\"color: #008080; text-decoration-color: #008080; font-weight: bold\">27818</span>                <span style=\"color: #008080; text-decoration-color: #008080; font-weight: bold\">499</span>  <span style=\"color: #008080; text-decoration-color: #008080; font-weight: bold\">1.238524e+04</span>\n",
       "<span style=\"color: #008080; text-decoration-color: #008080; font-weight: bold\">2419215</span>        <span style=\"color: #008080; text-decoration-color: #008080; font-weight: bold\">0</span>      <span style=\"color: #008080; text-decoration-color: #008080; font-weight: bold\">27819</span>                <span style=\"color: #008080; text-decoration-color: #008080; font-weight: bold\">499</span>  <span style=\"color: #008080; text-decoration-color: #008080; font-weight: bold\">3.528968e+03</span>\n",
       "\n",
       "<span style=\"font-weight: bold\">[</span><span style=\"color: #008080; text-decoration-color: #008080; font-weight: bold\">2419216</span> rows x <span style=\"color: #008080; text-decoration-color: #008080; font-weight: bold\">4</span> columns<span style=\"font-weight: bold\">]</span>\n",
       "</pre>\n"
      ],
      "text/plain": [
       "         ID_Time  ID_Object  ID_StatisticsType         Value\n",
       "\u001b[1;36m0\u001b[0m             \u001b[1;36m-1\u001b[0m         \u001b[1;36m-1\u001b[0m                  \u001b[1;36m4\u001b[0m  \u001b[1;36m0.000000e+00\u001b[0m\n",
       "\u001b[1;36m1\u001b[0m             \u001b[1;36m-1\u001b[0m         \u001b[1;36m-1\u001b[0m                  \u001b[1;36m5\u001b[0m  \u001b[1;36m2.601300e+04\u001b[0m\n",
       "\u001b[1;36m2\u001b[0m             \u001b[1;36m-1\u001b[0m         \u001b[1;36m-1\u001b[0m                  \u001b[1;36m6\u001b[0m  \u001b[1;36m2.601300e+04\u001b[0m\n",
       "\u001b[1;36m3\u001b[0m             \u001b[1;36m-1\u001b[0m         \u001b[1;36m-1\u001b[0m                  \u001b[1;36m7\u001b[0m  \u001b[1;36m3.879850e+07\u001b[0m\n",
       "\u001b[1;36m4\u001b[0m             \u001b[1;36m-1\u001b[0m         \u001b[1;36m-1\u001b[0m                  \u001b[1;36m8\u001b[0m  \u001b[1;36m1.793088e+07\u001b[0m\n",
       "\u001b[33m...\u001b[0m          \u001b[33m...\u001b[0m        \u001b[33m...\u001b[0m                \u001b[33m...\u001b[0m           \u001b[33m...\u001b[0m\n",
       "\u001b[1;36m2419211\u001b[0m        \u001b[1;36m0\u001b[0m      \u001b[1;36m27815\u001b[0m                \u001b[1;36m499\u001b[0m  \u001b[1;36m3.306918e+02\u001b[0m\n",
       "\u001b[1;36m2419212\u001b[0m        \u001b[1;36m0\u001b[0m      \u001b[1;36m27816\u001b[0m                \u001b[1;36m499\u001b[0m  \u001b[1;36m1.902942e+03\u001b[0m\n",
       "\u001b[1;36m2419213\u001b[0m        \u001b[1;36m0\u001b[0m      \u001b[1;36m27817\u001b[0m                \u001b[1;36m499\u001b[0m  \u001b[1;36m8.085729e+02\u001b[0m\n",
       "\u001b[1;36m2419214\u001b[0m        \u001b[1;36m0\u001b[0m      \u001b[1;36m27818\u001b[0m                \u001b[1;36m499\u001b[0m  \u001b[1;36m1.238524e+04\u001b[0m\n",
       "\u001b[1;36m2419215\u001b[0m        \u001b[1;36m0\u001b[0m      \u001b[1;36m27819\u001b[0m                \u001b[1;36m499\u001b[0m  \u001b[1;36m3.528968e+03\u001b[0m\n",
       "\n",
       "\u001b[1m[\u001b[0m\u001b[1;36m2419216\u001b[0m rows x \u001b[1;36m4\u001b[0m columns\u001b[1m]\u001b[0m\n"
      ]
     },
     "metadata": {},
     "output_type": "display_data"
    }
   ],
   "source": [
    "# once we have the statistics names we can get numerical statistics values\n",
    "# for each object id within the specified object\n",
    "def get_stats_values(full_data_file: h5py.File, object_name: str) -> pd.DataFrame:\n",
    "    \"\"\"\n",
    "    for a given object_name, extracts the statistics values for all object ids\n",
    "    within the object\n",
    "\n",
    "    Args:\n",
    "        full_data_file (h5py._hl.files.File): full imaris file in h5py File format\n",
    "        object_name (str): name of the object to get statistic names from\n",
    "\n",
    "    Returns:\n",
    "        pd.DataFrame: a pandas data frame that contains information about each object id\n",
    "        where each object id has a stats id and associated stats value.\n",
    "    \"\"\"\n",
    "    obj_specific_stats = full_data_file.get('Scene8').get('Content')[object_name]['StatisticsValue']\n",
    "    obj_specific_stats = np.asarray(obj_specific_stats)\n",
    "    return pd.DataFrame(obj_specific_stats)\n",
    "\n",
    "out = get_stats_values(data, 'MegaSurfaces6')\n",
    "print(out)"
   ]
  },
  {
   "cell_type": "code",
   "execution_count": 12,
   "metadata": {},
   "outputs": [
    {
     "data": {
      "text/html": [
       "<div>\n",
       "<style scoped>\n",
       "    .dataframe tbody tr th:only-of-type {\n",
       "        vertical-align: middle;\n",
       "    }\n",
       "\n",
       "    .dataframe tbody tr th {\n",
       "        vertical-align: top;\n",
       "    }\n",
       "\n",
       "    .dataframe thead th {\n",
       "        text-align: right;\n",
       "    }\n",
       "</style>\n",
       "<table border=\"1\" class=\"dataframe\">\n",
       "  <thead>\n",
       "    <tr style=\"text-align: right;\">\n",
       "      <th></th>\n",
       "      <th>ID_Time</th>\n",
       "      <th>ID_Object</th>\n",
       "      <th>ID_StatisticsType</th>\n",
       "      <th>Value</th>\n",
       "    </tr>\n",
       "  </thead>\n",
       "  <tbody>\n",
       "    <tr>\n",
       "      <th>0</th>\n",
       "      <td>-1</td>\n",
       "      <td>-1</td>\n",
       "      <td>4</td>\n",
       "      <td>0.0</td>\n",
       "    </tr>\n",
       "    <tr>\n",
       "      <th>1</th>\n",
       "      <td>-1</td>\n",
       "      <td>-1</td>\n",
       "      <td>5</td>\n",
       "      <td>26013.0</td>\n",
       "    </tr>\n",
       "    <tr>\n",
       "      <th>2</th>\n",
       "      <td>-1</td>\n",
       "      <td>-1</td>\n",
       "      <td>6</td>\n",
       "      <td>26013.0</td>\n",
       "    </tr>\n",
       "    <tr>\n",
       "      <th>3</th>\n",
       "      <td>-1</td>\n",
       "      <td>-1</td>\n",
       "      <td>7</td>\n",
       "      <td>38798504.0</td>\n",
       "    </tr>\n",
       "    <tr>\n",
       "      <th>4</th>\n",
       "      <td>-1</td>\n",
       "      <td>-1</td>\n",
       "      <td>8</td>\n",
       "      <td>17930884.0</td>\n",
       "    </tr>\n",
       "    <tr>\n",
       "      <th>2185097</th>\n",
       "      <td>0</td>\n",
       "      <td>-1</td>\n",
       "      <td>389</td>\n",
       "      <td>26013.0</td>\n",
       "    </tr>\n",
       "    <tr>\n",
       "      <th>2185098</th>\n",
       "      <td>0</td>\n",
       "      <td>-1</td>\n",
       "      <td>388</td>\n",
       "      <td>26013.0</td>\n",
       "    </tr>\n",
       "  </tbody>\n",
       "</table>\n",
       "</div>"
      ],
      "text/plain": [
       "         ID_Time  ID_Object  ID_StatisticsType       Value\n",
       "0             -1         -1                  4         0.0\n",
       "1             -1         -1                  5     26013.0\n",
       "2             -1         -1                  6     26013.0\n",
       "3             -1         -1                  7  38798504.0\n",
       "4             -1         -1                  8  17930884.0\n",
       "2185097        0         -1                389     26013.0\n",
       "2185098        0         -1                388     26013.0"
      ]
     },
     "execution_count": 12,
     "metadata": {},
     "output_type": "execute_result"
    }
   ],
   "source": []
  },
  {
   "cell_type": "code",
   "execution_count": 44,
   "metadata": {},
   "outputs": [],
   "source": [
    "# create a empty dict where key=numeric stats ids and value = None\n",
    "empty_stats_dict = {key: None for key in out_stats_names.keys()}\n",
    "\n",
    "# create a empty dict where key=object_id, and value=empty stats dict\n",
    "empty_data_dict = {key: copy.deepcopy(empty_stats_dict) for key in list(out['ID_Object'])}"
   ]
  },
  {
   "cell_type": "code",
   "execution_count": null,
   "metadata": {},
   "outputs": [],
   "source": []
  },
  {
   "cell_type": "code",
   "execution_count": 45,
   "metadata": {},
   "outputs": [],
   "source": [
    "counter = 6\n",
    "for idx in range(len(out)):\n",
    "        \n",
    "    current_data = out.iloc[idx]\n",
    "    object_id = current_data['ID_Object']\n",
    "    stats_type = current_data['ID_StatisticsType']\n",
    "    value = current_data['Value']\n",
    "            \n",
    "    # insert\n",
    "    try:\n",
    "        empty_data_dict[object_id][stats_type] = value\n",
    "    except KeyError:\n",
    "        print('here', idx)\n",
    "        pass   \n",
    "    \n",
    "# empty_data_dict is done after this cell executes"
   ]
  },
  {
   "cell_type": "code",
   "execution_count": 46,
   "metadata": {},
   "outputs": [
    {
     "data": {
      "text/plain": [
       "1902.9423828125"
      ]
     },
     "execution_count": 46,
     "metadata": {},
     "output_type": "execute_result"
    }
   ],
   "source": [
    "empty_data_dict[27816][499]"
   ]
  },
  {
   "cell_type": "code",
   "execution_count": 47,
   "metadata": {},
   "outputs": [],
   "source": [
    "def invert_stats_dict(stats_dict: dict=None):\n",
    "    '''\n",
    "    creates a inverted_stats_dict --> [Statistics Type: Numeric Value]\n",
    "    '''\n",
    "    \n",
    "    # sort the dict\n",
    "    sorted_dict_key = sorted(stats_dict.keys())\n",
    "    stats_dict = {key: str(stats_dict[key]).strip('b')[1:-1] for key in sorted_dict_key }\n",
    "    \n",
    "    # create an empty dictionary\n",
    "    storage = {}\n",
    "    \n",
    "    for key in stats_dict.keys():\n",
    "        # if the word is not in the new storage dict\n",
    "        if stats_dict[key] not in storage.keys():\n",
    "            storage[stats_dict[key]] = key\n",
    "        else:\n",
    "            # get the value inside the key \n",
    "            current_value = storage[stats_dict[key]]\n",
    "            \n",
    "            # if its a single value create a dict else create a dict\n",
    "            if type(current_value) != dict:\n",
    "                # then its the first value\n",
    "                storage[stats_dict[key]] = {}\n",
    "                storage[stats_dict[key]]['channel_1'] = current_value\n",
    "                \n",
    "                # current value\n",
    "                storage[stats_dict[key]]['channel_2'] = key\n",
    "            else:\n",
    "                # get the length of the dict\n",
    "                count = len(current_value.keys())\n",
    "                # updated count\n",
    "                count += 1 \n",
    "                # create new key\n",
    "                new_key = f\"channel_{count}\"\n",
    "                current_value[new_key] = key\n",
    "                storage[stats_dict[key]] = current_value\n",
    "                \n",
    "    return storage\n",
    "# we can directly use this to invert the dict\n",
    "# this inverted dict can be used to create the final excel file"
   ]
  },
  {
   "cell_type": "code",
   "execution_count": 48,
   "metadata": {},
   "outputs": [],
   "source": [
    "inverted_dict =  invert_stats_dict(out_stats_names)\n",
    "categories = [\n",
    "    'Position X',\n",
    "    'Position Y',\n",
    "    'Position Z',\n",
    "    'Intensity Mean_channel_1',\n",
    "    'Intensity Mean_channel_2',\n",
    "    'Intensity Mean_channel_3',\n",
    "    'Intensity Mean_channel_4',\n",
    "    'Intensity Mean_channel_5',\n",
    "    'Volume'\n",
    "]"
   ]
  },
  {
   "cell_type": "code",
   "execution_count": 49,
   "metadata": {},
   "outputs": [
    {
     "data": {
      "text/plain": [
       "b'Volume'"
      ]
     },
     "execution_count": 49,
     "metadata": {},
     "output_type": "execute_result"
    }
   ],
   "source": [
    "out_stats_names[499]"
   ]
  },
  {
   "cell_type": "code",
   "execution_count": 50,
   "metadata": {},
   "outputs": [
    {
     "data": {
      "text/plain": [
       "493"
      ]
     },
     "execution_count": 50,
     "metadata": {},
     "output_type": "execute_result"
    }
   ],
   "source": [
    "inverted_dict['Position X']"
   ]
  },
  {
   "cell_type": "code",
   "execution_count": 51,
   "metadata": {},
   "outputs": [],
   "source": [
    "# flatten dict \n",
    "from collections.abc import MutableMapping\n",
    "\n",
    "def flatten(d, parent_key='', sep='_'):\n",
    "    items = []\n",
    "    for k, v in d.items():\n",
    "        new_key = parent_key + sep + k if parent_key else k\n",
    "        if isinstance(v, MutableMapping):\n",
    "            items.extend(flatten(v, new_key, sep=sep).items())\n",
    "        else:\n",
    "            items.append((new_key, v))\n",
    "    return dict(items)"
   ]
  },
  {
   "cell_type": "code",
   "execution_count": 52,
   "metadata": {},
   "outputs": [],
   "source": [
    "inverted_flatten = flatten(inverted_dict)\n",
    "# can we provide an editable list before anything starts so he can manually select which ones he wants\n",
    "# that way the names match exactly because I control it. \n",
    "\n",
    "# reverse dict again, key=num, value=name\n",
    "final_dict = {v: k for k,v in inverted_flatten.items()}\n",
    "\n",
    "# can we use the categories reqested to create a list of numbers we dont want?\n",
    "del_list = [None] * (len(inverted_flatten) - len(categories))\n",
    "counter = 0\n",
    "for idx, (k, v) in enumerate(inverted_flatten.items()):\n",
    "    \n",
    "    if k not in categories and v != None:\n",
    "        del_list[counter] = v\n",
    "        counter += 1\n",
    "    "
   ]
  },
  {
   "cell_type": "code",
   "execution_count": 53,
   "metadata": {},
   "outputs": [
    {
     "data": {
      "text/plain": [
       "{'Number of Voxels': 2,\n",
       " 'Number of Tracks': 4,\n",
       " 'Total Number of Disconnected Components': 5,\n",
       " 'Total Number of Surfaces': 6,\n",
       " 'Total Number of Triangles': 7,\n",
       " 'Total Number of Voxels': 8,\n",
       " 'Number of Surfaces per Time Point': 388,\n",
       " 'Number of Disconnected Components per Time Point': 389,\n",
       " 'Area': 408,\n",
       " 'BoundingBoxAA Length X': 409,\n",
       " 'BoundingBoxAA Length Y': 410,\n",
       " 'BoundingBoxAA Length Z': 411,\n",
       " 'BoundingBoxOO Length A': 412,\n",
       " 'BoundingBoxOO Length B': 413,\n",
       " 'BoundingBoxOO Length C': 414,\n",
       " 'Center of Homogeneous Mass X': 415,\n",
       " 'Center of Homogeneous Mass Y': 416,\n",
       " 'Center of Homogeneous Mass Z': 417,\n",
       " 'Center of Image Mass X_channel_1': 418,\n",
       " 'Center of Image Mass X_channel_2': 419,\n",
       " 'Center of Image Mass X_channel_3': 420,\n",
       " 'Center of Image Mass X_channel_4': 421,\n",
       " 'Center of Image Mass X_channel_5': 422,\n",
       " 'Center of Image Mass Y_channel_1': 423,\n",
       " 'Center of Image Mass Y_channel_2': 424,\n",
       " 'Center of Image Mass Y_channel_3': 425,\n",
       " 'Center of Image Mass Y_channel_4': 426,\n",
       " 'Center of Image Mass Y_channel_5': 427,\n",
       " 'Center of Image Mass Z_channel_1': 428,\n",
       " 'Center of Image Mass Z_channel_2': 429,\n",
       " 'Center of Image Mass Z_channel_3': 430,\n",
       " 'Center of Image Mass Z_channel_4': 431,\n",
       " 'Center of Image Mass Z_channel_5': 432,\n",
       " 'Distance from Origin': 433,\n",
       " 'Distance to Image Border XY': 434,\n",
       " 'Distance to Image Border XYZ': 435,\n",
       " 'Ellipsoid Axis A X': 436,\n",
       " 'Ellipsoid Axis A Y': 437,\n",
       " 'Ellipsoid Axis A Z': 438,\n",
       " 'Ellipsoid Axis B X': 439,\n",
       " 'Ellipsoid Axis B Y': 440,\n",
       " 'Ellipsoid Axis B Z': 441,\n",
       " 'Ellipsoid Axis C X': 442,\n",
       " 'Ellipsoid Axis C Y': 443,\n",
       " 'Ellipsoid Axis C Z': 444,\n",
       " 'Ellipsoid Axis Length A': 445,\n",
       " 'Ellipsoid Axis Length B': 446,\n",
       " 'Ellipsoid Axis Length C': 447,\n",
       " 'Ellipticity (oblate)': 448,\n",
       " 'Ellipticity (prolate)': 449,\n",
       " 'Generation': 450,\n",
       " 'Intensity Center_channel_1': 451,\n",
       " 'Intensity Center_channel_2': 452,\n",
       " 'Intensity Center_channel_3': 453,\n",
       " 'Intensity Center_channel_4': 454,\n",
       " 'Intensity Center_channel_5': 455,\n",
       " 'Intensity Max_channel_1': 456,\n",
       " 'Intensity Max_channel_2': 457,\n",
       " 'Intensity Max_channel_3': 458,\n",
       " 'Intensity Max_channel_4': 459,\n",
       " 'Intensity Max_channel_5': 460,\n",
       " 'Intensity Mean_channel_1': 461,\n",
       " 'Intensity Mean_channel_2': 462,\n",
       " 'Intensity Mean_channel_3': 463,\n",
       " 'Intensity Mean_channel_4': 464,\n",
       " 'Intensity Mean_channel_5': 465,\n",
       " 'Intensity Median_channel_1': 466,\n",
       " 'Intensity Median_channel_2': 467,\n",
       " 'Intensity Median_channel_3': 468,\n",
       " 'Intensity Median_channel_4': 469,\n",
       " 'Intensity Median_channel_5': 470,\n",
       " 'Intensity Min_channel_1': 471,\n",
       " 'Intensity Min_channel_2': 472,\n",
       " 'Intensity Min_channel_3': 473,\n",
       " 'Intensity Min_channel_4': 474,\n",
       " 'Intensity Min_channel_5': 475,\n",
       " 'Intensity StdDev_channel_1': 476,\n",
       " 'Intensity StdDev_channel_2': 477,\n",
       " 'Intensity StdDev_channel_3': 478,\n",
       " 'Intensity StdDev_channel_4': 479,\n",
       " 'Intensity StdDev_channel_5': 480,\n",
       " 'Intensity Sum_channel_1': 481,\n",
       " 'Intensity Sum_channel_2': 482,\n",
       " 'Intensity Sum_channel_3': 483,\n",
       " 'Intensity Sum_channel_4': 484,\n",
       " 'Intensity Sum_channel_5': 485,\n",
       " 'Intensity Sum of Square_channel_1': 486,\n",
       " 'Intensity Sum of Square_channel_2': 487,\n",
       " 'Intensity Sum of Square_channel_3': 488,\n",
       " 'Intensity Sum of Square_channel_4': 489,\n",
       " 'Intensity Sum of Square_channel_5': 490,\n",
       " 'Number of Disconnected Components': 491,\n",
       " 'Number of Triangles': 492,\n",
       " 'Position X': 493,\n",
       " 'Position Y': 494,\n",
       " 'Position Z': 495,\n",
       " 'Sphericity': 496,\n",
       " 'Time': 497,\n",
       " 'Time Index': 498,\n",
       " 'Volume': 499}"
      ]
     },
     "execution_count": 53,
     "metadata": {},
     "output_type": "execute_result"
    }
   ],
   "source": [
    "inverted_flatten"
   ]
  },
  {
   "cell_type": "code",
   "execution_count": 54,
   "metadata": {},
   "outputs": [
    {
     "data": {
      "text/html": [
       "<pre style=\"white-space:pre;overflow-x:auto;line-height:normal;font-family:Menlo,'DejaVu Sans Mono',consolas,'Courier New',monospace\"><span style=\"color: #008080; text-decoration-color: #008080; font-weight: bold\">2452</span>\n",
       "              <span style=\"color: #008080; text-decoration-color: #008080; font-weight: bold\">461</span>        <span style=\"color: #008080; text-decoration-color: #008080; font-weight: bold\">462</span>       <span style=\"color: #008080; text-decoration-color: #008080; font-weight: bold\">463</span>        <span style=\"color: #008080; text-decoration-color: #008080; font-weight: bold\">464</span>       <span style=\"color: #008080; text-decoration-color: #008080; font-weight: bold\">465</span>          <span style=\"color: #008080; text-decoration-color: #008080; font-weight: bold\">493</span>  \\\n",
       "<span style=\"color: #008080; text-decoration-color: #008080; font-weight: bold\">-1</span>            NaN        NaN       NaN        NaN       NaN          NaN   \n",
       " <span style=\"color: #008080; text-decoration-color: #008080; font-weight: bold\">0</span>      <span style=\"color: #008080; text-decoration-color: #008080; font-weight: bold\">22.600000</span>  <span style=\"color: #008080; text-decoration-color: #008080; font-weight: bold\">12.806896</span>  <span style=\"color: #008080; text-decoration-color: #008080; font-weight: bold\">6.082758</span>   <span style=\"color: #008080; text-decoration-color: #008080; font-weight: bold\">8.055172</span>  <span style=\"color: #008080; text-decoration-color: #008080; font-weight: bold\">6.006896</span>  <span style=\"color: #008080; text-decoration-color: #008080; font-weight: bold\">2189.359131</span>   \n",
       " <span style=\"color: #008080; text-decoration-color: #008080; font-weight: bold\">1</span>      <span style=\"color: #008080; text-decoration-color: #008080; font-weight: bold\">20.820824</span>   <span style=\"color: #008080; text-decoration-color: #008080; font-weight: bold\">8.719129</span>  <span style=\"color: #008080; text-decoration-color: #008080; font-weight: bold\">4.641646</span>   <span style=\"color: #008080; text-decoration-color: #008080; font-weight: bold\">6.324455</span>  <span style=\"color: #008080; text-decoration-color: #008080; font-weight: bold\">4.612591</span>  <span style=\"color: #008080; text-decoration-color: #008080; font-weight: bold\">2183.935791</span>   \n",
       " <span style=\"color: #008080; text-decoration-color: #008080; font-weight: bold\">2</span>      <span style=\"color: #008080; text-decoration-color: #008080; font-weight: bold\">13.137931</span>   <span style=\"color: #008080; text-decoration-color: #008080; font-weight: bold\">5.896552</span>  <span style=\"color: #008080; text-decoration-color: #008080; font-weight: bold\">3.241379</span>   <span style=\"color: #008080; text-decoration-color: #008080; font-weight: bold\">5.655172</span>  <span style=\"color: #008080; text-decoration-color: #008080; font-weight: bold\">3.413793</span>  <span style=\"color: #008080; text-decoration-color: #008080; font-weight: bold\">2178.945068</span>   \n",
       " <span style=\"color: #008080; text-decoration-color: #008080; font-weight: bold\">3</span>      <span style=\"color: #008080; text-decoration-color: #008080; font-weight: bold\">13.305555</span>  <span style=\"color: #008080; text-decoration-color: #008080; font-weight: bold\">14.666667</span>  <span style=\"color: #008080; text-decoration-color: #008080; font-weight: bold\">8.583333</span>  <span style=\"color: #008080; text-decoration-color: #008080; font-weight: bold\">12.138889</span>  <span style=\"color: #008080; text-decoration-color: #008080; font-weight: bold\">7.750000</span>  <span style=\"color: #008080; text-decoration-color: #008080; font-weight: bold\">2204.449463</span>   \n",
       "<span style=\"color: #808000; text-decoration-color: #808000\">...</span>           <span style=\"color: #808000; text-decoration-color: #808000\">...</span>        <span style=\"color: #808000; text-decoration-color: #808000\">...</span>       <span style=\"color: #808000; text-decoration-color: #808000\">...</span>        <span style=\"color: #808000; text-decoration-color: #808000\">...</span>       <span style=\"color: #808000; text-decoration-color: #808000\">...</span>          <span style=\"color: #808000; text-decoration-color: #808000\">...</span>   \n",
       " <span style=\"color: #008080; text-decoration-color: #008080; font-weight: bold\">27815</span>  <span style=\"color: #008080; text-decoration-color: #008080; font-weight: bold\">13.260870</span>   <span style=\"color: #008080; text-decoration-color: #008080; font-weight: bold\">6.739130</span>  <span style=\"color: #008080; text-decoration-color: #008080; font-weight: bold\">3.260870</span>   <span style=\"color: #008080; text-decoration-color: #008080; font-weight: bold\">3.934783</span>  <span style=\"color: #008080; text-decoration-color: #008080; font-weight: bold\">4.130435</span>     <span style=\"color: #008080; text-decoration-color: #008080; font-weight: bold\">1.185095</span>   \n",
       " <span style=\"color: #008080; text-decoration-color: #008080; font-weight: bold\">27816</span>  <span style=\"color: #008080; text-decoration-color: #008080; font-weight: bold\">12.732000</span>   <span style=\"color: #008080; text-decoration-color: #008080; font-weight: bold\">4.512000</span>  <span style=\"color: #008080; text-decoration-color: #008080; font-weight: bold\">2.368000</span>   <span style=\"color: #008080; text-decoration-color: #008080; font-weight: bold\">3.368000</span>  <span style=\"color: #008080; text-decoration-color: #008080; font-weight: bold\">4.312000</span>     <span style=\"color: #008080; text-decoration-color: #008080; font-weight: bold\">2.155134</span>   \n",
       " <span style=\"color: #008080; text-decoration-color: #008080; font-weight: bold\">27817</span>  <span style=\"color: #008080; text-decoration-color: #008080; font-weight: bold\">19.453703</span>  <span style=\"color: #008080; text-decoration-color: #008080; font-weight: bold\">11.342592</span>  <span style=\"color: #008080; text-decoration-color: #008080; font-weight: bold\">4.981482</span>   <span style=\"color: #008080; text-decoration-color: #008080; font-weight: bold\">7.148148</span>  <span style=\"color: #008080; text-decoration-color: #008080; font-weight: bold\">5.870370</span>    <span style=\"color: #008080; text-decoration-color: #008080; font-weight: bold\">10.448586</span>   \n",
       " <span style=\"color: #008080; text-decoration-color: #008080; font-weight: bold\">27818</span>  <span style=\"color: #008080; text-decoration-color: #008080; font-weight: bold\">19.097952</span>  <span style=\"color: #008080; text-decoration-color: #008080; font-weight: bold\">10.386044</span>  <span style=\"color: #008080; text-decoration-color: #008080; font-weight: bold\">3.898207</span>   <span style=\"color: #008080; text-decoration-color: #008080; font-weight: bold\">4.567862</span>  <span style=\"color: #008080; text-decoration-color: #008080; font-weight: bold\">5.507682</span>    <span style=\"color: #008080; text-decoration-color: #008080; font-weight: bold\">13.477354</span>   \n",
       " <span style=\"color: #008080; text-decoration-color: #008080; font-weight: bold\">27819</span>  <span style=\"color: #008080; text-decoration-color: #008080; font-weight: bold\">22.074074</span>   <span style=\"color: #008080; text-decoration-color: #008080; font-weight: bold\">9.849537</span>  <span style=\"color: #008080; text-decoration-color: #008080; font-weight: bold\">5.226852</span>   <span style=\"color: #008080; text-decoration-color: #008080; font-weight: bold\">6.215278</span>  <span style=\"color: #008080; text-decoration-color: #008080; font-weight: bold\">6.120370</span>     <span style=\"color: #008080; text-decoration-color: #008080; font-weight: bold\">2.357662</span>   \n",
       "\n",
       "                <span style=\"color: #008080; text-decoration-color: #008080; font-weight: bold\">494</span>        <span style=\"color: #008080; text-decoration-color: #008080; font-weight: bold\">495</span>           <span style=\"color: #008080; text-decoration-color: #008080; font-weight: bold\">499</span>  \n",
       "<span style=\"color: #008080; text-decoration-color: #008080; font-weight: bold\">-1</span>              NaN        NaN           NaN  \n",
       " <span style=\"color: #008080; text-decoration-color: #008080; font-weight: bold\">0</span>      <span style=\"color: #008080; text-decoration-color: #008080; font-weight: bold\">2202.812256</span>  <span style=\"color: #008080; text-decoration-color: #008080; font-weight: bold\">52.783691</span>   <span style=\"color: #008080; text-decoration-color: #008080; font-weight: bold\">1295.406738</span>  \n",
       " <span style=\"color: #008080; text-decoration-color: #008080; font-weight: bold\">1</span>      <span style=\"color: #008080; text-decoration-color: #008080; font-weight: bold\">2195.771240</span>  <span style=\"color: #008080; text-decoration-color: #008080; font-weight: bold\">47.824745</span>   <span style=\"color: #008080; text-decoration-color: #008080; font-weight: bold\">3371.364746</span>  \n",
       " <span style=\"color: #008080; text-decoration-color: #008080; font-weight: bold\">2</span>      <span style=\"color: #008080; text-decoration-color: #008080; font-weight: bold\">2182.046631</span>  <span style=\"color: #008080; text-decoration-color: #008080; font-weight: bold\">37.426094</span>    <span style=\"color: #008080; text-decoration-color: #008080; font-weight: bold\">104.847961</span>  \n",
       " <span style=\"color: #008080; text-decoration-color: #008080; font-weight: bold\">3</span>      <span style=\"color: #008080; text-decoration-color: #008080; font-weight: bold\">2120.961670</span>  <span style=\"color: #008080; text-decoration-color: #008080; font-weight: bold\">28.069572</span>    <span style=\"color: #008080; text-decoration-color: #008080; font-weight: bold\">228.591324</span>  \n",
       "<span style=\"color: #808000; text-decoration-color: #808000\">...</span>             <span style=\"color: #808000; text-decoration-color: #808000\">...</span>        <span style=\"color: #808000; text-decoration-color: #808000\">...</span>           <span style=\"color: #808000; text-decoration-color: #808000\">...</span>  \n",
       " <span style=\"color: #008080; text-decoration-color: #008080; font-weight: bold\">27815</span>    <span style=\"color: #008080; text-decoration-color: #008080; font-weight: bold\">16.314802</span>  <span style=\"color: #008080; text-decoration-color: #008080; font-weight: bold\">46.986015</span>    <span style=\"color: #008080; text-decoration-color: #008080; font-weight: bold\">330.691772</span>  \n",
       " <span style=\"color: #008080; text-decoration-color: #008080; font-weight: bold\">27816</span>    <span style=\"color: #008080; text-decoration-color: #008080; font-weight: bold\">22.085581</span>  <span style=\"color: #008080; text-decoration-color: #008080; font-weight: bold\">32.336147</span>   <span style=\"color: #008080; text-decoration-color: #008080; font-weight: bold\">1902.942383</span>  \n",
       " <span style=\"color: #008080; text-decoration-color: #008080; font-weight: bold\">27817</span>     <span style=\"color: #008080; text-decoration-color: #008080; font-weight: bold\">0.748731</span>  <span style=\"color: #008080; text-decoration-color: #008080; font-weight: bold\">60.644127</span>    <span style=\"color: #008080; text-decoration-color: #008080; font-weight: bold\">808.572937</span>  \n",
       " <span style=\"color: #008080; text-decoration-color: #008080; font-weight: bold\">27818</span>     <span style=\"color: #008080; text-decoration-color: #008080; font-weight: bold\">9.190427</span>  <span style=\"color: #008080; text-decoration-color: #008080; font-weight: bold\">60.877293</span>  <span style=\"color: #008080; text-decoration-color: #008080; font-weight: bold\">12385.237305</span>  \n",
       " <span style=\"color: #008080; text-decoration-color: #008080; font-weight: bold\">27819</span>     <span style=\"color: #008080; text-decoration-color: #008080; font-weight: bold\">7.870090</span>  <span style=\"color: #008080; text-decoration-color: #008080; font-weight: bold\">59.777782</span>   <span style=\"color: #008080; text-decoration-color: #008080; font-weight: bold\">3528.968262</span>  \n",
       "\n",
       "<span style=\"font-weight: bold\">[</span><span style=\"color: #008080; text-decoration-color: #008080; font-weight: bold\">26014</span> rows x <span style=\"color: #008080; text-decoration-color: #008080; font-weight: bold\">9</span> columns<span style=\"font-weight: bold\">]</span>\n",
       "</pre>\n"
      ],
      "text/plain": [
       "\u001b[1;36m2452\u001b[0m\n",
       "              \u001b[1;36m461\u001b[0m        \u001b[1;36m462\u001b[0m       \u001b[1;36m463\u001b[0m        \u001b[1;36m464\u001b[0m       \u001b[1;36m465\u001b[0m          \u001b[1;36m493\u001b[0m  \\\n",
       "\u001b[1;36m-1\u001b[0m            NaN        NaN       NaN        NaN       NaN          NaN   \n",
       " \u001b[1;36m0\u001b[0m      \u001b[1;36m22.600000\u001b[0m  \u001b[1;36m12.806896\u001b[0m  \u001b[1;36m6.082758\u001b[0m   \u001b[1;36m8.055172\u001b[0m  \u001b[1;36m6.006896\u001b[0m  \u001b[1;36m2189.359131\u001b[0m   \n",
       " \u001b[1;36m1\u001b[0m      \u001b[1;36m20.820824\u001b[0m   \u001b[1;36m8.719129\u001b[0m  \u001b[1;36m4.641646\u001b[0m   \u001b[1;36m6.324455\u001b[0m  \u001b[1;36m4.612591\u001b[0m  \u001b[1;36m2183.935791\u001b[0m   \n",
       " \u001b[1;36m2\u001b[0m      \u001b[1;36m13.137931\u001b[0m   \u001b[1;36m5.896552\u001b[0m  \u001b[1;36m3.241379\u001b[0m   \u001b[1;36m5.655172\u001b[0m  \u001b[1;36m3.413793\u001b[0m  \u001b[1;36m2178.945068\u001b[0m   \n",
       " \u001b[1;36m3\u001b[0m      \u001b[1;36m13.305555\u001b[0m  \u001b[1;36m14.666667\u001b[0m  \u001b[1;36m8.583333\u001b[0m  \u001b[1;36m12.138889\u001b[0m  \u001b[1;36m7.750000\u001b[0m  \u001b[1;36m2204.449463\u001b[0m   \n",
       "\u001b[33m...\u001b[0m           \u001b[33m...\u001b[0m        \u001b[33m...\u001b[0m       \u001b[33m...\u001b[0m        \u001b[33m...\u001b[0m       \u001b[33m...\u001b[0m          \u001b[33m...\u001b[0m   \n",
       " \u001b[1;36m27815\u001b[0m  \u001b[1;36m13.260870\u001b[0m   \u001b[1;36m6.739130\u001b[0m  \u001b[1;36m3.260870\u001b[0m   \u001b[1;36m3.934783\u001b[0m  \u001b[1;36m4.130435\u001b[0m     \u001b[1;36m1.185095\u001b[0m   \n",
       " \u001b[1;36m27816\u001b[0m  \u001b[1;36m12.732000\u001b[0m   \u001b[1;36m4.512000\u001b[0m  \u001b[1;36m2.368000\u001b[0m   \u001b[1;36m3.368000\u001b[0m  \u001b[1;36m4.312000\u001b[0m     \u001b[1;36m2.155134\u001b[0m   \n",
       " \u001b[1;36m27817\u001b[0m  \u001b[1;36m19.453703\u001b[0m  \u001b[1;36m11.342592\u001b[0m  \u001b[1;36m4.981482\u001b[0m   \u001b[1;36m7.148148\u001b[0m  \u001b[1;36m5.870370\u001b[0m    \u001b[1;36m10.448586\u001b[0m   \n",
       " \u001b[1;36m27818\u001b[0m  \u001b[1;36m19.097952\u001b[0m  \u001b[1;36m10.386044\u001b[0m  \u001b[1;36m3.898207\u001b[0m   \u001b[1;36m4.567862\u001b[0m  \u001b[1;36m5.507682\u001b[0m    \u001b[1;36m13.477354\u001b[0m   \n",
       " \u001b[1;36m27819\u001b[0m  \u001b[1;36m22.074074\u001b[0m   \u001b[1;36m9.849537\u001b[0m  \u001b[1;36m5.226852\u001b[0m   \u001b[1;36m6.215278\u001b[0m  \u001b[1;36m6.120370\u001b[0m     \u001b[1;36m2.357662\u001b[0m   \n",
       "\n",
       "                \u001b[1;36m494\u001b[0m        \u001b[1;36m495\u001b[0m           \u001b[1;36m499\u001b[0m  \n",
       "\u001b[1;36m-1\u001b[0m              NaN        NaN           NaN  \n",
       " \u001b[1;36m0\u001b[0m      \u001b[1;36m2202.812256\u001b[0m  \u001b[1;36m52.783691\u001b[0m   \u001b[1;36m1295.406738\u001b[0m  \n",
       " \u001b[1;36m1\u001b[0m      \u001b[1;36m2195.771240\u001b[0m  \u001b[1;36m47.824745\u001b[0m   \u001b[1;36m3371.364746\u001b[0m  \n",
       " \u001b[1;36m2\u001b[0m      \u001b[1;36m2182.046631\u001b[0m  \u001b[1;36m37.426094\u001b[0m    \u001b[1;36m104.847961\u001b[0m  \n",
       " \u001b[1;36m3\u001b[0m      \u001b[1;36m2120.961670\u001b[0m  \u001b[1;36m28.069572\u001b[0m    \u001b[1;36m228.591324\u001b[0m  \n",
       "\u001b[33m...\u001b[0m             \u001b[33m...\u001b[0m        \u001b[33m...\u001b[0m           \u001b[33m...\u001b[0m  \n",
       " \u001b[1;36m27815\u001b[0m    \u001b[1;36m16.314802\u001b[0m  \u001b[1;36m46.986015\u001b[0m    \u001b[1;36m330.691772\u001b[0m  \n",
       " \u001b[1;36m27816\u001b[0m    \u001b[1;36m22.085581\u001b[0m  \u001b[1;36m32.336147\u001b[0m   \u001b[1;36m1902.942383\u001b[0m  \n",
       " \u001b[1;36m27817\u001b[0m     \u001b[1;36m0.748731\u001b[0m  \u001b[1;36m60.644127\u001b[0m    \u001b[1;36m808.572937\u001b[0m  \n",
       " \u001b[1;36m27818\u001b[0m     \u001b[1;36m9.190427\u001b[0m  \u001b[1;36m60.877293\u001b[0m  \u001b[1;36m12385.237305\u001b[0m  \n",
       " \u001b[1;36m27819\u001b[0m     \u001b[1;36m7.870090\u001b[0m  \u001b[1;36m59.777782\u001b[0m   \u001b[1;36m3528.968262\u001b[0m  \n",
       "\n",
       "\u001b[1m[\u001b[0m\u001b[1;36m26014\u001b[0m rows x \u001b[1;36m9\u001b[0m columns\u001b[1m]\u001b[0m\n"
      ]
     },
     "metadata": {},
     "output_type": "display_data"
    }
   ],
   "source": [
    "final_df = pd.DataFrame(empty_data_dict).transpose()\n",
    "f = final_df.drop(labels=del_list, axis=1)\n",
    "print(f)\n"
   ]
  },
  {
   "cell_type": "code",
   "execution_count": 55,
   "metadata": {},
   "outputs": [
    {
     "data": {
      "text/html": [
       "<pre style=\"white-space:pre;overflow-x:auto;line-height:normal;font-family:Menlo,'DejaVu Sans Mono',consolas,'Courier New',monospace\"><span style=\"color: #800080; text-decoration-color: #800080; font-weight: bold\">Int64Index</span><span style=\"font-weight: bold\">([</span><span style=\"color: #008080; text-decoration-color: #008080; font-weight: bold\">461</span>, <span style=\"color: #008080; text-decoration-color: #008080; font-weight: bold\">462</span>, <span style=\"color: #008080; text-decoration-color: #008080; font-weight: bold\">463</span>, <span style=\"color: #008080; text-decoration-color: #008080; font-weight: bold\">464</span>, <span style=\"color: #008080; text-decoration-color: #008080; font-weight: bold\">465</span>, <span style=\"color: #008080; text-decoration-color: #008080; font-weight: bold\">493</span>, <span style=\"color: #008080; text-decoration-color: #008080; font-weight: bold\">494</span>, <span style=\"color: #008080; text-decoration-color: #008080; font-weight: bold\">495</span>, <span style=\"color: #008080; text-decoration-color: #008080; font-weight: bold\">499</span><span style=\"font-weight: bold\">]</span>, <span style=\"color: #808000; text-decoration-color: #808000\">dtype</span>=<span style=\"color: #008000; text-decoration-color: #008000\">'int64'</span><span style=\"font-weight: bold\">)</span>\n",
       "</pre>\n"
      ],
      "text/plain": [
       "\u001b[1;35mInt64Index\u001b[0m\u001b[1m(\u001b[0m\u001b[1m[\u001b[0m\u001b[1;36m461\u001b[0m, \u001b[1;36m462\u001b[0m, \u001b[1;36m463\u001b[0m, \u001b[1;36m464\u001b[0m, \u001b[1;36m465\u001b[0m, \u001b[1;36m493\u001b[0m, \u001b[1;36m494\u001b[0m, \u001b[1;36m495\u001b[0m, \u001b[1;36m499\u001b[0m\u001b[1m]\u001b[0m, \u001b[33mdtype\u001b[0m=\u001b[32m'int64'\u001b[0m\u001b[1m)\u001b[0m\n"
      ]
     },
     "metadata": {},
     "output_type": "display_data"
    },
    {
     "data": {
      "text/html": [
       "<pre style=\"white-space:pre;overflow-x:auto;line-height:normal;font-family:Menlo,'DejaVu Sans Mono',consolas,'Courier New',monospace\"><span style=\"font-weight: bold\">{</span>\n",
       "    <span style=\"color: #008080; text-decoration-color: #008080; font-weight: bold\">461</span>: <span style=\"color: #008000; text-decoration-color: #008000\">'Intensity Mean_channel_1'</span>,\n",
       "    <span style=\"color: #008080; text-decoration-color: #008080; font-weight: bold\">462</span>: <span style=\"color: #008000; text-decoration-color: #008000\">'Intensity Mean_channel_2'</span>,\n",
       "    <span style=\"color: #008080; text-decoration-color: #008080; font-weight: bold\">463</span>: <span style=\"color: #008000; text-decoration-color: #008000\">'Intensity Mean_channel_3'</span>,\n",
       "    <span style=\"color: #008080; text-decoration-color: #008080; font-weight: bold\">464</span>: <span style=\"color: #008000; text-decoration-color: #008000\">'Intensity Mean_channel_4'</span>,\n",
       "    <span style=\"color: #008080; text-decoration-color: #008080; font-weight: bold\">465</span>: <span style=\"color: #008000; text-decoration-color: #008000\">'Intensity Mean_channel_5'</span>,\n",
       "    <span style=\"color: #008080; text-decoration-color: #008080; font-weight: bold\">493</span>: <span style=\"color: #008000; text-decoration-color: #008000\">'Position X'</span>,\n",
       "    <span style=\"color: #008080; text-decoration-color: #008080; font-weight: bold\">494</span>: <span style=\"color: #008000; text-decoration-color: #008000\">'Position Y'</span>,\n",
       "    <span style=\"color: #008080; text-decoration-color: #008080; font-weight: bold\">495</span>: <span style=\"color: #008000; text-decoration-color: #008000\">'Position Z'</span>,\n",
       "    <span style=\"color: #008080; text-decoration-color: #008080; font-weight: bold\">499</span>: <span style=\"color: #008000; text-decoration-color: #008000\">'Volume'</span>\n",
       "<span style=\"font-weight: bold\">}</span>\n",
       "</pre>\n"
      ],
      "text/plain": [
       "\u001b[1m{\u001b[0m\n",
       "    \u001b[1;36m461\u001b[0m: \u001b[32m'Intensity Mean_channel_1'\u001b[0m,\n",
       "    \u001b[1;36m462\u001b[0m: \u001b[32m'Intensity Mean_channel_2'\u001b[0m,\n",
       "    \u001b[1;36m463\u001b[0m: \u001b[32m'Intensity Mean_channel_3'\u001b[0m,\n",
       "    \u001b[1;36m464\u001b[0m: \u001b[32m'Intensity Mean_channel_4'\u001b[0m,\n",
       "    \u001b[1;36m465\u001b[0m: \u001b[32m'Intensity Mean_channel_5'\u001b[0m,\n",
       "    \u001b[1;36m493\u001b[0m: \u001b[32m'Position X'\u001b[0m,\n",
       "    \u001b[1;36m494\u001b[0m: \u001b[32m'Position Y'\u001b[0m,\n",
       "    \u001b[1;36m495\u001b[0m: \u001b[32m'Position Z'\u001b[0m,\n",
       "    \u001b[1;36m499\u001b[0m: \u001b[32m'Volume'\u001b[0m\n",
       "\u001b[1m}\u001b[0m\n"
      ]
     },
     "metadata": {},
     "output_type": "display_data"
    }
   ],
   "source": [
    "# clean up df by changing number to names and rearranging columns\n",
    "columns = f.columns\n",
    "print(columns)\n",
    "\n",
    "new_names = {key: final_dict[key] for key in columns}\n",
    "print(new_names)\n",
    "\n",
    "# rename dict\n"
   ]
  },
  {
   "cell_type": "code",
   "execution_count": 56,
   "metadata": {},
   "outputs": [
    {
     "data": {
      "text/html": [
       "<pre style=\"white-space:pre;overflow-x:auto;line-height:normal;font-family:Menlo,'DejaVu Sans Mono',consolas,'Courier New',monospace\">    Intensity Mean_channel_1  Intensity Mean_channel_2  \\\n",
       "<span style=\"color: #008080; text-decoration-color: #008080; font-weight: bold\">-1</span>                       NaN                       NaN   \n",
       " <span style=\"color: #008080; text-decoration-color: #008080; font-weight: bold\">0</span>                 <span style=\"color: #008080; text-decoration-color: #008080; font-weight: bold\">22.600000</span>                 <span style=\"color: #008080; text-decoration-color: #008080; font-weight: bold\">12.806896</span>   \n",
       " <span style=\"color: #008080; text-decoration-color: #008080; font-weight: bold\">1</span>                 <span style=\"color: #008080; text-decoration-color: #008080; font-weight: bold\">20.820824</span>                  <span style=\"color: #008080; text-decoration-color: #008080; font-weight: bold\">8.719129</span>   \n",
       " <span style=\"color: #008080; text-decoration-color: #008080; font-weight: bold\">2</span>                 <span style=\"color: #008080; text-decoration-color: #008080; font-weight: bold\">13.137931</span>                  <span style=\"color: #008080; text-decoration-color: #008080; font-weight: bold\">5.896552</span>   \n",
       " <span style=\"color: #008080; text-decoration-color: #008080; font-weight: bold\">3</span>                 <span style=\"color: #008080; text-decoration-color: #008080; font-weight: bold\">13.305555</span>                 <span style=\"color: #008080; text-decoration-color: #008080; font-weight: bold\">14.666667</span>   \n",
       "\n",
       "    Intensity Mean_channel_3  Intensity Mean_channel_4  \\\n",
       "<span style=\"color: #008080; text-decoration-color: #008080; font-weight: bold\">-1</span>                       NaN                       NaN   \n",
       " <span style=\"color: #008080; text-decoration-color: #008080; font-weight: bold\">0</span>                  <span style=\"color: #008080; text-decoration-color: #008080; font-weight: bold\">6.082758</span>                  <span style=\"color: #008080; text-decoration-color: #008080; font-weight: bold\">8.055172</span>   \n",
       " <span style=\"color: #008080; text-decoration-color: #008080; font-weight: bold\">1</span>                  <span style=\"color: #008080; text-decoration-color: #008080; font-weight: bold\">4.641646</span>                  <span style=\"color: #008080; text-decoration-color: #008080; font-weight: bold\">6.324455</span>   \n",
       " <span style=\"color: #008080; text-decoration-color: #008080; font-weight: bold\">2</span>                  <span style=\"color: #008080; text-decoration-color: #008080; font-weight: bold\">3.241379</span>                  <span style=\"color: #008080; text-decoration-color: #008080; font-weight: bold\">5.655172</span>   \n",
       " <span style=\"color: #008080; text-decoration-color: #008080; font-weight: bold\">3</span>                  <span style=\"color: #008080; text-decoration-color: #008080; font-weight: bold\">8.583333</span>                 <span style=\"color: #008080; text-decoration-color: #008080; font-weight: bold\">12.138889</span>   \n",
       "\n",
       "    Intensity Mean_channel_5   Position X   Position Y  Position Z  \\\n",
       "<span style=\"color: #008080; text-decoration-color: #008080; font-weight: bold\">-1</span>                       NaN          NaN          NaN         NaN   \n",
       " <span style=\"color: #008080; text-decoration-color: #008080; font-weight: bold\">0</span>                  <span style=\"color: #008080; text-decoration-color: #008080; font-weight: bold\">6.006896</span>  <span style=\"color: #008080; text-decoration-color: #008080; font-weight: bold\">2189.359131</span>  <span style=\"color: #008080; text-decoration-color: #008080; font-weight: bold\">2202.812256</span>   <span style=\"color: #008080; text-decoration-color: #008080; font-weight: bold\">52.783691</span>   \n",
       " <span style=\"color: #008080; text-decoration-color: #008080; font-weight: bold\">1</span>                  <span style=\"color: #008080; text-decoration-color: #008080; font-weight: bold\">4.612591</span>  <span style=\"color: #008080; text-decoration-color: #008080; font-weight: bold\">2183.935791</span>  <span style=\"color: #008080; text-decoration-color: #008080; font-weight: bold\">2195.771240</span>   <span style=\"color: #008080; text-decoration-color: #008080; font-weight: bold\">47.824745</span>   \n",
       " <span style=\"color: #008080; text-decoration-color: #008080; font-weight: bold\">2</span>                  <span style=\"color: #008080; text-decoration-color: #008080; font-weight: bold\">3.413793</span>  <span style=\"color: #008080; text-decoration-color: #008080; font-weight: bold\">2178.945068</span>  <span style=\"color: #008080; text-decoration-color: #008080; font-weight: bold\">2182.046631</span>   <span style=\"color: #008080; text-decoration-color: #008080; font-weight: bold\">37.426094</span>   \n",
       " <span style=\"color: #008080; text-decoration-color: #008080; font-weight: bold\">3</span>                  <span style=\"color: #008080; text-decoration-color: #008080; font-weight: bold\">7.750000</span>  <span style=\"color: #008080; text-decoration-color: #008080; font-weight: bold\">2204.449463</span>  <span style=\"color: #008080; text-decoration-color: #008080; font-weight: bold\">2120.961670</span>   <span style=\"color: #008080; text-decoration-color: #008080; font-weight: bold\">28.069572</span>   \n",
       "\n",
       "         Volume  \n",
       "<span style=\"color: #008080; text-decoration-color: #008080; font-weight: bold\">-1</span>          NaN  \n",
       " <span style=\"color: #008080; text-decoration-color: #008080; font-weight: bold\">0</span>  <span style=\"color: #008080; text-decoration-color: #008080; font-weight: bold\">1295.406738</span>  \n",
       " <span style=\"color: #008080; text-decoration-color: #008080; font-weight: bold\">1</span>  <span style=\"color: #008080; text-decoration-color: #008080; font-weight: bold\">3371.364746</span>  \n",
       " <span style=\"color: #008080; text-decoration-color: #008080; font-weight: bold\">2</span>   <span style=\"color: #008080; text-decoration-color: #008080; font-weight: bold\">104.847961</span>  \n",
       " <span style=\"color: #008080; text-decoration-color: #008080; font-weight: bold\">3</span>   <span style=\"color: #008080; text-decoration-color: #008080; font-weight: bold\">228.591324</span>  \n",
       "</pre>\n"
      ],
      "text/plain": [
       "    Intensity Mean_channel_1  Intensity Mean_channel_2  \\\n",
       "\u001b[1;36m-1\u001b[0m                       NaN                       NaN   \n",
       " \u001b[1;36m0\u001b[0m                 \u001b[1;36m22.600000\u001b[0m                 \u001b[1;36m12.806896\u001b[0m   \n",
       " \u001b[1;36m1\u001b[0m                 \u001b[1;36m20.820824\u001b[0m                  \u001b[1;36m8.719129\u001b[0m   \n",
       " \u001b[1;36m2\u001b[0m                 \u001b[1;36m13.137931\u001b[0m                  \u001b[1;36m5.896552\u001b[0m   \n",
       " \u001b[1;36m3\u001b[0m                 \u001b[1;36m13.305555\u001b[0m                 \u001b[1;36m14.666667\u001b[0m   \n",
       "\n",
       "    Intensity Mean_channel_3  Intensity Mean_channel_4  \\\n",
       "\u001b[1;36m-1\u001b[0m                       NaN                       NaN   \n",
       " \u001b[1;36m0\u001b[0m                  \u001b[1;36m6.082758\u001b[0m                  \u001b[1;36m8.055172\u001b[0m   \n",
       " \u001b[1;36m1\u001b[0m                  \u001b[1;36m4.641646\u001b[0m                  \u001b[1;36m6.324455\u001b[0m   \n",
       " \u001b[1;36m2\u001b[0m                  \u001b[1;36m3.241379\u001b[0m                  \u001b[1;36m5.655172\u001b[0m   \n",
       " \u001b[1;36m3\u001b[0m                  \u001b[1;36m8.583333\u001b[0m                 \u001b[1;36m12.138889\u001b[0m   \n",
       "\n",
       "    Intensity Mean_channel_5   Position X   Position Y  Position Z  \\\n",
       "\u001b[1;36m-1\u001b[0m                       NaN          NaN          NaN         NaN   \n",
       " \u001b[1;36m0\u001b[0m                  \u001b[1;36m6.006896\u001b[0m  \u001b[1;36m2189.359131\u001b[0m  \u001b[1;36m2202.812256\u001b[0m   \u001b[1;36m52.783691\u001b[0m   \n",
       " \u001b[1;36m1\u001b[0m                  \u001b[1;36m4.612591\u001b[0m  \u001b[1;36m2183.935791\u001b[0m  \u001b[1;36m2195.771240\u001b[0m   \u001b[1;36m47.824745\u001b[0m   \n",
       " \u001b[1;36m2\u001b[0m                  \u001b[1;36m3.413793\u001b[0m  \u001b[1;36m2178.945068\u001b[0m  \u001b[1;36m2182.046631\u001b[0m   \u001b[1;36m37.426094\u001b[0m   \n",
       " \u001b[1;36m3\u001b[0m                  \u001b[1;36m7.750000\u001b[0m  \u001b[1;36m2204.449463\u001b[0m  \u001b[1;36m2120.961670\u001b[0m   \u001b[1;36m28.069572\u001b[0m   \n",
       "\n",
       "         Volume  \n",
       "\u001b[1;36m-1\u001b[0m          NaN  \n",
       " \u001b[1;36m0\u001b[0m  \u001b[1;36m1295.406738\u001b[0m  \n",
       " \u001b[1;36m1\u001b[0m  \u001b[1;36m3371.364746\u001b[0m  \n",
       " \u001b[1;36m2\u001b[0m   \u001b[1;36m104.847961\u001b[0m  \n",
       " \u001b[1;36m3\u001b[0m   \u001b[1;36m228.591324\u001b[0m  \n"
      ]
     },
     "metadata": {},
     "output_type": "display_data"
    }
   ],
   "source": [
    "final_df = f.rename(new_names, axis=1)\n",
    "print(final_df.head())"
   ]
  },
  {
   "cell_type": "code",
   "execution_count": 57,
   "metadata": {},
   "outputs": [
    {
     "data": {
      "text/html": [
       "<pre style=\"white-space:pre;overflow-x:auto;line-height:normal;font-family:Menlo,'DejaVu Sans Mono',consolas,'Courier New',monospace\">           ID   Position X   Position Y  Position Z  Intensity Mean_channel_1  \\\n",
       "<span style=\"color: #008080; text-decoration-color: #008080; font-weight: bold\">-1</span>         <span style=\"color: #008080; text-decoration-color: #008080; font-weight: bold\">-1</span>          NaN          NaN         NaN                       NaN   \n",
       " <span style=\"color: #008080; text-decoration-color: #008080; font-weight: bold\">0</span>          <span style=\"color: #008080; text-decoration-color: #008080; font-weight: bold\">0</span>  <span style=\"color: #008080; text-decoration-color: #008080; font-weight: bold\">2189.359131</span>  <span style=\"color: #008080; text-decoration-color: #008080; font-weight: bold\">2202.812256</span>   <span style=\"color: #008080; text-decoration-color: #008080; font-weight: bold\">52.783691</span>                 <span style=\"color: #008080; text-decoration-color: #008080; font-weight: bold\">22.600000</span>   \n",
       " <span style=\"color: #008080; text-decoration-color: #008080; font-weight: bold\">1</span>          <span style=\"color: #008080; text-decoration-color: #008080; font-weight: bold\">1</span>  <span style=\"color: #008080; text-decoration-color: #008080; font-weight: bold\">2183.935791</span>  <span style=\"color: #008080; text-decoration-color: #008080; font-weight: bold\">2195.771240</span>   <span style=\"color: #008080; text-decoration-color: #008080; font-weight: bold\">47.824745</span>                 <span style=\"color: #008080; text-decoration-color: #008080; font-weight: bold\">20.820824</span>   \n",
       " <span style=\"color: #008080; text-decoration-color: #008080; font-weight: bold\">2</span>          <span style=\"color: #008080; text-decoration-color: #008080; font-weight: bold\">2</span>  <span style=\"color: #008080; text-decoration-color: #008080; font-weight: bold\">2178.945068</span>  <span style=\"color: #008080; text-decoration-color: #008080; font-weight: bold\">2182.046631</span>   <span style=\"color: #008080; text-decoration-color: #008080; font-weight: bold\">37.426094</span>                 <span style=\"color: #008080; text-decoration-color: #008080; font-weight: bold\">13.137931</span>   \n",
       " <span style=\"color: #008080; text-decoration-color: #008080; font-weight: bold\">3</span>          <span style=\"color: #008080; text-decoration-color: #008080; font-weight: bold\">3</span>  <span style=\"color: #008080; text-decoration-color: #008080; font-weight: bold\">2204.449463</span>  <span style=\"color: #008080; text-decoration-color: #008080; font-weight: bold\">2120.961670</span>   <span style=\"color: #008080; text-decoration-color: #008080; font-weight: bold\">28.069572</span>                 <span style=\"color: #008080; text-decoration-color: #008080; font-weight: bold\">13.305555</span>   \n",
       "<span style=\"color: #808000; text-decoration-color: #808000\">...</span>       <span style=\"color: #808000; text-decoration-color: #808000\">...</span>          <span style=\"color: #808000; text-decoration-color: #808000\">...</span>          <span style=\"color: #808000; text-decoration-color: #808000\">...</span>         <span style=\"color: #808000; text-decoration-color: #808000\">...</span>                       <span style=\"color: #808000; text-decoration-color: #808000\">...</span>   \n",
       " <span style=\"color: #008080; text-decoration-color: #008080; font-weight: bold\">27815</span>  <span style=\"color: #008080; text-decoration-color: #008080; font-weight: bold\">27815</span>     <span style=\"color: #008080; text-decoration-color: #008080; font-weight: bold\">1.185095</span>    <span style=\"color: #008080; text-decoration-color: #008080; font-weight: bold\">16.314802</span>   <span style=\"color: #008080; text-decoration-color: #008080; font-weight: bold\">46.986015</span>                 <span style=\"color: #008080; text-decoration-color: #008080; font-weight: bold\">13.260870</span>   \n",
       " <span style=\"color: #008080; text-decoration-color: #008080; font-weight: bold\">27816</span>  <span style=\"color: #008080; text-decoration-color: #008080; font-weight: bold\">27816</span>     <span style=\"color: #008080; text-decoration-color: #008080; font-weight: bold\">2.155134</span>    <span style=\"color: #008080; text-decoration-color: #008080; font-weight: bold\">22.085581</span>   <span style=\"color: #008080; text-decoration-color: #008080; font-weight: bold\">32.336147</span>                 <span style=\"color: #008080; text-decoration-color: #008080; font-weight: bold\">12.732000</span>   \n",
       " <span style=\"color: #008080; text-decoration-color: #008080; font-weight: bold\">27817</span>  <span style=\"color: #008080; text-decoration-color: #008080; font-weight: bold\">27817</span>    <span style=\"color: #008080; text-decoration-color: #008080; font-weight: bold\">10.448586</span>     <span style=\"color: #008080; text-decoration-color: #008080; font-weight: bold\">0.748731</span>   <span style=\"color: #008080; text-decoration-color: #008080; font-weight: bold\">60.644127</span>                 <span style=\"color: #008080; text-decoration-color: #008080; font-weight: bold\">19.453703</span>   \n",
       " <span style=\"color: #008080; text-decoration-color: #008080; font-weight: bold\">27818</span>  <span style=\"color: #008080; text-decoration-color: #008080; font-weight: bold\">27818</span>    <span style=\"color: #008080; text-decoration-color: #008080; font-weight: bold\">13.477354</span>     <span style=\"color: #008080; text-decoration-color: #008080; font-weight: bold\">9.190427</span>   <span style=\"color: #008080; text-decoration-color: #008080; font-weight: bold\">60.877293</span>                 <span style=\"color: #008080; text-decoration-color: #008080; font-weight: bold\">19.097952</span>   \n",
       " <span style=\"color: #008080; text-decoration-color: #008080; font-weight: bold\">27819</span>  <span style=\"color: #008080; text-decoration-color: #008080; font-weight: bold\">27819</span>     <span style=\"color: #008080; text-decoration-color: #008080; font-weight: bold\">2.357662</span>     <span style=\"color: #008080; text-decoration-color: #008080; font-weight: bold\">7.870090</span>   <span style=\"color: #008080; text-decoration-color: #008080; font-weight: bold\">59.777782</span>                 <span style=\"color: #008080; text-decoration-color: #008080; font-weight: bold\">22.074074</span>   \n",
       "\n",
       "        Intensity Mean_channel_2  Intensity Mean_channel_3  \\\n",
       "<span style=\"color: #008080; text-decoration-color: #008080; font-weight: bold\">-1</span>                           NaN                       NaN   \n",
       " <span style=\"color: #008080; text-decoration-color: #008080; font-weight: bold\">0</span>                     <span style=\"color: #008080; text-decoration-color: #008080; font-weight: bold\">12.806896</span>                  <span style=\"color: #008080; text-decoration-color: #008080; font-weight: bold\">6.082758</span>   \n",
       " <span style=\"color: #008080; text-decoration-color: #008080; font-weight: bold\">1</span>                      <span style=\"color: #008080; text-decoration-color: #008080; font-weight: bold\">8.719129</span>                  <span style=\"color: #008080; text-decoration-color: #008080; font-weight: bold\">4.641646</span>   \n",
       " <span style=\"color: #008080; text-decoration-color: #008080; font-weight: bold\">2</span>                      <span style=\"color: #008080; text-decoration-color: #008080; font-weight: bold\">5.896552</span>                  <span style=\"color: #008080; text-decoration-color: #008080; font-weight: bold\">3.241379</span>   \n",
       " <span style=\"color: #008080; text-decoration-color: #008080; font-weight: bold\">3</span>                     <span style=\"color: #008080; text-decoration-color: #008080; font-weight: bold\">14.666667</span>                  <span style=\"color: #008080; text-decoration-color: #008080; font-weight: bold\">8.583333</span>   \n",
       "<span style=\"color: #808000; text-decoration-color: #808000\">...</span>                          <span style=\"color: #808000; text-decoration-color: #808000\">...</span>                       <span style=\"color: #808000; text-decoration-color: #808000\">...</span>   \n",
       " <span style=\"color: #008080; text-decoration-color: #008080; font-weight: bold\">27815</span>                  <span style=\"color: #008080; text-decoration-color: #008080; font-weight: bold\">6.739130</span>                  <span style=\"color: #008080; text-decoration-color: #008080; font-weight: bold\">3.260870</span>   \n",
       " <span style=\"color: #008080; text-decoration-color: #008080; font-weight: bold\">27816</span>                  <span style=\"color: #008080; text-decoration-color: #008080; font-weight: bold\">4.512000</span>                  <span style=\"color: #008080; text-decoration-color: #008080; font-weight: bold\">2.368000</span>   \n",
       " <span style=\"color: #008080; text-decoration-color: #008080; font-weight: bold\">27817</span>                 <span style=\"color: #008080; text-decoration-color: #008080; font-weight: bold\">11.342592</span>                  <span style=\"color: #008080; text-decoration-color: #008080; font-weight: bold\">4.981482</span>   \n",
       " <span style=\"color: #008080; text-decoration-color: #008080; font-weight: bold\">27818</span>                 <span style=\"color: #008080; text-decoration-color: #008080; font-weight: bold\">10.386044</span>                  <span style=\"color: #008080; text-decoration-color: #008080; font-weight: bold\">3.898207</span>   \n",
       " <span style=\"color: #008080; text-decoration-color: #008080; font-weight: bold\">27819</span>                  <span style=\"color: #008080; text-decoration-color: #008080; font-weight: bold\">9.849537</span>                  <span style=\"color: #008080; text-decoration-color: #008080; font-weight: bold\">5.226852</span>   \n",
       "\n",
       "        Intensity Mean_channel_4  Intensity Mean_channel_5  \n",
       "<span style=\"color: #008080; text-decoration-color: #008080; font-weight: bold\">-1</span>                           NaN                       NaN  \n",
       " <span style=\"color: #008080; text-decoration-color: #008080; font-weight: bold\">0</span>                      <span style=\"color: #008080; text-decoration-color: #008080; font-weight: bold\">8.055172</span>                  <span style=\"color: #008080; text-decoration-color: #008080; font-weight: bold\">6.006896</span>  \n",
       " <span style=\"color: #008080; text-decoration-color: #008080; font-weight: bold\">1</span>                      <span style=\"color: #008080; text-decoration-color: #008080; font-weight: bold\">6.324455</span>                  <span style=\"color: #008080; text-decoration-color: #008080; font-weight: bold\">4.612591</span>  \n",
       " <span style=\"color: #008080; text-decoration-color: #008080; font-weight: bold\">2</span>                      <span style=\"color: #008080; text-decoration-color: #008080; font-weight: bold\">5.655172</span>                  <span style=\"color: #008080; text-decoration-color: #008080; font-weight: bold\">3.413793</span>  \n",
       " <span style=\"color: #008080; text-decoration-color: #008080; font-weight: bold\">3</span>                     <span style=\"color: #008080; text-decoration-color: #008080; font-weight: bold\">12.138889</span>                  <span style=\"color: #008080; text-decoration-color: #008080; font-weight: bold\">7.750000</span>  \n",
       "<span style=\"color: #808000; text-decoration-color: #808000\">...</span>                          <span style=\"color: #808000; text-decoration-color: #808000\">...</span>                       <span style=\"color: #808000; text-decoration-color: #808000\">...</span>  \n",
       " <span style=\"color: #008080; text-decoration-color: #008080; font-weight: bold\">27815</span>                  <span style=\"color: #008080; text-decoration-color: #008080; font-weight: bold\">3.934783</span>                  <span style=\"color: #008080; text-decoration-color: #008080; font-weight: bold\">4.130435</span>  \n",
       " <span style=\"color: #008080; text-decoration-color: #008080; font-weight: bold\">27816</span>                  <span style=\"color: #008080; text-decoration-color: #008080; font-weight: bold\">3.368000</span>                  <span style=\"color: #008080; text-decoration-color: #008080; font-weight: bold\">4.312000</span>  \n",
       " <span style=\"color: #008080; text-decoration-color: #008080; font-weight: bold\">27817</span>                  <span style=\"color: #008080; text-decoration-color: #008080; font-weight: bold\">7.148148</span>                  <span style=\"color: #008080; text-decoration-color: #008080; font-weight: bold\">5.870370</span>  \n",
       " <span style=\"color: #008080; text-decoration-color: #008080; font-weight: bold\">27818</span>                  <span style=\"color: #008080; text-decoration-color: #008080; font-weight: bold\">4.567862</span>                  <span style=\"color: #008080; text-decoration-color: #008080; font-weight: bold\">5.507682</span>  \n",
       " <span style=\"color: #008080; text-decoration-color: #008080; font-weight: bold\">27819</span>                  <span style=\"color: #008080; text-decoration-color: #008080; font-weight: bold\">6.215278</span>                  <span style=\"color: #008080; text-decoration-color: #008080; font-weight: bold\">6.120370</span>  \n",
       "\n",
       "<span style=\"font-weight: bold\">[</span><span style=\"color: #008080; text-decoration-color: #008080; font-weight: bold\">26014</span> rows x <span style=\"color: #008080; text-decoration-color: #008080; font-weight: bold\">9</span> columns<span style=\"font-weight: bold\">]</span>\n",
       "</pre>\n"
      ],
      "text/plain": [
       "           ID   Position X   Position Y  Position Z  Intensity Mean_channel_1  \\\n",
       "\u001b[1;36m-1\u001b[0m         \u001b[1;36m-1\u001b[0m          NaN          NaN         NaN                       NaN   \n",
       " \u001b[1;36m0\u001b[0m          \u001b[1;36m0\u001b[0m  \u001b[1;36m2189.359131\u001b[0m  \u001b[1;36m2202.812256\u001b[0m   \u001b[1;36m52.783691\u001b[0m                 \u001b[1;36m22.600000\u001b[0m   \n",
       " \u001b[1;36m1\u001b[0m          \u001b[1;36m1\u001b[0m  \u001b[1;36m2183.935791\u001b[0m  \u001b[1;36m2195.771240\u001b[0m   \u001b[1;36m47.824745\u001b[0m                 \u001b[1;36m20.820824\u001b[0m   \n",
       " \u001b[1;36m2\u001b[0m          \u001b[1;36m2\u001b[0m  \u001b[1;36m2178.945068\u001b[0m  \u001b[1;36m2182.046631\u001b[0m   \u001b[1;36m37.426094\u001b[0m                 \u001b[1;36m13.137931\u001b[0m   \n",
       " \u001b[1;36m3\u001b[0m          \u001b[1;36m3\u001b[0m  \u001b[1;36m2204.449463\u001b[0m  \u001b[1;36m2120.961670\u001b[0m   \u001b[1;36m28.069572\u001b[0m                 \u001b[1;36m13.305555\u001b[0m   \n",
       "\u001b[33m...\u001b[0m       \u001b[33m...\u001b[0m          \u001b[33m...\u001b[0m          \u001b[33m...\u001b[0m         \u001b[33m...\u001b[0m                       \u001b[33m...\u001b[0m   \n",
       " \u001b[1;36m27815\u001b[0m  \u001b[1;36m27815\u001b[0m     \u001b[1;36m1.185095\u001b[0m    \u001b[1;36m16.314802\u001b[0m   \u001b[1;36m46.986015\u001b[0m                 \u001b[1;36m13.260870\u001b[0m   \n",
       " \u001b[1;36m27816\u001b[0m  \u001b[1;36m27816\u001b[0m     \u001b[1;36m2.155134\u001b[0m    \u001b[1;36m22.085581\u001b[0m   \u001b[1;36m32.336147\u001b[0m                 \u001b[1;36m12.732000\u001b[0m   \n",
       " \u001b[1;36m27817\u001b[0m  \u001b[1;36m27817\u001b[0m    \u001b[1;36m10.448586\u001b[0m     \u001b[1;36m0.748731\u001b[0m   \u001b[1;36m60.644127\u001b[0m                 \u001b[1;36m19.453703\u001b[0m   \n",
       " \u001b[1;36m27818\u001b[0m  \u001b[1;36m27818\u001b[0m    \u001b[1;36m13.477354\u001b[0m     \u001b[1;36m9.190427\u001b[0m   \u001b[1;36m60.877293\u001b[0m                 \u001b[1;36m19.097952\u001b[0m   \n",
       " \u001b[1;36m27819\u001b[0m  \u001b[1;36m27819\u001b[0m     \u001b[1;36m2.357662\u001b[0m     \u001b[1;36m7.870090\u001b[0m   \u001b[1;36m59.777782\u001b[0m                 \u001b[1;36m22.074074\u001b[0m   \n",
       "\n",
       "        Intensity Mean_channel_2  Intensity Mean_channel_3  \\\n",
       "\u001b[1;36m-1\u001b[0m                           NaN                       NaN   \n",
       " \u001b[1;36m0\u001b[0m                     \u001b[1;36m12.806896\u001b[0m                  \u001b[1;36m6.082758\u001b[0m   \n",
       " \u001b[1;36m1\u001b[0m                      \u001b[1;36m8.719129\u001b[0m                  \u001b[1;36m4.641646\u001b[0m   \n",
       " \u001b[1;36m2\u001b[0m                      \u001b[1;36m5.896552\u001b[0m                  \u001b[1;36m3.241379\u001b[0m   \n",
       " \u001b[1;36m3\u001b[0m                     \u001b[1;36m14.666667\u001b[0m                  \u001b[1;36m8.583333\u001b[0m   \n",
       "\u001b[33m...\u001b[0m                          \u001b[33m...\u001b[0m                       \u001b[33m...\u001b[0m   \n",
       " \u001b[1;36m27815\u001b[0m                  \u001b[1;36m6.739130\u001b[0m                  \u001b[1;36m3.260870\u001b[0m   \n",
       " \u001b[1;36m27816\u001b[0m                  \u001b[1;36m4.512000\u001b[0m                  \u001b[1;36m2.368000\u001b[0m   \n",
       " \u001b[1;36m27817\u001b[0m                 \u001b[1;36m11.342592\u001b[0m                  \u001b[1;36m4.981482\u001b[0m   \n",
       " \u001b[1;36m27818\u001b[0m                 \u001b[1;36m10.386044\u001b[0m                  \u001b[1;36m3.898207\u001b[0m   \n",
       " \u001b[1;36m27819\u001b[0m                  \u001b[1;36m9.849537\u001b[0m                  \u001b[1;36m5.226852\u001b[0m   \n",
       "\n",
       "        Intensity Mean_channel_4  Intensity Mean_channel_5  \n",
       "\u001b[1;36m-1\u001b[0m                           NaN                       NaN  \n",
       " \u001b[1;36m0\u001b[0m                      \u001b[1;36m8.055172\u001b[0m                  \u001b[1;36m6.006896\u001b[0m  \n",
       " \u001b[1;36m1\u001b[0m                      \u001b[1;36m6.324455\u001b[0m                  \u001b[1;36m4.612591\u001b[0m  \n",
       " \u001b[1;36m2\u001b[0m                      \u001b[1;36m5.655172\u001b[0m                  \u001b[1;36m3.413793\u001b[0m  \n",
       " \u001b[1;36m3\u001b[0m                     \u001b[1;36m12.138889\u001b[0m                  \u001b[1;36m7.750000\u001b[0m  \n",
       "\u001b[33m...\u001b[0m                          \u001b[33m...\u001b[0m                       \u001b[33m...\u001b[0m  \n",
       " \u001b[1;36m27815\u001b[0m                  \u001b[1;36m3.934783\u001b[0m                  \u001b[1;36m4.130435\u001b[0m  \n",
       " \u001b[1;36m27816\u001b[0m                  \u001b[1;36m3.368000\u001b[0m                  \u001b[1;36m4.312000\u001b[0m  \n",
       " \u001b[1;36m27817\u001b[0m                  \u001b[1;36m7.148148\u001b[0m                  \u001b[1;36m5.870370\u001b[0m  \n",
       " \u001b[1;36m27818\u001b[0m                  \u001b[1;36m4.567862\u001b[0m                  \u001b[1;36m5.507682\u001b[0m  \n",
       " \u001b[1;36m27819\u001b[0m                  \u001b[1;36m6.215278\u001b[0m                  \u001b[1;36m6.120370\u001b[0m  \n",
       "\n",
       "\u001b[1m[\u001b[0m\u001b[1;36m26014\u001b[0m rows x \u001b[1;36m9\u001b[0m columns\u001b[1m]\u001b[0m\n"
      ]
     },
     "metadata": {},
     "output_type": "display_data"
    }
   ],
   "source": [
    "# create the final id column\n",
    "final_df['ID'] = final_df.index\n",
    "\n",
    "\n",
    "# rearrange\n",
    "final_order = [\n",
    "    'ID',\n",
    "    'Position X',\n",
    "    'Position Y',\n",
    "    'Position Z',\n",
    "    'Intensity Mean_channel_1',\n",
    "    'Intensity Mean_channel_2',\n",
    "    'Intensity Mean_channel_3',\n",
    "    'Intensity Mean_channel_4',\n",
    "    'Intensity Mean_channel_5',\n",
    "]\n",
    "\n",
    "final = final_df[final_order]\n",
    "print(final)"
   ]
  },
  {
   "cell_type": "code",
   "execution_count": null,
   "metadata": {},
   "outputs": [],
   "source": [
    "\n"
   ]
  },
  {
   "cell_type": "code",
   "execution_count": null,
   "metadata": {},
   "outputs": [],
   "source": []
  }
 ],
 "metadata": {
  "kernelspec": {
   "display_name": "Python 3.8.13 ('core')",
   "language": "python",
   "name": "python3"
  },
  "language_info": {
   "codemirror_mode": {
    "name": "ipython",
    "version": 3
   },
   "file_extension": ".py",
   "mimetype": "text/x-python",
   "name": "python",
   "nbconvert_exporter": "python",
   "pygments_lexer": "ipython3",
   "version": "3.8.13"
  },
  "orig_nbformat": 4,
  "vscode": {
   "interpreter": {
    "hash": "04aae946aefb73757d94e4e7bfb7ede85957aa0149a3e71cc39e2fcc66c8e46e"
   }
  }
 },
 "nbformat": 4,
 "nbformat_minor": 2
}
