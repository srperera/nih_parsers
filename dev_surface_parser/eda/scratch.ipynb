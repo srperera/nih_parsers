{
 "cells": [
  {
   "cell_type": "code",
   "execution_count": null,
   "metadata": {},
   "outputs": [],
   "source": [
    "import h5py\n",
    "import io\n",
    "import numpy as np\n",
    "from numba import jit, njit\n",
    "import matplotlib.pyplot as plt\n",
    "from rich import print\n",
    "import copy\n",
    "import pandas as pd\n",
    "import re\n",
    "from tqdm import tqdm\n",
    "import timeit\n",
    "import re\n",
    "import yaml"
   ]
  },
  {
   "cell_type": "code",
   "execution_count": null,
   "metadata": {},
   "outputs": [],
   "source": [
    "# data path\n",
    "data_path = '../data/P1 DHBR Roi3 6x6_TileScan_001_Merging_Crop_0_batch.ims'"
   ]
  },
  {
   "cell_type": "code",
   "execution_count": null,
   "metadata": {},
   "outputs": [],
   "source": [
    "# 1 use following function to load .ims file\n",
    "def load_ims(ims_file_path: str) -> h5py.File:\n",
    "    \"\"\"\n",
    "    loads a imaris file with .ims extension using h5py \n",
    "\n",
    "    Args:\n",
    "        ims_file_path (str): path to .ims file \n",
    "\n",
    "    Returns:\n",
    "        h5py.File: returns the data contained within the .ims file\n",
    "    \"\"\"\n",
    "    return h5py.File(ims_file_path, 'r+') \n",
    "\n",
    "# test \n",
    "data = load_ims(ims_file_path=data_path)"
   ]
  },
  {
   "cell_type": "code",
   "execution_count": null,
   "metadata": {},
   "outputs": [],
   "source": [
    "# 2 we need to know all the objects we need to extract data from\n",
    "def get_object_names(full_data_file: h5py.File, search_for: str) -> list:\n",
    "    \"\"\"\n",
    "    extracts the object names that we are interested in.\n",
    "\n",
    "    Args:\n",
    "        full_data_file (h5py.File): full imaris file in h5py File format\n",
    "        search_for (str): string containing full or partial filename to search for\n",
    "\n",
    "    Returns:\n",
    "        list: a list of all the object names that match search_for parameter\n",
    "    \"\"\"\n",
    "\n",
    "    values = full_data_file.get('Scene').get('Content').keys()\n",
    "    storage = list()\n",
    "    for item in values:\n",
    "        if len(re.findall(search_for, item)):\n",
    "            storage.append(item)\n",
    "    return storage\n",
    "\n",
    "# test function\n",
    "out = get_object_names(data, 'Surface')\n",
    "print(out)"
   ]
  }
 ],
 "metadata": {
  "kernelspec": {
   "display_name": "Python 3.8.13 ('core')",
   "language": "python",
   "name": "python3"
  },
  "language_info": {
   "codemirror_mode": {
    "name": "ipython",
    "version": 3
   },
   "file_extension": ".py",
   "mimetype": "text/x-python",
   "name": "python",
   "nbconvert_exporter": "python",
   "pygments_lexer": "ipython3",
   "version": "3.8.13"
  },
  "orig_nbformat": 4,
  "vscode": {
   "interpreter": {
    "hash": "04aae946aefb73757d94e4e7bfb7ede85957aa0149a3e71cc39e2fcc66c8e46e"
   }
  }
 },
 "nbformat": 4,
 "nbformat_minor": 2
}
