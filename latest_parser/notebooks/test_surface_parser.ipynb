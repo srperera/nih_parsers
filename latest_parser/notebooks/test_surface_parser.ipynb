{
 "cells": [
  {
   "cell_type": "code",
   "execution_count": 1,
   "metadata": {},
   "outputs": [],
   "source": [
    "import os\n",
    "import numpy as np\n",
    "import pandas as pd\n",
    "\n",
    "from parsers.surface_parser import SurfaceParser\n",
    "from imaris.imaris import ImarisDataObject\n",
    "\n",
    "from typing import List\n",
    "\n",
    "# from utils.process import run_surface_parser_parallel"
   ]
  },
  {
   "cell_type": "code",
   "execution_count": 2,
   "metadata": {},
   "outputs": [
    {
     "data": {
      "text/plain": [
       "True"
      ]
     },
     "execution_count": 2,
     "metadata": {},
     "output_type": "execute_result"
    }
   ],
   "source": [
    "data_path = [\"../data/multi_surface_track_parser_dev_data/\"]\n",
    "os.path.isdir(data_path[0])"
   ]
  },
  {
   "cell_type": "code",
   "execution_count": 3,
   "metadata": {},
   "outputs": [],
   "source": [
    "# def configure_actor()"
   ]
  },
  {
   "cell_type": "code",
   "execution_count": 4,
   "metadata": {},
   "outputs": [],
   "source": [
    "import os\n",
    "import glob\n",
    "import ray\n",
    "from typing import List\n",
    "from utils.utils import get_num_surfaces\n",
    "from parsers.surface_parser import SurfaceParserDistributed\n",
    "from imaris.exceptions import NoSurfaceException\n",
    "\n",
    "# ray.init(num_cpus=28)\n",
    "\n",
    "\n",
    "#########################################################################################\n",
    "def run_surface_parser_parallel(\n",
    "    data_paths: List[str],\n",
    "    save_dir: str = \"processed_data\",\n",
    "    cpu_cores: int = None,\n",
    ") -> None:\n",
    "    \"\"\"\n",
    "    Runs ALL surfaces in an ims file in parallel.\n",
    "    Pipeline:\n",
    "        - For every file in every directory\n",
    "        - Create a folder a with the same name as the filename inside save_dir provided\n",
    "        - For every surface inside each file we create a remote actor\n",
    "        - Once all actors are created we can use the cpu cores provided by user to\n",
    "            run a fixed chunk of actors in parallel so we dont start too many instances at one\n",
    "        - If no cpu_cores provided we will run all actors in parallel\n",
    "\n",
    "    Args:\n",
    "        data_paths (List[str]): a list of directories\n",
    "        save_dir (str, optional): dir to save files to. Defaults to \"processed_data\".\n",
    "        cpu_cores (int, optional): num of cpu cores allocated for processing. Defaults to None.\n",
    "    \"\"\"\n",
    "    actors = []\n",
    "    for data_path in data_paths:\n",
    "        # get all imaris files\n",
    "        imaris_files = glob.glob(os.path.join(os.path.abspath(data_path), \"*.ims\"))\n",
    "\n",
    "        if len(imaris_files) == 0:\n",
    "            print(f\"[info] -- skipping folder no files found \")\n",
    "            pass\n",
    "\n",
    "        else:\n",
    "            for file_path in imaris_files:\n",
    "                # get filename from path\n",
    "                filename = os.path.basename(file_path).split(\".\")[0]\n",
    "\n",
    "                # create dir with same name as filename\n",
    "                save_path = os.path.join(save_dir, filename)\n",
    "                if not os.path.isdir(save_path):\n",
    "                    os.makedirs(save_path)\n",
    "\n",
    "                # get num surfaces for file\n",
    "                num_surfaces = get_num_surfaces(file_path)\n",
    "\n",
    "                # create actors\n",
    "                for idx in range(num_surfaces):\n",
    "                    try:\n",
    "                        actor = SurfaceParserDistributed.remote(\n",
    "                            file_path, surface_id=idx, save_dir=save_path\n",
    "                        )\n",
    "                    except NoSurfaceException:\n",
    "                        print(\n",
    "                            f\"[info] -- no surface found in {filename}..skipping file\"\n",
    "                        )\n",
    "                    actors.append(actor)\n",
    "\n",
    "                print(\"adding files to actors: \", len(actors))\n",
    "\n",
    "    # generate results\n",
    "    # split if too many actors vs cores else run all\n",
    "    if cpu_cores and cpu_cores < len(actors):\n",
    "        num_actors = len(actors)\n",
    "        num_splits = np.round(num_actors / cpu_cores)\n",
    "        splits = np.array_split(np.asarray(actors, dtype=object), num_splits)\n",
    "        for split in splits:\n",
    "            results = ray.get(\n",
    "                [\n",
    "                    actor.extract_and_save.remote(surface_id=0)\n",
    "                    for _, actor in enumerate(split)\n",
    "                ]\n",
    "            )\n",
    "    else:\n",
    "        results = ray.get(\n",
    "            [\n",
    "                actor.extract_and_save.remote(surface_id=0)\n",
    "                for _, actor in enumerate(actors)\n",
    "            ]\n",
    "        )"
   ]
  },
  {
   "cell_type": "code",
   "execution_count": 5,
   "metadata": {},
   "outputs": [],
   "source": [
    "# out = run_surface_parser_parallel(\n",
    "#     data_path,\n",
    "#     \"save_2\",\n",
    "# )"
   ]
  },
  {
   "cell_type": "code",
   "execution_count": 6,
   "metadata": {},
   "outputs": [],
   "source": [
    "#########################################################################################\n",
    "def run_surface_parser_parallel_index(\n",
    "    data_paths: List[str],\n",
    "    surface_ids: List[int],\n",
    "    save_dir: str = \"processed_data\",\n",
    "    cpu_cores: int = None,\n",
    ") -> None:\n",
    "    \"\"\"\n",
    "    Runs SPECIFIED surfaces in an ims file in parallel.\n",
    "    Pipeline:\n",
    "        - For every file in every directory\n",
    "        - Create a folder a with the same name as the filename inside save_dir provided\n",
    "        - For every surface specified in surface_ids we create a remote actor\n",
    "        - Once all actors are created we can use the cpu cores provided by user to\n",
    "            run a fixed chunk of actors in parallel so we dont start too many instances at one\n",
    "        - If no cpu_cores provided we will run all actors in parallel.\n",
    "\n",
    "    Args:\n",
    "        data_paths (List[str]): _description_\n",
    "        surface_ids (List[int]): _description_\n",
    "        save_dir (str, optional): _description_. Defaults to \"processed_data\".\n",
    "        cpu_cores (int, optional): _description_. Defaults to None.\n",
    "    \"\"\"\n",
    "    actors = []\n",
    "    for data_path in data_paths:\n",
    "        # get all imaris files\n",
    "        imaris_files = glob.glob(os.path.join(os.path.abspath(data_path), \"*.ims\"))\n",
    "\n",
    "        if len(imaris_files) == 0:\n",
    "            print(f\"[info] -- skipping folder no files found \")\n",
    "            pass\n",
    "\n",
    "        else:\n",
    "            for file_path in imaris_files:\n",
    "                # get filename from path\n",
    "                filename = os.path.basename(file_path).split(\".\")[0]\n",
    "\n",
    "                # create dir with same name as filename\n",
    "                save_path = os.path.join(save_dir, filename)\n",
    "                if not os.path.isdir(save_path):\n",
    "                    os.makedirs(save_path)\n",
    "\n",
    "                # get num surfaces for file\n",
    "                num_surfaces = get_num_surfaces(file_path)\n",
    "\n",
    "                # create actors\n",
    "                for idx in range(num_surfaces):\n",
    "                    if (idx + 1) in surface_ids:\n",
    "                        try:\n",
    "                            actor = SurfaceParserDistributed.remote(\n",
    "                                file_path, surface_id=idx, save_dir=save_path\n",
    "                            )\n",
    "                        except NoSurfaceException:\n",
    "                            print(\n",
    "                                f\"[info] -- no surface found in {filename}..skipping file\"\n",
    "                            )\n",
    "                        actors.append(actor)\n",
    "\n",
    "                print(\"adding files to actors: \", len(actors))\n",
    "\n",
    "    # generate results\n",
    "    if cpu_cores and cpu_cores < len(actors):\n",
    "        num_actors = len(actors)\n",
    "        num_splits = np.round(num_actors / cpu_cores)\n",
    "        splits = np.array_split(np.asarray(actors, dtype=object), num_splits)\n",
    "        for split in splits:\n",
    "            results = ray.get(\n",
    "                [\n",
    "                    actor.extract_and_save.remote(surface_id=0)\n",
    "                    for _, actor in enumerate(split)\n",
    "                ]\n",
    "            )\n",
    "    else:\n",
    "        results = ray.get(\n",
    "            [\n",
    "                actor.extract_and_save.remote(surface_id=0)\n",
    "                for _, actor in enumerate(actors)\n",
    "            ]\n",
    "        )"
   ]
  },
  {
   "cell_type": "code",
   "execution_count": 7,
   "metadata": {},
   "outputs": [
    {
     "name": "stderr",
     "output_type": "stream",
     "text": [
      "2023-11-15 18:08:54,086\tINFO worker.py:1621 -- Started a local Ray instance.\n"
     ]
    },
    {
     "name": "stdout",
     "output_type": "stream",
     "text": [
      "adding files to actors:  3\n",
      "adding files to actors:  5\n",
      "adding files to actors:  8\n"
     ]
    }
   ],
   "source": [
    "out = run_surface_parser_parallel_index(\n",
    "    data_path,\n",
    "    surface_ids=[1, 4, 7],  # STARTS AT 1\n",
    "    save_dir=\"save_4\",\n",
    ")"
   ]
  },
  {
   "cell_type": "code",
   "execution_count": null,
   "metadata": {},
   "outputs": [],
   "source": []
  },
  {
   "cell_type": "code",
   "execution_count": null,
   "metadata": {},
   "outputs": [],
   "source": []
  },
  {
   "cell_type": "code",
   "execution_count": null,
   "metadata": {},
   "outputs": [],
   "source": [
    "np.array_split(np.asarray(out), 3)"
   ]
  },
  {
   "cell_type": "code",
   "execution_count": null,
   "metadata": {},
   "outputs": [],
   "source": [
    "20 / 15"
   ]
  },
  {
   "cell_type": "code",
   "execution_count": null,
   "metadata": {},
   "outputs": [],
   "source": []
  },
  {
   "cell_type": "code",
   "execution_count": null,
   "metadata": {},
   "outputs": [],
   "source": [
    "f = np.arange(1, 21)\n",
    "\n",
    "d = np.array_split(f, 3)\n",
    "d"
   ]
  },
  {
   "cell_type": "code",
   "execution_count": null,
   "metadata": {},
   "outputs": [],
   "source": [
    "for i in d:\n",
    "    print(i.min(), i.max())\n",
    "    for s in range(i.min() - 1, i.max() + 1):\n",
    "        print(s)"
   ]
  },
  {
   "cell_type": "code",
   "execution_count": null,
   "metadata": {},
   "outputs": [],
   "source": [
    "parser = SurfaceParser(data_path, surface_id=0)\n",
    "storage = parser.inspect(surface_id=0)"
   ]
  },
  {
   "cell_type": "code",
   "execution_count": null,
   "metadata": {},
   "outputs": [],
   "source": [
    "storage[\"surface_name\"]"
   ]
  },
  {
   "cell_type": "code",
   "execution_count": null,
   "metadata": {},
   "outputs": [],
   "source": []
  },
  {
   "cell_type": "code",
   "execution_count": null,
   "metadata": {},
   "outputs": [],
   "source": [
    "ims_obj = ImarisDataObject(data_path)\n",
    "num_surfaces = len(ims_obj.get_object_names(\"Surface\"))"
   ]
  },
  {
   "cell_type": "code",
   "execution_count": null,
   "metadata": {},
   "outputs": [],
   "source": [
    "def get_num_surfaces(data_path: str) -> int:\n",
    "    ims_obj = ImarisDataObject(data_path)\n",
    "    num_surfaces = len(ims_obj.get_object_names(\"Surface\"))\n",
    "    return num_surfaces\n",
    "\n",
    "\n",
    "def surface_contains_tracks(\n",
    "    data_path: str,\n",
    "    surface_id: int = 0,\n",
    ") -> bool:\n",
    "    \"\"\"Checks ims file to see if track information is avilable for a given surface.\n",
    "\n",
    "    Args:\n",
    "        data_path (str): path to ims file\n",
    "        surface_id (int, optional): surface id value. Defaults to 0.\n",
    "\n",
    "    Returns:\n",
    "        bool: Returns True if track information is avilable else False\n",
    "    \"\"\"\n",
    "    ims_obj = ImarisDataObject(data_path)\n",
    "    surface_names = ims_obj.get_object_names(\"Surface\")\n",
    "    return ims_obj.contains_tracks(surface_names[surface_id])\n",
    "\n",
    "\n",
    "def contains_sufaces(data_path: str, surface_id: int = 0) -> bool:\n",
    "    \"\"\"Checks ims file to see if surface information is avilable.\n",
    "\n",
    "    Args:\n",
    "        data_path (str): path to ims file\n",
    "        surface_id (int, optional): surface id value. Defaults to 0.\n",
    "\n",
    "    Returns:\n",
    "        bool: Returns True if track information is avilable else False\n",
    "    \"\"\"\n",
    "    ims_obj = ImarisDataObject(data_path)\n",
    "    surface_names = ims_obj.get_object_names(\"Surface\")\n",
    "    return ims_obj.contains_sufaces(surface_names[surface_id])\n",
    "\n",
    "\n",
    "def get_surface_stats(data_path: str, surface_id: int = -1) -> List[str]:\n",
    "    \"\"\"_summary_\n",
    "\n",
    "    Args:\n",
    "        data_path (str): _description_\n",
    "        surface_id (int, optional): _description_. Defaults to -1.\n",
    "\n",
    "    Raises:\n",
    "        ValueError: _description_\n",
    "\n",
    "    Returns:\n",
    "        List[str]: _description_\n",
    "    \"\"\"\n",
    "    num_surfaces = get_num_surfaces(data_path)  # num available surfaces\n",
    "    parser = SurfaceParser(data_path)\n",
    "    # grab all\n",
    "    if surface_id == -1:  # grab all\n",
    "        available_stats_storage = [\n",
    "            parser.get_surface_info(surface_id=idx) for idx in range(num_surfaces)\n",
    "        ]\n",
    "        return available_stats_storage\n",
    "\n",
    "    elif surface_id <= num_surfaces:\n",
    "        available_stats_storage = parser.get_surface_info(surface_id)\n",
    "        return available_stats_storage\n",
    "\n",
    "    else:\n",
    "        raise ValueError(\"requested surface id exceeeds number of surfaces available\")"
   ]
  },
  {
   "cell_type": "code",
   "execution_count": null,
   "metadata": {},
   "outputs": [],
   "source": [
    "%timeit contains_tracks(data_path)"
   ]
  },
  {
   "cell_type": "code",
   "execution_count": 14,
   "metadata": {},
   "outputs": [
    {
     "ename": "AssertionError",
     "evalue": "",
     "output_type": "error",
     "traceback": [
      "\u001b[0;31m---------------------------------------------------------------------------\u001b[0m",
      "\u001b[0;31mAssertionError\u001b[0m                            Traceback (most recent call last)",
      "\u001b[1;32m/home/shehan/Documents/nih_projects/parsers/latest_parser/test_surface_parser.ipynb Cell 21\u001b[0m line \u001b[0;36m4\n\u001b[1;32m      <a href='vscode-notebook-cell:/home/shehan/Documents/nih_projects/parsers/latest_parser/test_surface_parser.ipynb#X12sZmlsZQ%3D%3D?line=0'>1</a>\u001b[0m \u001b[39mfrom\u001b[39;00m \u001b[39mtyping\u001b[39;00m \u001b[39mimport\u001b[39;00m List \n\u001b[1;32m      <a href='vscode-notebook-cell:/home/shehan/Documents/nih_projects/parsers/latest_parser/test_surface_parser.ipynb#X12sZmlsZQ%3D%3D?line=2'>3</a>\u001b[0m d \u001b[39m=\u001b[39m [\u001b[39m12\u001b[39m]\n\u001b[0;32m----> <a href='vscode-notebook-cell:/home/shehan/Documents/nih_projects/parsers/latest_parser/test_surface_parser.ipynb#X12sZmlsZQ%3D%3D?line=3'>4</a>\u001b[0m \u001b[39massert\u001b[39;00m (\u001b[39mtype\u001b[39m(d) \u001b[39m==\u001b[39m List)\n",
      "\u001b[0;31mAssertionError\u001b[0m: "
     ]
    }
   ],
   "source": [
    "from typing import List \n",
    "\n",
    "d = [12]\n",
    "assert (type(d) == List)"
   ]
  },
  {
   "cell_type": "code",
   "execution_count": 9,
   "metadata": {},
   "outputs": [
    {
     "data": {
      "text/plain": [
       "list"
      ]
     },
     "execution_count": 9,
     "metadata": {},
     "output_type": "execute_result"
    }
   ],
   "source": [
    "type(d)"
   ]
  },
  {
   "cell_type": "code",
   "execution_count": null,
   "metadata": {},
   "outputs": [],
   "source": []
  }
 ],
 "metadata": {
  "kernelspec": {
   "display_name": "corev2",
   "language": "python",
   "name": "python3"
  },
  "language_info": {
   "codemirror_mode": {
    "name": "ipython",
    "version": 3
   },
   "file_extension": ".py",
   "mimetype": "text/x-python",
   "name": "python",
   "nbconvert_exporter": "python",
   "pygments_lexer": "ipython3",
   "version": "3.10.10"
  }
 },
 "nbformat": 4,
 "nbformat_minor": 2
}
