{
 "cells": [
  {
   "cell_type": "code",
   "execution_count": 1,
   "metadata": {},
   "outputs": [],
   "source": [
    "import os\n",
    "import pandas as pd\n",
    "from parsers.surface_parser import SurfaceParser\n",
    "from imaris.imaris import ImarisDataObject\n",
    "\n",
    "from typing import List\n",
    "from utils.process import run_surface_parser_parallel"
   ]
  },
  {
   "cell_type": "code",
   "execution_count": 2,
   "metadata": {},
   "outputs": [
    {
     "data": {
      "text/plain": [
       "True"
      ]
     },
     "execution_count": 2,
     "metadata": {},
     "output_type": "execute_result"
    }
   ],
   "source": [
    "data_path = (\n",
    "    \"../data/multi_surface_track_parser_dev_data/GFP #1 Sec1 Roi2 2x2 1h30min.ims\"\n",
    ")\n",
    "os.path.isfile(data_path)"
   ]
  },
  {
   "cell_type": "code",
   "execution_count": 3,
   "metadata": {},
   "outputs": [
    {
     "name": "stderr",
     "output_type": "stream",
     "text": [
      "2023-11-14 22:51:34,368\tINFO worker.py:1621 -- Started a local Ray instance.\n"
     ]
    }
   ],
   "source": [
    "# out = run_surface_parser_parallel(data_path)"
   ]
  },
  {
   "cell_type": "code",
   "execution_count": null,
   "metadata": {},
   "outputs": [],
   "source": [
    "parser = SurfaceParser(data_path, surface_id=0)\n",
    "storage = parser.inspect(surface_id=0)"
   ]
  },
  {
   "cell_type": "code",
   "execution_count": null,
   "metadata": {},
   "outputs": [],
   "source": [
    "storage[\"surface_name\"]"
   ]
  },
  {
   "cell_type": "code",
   "execution_count": null,
   "metadata": {},
   "outputs": [],
   "source": []
  },
  {
   "cell_type": "code",
   "execution_count": null,
   "metadata": {},
   "outputs": [],
   "source": [
    "ims_obj = ImarisDataObject(data_path)\n",
    "num_surfaces = len(ims_obj.get_object_names(\"Surface\"))"
   ]
  },
  {
   "cell_type": "code",
   "execution_count": null,
   "metadata": {},
   "outputs": [],
   "source": [
    "def get_num_surfaces(data_path: str) -> int:\n",
    "    ims_obj = ImarisDataObject(data_path)\n",
    "    num_surfaces = len(ims_obj.get_object_names(\"Surface\"))\n",
    "    return num_surfaces\n",
    "\n",
    "\n",
    "def surface_contains_tracks(\n",
    "    data_path: str,\n",
    "    surface_id: int = 0,\n",
    ") -> bool:\n",
    "    \"\"\"Checks ims file to see if track information is avilable for a given surface.\n",
    "\n",
    "    Args:\n",
    "        data_path (str): path to ims file\n",
    "        surface_id (int, optional): surface id value. Defaults to 0.\n",
    "\n",
    "    Returns:\n",
    "        bool: Returns True if track information is avilable else False\n",
    "    \"\"\"\n",
    "    ims_obj = ImarisDataObject(data_path)\n",
    "    surface_names = ims_obj.get_object_names(\"Surface\")\n",
    "    return ims_obj.contains_tracks(surface_names[surface_id])\n",
    "\n",
    "\n",
    "def contains_sufaces(data_path: str, surface_id: int = 0) -> bool:\n",
    "    \"\"\"Checks ims file to see if surface information is avilable.\n",
    "\n",
    "    Args:\n",
    "        data_path (str): path to ims file\n",
    "        surface_id (int, optional): surface id value. Defaults to 0.\n",
    "\n",
    "    Returns:\n",
    "        bool: Returns True if track information is avilable else False\n",
    "    \"\"\"\n",
    "    ims_obj = ImarisDataObject(data_path)\n",
    "    surface_names = ims_obj.get_object_names(\"Surface\")\n",
    "    return ims_obj.contains_sufaces(surface_names[surface_id])\n",
    "\n",
    "\n",
    "def get_surface_stats(data_path: str, surface_id: int = -1) -> List[str]:\n",
    "    \"\"\"_summary_\n",
    "\n",
    "    Args:\n",
    "        data_path (str): _description_\n",
    "        surface_id (int, optional): _description_. Defaults to -1.\n",
    "\n",
    "    Raises:\n",
    "        ValueError: _description_\n",
    "\n",
    "    Returns:\n",
    "        List[str]: _description_\n",
    "    \"\"\"\n",
    "    num_surfaces = get_num_surfaces(data_path)  # num available surfaces\n",
    "    parser = SurfaceParser(data_path)\n",
    "    # grab all\n",
    "    if surface_id == -1:  # grab all\n",
    "        available_stats_storage = [\n",
    "            parser.get_surface_info(surface_id=idx) for idx in range(num_surfaces)\n",
    "        ]\n",
    "        return available_stats_storage\n",
    "\n",
    "    elif surface_id <= num_surfaces:\n",
    "        available_stats_storage = parser.get_surface_info(surface_id)\n",
    "        return available_stats_storage\n",
    "\n",
    "    else:\n",
    "        raise ValueError(\"requested surface id exceeeds number of surfaces available\")"
   ]
  },
  {
   "cell_type": "code",
   "execution_count": null,
   "metadata": {},
   "outputs": [],
   "source": [
    "%timeit contains_tracks(data_path)"
   ]
  },
  {
   "cell_type": "code",
   "execution_count": null,
   "metadata": {},
   "outputs": [],
   "source": []
  }
 ],
 "metadata": {
  "kernelspec": {
   "display_name": "corev2",
   "language": "python",
   "name": "python3"
  },
  "language_info": {
   "codemirror_mode": {
    "name": "ipython",
    "version": 3
   },
   "file_extension": ".py",
   "mimetype": "text/x-python",
   "name": "python",
   "nbconvert_exporter": "python",
   "pygments_lexer": "ipython3",
   "version": "3.10.10"
  }
 },
 "nbformat": 4,
 "nbformat_minor": 2
}
