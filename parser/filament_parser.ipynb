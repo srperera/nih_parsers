{
 "cells": [
  {
   "cell_type": "code",
   "execution_count": 1,
   "metadata": {},
   "outputs": [],
   "source": [
    "import os\n",
    "import ray\n",
    "import numpy as np\n",
    "import pandas as pd\n",
    "from typing import List\n",
    "from utils.data import load_yaml\n",
    "from scripts.process_filaments import run_filament_parser_parallel\n",
    "from rich import print as rprint"
   ]
  },
  {
   "cell_type": "markdown",
   "metadata": {},
   "source": [
    "Load Config"
   ]
  },
  {
   "cell_type": "code",
   "execution_count": 2,
   "metadata": {},
   "outputs": [],
   "source": [
    "config_path = \"config/config_filaments.yaml\""
   ]
  },
  {
   "cell_type": "code",
   "execution_count": 3,
   "metadata": {},
   "outputs": [],
   "source": [
    "config = load_yaml(config_path)"
   ]
  },
  {
   "cell_type": "code",
   "execution_count": 4,
   "metadata": {},
   "outputs": [
    {
     "data": {
      "text/html": [
       "<pre style=\"white-space:pre;overflow-x:auto;line-height:normal;font-family:Menlo,'DejaVu Sans Mono',consolas,'Courier New',monospace\"><span style=\"font-weight: bold\">{</span>\n",
       "    <span style=\"color: #008000; text-decoration-color: #008000\">'data_dir'</span>: <span style=\"font-weight: bold\">[</span><span style=\"color: #008000; text-decoration-color: #008000\">'/Users/shehan/Documents/nih_projects/nih_parsers/data/filaments'</span><span style=\"font-weight: bold\">]</span>,\n",
       "    <span style=\"color: #008000; text-decoration-color: #008000\">'save_dir'</span>: <span style=\"font-weight: bold\">[</span><span style=\"color: #008000; text-decoration-color: #008000\">'results/v1'</span><span style=\"font-weight: bold\">]</span>,\n",
       "    <span style=\"color: #008000; text-decoration-color: #008000\">'valid_filaments'</span>: <span style=\"font-weight: bold\">[</span><span style=\"color: #008080; text-decoration-color: #008080; font-weight: bold\">1</span><span style=\"font-weight: bold\">]</span>,\n",
       "    <span style=\"color: #008000; text-decoration-color: #008000\">'cpu_cores'</span>: <span style=\"color: #008080; text-decoration-color: #008080; font-weight: bold\">3</span>\n",
       "<span style=\"font-weight: bold\">}</span>\n",
       "</pre>\n"
      ],
      "text/plain": [
       "\u001b[1m{\u001b[0m\n",
       "    \u001b[32m'data_dir'\u001b[0m: \u001b[1m[\u001b[0m\u001b[32m'/Users/shehan/Documents/nih_projects/nih_parsers/data/filaments'\u001b[0m\u001b[1m]\u001b[0m,\n",
       "    \u001b[32m'save_dir'\u001b[0m: \u001b[1m[\u001b[0m\u001b[32m'results/v1'\u001b[0m\u001b[1m]\u001b[0m,\n",
       "    \u001b[32m'valid_filaments'\u001b[0m: \u001b[1m[\u001b[0m\u001b[1;36m1\u001b[0m\u001b[1m]\u001b[0m,\n",
       "    \u001b[32m'cpu_cores'\u001b[0m: \u001b[1;36m3\u001b[0m\n",
       "\u001b[1m}\u001b[0m\n"
      ]
     },
     "metadata": {},
     "output_type": "display_data"
    }
   ],
   "source": [
    "rprint(config)"
   ]
  },
  {
   "cell_type": "markdown",
   "metadata": {},
   "source": [
    "Run"
   ]
  },
  {
   "cell_type": "code",
   "execution_count": 5,
   "metadata": {},
   "outputs": [
    {
     "name": "stderr",
     "output_type": "stream",
     "text": [
      "2024-09-09 19:29:35,974\tINFO worker.py:1783 -- Started a local Ray instance.\n"
     ]
    },
    {
     "name": "stdout",
     "output_type": "stream",
     "text": [
      "[info] -- running specified filaments\n",
      "[info] -- filament id: 0 -- filament: True\n",
      "[info] -- filament id: 1 -- filament: True\n",
      "[info] -- creating 1 actors for NeuronDemo_with_objects\n",
      "\n",
      "\n",
      "[info] -- filament id: 0 -- filament: True\n",
      "[info] -- creating 1 actors for PyramidalCell_with_objects-time\n",
      "\n",
      "\n",
      "[info] -- filament id: 0 -- filament: True\n",
      "[info] -- creating 1 actors for PyramidalCell_with_objects\n",
      "\n",
      "\n",
      "[info] -- found 3 actors\n",
      "[info] -- extracting data ... \n",
      "\u001b[36m(FilamentParserDistributed pid=75377)\u001b[0m [info] -- finished: PyramidalCell_with_objects_filament_1.csv\n",
      "\u001b[36m(FilamentParserDistributed pid=75376)\u001b[0m [info] -- finished: PyramidalCell_with_objects-time_filament_1.csv\n",
      "[info] -- complete.\n"
     ]
    },
    {
     "name": "stdout",
     "output_type": "stream",
     "text": [
      "\u001b[36m(FilamentParserDistributed pid=75375)\u001b[0m [info] -- finished: NeuronDemo_with_objects_filament_1.csv\n"
     ]
    }
   ],
   "source": [
    "# initiliaze ray\n",
    "ray.init(num_cpus=config[\"cpu_cores\"], ignore_reinit_error=True)\n",
    "\n",
    "if not isinstance(config[\"valid_filaments\"], list):\n",
    "    print(f\"[info] -- running all available filaments\")\n",
    "\n",
    "    if int(config[\"valid_filaments\"]) == -1:\n",
    "        summary = run_filament_parser_parallel(\n",
    "            data_dirs=config[\"data_dir\"],\n",
    "            save_dirs=config[\"save_dir\"],\n",
    "            cpu_cores=config[\"cpu_cores\"],\n",
    "            filament_ids=None,\n",
    "        )\n",
    "\n",
    "elif isinstance(config[\"valid_filaments\"], list):\n",
    "    print(f\"[info] -- running specified filaments\")\n",
    "\n",
    "    summary = run_filament_parser_parallel(\n",
    "        data_dirs=config[\"data_dir\"],\n",
    "        filament_ids=tuple(config[\"valid_filaments\"]),\n",
    "        save_dirs=config[\"save_dir\"],\n",
    "        cpu_cores=config[\"cpu_cores\"],\n",
    "    )\n",
    "else:\n",
    "    raise NotImplementedError"
   ]
  },
  {
   "cell_type": "code",
   "execution_count": 7,
   "metadata": {},
   "outputs": [
    {
     "data": {
      "text/html": [
       "<pre style=\"white-space:pre;overflow-x:auto;line-height:normal;font-family:Menlo,'DejaVu Sans Mono',consolas,'Courier New',monospace\"><span style=\"font-weight: bold\">{</span>\n",
       "    <span style=\"color: #008000; text-decoration-color: #008000\">'/Users/shehan/Documents/nih_projects/nih_parsers/data/filaments'</span>: <span style=\"font-weight: bold\">{</span>\n",
       "        <span style=\"color: #008000; text-decoration-color: #008000\">'NeuronDemo_with_objects'</span>: <span style=\"font-weight: bold\">{</span><span style=\"color: #008000; text-decoration-color: #008000\">'all_filaments'</span>: <span style=\"font-weight: bold\">[</span><span style=\"color: #008080; text-decoration-color: #008080; font-weight: bold\">0</span>, <span style=\"color: #008080; text-decoration-color: #008080; font-weight: bold\">1</span><span style=\"font-weight: bold\">]</span>, <span style=\"color: #008000; text-decoration-color: #008000\">'extracted_filaments'</span>: <span style=\"font-weight: bold\">[</span><span style=\"color: #008080; text-decoration-color: #008080; font-weight: bold\">0</span><span style=\"font-weight: bold\">]}</span>,\n",
       "        <span style=\"color: #008000; text-decoration-color: #008000\">'PyramidalCell_with_objects-time'</span>: <span style=\"font-weight: bold\">{</span><span style=\"color: #008000; text-decoration-color: #008000\">'all_filaments'</span>: <span style=\"font-weight: bold\">[</span><span style=\"color: #008080; text-decoration-color: #008080; font-weight: bold\">0</span><span style=\"font-weight: bold\">]</span>, <span style=\"color: #008000; text-decoration-color: #008000\">'extracted_filaments'</span>: <span style=\"font-weight: bold\">[</span><span style=\"color: #008080; text-decoration-color: #008080; font-weight: bold\">0</span><span style=\"font-weight: bold\">]}</span>,\n",
       "        <span style=\"color: #008000; text-decoration-color: #008000\">'PyramidalCell_with_objects'</span>: <span style=\"font-weight: bold\">{</span><span style=\"color: #008000; text-decoration-color: #008000\">'all_filaments'</span>: <span style=\"font-weight: bold\">[</span><span style=\"color: #008080; text-decoration-color: #008080; font-weight: bold\">0</span><span style=\"font-weight: bold\">]</span>, <span style=\"color: #008000; text-decoration-color: #008000\">'extracted_filaments'</span>: <span style=\"font-weight: bold\">[</span><span style=\"color: #008080; text-decoration-color: #008080; font-weight: bold\">0</span><span style=\"font-weight: bold\">]}</span>,\n",
       "        <span style=\"color: #008000; text-decoration-color: #008000\">'total filaments'</span>: <span style=\"color: #008080; text-decoration-color: #008080; font-weight: bold\">3</span>\n",
       "    <span style=\"font-weight: bold\">}</span>\n",
       "<span style=\"font-weight: bold\">}</span>\n",
       "</pre>\n"
      ],
      "text/plain": [
       "\u001b[1m{\u001b[0m\n",
       "    \u001b[32m'/Users/shehan/Documents/nih_projects/nih_parsers/data/filaments'\u001b[0m: \u001b[1m{\u001b[0m\n",
       "        \u001b[32m'NeuronDemo_with_objects'\u001b[0m: \u001b[1m{\u001b[0m\u001b[32m'all_filaments'\u001b[0m: \u001b[1m[\u001b[0m\u001b[1;36m0\u001b[0m, \u001b[1;36m1\u001b[0m\u001b[1m]\u001b[0m, \u001b[32m'extracted_filaments'\u001b[0m: \u001b[1m[\u001b[0m\u001b[1;36m0\u001b[0m\u001b[1m]\u001b[0m\u001b[1m}\u001b[0m,\n",
       "        \u001b[32m'PyramidalCell_with_objects-time'\u001b[0m: \u001b[1m{\u001b[0m\u001b[32m'all_filaments'\u001b[0m: \u001b[1m[\u001b[0m\u001b[1;36m0\u001b[0m\u001b[1m]\u001b[0m, \u001b[32m'extracted_filaments'\u001b[0m: \u001b[1m[\u001b[0m\u001b[1;36m0\u001b[0m\u001b[1m]\u001b[0m\u001b[1m}\u001b[0m,\n",
       "        \u001b[32m'PyramidalCell_with_objects'\u001b[0m: \u001b[1m{\u001b[0m\u001b[32m'all_filaments'\u001b[0m: \u001b[1m[\u001b[0m\u001b[1;36m0\u001b[0m\u001b[1m]\u001b[0m, \u001b[32m'extracted_filaments'\u001b[0m: \u001b[1m[\u001b[0m\u001b[1;36m0\u001b[0m\u001b[1m]\u001b[0m\u001b[1m}\u001b[0m,\n",
       "        \u001b[32m'total filaments'\u001b[0m: \u001b[1;36m3\u001b[0m\n",
       "    \u001b[1m}\u001b[0m\n",
       "\u001b[1m}\u001b[0m\n"
      ]
     },
     "metadata": {},
     "output_type": "display_data"
    }
   ],
   "source": [
    "rprint(summary)"
   ]
  },
  {
   "cell_type": "code",
   "execution_count": null,
   "metadata": {},
   "outputs": [],
   "source": [
    "# tested"
   ]
  }
 ],
 "metadata": {
  "kernelspec": {
   "display_name": "corev2",
   "language": "python",
   "name": "python3"
  },
  "language_info": {
   "codemirror_mode": {
    "name": "ipython",
    "version": 3
   },
   "file_extension": ".py",
   "mimetype": "text/x-python",
   "name": "python",
   "nbconvert_exporter": "python",
   "pygments_lexer": "ipython3",
   "version": "3.11.9"
  }
 },
 "nbformat": 4,
 "nbformat_minor": 2
}
