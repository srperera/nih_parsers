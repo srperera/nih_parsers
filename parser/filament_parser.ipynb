{
 "cells": [
  {
   "cell_type": "code",
   "execution_count": 1,
   "metadata": {},
   "outputs": [],
   "source": [
    "import os\n",
    "import ray\n",
    "import numpy as np\n",
    "import pandas as pd\n",
    "from typing import List\n",
    "from utils.data import load_yaml\n",
    "from scripts.process_filaments import run_filament_parser_parallel"
   ]
  },
  {
   "cell_type": "markdown",
   "metadata": {},
   "source": [
    "Load Config"
   ]
  },
  {
   "cell_type": "code",
   "execution_count": 2,
   "metadata": {},
   "outputs": [],
   "source": [
    "config_path = \"config/config_filaments.yaml\""
   ]
  },
  {
   "cell_type": "code",
   "execution_count": 3,
   "metadata": {},
   "outputs": [],
   "source": [
    "config = load_yaml(config_path)"
   ]
  },
  {
   "cell_type": "code",
   "execution_count": 4,
   "metadata": {},
   "outputs": [
    {
     "data": {
      "text/plain": [
       "{'data_dir': ['/Users/shehan/Documents/nih_projects/nih_parsers/data/filaments'],\n",
       " 'save_dir': ['results/v1'],\n",
       " 'valid_filaments': -1,\n",
       " 'cpu_cores': 3}"
      ]
     },
     "execution_count": 4,
     "metadata": {},
     "output_type": "execute_result"
    }
   ],
   "source": [
    "config"
   ]
  },
  {
   "cell_type": "markdown",
   "metadata": {},
   "source": [
    "Run"
   ]
  },
  {
   "cell_type": "code",
   "execution_count": 5,
   "metadata": {},
   "outputs": [
    {
     "name": "stderr",
     "output_type": "stream",
     "text": [
      "2024-09-03 18:03:05,171\tINFO worker.py:1783 -- Started a local Ray instance.\n"
     ]
    },
    {
     "name": "stdout",
     "output_type": "stream",
     "text": [
      "[info] -- running all available filaments\n",
      "[info] -- filament id: 0 -- filament: True\n",
      "[info] -- filament id: 1 -- filament: True\n",
      "[info] -- creating 2 actors for NeuronDemo_with_objects\n",
      "\n",
      "\n",
      "[info] -- filament id: 0 -- filament: True\n",
      "[info] -- creating 1 actors for PyramidalCell_with_objects-time\n",
      "\n",
      "\n",
      "[info] -- filament id: 0 -- filament: True\n",
      "[info] -- creating 1 actors for PyramidalCell_with_objects\n",
      "\n",
      "\n",
      "[info] -- found 4 actors\n",
      "[info] -- extracting data ... \n",
      "\u001b[36m(FilamentParserDistributed pid=39717)\u001b[0m [info] -- finished: PyramidalCell_with_objects_filament_1.csv\n",
      "\u001b[36m(FilamentParserDistributed pid=39716)\u001b[0m [info] -- finished: PyramidalCell_with_objects-time_filament_1.csv\n",
      "\u001b[36m(FilamentParserDistributed pid=39715)\u001b[0m [info] -- finished: NeuronDemo_with_objects_filament_2.csv\n",
      "\u001b[36m(FilamentParserDistributed pid=39714)\u001b[0m [info] -- finished: NeuronDemo_with_objects_filament_1.csv\n",
      "[info] -- complete.\n"
     ]
    }
   ],
   "source": [
    "# initiliaze ray\n",
    "ray.init(num_cpus=config[\"cpu_cores\"], ignore_reinit_error=True)\n",
    "\n",
    "if not isinstance(config[\"valid_filaments\"], list):\n",
    "    print(f\"[info] -- running all available filaments\")\n",
    "\n",
    "    if int(config[\"valid_filaments\"]) == -1:\n",
    "        run_filament_parser_parallel(\n",
    "            data_dirs=config[\"data_dir\"],\n",
    "            save_dirs=config[\"save_dir\"],\n",
    "            cpu_cores=config[\"cpu_cores\"],\n",
    "            filament_ids=None,\n",
    "        )\n",
    "\n",
    "elif isinstance(config[\"valid_filaments\"], list):\n",
    "    print(f\"[info] -- running specified filaments\")\n",
    "\n",
    "    run_filament_parser_parallel(\n",
    "        data_dirs=config[\"data_dir\"],\n",
    "        filament_ids=tuple(config[\"valid_filaments\"]),\n",
    "        save_dirs=config[\"save_dir\"],\n",
    "        cpu_cores=config[\"cpu_cores\"],\n",
    "    )\n",
    "else:\n",
    "    raise NotImplementedError"
   ]
  },
  {
   "cell_type": "code",
   "execution_count": 6,
   "metadata": {},
   "outputs": [],
   "source": [
    "# tested"
   ]
  }
 ],
 "metadata": {
  "kernelspec": {
   "display_name": "corev2",
   "language": "python",
   "name": "python3"
  },
  "language_info": {
   "codemirror_mode": {
    "name": "ipython",
    "version": 3
   },
   "file_extension": ".py",
   "mimetype": "text/x-python",
   "name": "python",
   "nbconvert_exporter": "python",
   "pygments_lexer": "ipython3",
   "version": "3.11.9"
  }
 },
 "nbformat": 4,
 "nbformat_minor": 2
}
