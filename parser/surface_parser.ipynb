{
 "cells": [
  {
   "cell_type": "code",
   "execution_count": 1,
   "metadata": {},
   "outputs": [],
   "source": [
    "import os\n",
    "import ray\n",
    "import numpy as np\n",
    "import pandas as pd\n",
    "from typing import List\n",
    "from utils.data import load_yaml\n",
    "from scripts.process_surface import run_surface_parser_parallel"
   ]
  },
  {
   "cell_type": "markdown",
   "metadata": {},
   "source": [
    "Load Config"
   ]
  },
  {
   "cell_type": "code",
   "execution_count": 2,
   "metadata": {},
   "outputs": [],
   "source": [
    "config_path = \"config/config.yaml\""
   ]
  },
  {
   "cell_type": "code",
   "execution_count": 3,
   "metadata": {},
   "outputs": [],
   "source": [
    "config = load_yaml(config_path)"
   ]
  },
  {
   "cell_type": "code",
   "execution_count": 4,
   "metadata": {},
   "outputs": [
    {
     "data": {
      "text/plain": [
       "{'data_dir': ['/home/shehan/Documents/nih_projects/parsers/data/latest_data/04052023 SHIV aLN iLN 6-color',\n",
       "  '/home/shehan/Documents/nih_projects/parsers/data/latest_data/04102023 VLP ALN ILN 6c',\n",
       "  '/home/shehan/Documents/nih_projects/parsers/data/latest_data/06082023 SIV infected VLP 6-color',\n",
       "  '/home/shehan/Documents/nih_projects/parsers/data/latest_data/06162023 SIV infected VLP 6-color'],\n",
       " 'save_dir': ['results/v1', 'results/v2', 'results/v3', 'results/v4'],\n",
       " 'valid_surfaces': -1,\n",
       " 'cpu_cores': 28}"
      ]
     },
     "execution_count": 4,
     "metadata": {},
     "output_type": "execute_result"
    }
   ],
   "source": [
    "config"
   ]
  },
  {
   "cell_type": "markdown",
   "metadata": {},
   "source": [
    "Run"
   ]
  },
  {
   "cell_type": "code",
   "execution_count": 5,
   "metadata": {},
   "outputs": [
    {
     "name": "stderr",
     "output_type": "stream",
     "text": [
      "2023-11-27 21:06:01,535\tINFO worker.py:1621 -- Started a local Ray instance.\n"
     ]
    },
    {
     "name": "stdout",
     "output_type": "stream",
     "text": [
      "[info] -- running all available surfaces\n",
      "[info] -- surface id: 0 -- surface: True\n",
      "[info] -- surface id: 1 -- surface: True\n",
      "[info] -- surface id: 2 -- surface: False\n",
      "[info] -- surface id: 3 -- surface: True\n",
      "[info] -- creating 3 actors for ILN P3 whole tiled 2\n",
      "\n",
      "\n",
      "[info] -- found 3 actors\n",
      "[info] -- extracting data ... \n",
      "\u001b[2m\u001b[36m(SurfaceParserDistributed pid=444419)\u001b[0m [info] -- finished: ILN P3 whole tiled 2_surface_2.csv\n",
      "[info] -- complete.\n",
      "[info] -- surface id: 0 -- surface: True\n",
      "[info] -- surface id: 1 -- surface: True\n",
      "[info] -- surface id: 2 -- surface: True\n",
      "[info] -- surface id: 3 -- surface: True\n",
      "[info] -- surface id: 4 -- surface: True\n",
      "[info] -- creating 5 actors for ILN Roi2 2x2 1h\n",
      "\n",
      "\n",
      "[info] -- found 5 actors\n",
      "[info] -- extracting data ... \n",
      "\u001b[2m\u001b[36m(SurfaceParserDistributed pid=444535)\u001b[0m [info] -- finished: ILN Roi2 2x2 1h_surface_5.csv\n",
      "\u001b[2m\u001b[36m(SurfaceParserDistributed pid=444420)\u001b[0m [info] -- finished: ILN P3 whole tiled 2_surface_4.csv\u001b[32m [repeated 2x across cluster] (Ray deduplicates logs by default. Set RAY_DEDUP_LOGS=0 to disable log deduplication, or see https://docs.ray.io/en/master/ray-observability/ray-logging.html#log-deduplication for more options.)\u001b[0m\n",
      "\u001b[2m\u001b[36m(SurfaceParserDistributed pid=444532)\u001b[0m [info] -- finished: ILN Roi2 2x2 1h_surface_2.csv\u001b[32m [repeated 2x across cluster]\u001b[0m\n",
      "[info] -- complete.\n",
      "[info] -- surface id: 0 -- surface: True\n",
      "[info] -- surface id: 1 -- surface: True\n",
      "[info] -- surface id: 2 -- surface: True\n",
      "[info] -- surface id: 3 -- surface: True\n",
      "[info] -- creating 4 actors for ILN with VLP Sec2 Tiled 55x5\n",
      "\n",
      "\n",
      "[info] -- found 4 actors\n",
      "[info] -- extracting data ... \n",
      "\u001b[2m\u001b[36m(SurfaceParserDistributed pid=444692)\u001b[0m [info] -- finished: ILN with VLP Sec2 Tiled 55x5_surface_4.csv\n",
      "\u001b[2m\u001b[36m(SurfaceParserDistributed pid=444534)\u001b[0m [info] -- finished: ILN Roi2 2x2 1h_surface_4.csv\u001b[32m [repeated 2x across cluster]\u001b[0m\n",
      "[info] -- complete.\n",
      "[info] -- surface id: 0 -- surface: True\n",
      "[info] -- surface id: 1 -- surface: True\n",
      "[info] -- surface id: 2 -- surface: True\n",
      "[info] -- surface id: 3 -- surface: True\n",
      "[info] -- surface id: 4 -- surface: True\n",
      "[info] -- creating 5 actors for ILN with VLP Tiled 12x18 incomplete\n",
      "\n",
      "\n",
      "[info] -- found 5 actors\n",
      "[info] -- extracting data ... \n",
      "\u001b[2m\u001b[36m(SurfaceParserDistributed pid=444807)\u001b[0m [info] -- finished: ILN with VLP Tiled 12x18 incomplete_surface_3.csv\u001b[32m [repeated 4x across cluster]\u001b[0m\n",
      "\u001b[2m\u001b[36m(SurfaceParserDistributed pid=444806)\u001b[0m [info] -- finished: ILN with VLP Tiled 12x18 incomplete_surface_2.csv\u001b[32m [repeated 2x across cluster]\u001b[0m\n",
      "\u001b[2m\u001b[36m(SurfaceParserDistributed pid=444809)\u001b[0m [info] -- finished: ILN with VLP Tiled 12x18 incomplete_surface_5.csv\n",
      "[info] -- complete.\n"
     ]
    }
   ],
   "source": [
    "# initiliaze ray\n",
    "ray.init(num_cpus=config[\"cpu_cores\"], ignore_reinit_error=True)\n",
    "\n",
    "if not isinstance(config[\"valid_surfaces\"], list):\n",
    "    print(f\"[info] -- running all available surfaces\")\n",
    "\n",
    "    if int(config[\"valid_surfaces\"]) == -1:\n",
    "        run_surface_parser_parallel(\n",
    "            data_dirs=config[\"data_dir\"],\n",
    "            save_dirs=config[\"save_dir\"],\n",
    "            cpu_cores=config[\"cpu_cores\"],\n",
    "            surface_ids=None,\n",
    "        )\n",
    "\n",
    "elif isinstance(config[\"valid_surfaces\"], list):\n",
    "    print(f\"[info] -- running specified surfaces\")\n",
    "\n",
    "    run_surface_parser_parallel(\n",
    "        data_dirs=config[\"data_dir\"],\n",
    "        surface_ids=tuple(config[\"valid_surfaces\"]),\n",
    "        save_dirs=config[\"save_dir\"],\n",
    "        cpu_cores=config[\"cpu_cores\"],\n",
    "    )"
   ]
  },
  {
   "cell_type": "code",
   "execution_count": 6,
   "metadata": {},
   "outputs": [
    {
     "name": "stdout",
     "output_type": "stream",
     "text": [
      "\u001b[2m\u001b[36m(SurfaceParserDistributed pid=444808)\u001b[0m [info] -- finished: ILN with VLP Tiled 12x18 incomplete_surface_4.csv\n"
     ]
    }
   ],
   "source": [
    "# tested"
   ]
  }
 ],
 "metadata": {
  "kernelspec": {
   "display_name": "corev2",
   "language": "python",
   "name": "python3"
  },
  "language_info": {
   "codemirror_mode": {
    "name": "ipython",
    "version": 3
   },
   "file_extension": ".py",
   "mimetype": "text/x-python",
   "name": "python",
   "nbconvert_exporter": "python",
   "pygments_lexer": "ipython3",
   "version": "3.10.10"
  }
 },
 "nbformat": 4,
 "nbformat_minor": 2
}
