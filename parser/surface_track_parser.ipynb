{
 "cells": [
  {
   "cell_type": "code",
   "execution_count": null,
   "metadata": {},
   "outputs": [],
   "source": [
    "import os\n",
    "import ray\n",
    "import numpy as np\n",
    "import pandas as pd\n",
    "\n",
    "from typing import List\n",
    "\n",
    "\n",
    "from utils.data import load_yaml\n",
    "\n",
    "from scripts.process_surface_tracks import run_surface_track_parser_parallel"
   ]
  },
  {
   "cell_type": "markdown",
   "metadata": {},
   "source": [
    "Load Config"
   ]
  },
  {
   "cell_type": "code",
   "execution_count": null,
   "metadata": {},
   "outputs": [],
   "source": [
    "config = load_yaml(\"config/config.yaml\")"
   ]
  },
  {
   "cell_type": "code",
   "execution_count": null,
   "metadata": {},
   "outputs": [],
   "source": [
    "config"
   ]
  },
  {
   "cell_type": "markdown",
   "metadata": {},
   "source": [
    "Run"
   ]
  },
  {
   "cell_type": "code",
   "execution_count": null,
   "metadata": {},
   "outputs": [],
   "source": [
    "# initiliaze ray\n",
    "ray.init(num_cpus=int(config[\"cpu_cores\"]), ignore_reinit_error=True)\n",
    "\n",
    "if not isinstance(config[\"valid_surfaces\"], list):\n",
    "    print(f\"[info] -- running all available surfaces\")\n",
    "\n",
    "\n",
    "    if int(config[\"valid_surfaces\"]) == -1:\n",
    "        run_surface_track_parser_parallel(\n",
    "            data_dirs=config[\"data_dir\"], save_dirs=config[\"save_dir\"], cpu_cores=14\n",
    "        )\n",
    "\n",
    "\n",
    "\n",
    "elif isinstance(config[\"valid_surfaces\"], list):\n",
    "    print(f\"[info] -- running specified surfaces\")\n",
    "\n",
    "\n",
    "    valid_surfaces = [int(x) for x in config[\"valid_surfaces\"]]\n",
    "\n",
    "\n",
    "    run_surface_track_parser_parallel(\n",
    "        data_dirs=config[\"data_dir\"],\n",
    "        surface_ids=valid_surfaces,\n",
    "        save_dirs=config[\"save_dir\"],\n",
    "\n",
    "        cpu_cores=14,\n",
    "    )"
   ]
  },
  {
   "cell_type": "code",
   "execution_count": null,
   "metadata": {},
   "outputs": [],
   "source": [
    "# tested run"
   ]
  }
 ],
 "metadata": {
  "kernelspec": {
   "display_name": "corev2",
   "language": "python",
   "name": "python3"
  },
  "language_info": {
   "codemirror_mode": {
    "name": "ipython",
    "version": 3
   },
   "file_extension": ".py",
   "mimetype": "text/x-python",
   "name": "python",
   "nbconvert_exporter": "python",
   "pygments_lexer": "ipython3",
   "version": "3.11.5"
  }
 },
 "nbformat": 4,
 "nbformat_minor": 2
}
