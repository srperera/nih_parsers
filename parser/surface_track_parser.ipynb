{
 "cells": [
  {
   "cell_type": "code",
   "execution_count": 1,
   "metadata": {},
   "outputs": [],
   "source": [
    "import os\n",
    "import ray\n",
    "import numpy as np\n",
    "import pandas as pd\n",
    "\n",
    "from typing import List\n",
    "\n",
    "\n",
    "from utils.data import load_yaml\n",
    "\n",
    "from scripts.process_surface_tracks import run_surface_track_parser_parallel"
   ]
  },
  {
   "cell_type": "markdown",
   "metadata": {},
   "source": [
    "Load Config"
   ]
  },
  {
   "cell_type": "code",
   "execution_count": 2,
   "metadata": {},
   "outputs": [],
   "source": [
    "config_path = \"config/config.yaml\""
   ]
  },
  {
   "cell_type": "code",
   "execution_count": 3,
   "metadata": {},
   "outputs": [],
   "source": [
    "config = load_yaml(config_path)"
   ]
  },
  {
   "cell_type": "markdown",
   "metadata": {},
   "source": [
    "Run"
   ]
  },
  {
   "cell_type": "code",
   "execution_count": 4,
   "metadata": {},
   "outputs": [
    {
     "name": "stderr",
     "output_type": "stream",
     "text": [
      "2023-11-27 21:09:18,227\tINFO worker.py:1621 -- Started a local Ray instance.\n"
     ]
    },
    {
     "name": "stdout",
     "output_type": "stream",
     "text": [
      "[info] -- running all available surfaces\n",
      "[info] -- surface id: 0 -- surface: True -- tracks: False\n",
      "[info] -- surface id: 1 -- surface: True -- tracks: False\n",
      "[info] -- surface id: 2 -- surface: False -- tracks: False\n",
      "[info] -- surface id: 3 -- surface: True -- tracks: False\n",
      "[info] -- no valid surfaces in ILN P3 whole tiled 2 .. skipping file\n",
      "[info] -- found 0 actors\n",
      "[info] -- extracting data ... \n",
      "[info] -- complete.\n",
      "[info] -- surface id: 0 -- surface: True -- tracks: True\n",
      "[info] -- surface id: 1 -- surface: True -- tracks: True\n",
      "[info] -- surface id: 2 -- surface: True -- tracks: True\n",
      "[info] -- surface id: 3 -- surface: True -- tracks: True\n",
      "[info] -- surface id: 4 -- surface: True -- tracks: True\n",
      "[info] -- creating 5 actors for ILN Roi2 2x2 1h\n",
      "\n",
      "\n",
      "[info] -- found 5 actors\n",
      "[info] -- extracting data ... \n",
      "\u001b[2m\u001b[36m(SurfaceObjectTrackParserDistributed pid=446131)\u001b[0m [info] -- finished: ILN Roi2 2x2 1h_surface_wtrack_5.csv\n",
      "\u001b[2m\u001b[36m(SurfaceObjectTrackParserDistributed pid=446128)\u001b[0m [info] -- finished: ILN Roi2 2x2 1h_surface_wtrack_2.csv\u001b[32m [repeated 2x across cluster] (Ray deduplicates logs by default. Set RAY_DEDUP_LOGS=0 to disable log deduplication, or see https://docs.ray.io/en/master/ray-observability/ray-logging.html#log-deduplication for more options.)\u001b[0m\n",
      "[info] -- complete.\n",
      "[info] -- surface id: 0 -- surface: True -- tracks: False\n",
      "[info] -- surface id: 1 -- surface: True -- tracks: False\n",
      "[info] -- surface id: 2 -- surface: True -- tracks: False\n",
      "[info] -- surface id: 3 -- surface: True -- tracks: False\n",
      "[info] -- no valid surfaces in ILN with VLP Sec2 Tiled 55x5 .. skipping file\n",
      "[info] -- found 0 actors\n",
      "[info] -- extracting data ... \n",
      "[info] -- complete.\n",
      "[info] -- surface id: 0 -- surface: True -- tracks: False\n",
      "[info] -- surface id: 1 -- surface: True -- tracks: False\n",
      "[info] -- surface id: 2 -- surface: True -- tracks: False\n",
      "[info] -- surface id: 3 -- surface: True -- tracks: False\n",
      "[info] -- surface id: 4 -- surface: True -- tracks: False\n",
      "[info] -- no valid surfaces in ILN with VLP Tiled 12x18 incomplete .. skipping file\n",
      "[info] -- found 0 actors\n",
      "[info] -- extracting data ... \n",
      "[info] -- complete.\n"
     ]
    }
   ],
   "source": [
    "# initiliaze ray\n",
    "ray.init(num_cpus=int(config[\"cpu_cores\"]), ignore_reinit_error=True)\n",
    "\n",
    "if not isinstance(config[\"valid_surfaces\"], list):\n",
    "    print(f\"[info] -- running all available surfaces\")\n",
    "\n",
    "    if int(config[\"valid_surfaces\"]) == -1:\n",
    "        run_surface_track_parser_parallel(\n",
    "            data_dirs=config[\"data_dir\"],\n",
    "            save_dirs=config[\"save_dir\"],\n",
    "            cpu_cores=config[\"cpu_cores\"],\n",
    "            surface_ids=None,\n",
    "        )\n",
    "\n",
    "\n",
    "elif isinstance(config[\"valid_surfaces\"], list):\n",
    "    print(f\"[info] -- running specified surfaces\")\n",
    "\n",
    "    valid_surfaces = [int(x) for x in config[\"valid_surfaces\"]]\n",
    "\n",
    "    run_surface_track_parser_parallel(\n",
    "        data_dirs=config[\"data_dir\"],\n",
    "        surface_ids=valid_surfaces,\n",
    "        save_dirs=config[\"save_dir\"],\n",
    "        cpu_cores=config[\"cpu_cores\"],\n",
    "    )"
   ]
  },
  {
   "cell_type": "code",
   "execution_count": 5,
   "metadata": {},
   "outputs": [
    {
     "name": "stdout",
     "output_type": "stream",
     "text": [
      "\u001b[2m\u001b[36m(SurfaceObjectTrackParserDistributed pid=446130)\u001b[0m [info] -- finished: ILN Roi2 2x2 1h_surface_wtrack_4.csv\n"
     ]
    }
   ],
   "source": [
    "# tested run"
   ]
  }
 ],
 "metadata": {
  "kernelspec": {
   "display_name": "corev2",
   "language": "python",
   "name": "python3"
  },
  "language_info": {
   "codemirror_mode": {
    "name": "ipython",
    "version": 3
   },
   "file_extension": ".py",
   "mimetype": "text/x-python",
   "name": "python",
   "nbconvert_exporter": "python",
   "pygments_lexer": "ipython3",
   "version": "3.10.10"
  }
 },
 "nbformat": 4,
 "nbformat_minor": 2
}
