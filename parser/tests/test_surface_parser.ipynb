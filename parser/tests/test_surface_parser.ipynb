{
 "cells": [
  {
   "cell_type": "code",
   "execution_count": 1,
   "metadata": {},
   "outputs": [],
   "source": [
    "import os\n",
    "import ray\n",
    "import numpy as np\n",
    "import pandas as pd\n",
    "from tqdm.notebook import tqdm\n",
    "from imaris.imaris import ImarisDataObject\n",
    "from parsers.surface_parser import SurfaceParserDistributed\n",
    "from typing import List, Dict"
   ]
  },
  {
   "cell_type": "code",
   "execution_count": 2,
   "metadata": {},
   "outputs": [
    {
     "data": {
      "text/plain": [
       "True"
      ]
     },
     "execution_count": 2,
     "metadata": {},
     "output_type": "execute_result"
    }
   ],
   "source": [
    "data_path = '//niaid-fas1/Bioimaging/Users/rogandc/04052023 SHIV aLN iLN 6-color/ALN P3 2x2 Roi1 1h20min.ims'\n",
    "os.path.isfile(data_path)"
   ]
  },
  {
   "cell_type": "code",
   "execution_count": 3,
   "metadata": {},
   "outputs": [
    {
     "data": {
      "text/plain": [
       "'//niaid-fas1/Bioimaging/Users/rogandc/04052023 SHIV aLN iLN 6-color/ALN P3 2x2 Roi1 1h20min.ims'"
      ]
     },
     "execution_count": 3,
     "metadata": {},
     "output_type": "execute_result"
    }
   ],
   "source": [
    "data_path"
   ]
  },
  {
   "cell_type": "code",
   "execution_count": 4,
   "metadata": {},
   "outputs": [],
   "source": [
    "def get_ims_obj(data_path):\n",
    "    ims_obj = ImarisDataObject(data_path)\n",
    "    # assert ims_obj type\n",
    "\n",
    "\n",
    "def get_final_df(data_path, init_surface_id=0):\n",
    "    parser = SurfaceParserDistributed.remote(data_path, surface_id=init_surface_id)\n",
    "    final_df = parser.inspect.remote(surface_id=0)\n",
    "    final_df = ray.get(final_df)[\"stats_df\"]\n",
    "    # assert data type\n",
    "\n",
    "\n",
    "def get_stats_dict_reversed(data_path, init_surface_id=0):\n",
    "    parser = SurfaceParserDistributed.remote(data_path, surface_id=init_surface_id)\n",
    "    stats_dict = parser.get_surface_stats_info.remote(surface_id=0)\n",
    "    stats_dict = ray.get(stats_dict)\n",
    "    stats_dict = {v: k for k, v in stats_dict.items()}\n",
    "    # assert data type\n",
    "\n",
    "\n",
    "def verify_stats(data_path, init_surface_id=0):\n",
    "    parser = SurfaceParserDistributed.remote(data_path, surface_id=init_surface_id)\n",
    "    # get generated df\n",
    "    final_df = parser.inspect.remote(surface_id=0)\n",
    "    final_df = ray.get(final_df)\n",
    "    generated_df = final_df[\"stats_df\"].T\n",
    "    # get stats dict that maps ID to Name\n",
    "    stats_dict = parser.get_surface_stats_info.remote(surface_id=0)\n",
    "    stats_dict = ray.get(stats_dict)\n",
    "    stats_dict = {v: k for k, v in stats_dict.items()}\n",
    "    # get original data\n",
    "    ims_obj = ImarisDataObject(data_path)\n",
    "    raw_stats = ims_obj.get_stats_values(final_df[\"surface_name\"])"
   ]
  },
  {
   "cell_type": "code",
   "execution_count": 5,
   "metadata": {},
   "outputs": [
    {
     "name": "stderr",
     "output_type": "stream",
     "text": [
      "2023-11-28 20:21:20,955\tINFO worker.py:1673 -- Started a local Ray instance.\n"
     ]
    }
   ],
   "source": [
    "parser1 = SurfaceParserDistributed.remote(data_path, surface_id=0)\n",
    "parser2 = SurfaceParserDistributed.remote(data_path, surface_id=0)"
   ]
  },
  {
   "cell_type": "code",
   "execution_count": 6,
   "metadata": {},
   "outputs": [],
   "source": [
    "# get generated df\n",
    "final_df = parser1.inspect.remote(surface_id=0)\n",
    "final_df = ray.get(final_df)\n",
    "generated_df = final_df[\"stats_df\"]\n",
    "\n",
    "# get stats dict that maps ID to Name\n",
    "stats_dict = parser2.get_surface_stats_info.remote(surface_id=0)\n",
    "stats_dict = ray.get(stats_dict)\n",
    "\n",
    "# get original data\n",
    "ims_obj = ImarisDataObject(data_path)\n",
    "raw_stats = ims_obj.get_stats_values(final_df[\"surface_name\"])"
   ]
  },
  {
   "cell_type": "code",
   "execution_count": 7,
   "metadata": {},
   "outputs": [],
   "source": [
    "def validate(\n",
    "    gen_stats: pd.DataFrame,\n",
    "    raw_obj_stats: pd.DataFrame,\n",
    "    stats_dict: Dict,\n",
    ") -> None:\n",
    "    \"\"\"\n",
    "    Given a single row of statistics ie: all the stats for a single\n",
    "    objectid and the raw stats values dictionary for the same object id\n",
    "    this function will compare each statistics value between the generated\n",
    "    version and the raw stats values dictionary obtained directly from the\n",
    "    imaris file to ensure every stat values match for the given object id.\n",
    "\n",
    "    Args:\n",
    "        gen_stats (pd.DataFrame): dataframe for all the stats for a single object id\n",
    "        raw_obj_stats (pd.DataFrame): raw stats values for a single object id\n",
    "        stats_dict (Dict): dictionary that maps Stats ID Number to Stat Name\n",
    "\n",
    "    Raises:\n",
    "        ValueError: _description_\n",
    "    \"\"\"\n",
    "    raw_obj_id = raw_obj_stats[\"ID_Object\"].unique().item()\n",
    "    gen_obj_id = gen_stats[\"Object_ID\"].item()\n",
    "    assert raw_obj_id == gen_obj_id, \"Object IDs Do NOT Match\"\n",
    "\n",
    "    gen_values = {}\n",
    "    # key = stats name, value=generated stats value for stats name\n",
    "    for stats_name in gen_stats.columns.to_list():\n",
    "        gen_values[stats_name] = gen_stats[stats_name].item()\n",
    "    gen_values.pop(\"Object_ID\")\n",
    "\n",
    "    raw_values = {}\n",
    "    for stat_id in raw_obj_stats[\"ID_StatisticsType\"].to_list():\n",
    "        stats_name = stats_dict[stat_id]\n",
    "        stats_value = raw_obj_stats[raw_obj_stats[\"ID_StatisticsType\"] == stat_id]\n",
    "        raw_values[stats_name] = stats_value[\"Value\"].item()\n",
    "\n",
    "    # double check all keys in both dicts are the same\n",
    "    assert list(gen_values.keys()) == list(raw_values.keys())\n",
    "\n",
    "    for key in gen_values.keys():\n",
    "        raw_value = raw_values[key]\n",
    "        gen_value = gen_values[key]\n",
    "        if raw_value != gen_value:\n",
    "            print(key, raw_value, gen_value)\n",
    "            raise ValueError\n",
    "\n",
    "    print(f\"[info] -- confirmed all values for object {raw_obj_id}\")"
   ]
  },
  {
   "cell_type": "code",
   "execution_count": 8,
   "metadata": {},
   "outputs": [],
   "source": [
    "import concurrent.futures\n",
    "\n",
    "\n",
    "def run_stats_validation(\n",
    "    generated_df: pd.DataFrame,\n",
    "    raw_stats: pd.DataFrame,\n",
    "    stats_dict: Dict,\n",
    ") -> None:\n",
    "    \"\"\"_summary_\n",
    "\n",
    "    Args:\n",
    "        generated_df (pd.DataFrame): _description_\n",
    "        raw_stats (pd.DataFrame): _description_\n",
    "        stats_dict (Dict): _description_\n",
    "    \"\"\"\n",
    "    with concurrent.futures.ProcessPoolExecutor() as executor:\n",
    "        executor_objects = [None] * len(generated_df[\"Object_ID\"].to_list())\n",
    "        for idx, object_id in tqdm(enumerate(generated_df[\"Object_ID\"].to_list())):\n",
    "            # get generated stats info for object id\n",
    "            gen_stats = generated_df[generated_df[\"Object_ID\"] == object_id]\n",
    "            # get raw stats values for object id\n",
    "            raw_obj_stats = raw_stats[raw_stats[\"ID_Object\"] == object_id]\n",
    "\n",
    "            executor_objects[idx] = executor.submit(\n",
    "                validate, gen_stats, raw_obj_stats, stats_dict\n",
    "            )\n",
    "    for obj in executor_objects:\n",
    "        obj.result()"
   ]
  },
  {
   "cell_type": "code",
   "execution_count": 9,
   "metadata": {},
   "outputs": [
    {
     "data": {
      "application/vnd.jupyter.widget-view+json": {
       "model_id": "7e0c7e88d6d74253b3e53dee59254168",
       "version_major": 2,
       "version_minor": 0
      },
      "text/plain": [
       "0it [00:00, ?it/s]"
      ]
     },
     "metadata": {},
     "output_type": "display_data"
    }
   ],
   "source": [
    "run_stats_validation(generated_df, raw_stats, stats_dict[0])"
   ]
  },
  {
   "cell_type": "code",
   "execution_count": null,
   "metadata": {},
   "outputs": [],
   "source": []
  },
  {
   "cell_type": "code",
   "execution_count": null,
   "metadata": {},
   "outputs": [],
   "source": []
  },
  {
   "cell_type": "code",
   "execution_count": null,
   "metadata": {},
   "outputs": [],
   "source": []
  }
 ],
 "metadata": {
  "kernelspec": {
   "display_name": "base",
   "language": "python",
   "name": "python3"
  },
  "language_info": {
   "codemirror_mode": {
    "name": "ipython",
    "version": 3
   },
   "file_extension": ".py",
   "mimetype": "text/x-python",
   "name": "python",
   "nbconvert_exporter": "python",
   "pygments_lexer": "ipython3",
   "version": "3.11.5"
  }
 },
 "nbformat": 4,
 "nbformat_minor": 2
}
