{
 "cells": [
  {
   "cell_type": "code",
   "execution_count": 1,
   "metadata": {},
   "outputs": [],
   "source": [
    "import os\n",
    "import ray\n",
    "import numpy as np\n",
    "import pandas as pd\n",
    "from tqdm.notebook import tqdm\n",
    "from parsers.track_parser import TrackParserDistributed\n",
    "from imaris.imaris import ImarisDataObject\n",
    "from typing import List, Dict"
   ]
  },
  {
   "cell_type": "code",
   "execution_count": 2,
   "metadata": {},
   "outputs": [
    {
     "data": {
      "text/plain": [
       "True"
      ]
     },
     "execution_count": 2,
     "metadata": {},
     "output_type": "execute_result"
    }
   ],
   "source": [
    "data_path = \"C:/Users/perer/Downloads/FIX/FIX/F1/GFP #1 Sec2 Roi1 2x2 1h30min.ims\"\n",
    "os.path.isfile(data_path)"
   ]
  },
  {
   "cell_type": "code",
   "execution_count": 3,
   "metadata": {},
   "outputs": [
    {
     "name": "stderr",
     "output_type": "stream",
     "text": [
      "2023-11-22 22:41:21,118\tINFO worker.py:1673 -- Started a local Ray instance.\n"
     ]
    }
   ],
   "source": [
    "parser1 = TrackParserDistributed.remote(data_path, surface_id=0)\n",
    "parser2 = TrackParserDistributed.remote(data_path, surface_id=0)"
   ]
  },
  {
   "cell_type": "code",
   "execution_count": 4,
   "metadata": {},
   "outputs": [],
   "source": [
    "# get generated df\n",
    "final_df = parser1.inspect.remote(surface_id=0)\n",
    "final_df = ray.get(final_df)\n",
    "generated_df = final_df[\"stats_df\"]\n",
    "\n",
    "# get stats dict that maps ID to Name\n",
    "stats_dict = parser2.get_surface_track_stats_info.remote(surface_id=0)\n",
    "stats_dict = ray.get(stats_dict)\n",
    "\n",
    "# get original data\n",
    "ims_obj = ImarisDataObject(data_path)\n",
    "raw_stats = ims_obj.get_stats_values(final_df[\"surface_name\"])"
   ]
  },
  {
   "cell_type": "code",
   "execution_count": null,
   "metadata": {},
   "outputs": [],
   "source": [
    "raw_stats"
   ]
  },
  {
   "cell_type": "code",
   "execution_count": 5,
   "metadata": {},
   "outputs": [],
   "source": [
    "def validate(\n",
    "    gen_stats: pd.DataFrame,\n",
    "    raw_obj_stats: pd.DataFrame,\n",
    "    stats_dict: Dict,\n",
    ") -> None:\n",
    "    \"\"\"\n",
    "    Given a single row of statistics ie: all the stats for a single\n",
    "    objectid and the raw stats values dictionary for the same object id\n",
    "    this function will compare each statistics value between the generated\n",
    "    version and the raw stats values dictionary obtained directly from the\n",
    "    imaris file to ensure every stat values match for the given object id.\n",
    "\n",
    "    Args:\n",
    "        gen_stats (pd.DataFrame): dataframe for all the stats for a single object id\n",
    "        raw_obj_stats (pd.DataFrame): raw stats values for a single object id\n",
    "        stats_dict (Dict): dictionary that maps Stats ID Number to Stat Name\n",
    "\n",
    "    Raises:\n",
    "        ValueError: _description_\n",
    "    \"\"\"\n",
    "    raw_obj_id = raw_obj_stats[\"ID_Object\"].unique().item()\n",
    "    gen_obj_id = gen_stats[\"Object_ID\"].item()\n",
    "    assert raw_obj_id == gen_obj_id, \"Object IDs Do NOT Match\"\n",
    "\n",
    "    gen_values = {}\n",
    "    # key = stats name, value=generated stats value for stats name\n",
    "    for stats_name in gen_stats.columns.to_list():\n",
    "        gen_values[stats_name] = gen_stats[stats_name].item()\n",
    "    gen_values.pop(\"Object_ID\")\n",
    "\n",
    "    raw_values = {}\n",
    "    for stat_id in raw_obj_stats[\"ID_StatisticsType\"].to_list():\n",
    "        stats_name = stats_dict[stat_id]\n",
    "        stats_value = raw_obj_stats[raw_obj_stats[\"ID_StatisticsType\"] == stat_id]\n",
    "        raw_values[stats_name] = stats_value[\"Value\"].item()\n",
    "\n",
    "    # double check all keys in both dicts are the same\n",
    "    print(gen_values.keys())\n",
    "    print(raw_values.keys())\n",
    "    assert list(gen_values.keys()) == list(raw_values.keys())\n",
    "\n",
    "    for key in gen_values.keys():\n",
    "        raw_value = raw_values[key]\n",
    "        gen_value = gen_values[key]\n",
    "        if raw_value != gen_value:\n",
    "            print(key, raw_value, gen_value)\n",
    "            raise ValueError\n",
    "\n",
    "    print(f\"[info] -- confirmed all values for object {raw_obj_id}\")"
   ]
  },
  {
   "cell_type": "code",
   "execution_count": 6,
   "metadata": {},
   "outputs": [],
   "source": [
    "def run_stats_validation(\n",
    "    generated_df: pd.DataFrame,\n",
    "    raw_stats: pd.DataFrame,\n",
    "    stats_dict: Dict,\n",
    ") -> None:\n",
    "    \"\"\"_summary_\n",
    "\n",
    "    Args:\n",
    "        generated_df (pd.DataFrame): _description_\n",
    "        raw_stats (pd.DataFrame): _description_\n",
    "        stats_dict (Dict): _description_\n",
    "    \"\"\"\n",
    "    for object_id in tqdm(generated_df[\"Object_ID\"].to_list()):\n",
    "        # get generated stats info for object id\n",
    "        gen_stats = generated_df[generated_df[\"Object_ID\"] == object_id]\n",
    "        # get raw stats values for object id\n",
    "        raw_obj_stats = raw_stats[raw_stats[\"ID_Object\"] == object_id]\n",
    "\n",
    "        validate(gen_stats, raw_obj_stats, stats_dict)"
   ]
  },
  {
   "cell_type": "code",
   "execution_count": 7,
   "metadata": {},
   "outputs": [
    {
     "data": {
      "application/vnd.jupyter.widget-view+json": {
       "model_id": "56a0f68f61c145829f0c2bb614e55198",
       "version_major": 2,
       "version_minor": 0
      },
      "text/plain": [
       "  0%|          | 0/2783 [00:00<?, ?it/s]"
      ]
     },
     "metadata": {},
     "output_type": "display_data"
    },
    {
     "name": "stdout",
     "output_type": "stream",
     "text": [
      "dict_keys(['Track Ar1 Mean', 'Track Ar1 X', 'Track Ar1 Y', 'Track Ar1 Z', 'Track Area Mean', 'Track Center of Homogeneous Mass X', 'Track Center of Homogeneous Mass Y', 'Track Center of Homogeneous Mass Z', 'Track Center of Image Mass X Channel_1', 'Track Center of Image Mass X Channel_2', 'Track Center of Image Mass X Channel_3', 'Track Center of Image Mass X Channel_4', 'Track Center of Image Mass X Channel_5', 'Track Center of Image Mass Y Channel_1', 'Track Center of Image Mass Y Channel_2', 'Track Center of Image Mass Y Channel_3', 'Track Center of Image Mass Y Channel_4', 'Track Center of Image Mass Y Channel_5', 'Track Center of Image Mass Z Channel_1', 'Track Center of Image Mass Z Channel_2', 'Track Center of Image Mass Z Channel_3', 'Track Center of Image Mass Z Channel_4', 'Track Center of Image Mass Z Channel_5', 'Track Displacement Length', 'Track Displacement X', 'Track Displacement Y', 'Track Displacement Z', 'Track Duration', 'Track Ellipsoid Axis A X Mean', 'Track Ellipsoid Axis A Y Mean', 'Track Ellipsoid Axis A Z Mean', 'Track Ellipsoid Axis B X Mean', 'Track Ellipsoid Axis B Y Mean', 'Track Ellipsoid Axis B Z Mean', 'Track Ellipsoid Axis C X Mean', 'Track Ellipsoid Axis C Y Mean', 'Track Ellipsoid Axis C Z Mean', 'Track Ellipsoid Axis Length A Mean', 'Track Ellipsoid Axis Length B Mean', 'Track Ellipsoid Axis Length C Mean', 'Track Ellipticity Oblate Mean', 'Track Ellipticity Prolate Mean', 'Track Intensity Center Mean Channel_1', 'Track Intensity Center Mean Channel_2', 'Track Intensity Center Mean Channel_3', 'Track Intensity Center Mean Channel_4', 'Track Intensity Center Mean Channel_5', 'Track Intensity Max Channel_1', 'Track Intensity Max Channel_2', 'Track Intensity Max Channel_3', 'Track Intensity Max Channel_4', 'Track Intensity Max Channel_5', 'Track Intensity Mean Channel_1', 'Track Intensity Mean Channel_2', 'Track Intensity Mean Channel_3', 'Track Intensity Mean Channel_4', 'Track Intensity Mean Channel_5', 'Track Intensity Median Channel_1', 'Track Intensity Median Channel_2', 'Track Intensity Median Channel_3', 'Track Intensity Median Channel_4', 'Track Intensity Median Channel_5', 'Track Intensity Min Channel_1', 'Track Intensity Min Channel_2', 'Track Intensity Min Channel_3', 'Track Intensity Min Channel_4', 'Track Intensity Min Channel_5', 'Track Intensity StdDev Channel_1', 'Track Intensity StdDev Channel_2', 'Track Intensity StdDev Channel_3', 'Track Intensity StdDev Channel_4', 'Track Intensity StdDev Channel_5', 'Track Intensity Sum Channel_1', 'Track Intensity Sum Channel_2', 'Track Intensity Sum Channel_3', 'Track Intensity Sum Channel_4', 'Track Intensity Sum Channel_5', 'Track Length', 'Track Number Of Generations', 'Track Number of Branches', 'Track Number of Fusions', 'Track Number of Surfaces', 'Track Number of Triangles', 'Track Number of Voxels', 'Track Position X Mean', 'Track Position X Start', 'Track Position Y Mean', 'Track Position Y Start', 'Track Position Z Mean', 'Track Position Z Start', 'Track Shortest Distance to Surfaces Min_Surfaces Unnamed 2 BCGmR.icsx_[ibrx_2023-06-26T09-47-24.240]', 'Track Shortest Distance to Surfaces Min_Surfaces Unnamed 3 BCGmR.icsx_[ibrx_2023-06-26T09-47-24.240]', 'Track Shortest Distance to Surfaces Min_Surfaces Unnamed 4 BCGmR.icsx_[ibrx_2023-06-26T09-47-24.240]', 'Track Shortest Distance to Surfaces Min_Surfaces Unnamed 1 CG.GC.C-.G-.icsx_[ibrx_2023-09-27T11-04-45.364]', 'Track Shortest Distance to Surfaces Min_Surfaces Unnamed 2 CG.GC.C-.G-.icsx_[ibrx_2023-09-27T11-04-45.364]', 'Track Shortest Distance to Surfaces Min_Surfaces Unnamed 3 CG.GC.C-.G-.icsx_[ibrx_2023-09-27T11-04-45.364]', 'Track Shortest Distance to Surfaces Min_Surfaces Unnamed 4 CG.GC.C-.G-.icsx_[ibrx_2023-09-27T11-04-45.364]', 'Track Speed Max', 'Track Speed Mean', 'Track Speed Min', 'Track Speed StdDev', 'Track Speed Variation', 'Track Sphericity Mean', 'Track Straightness', 'Track Volume Mean'])\n",
      "dict_keys(['Track Ar1 Mean', 'Track Ar1 X', 'Track Ar1 Y', 'Track Ar1 Z', 'Track Area Mean', 'Track Center of Homogeneous Mass X', 'Track Center of Homogeneous Mass Y', 'Track Center of Homogeneous Mass Z', 'Track Center of Image Mass X Channel_1', 'Track Center of Image Mass X Channel_2', 'Track Center of Image Mass X Channel_3', 'Track Center of Image Mass X Channel_4', 'Track Center of Image Mass X Channel_5', 'Track Center of Image Mass Y Channel_1', 'Track Center of Image Mass Y Channel_2', 'Track Center of Image Mass Y Channel_3', 'Track Center of Image Mass Y Channel_4', 'Track Center of Image Mass Y Channel_5', 'Track Center of Image Mass Z Channel_1', 'Track Center of Image Mass Z Channel_2', 'Track Center of Image Mass Z Channel_3', 'Track Center of Image Mass Z Channel_4', 'Track Center of Image Mass Z Channel_5', 'Track Displacement Length', 'Track Displacement X', 'Track Displacement Y', 'Track Displacement Z', 'Track Duration', 'Track Ellipsoid Axis A X Mean', 'Track Ellipsoid Axis A Y Mean', 'Track Ellipsoid Axis A Z Mean', 'Track Ellipsoid Axis B X Mean', 'Track Ellipsoid Axis B Y Mean', 'Track Ellipsoid Axis B Z Mean', 'Track Ellipsoid Axis C X Mean', 'Track Ellipsoid Axis C Y Mean', 'Track Ellipsoid Axis C Z Mean', 'Track Ellipsoid Axis Length A Mean', 'Track Ellipsoid Axis Length B Mean', 'Track Ellipsoid Axis Length C Mean', 'Track Ellipticity Oblate Mean', 'Track Ellipticity Prolate Mean', 'Track Intensity Center Mean Channel_1', 'Track Intensity Center Mean Channel_2', 'Track Intensity Center Mean Channel_3', 'Track Intensity Center Mean Channel_4', 'Track Intensity Center Mean Channel_5', 'Track Intensity Max Channel_1', 'Track Intensity Max Channel_2', 'Track Intensity Max Channel_3', 'Track Intensity Max Channel_4', 'Track Intensity Max Channel_5', 'Track Intensity Mean Channel_1', 'Track Intensity Mean Channel_2', 'Track Intensity Mean Channel_3', 'Track Intensity Mean Channel_4', 'Track Intensity Mean Channel_5', 'Track Intensity Median Channel_1', 'Track Intensity Median Channel_2', 'Track Intensity Median Channel_3', 'Track Intensity Median Channel_4', 'Track Intensity Median Channel_5', 'Track Intensity Min Channel_1', 'Track Intensity Min Channel_2', 'Track Intensity Min Channel_3', 'Track Intensity Min Channel_4', 'Track Intensity Min Channel_5', 'Track Intensity StdDev Channel_1', 'Track Intensity StdDev Channel_2', 'Track Intensity StdDev Channel_3', 'Track Intensity StdDev Channel_4', 'Track Intensity StdDev Channel_5', 'Track Intensity Sum Channel_1', 'Track Intensity Sum Channel_2', 'Track Intensity Sum Channel_3', 'Track Intensity Sum Channel_4', 'Track Intensity Sum Channel_5', 'Track Length', 'Track Number Of Generations', 'Track Number of Branches', 'Track Number of Fusions', 'Track Number of Surfaces', 'Track Number of Triangles', 'Track Number of Voxels', 'Track Position X Mean', 'Track Position X Start', 'Track Position Y Mean', 'Track Position Y Start', 'Track Position Z Mean', 'Track Position Z Start', 'Track Shortest Distance to Surfaces Min_Surfaces Unnamed 2 BCGmR.icsx_[ibrx_2023-06-26T09-47-24.240]', 'Track Shortest Distance to Surfaces Min_Surfaces Unnamed 3 BCGmR.icsx_[ibrx_2023-06-26T09-47-24.240]', 'Track Shortest Distance to Surfaces Min_Surfaces Unnamed 4 BCGmR.icsx_[ibrx_2023-06-26T09-47-24.240]', 'Track Shortest Distance to Surfaces Min_Surfaces Unnamed 1 CG.GC.C-.G-.icsx_[ibrx_2023-09-27T11-04-45.364]', 'Track Shortest Distance to Surfaces Min_Surfaces Unnamed 2 CG.GC.C-.G-.icsx_[ibrx_2023-09-27T11-04-45.364]', 'Track Shortest Distance to Surfaces Min_Surfaces Unnamed 3 CG.GC.C-.G-.icsx_[ibrx_2023-09-27T11-04-45.364]', 'Track Shortest Distance to Surfaces Min_Surfaces Unnamed 4 CG.GC.C-.G-.icsx_[ibrx_2023-09-27T11-04-45.364]', 'Track Speed Max', 'Track Speed Mean', 'Track Speed Min', 'Track Speed StdDev', 'Track Speed Variation', 'Track Sphericity Mean', 'Track Straightness', 'Track Volume Mean'])\n",
      "[info] -- confirmed all values for object 1000000000\n",
      "dict_keys(['Track Ar1 Mean', 'Track Ar1 X', 'Track Ar1 Y', 'Track Ar1 Z', 'Track Area Mean', 'Track Center of Homogeneous Mass X', 'Track Center of Homogeneous Mass Y', 'Track Center of Homogeneous Mass Z', 'Track Center of Image Mass X Channel_1', 'Track Center of Image Mass X Channel_2', 'Track Center of Image Mass X Channel_3', 'Track Center of Image Mass X Channel_4', 'Track Center of Image Mass X Channel_5', 'Track Center of Image Mass Y Channel_1', 'Track Center of Image Mass Y Channel_2', 'Track Center of Image Mass Y Channel_3', 'Track Center of Image Mass Y Channel_4', 'Track Center of Image Mass Y Channel_5', 'Track Center of Image Mass Z Channel_1', 'Track Center of Image Mass Z Channel_2', 'Track Center of Image Mass Z Channel_3', 'Track Center of Image Mass Z Channel_4', 'Track Center of Image Mass Z Channel_5', 'Track Displacement Length', 'Track Displacement X', 'Track Displacement Y', 'Track Displacement Z', 'Track Duration', 'Track Ellipsoid Axis A X Mean', 'Track Ellipsoid Axis A Y Mean', 'Track Ellipsoid Axis A Z Mean', 'Track Ellipsoid Axis B X Mean', 'Track Ellipsoid Axis B Y Mean', 'Track Ellipsoid Axis B Z Mean', 'Track Ellipsoid Axis C X Mean', 'Track Ellipsoid Axis C Y Mean', 'Track Ellipsoid Axis C Z Mean', 'Track Ellipsoid Axis Length A Mean', 'Track Ellipsoid Axis Length B Mean', 'Track Ellipsoid Axis Length C Mean', 'Track Ellipticity Oblate Mean', 'Track Ellipticity Prolate Mean', 'Track Intensity Center Mean Channel_1', 'Track Intensity Center Mean Channel_2', 'Track Intensity Center Mean Channel_3', 'Track Intensity Center Mean Channel_4', 'Track Intensity Center Mean Channel_5', 'Track Intensity Max Channel_1', 'Track Intensity Max Channel_2', 'Track Intensity Max Channel_3', 'Track Intensity Max Channel_4', 'Track Intensity Max Channel_5', 'Track Intensity Mean Channel_1', 'Track Intensity Mean Channel_2', 'Track Intensity Mean Channel_3', 'Track Intensity Mean Channel_4', 'Track Intensity Mean Channel_5', 'Track Intensity Median Channel_1', 'Track Intensity Median Channel_2', 'Track Intensity Median Channel_3', 'Track Intensity Median Channel_4', 'Track Intensity Median Channel_5', 'Track Intensity Min Channel_1', 'Track Intensity Min Channel_2', 'Track Intensity Min Channel_3', 'Track Intensity Min Channel_4', 'Track Intensity Min Channel_5', 'Track Intensity StdDev Channel_1', 'Track Intensity StdDev Channel_2', 'Track Intensity StdDev Channel_3', 'Track Intensity StdDev Channel_4', 'Track Intensity StdDev Channel_5', 'Track Intensity Sum Channel_1', 'Track Intensity Sum Channel_2', 'Track Intensity Sum Channel_3', 'Track Intensity Sum Channel_4', 'Track Intensity Sum Channel_5', 'Track Length', 'Track Number Of Generations', 'Track Number of Branches', 'Track Number of Fusions', 'Track Number of Surfaces', 'Track Number of Triangles', 'Track Number of Voxels', 'Track Position X Mean', 'Track Position X Start', 'Track Position Y Mean', 'Track Position Y Start', 'Track Position Z Mean', 'Track Position Z Start', 'Track Shortest Distance to Surfaces Min_Surfaces Unnamed 2 BCGmR.icsx_[ibrx_2023-06-26T09-47-24.240]', 'Track Shortest Distance to Surfaces Min_Surfaces Unnamed 3 BCGmR.icsx_[ibrx_2023-06-26T09-47-24.240]', 'Track Shortest Distance to Surfaces Min_Surfaces Unnamed 4 BCGmR.icsx_[ibrx_2023-06-26T09-47-24.240]', 'Track Shortest Distance to Surfaces Min_Surfaces Unnamed 1 CG.GC.C-.G-.icsx_[ibrx_2023-09-27T11-04-45.364]', 'Track Shortest Distance to Surfaces Min_Surfaces Unnamed 2 CG.GC.C-.G-.icsx_[ibrx_2023-09-27T11-04-45.364]', 'Track Shortest Distance to Surfaces Min_Surfaces Unnamed 3 CG.GC.C-.G-.icsx_[ibrx_2023-09-27T11-04-45.364]', 'Track Shortest Distance to Surfaces Min_Surfaces Unnamed 4 CG.GC.C-.G-.icsx_[ibrx_2023-09-27T11-04-45.364]', 'Track Speed Max', 'Track Speed Mean', 'Track Speed Min', 'Track Speed StdDev', 'Track Speed Variation', 'Track Sphericity Mean', 'Track Straightness', 'Track Volume Mean'])\n",
      "dict_keys(['Track Ar1 Mean', 'Track Ar1 X', 'Track Ar1 Y', 'Track Ar1 Z', 'Track Area Mean', 'Track Center of Homogeneous Mass X', 'Track Center of Homogeneous Mass Y', 'Track Center of Homogeneous Mass Z', 'Track Center of Image Mass X Channel_1', 'Track Center of Image Mass X Channel_2', 'Track Center of Image Mass X Channel_3', 'Track Center of Image Mass X Channel_4', 'Track Center of Image Mass X Channel_5', 'Track Center of Image Mass Y Channel_1', 'Track Center of Image Mass Y Channel_2', 'Track Center of Image Mass Y Channel_3', 'Track Center of Image Mass Y Channel_4', 'Track Center of Image Mass Y Channel_5', 'Track Center of Image Mass Z Channel_1', 'Track Center of Image Mass Z Channel_2', 'Track Center of Image Mass Z Channel_3', 'Track Center of Image Mass Z Channel_4', 'Track Center of Image Mass Z Channel_5', 'Track Displacement Length', 'Track Displacement X', 'Track Displacement Y', 'Track Displacement Z', 'Track Duration', 'Track Ellipsoid Axis A X Mean', 'Track Ellipsoid Axis A Y Mean', 'Track Ellipsoid Axis A Z Mean', 'Track Ellipsoid Axis B X Mean', 'Track Ellipsoid Axis B Y Mean', 'Track Ellipsoid Axis B Z Mean', 'Track Ellipsoid Axis C X Mean', 'Track Ellipsoid Axis C Y Mean', 'Track Ellipsoid Axis C Z Mean', 'Track Ellipsoid Axis Length A Mean', 'Track Ellipsoid Axis Length B Mean', 'Track Ellipsoid Axis Length C Mean', 'Track Ellipticity Oblate Mean', 'Track Ellipticity Prolate Mean', 'Track Intensity Center Mean Channel_1', 'Track Intensity Center Mean Channel_2', 'Track Intensity Center Mean Channel_3', 'Track Intensity Center Mean Channel_4', 'Track Intensity Center Mean Channel_5', 'Track Intensity Max Channel_1', 'Track Intensity Max Channel_2', 'Track Intensity Max Channel_3', 'Track Intensity Max Channel_4', 'Track Intensity Max Channel_5', 'Track Intensity Mean Channel_1', 'Track Intensity Mean Channel_2', 'Track Intensity Mean Channel_3', 'Track Intensity Mean Channel_4', 'Track Intensity Mean Channel_5', 'Track Intensity Median Channel_1', 'Track Intensity Median Channel_2', 'Track Intensity Median Channel_3', 'Track Intensity Median Channel_4', 'Track Intensity Median Channel_5', 'Track Intensity Min Channel_1', 'Track Intensity Min Channel_2', 'Track Intensity Min Channel_3', 'Track Intensity Min Channel_4', 'Track Intensity Min Channel_5', 'Track Intensity StdDev Channel_1', 'Track Intensity StdDev Channel_2', 'Track Intensity StdDev Channel_3', 'Track Intensity StdDev Channel_4', 'Track Intensity StdDev Channel_5', 'Track Intensity Sum Channel_1', 'Track Intensity Sum Channel_2', 'Track Intensity Sum Channel_3', 'Track Intensity Sum Channel_4', 'Track Intensity Sum Channel_5', 'Track Length', 'Track Number Of Generations', 'Track Number of Branches', 'Track Number of Fusions', 'Track Number of Surfaces', 'Track Number of Triangles', 'Track Number of Voxels', 'Track Position X Mean', 'Track Position X Start', 'Track Position Y Mean', 'Track Position Y Start', 'Track Position Z Mean', 'Track Position Z Start', 'Track Shortest Distance to Surfaces Min_Surfaces Unnamed 2 BCGmR.icsx_[ibrx_2023-06-26T09-47-24.240]', 'Track Shortest Distance to Surfaces Min_Surfaces Unnamed 3 BCGmR.icsx_[ibrx_2023-06-26T09-47-24.240]', 'Track Shortest Distance to Surfaces Min_Surfaces Unnamed 4 BCGmR.icsx_[ibrx_2023-06-26T09-47-24.240]', 'Track Shortest Distance to Surfaces Min_Surfaces Unnamed 1 CG.GC.C-.G-.icsx_[ibrx_2023-09-27T11-04-45.364]', 'Track Shortest Distance to Surfaces Min_Surfaces Unnamed 2 CG.GC.C-.G-.icsx_[ibrx_2023-09-27T11-04-45.364]', 'Track Shortest Distance to Surfaces Min_Surfaces Unnamed 3 CG.GC.C-.G-.icsx_[ibrx_2023-09-27T11-04-45.364]', 'Track Shortest Distance to Surfaces Min_Surfaces Unnamed 4 CG.GC.C-.G-.icsx_[ibrx_2023-09-27T11-04-45.364]', 'Track Speed Max', 'Track Speed Mean', 'Track Speed Min', 'Track Speed StdDev', 'Track Speed Variation', 'Track Sphericity Mean', 'Track Straightness', 'Track Volume Mean'])\n",
      "[info] -- confirmed all values for object 1000000001\n",
      "dict_keys(['Track Ar1 Mean', 'Track Ar1 X', 'Track Ar1 Y', 'Track Ar1 Z', 'Track Area Mean', 'Track Center of Homogeneous Mass X', 'Track Center of Homogeneous Mass Y', 'Track Center of Homogeneous Mass Z', 'Track Center of Image Mass X Channel_1', 'Track Center of Image Mass X Channel_2', 'Track Center of Image Mass X Channel_3', 'Track Center of Image Mass X Channel_4', 'Track Center of Image Mass X Channel_5', 'Track Center of Image Mass Y Channel_1', 'Track Center of Image Mass Y Channel_2', 'Track Center of Image Mass Y Channel_3', 'Track Center of Image Mass Y Channel_4', 'Track Center of Image Mass Y Channel_5', 'Track Center of Image Mass Z Channel_1', 'Track Center of Image Mass Z Channel_2', 'Track Center of Image Mass Z Channel_3', 'Track Center of Image Mass Z Channel_4', 'Track Center of Image Mass Z Channel_5', 'Track Displacement Length', 'Track Displacement X', 'Track Displacement Y', 'Track Displacement Z', 'Track Duration', 'Track Ellipsoid Axis A X Mean', 'Track Ellipsoid Axis A Y Mean', 'Track Ellipsoid Axis A Z Mean', 'Track Ellipsoid Axis B X Mean', 'Track Ellipsoid Axis B Y Mean', 'Track Ellipsoid Axis B Z Mean', 'Track Ellipsoid Axis C X Mean', 'Track Ellipsoid Axis C Y Mean', 'Track Ellipsoid Axis C Z Mean', 'Track Ellipsoid Axis Length A Mean', 'Track Ellipsoid Axis Length B Mean', 'Track Ellipsoid Axis Length C Mean', 'Track Ellipticity Oblate Mean', 'Track Ellipticity Prolate Mean', 'Track Intensity Center Mean Channel_1', 'Track Intensity Center Mean Channel_2', 'Track Intensity Center Mean Channel_3', 'Track Intensity Center Mean Channel_4', 'Track Intensity Center Mean Channel_5', 'Track Intensity Max Channel_1', 'Track Intensity Max Channel_2', 'Track Intensity Max Channel_3', 'Track Intensity Max Channel_4', 'Track Intensity Max Channel_5', 'Track Intensity Mean Channel_1', 'Track Intensity Mean Channel_2', 'Track Intensity Mean Channel_3', 'Track Intensity Mean Channel_4', 'Track Intensity Mean Channel_5', 'Track Intensity Median Channel_1', 'Track Intensity Median Channel_2', 'Track Intensity Median Channel_3', 'Track Intensity Median Channel_4', 'Track Intensity Median Channel_5', 'Track Intensity Min Channel_1', 'Track Intensity Min Channel_2', 'Track Intensity Min Channel_3', 'Track Intensity Min Channel_4', 'Track Intensity Min Channel_5', 'Track Intensity StdDev Channel_1', 'Track Intensity StdDev Channel_2', 'Track Intensity StdDev Channel_3', 'Track Intensity StdDev Channel_4', 'Track Intensity StdDev Channel_5', 'Track Intensity Sum Channel_1', 'Track Intensity Sum Channel_2', 'Track Intensity Sum Channel_3', 'Track Intensity Sum Channel_4', 'Track Intensity Sum Channel_5', 'Track Length', 'Track Number Of Generations', 'Track Number of Branches', 'Track Number of Fusions', 'Track Number of Surfaces', 'Track Number of Triangles', 'Track Number of Voxels', 'Track Position X Mean', 'Track Position X Start', 'Track Position Y Mean', 'Track Position Y Start', 'Track Position Z Mean', 'Track Position Z Start', 'Track Shortest Distance to Surfaces Min_Surfaces Unnamed 2 BCGmR.icsx_[ibrx_2023-06-26T09-47-24.240]', 'Track Shortest Distance to Surfaces Min_Surfaces Unnamed 3 BCGmR.icsx_[ibrx_2023-06-26T09-47-24.240]', 'Track Shortest Distance to Surfaces Min_Surfaces Unnamed 4 BCGmR.icsx_[ibrx_2023-06-26T09-47-24.240]', 'Track Shortest Distance to Surfaces Min_Surfaces Unnamed 1 CG.GC.C-.G-.icsx_[ibrx_2023-09-27T11-04-45.364]', 'Track Shortest Distance to Surfaces Min_Surfaces Unnamed 2 CG.GC.C-.G-.icsx_[ibrx_2023-09-27T11-04-45.364]', 'Track Shortest Distance to Surfaces Min_Surfaces Unnamed 3 CG.GC.C-.G-.icsx_[ibrx_2023-09-27T11-04-45.364]', 'Track Shortest Distance to Surfaces Min_Surfaces Unnamed 4 CG.GC.C-.G-.icsx_[ibrx_2023-09-27T11-04-45.364]', 'Track Speed Max', 'Track Speed Mean', 'Track Speed Min', 'Track Speed StdDev', 'Track Speed Variation', 'Track Sphericity Mean', 'Track Straightness', 'Track Volume Mean'])\n",
      "dict_keys(['Track Ar1 Mean', 'Track Ar1 X', 'Track Ar1 Y', 'Track Ar1 Z', 'Track Area Mean', 'Track Center of Homogeneous Mass X', 'Track Center of Homogeneous Mass Y', 'Track Center of Homogeneous Mass Z', 'Track Center of Image Mass X Channel_1', 'Track Center of Image Mass X Channel_2', 'Track Center of Image Mass X Channel_3', 'Track Center of Image Mass X Channel_4', 'Track Center of Image Mass X Channel_5', 'Track Center of Image Mass Y Channel_1', 'Track Center of Image Mass Y Channel_2', 'Track Center of Image Mass Y Channel_3', 'Track Center of Image Mass Y Channel_4', 'Track Center of Image Mass Y Channel_5', 'Track Center of Image Mass Z Channel_1', 'Track Center of Image Mass Z Channel_2', 'Track Center of Image Mass Z Channel_3', 'Track Center of Image Mass Z Channel_4', 'Track Center of Image Mass Z Channel_5', 'Track Displacement Length', 'Track Displacement X', 'Track Displacement Y', 'Track Displacement Z', 'Track Duration', 'Track Ellipsoid Axis A X Mean', 'Track Ellipsoid Axis A Y Mean', 'Track Ellipsoid Axis A Z Mean', 'Track Ellipsoid Axis B X Mean', 'Track Ellipsoid Axis B Y Mean', 'Track Ellipsoid Axis B Z Mean', 'Track Ellipsoid Axis C X Mean', 'Track Ellipsoid Axis C Y Mean', 'Track Ellipsoid Axis C Z Mean', 'Track Ellipsoid Axis Length A Mean', 'Track Ellipsoid Axis Length B Mean', 'Track Ellipsoid Axis Length C Mean', 'Track Ellipticity Oblate Mean', 'Track Ellipticity Prolate Mean', 'Track Intensity Center Mean Channel_1', 'Track Intensity Center Mean Channel_2', 'Track Intensity Center Mean Channel_3', 'Track Intensity Center Mean Channel_4', 'Track Intensity Center Mean Channel_5', 'Track Intensity Max Channel_1', 'Track Intensity Max Channel_2', 'Track Intensity Max Channel_3', 'Track Intensity Max Channel_4', 'Track Intensity Max Channel_5', 'Track Intensity Mean Channel_1', 'Track Intensity Mean Channel_2', 'Track Intensity Mean Channel_3', 'Track Intensity Mean Channel_4', 'Track Intensity Mean Channel_5', 'Track Intensity Median Channel_1', 'Track Intensity Median Channel_2', 'Track Intensity Median Channel_3', 'Track Intensity Median Channel_4', 'Track Intensity Median Channel_5', 'Track Intensity Min Channel_1', 'Track Intensity Min Channel_2', 'Track Intensity Min Channel_3', 'Track Intensity Min Channel_4', 'Track Intensity Min Channel_5', 'Track Intensity StdDev Channel_1', 'Track Intensity StdDev Channel_2', 'Track Intensity StdDev Channel_3', 'Track Intensity StdDev Channel_4', 'Track Intensity StdDev Channel_5', 'Track Intensity Sum Channel_1', 'Track Intensity Sum Channel_2', 'Track Intensity Sum Channel_3', 'Track Intensity Sum Channel_4', 'Track Intensity Sum Channel_5', 'Track Length', 'Track Number Of Generations', 'Track Number of Branches', 'Track Number of Fusions', 'Track Number of Surfaces', 'Track Number of Triangles', 'Track Number of Voxels', 'Track Position X Mean', 'Track Position X Start', 'Track Position Y Mean', 'Track Position Y Start', 'Track Position Z Mean', 'Track Position Z Start', 'Track Shortest Distance to Surfaces Min_Surfaces Unnamed 2 BCGmR.icsx_[ibrx_2023-06-26T09-47-24.240]', 'Track Shortest Distance to Surfaces Min_Surfaces Unnamed 3 BCGmR.icsx_[ibrx_2023-06-26T09-47-24.240]', 'Track Shortest Distance to Surfaces Min_Surfaces Unnamed 4 BCGmR.icsx_[ibrx_2023-06-26T09-47-24.240]', 'Track Shortest Distance to Surfaces Min_Surfaces Unnamed 1 CG.GC.C-.G-.icsx_[ibrx_2023-09-27T11-04-45.364]', 'Track Shortest Distance to Surfaces Min_Surfaces Unnamed 2 CG.GC.C-.G-.icsx_[ibrx_2023-09-27T11-04-45.364]', 'Track Shortest Distance to Surfaces Min_Surfaces Unnamed 3 CG.GC.C-.G-.icsx_[ibrx_2023-09-27T11-04-45.364]', 'Track Shortest Distance to Surfaces Min_Surfaces Unnamed 4 CG.GC.C-.G-.icsx_[ibrx_2023-09-27T11-04-45.364]', 'Track Speed Max', 'Track Speed Mean', 'Track Speed Min', 'Track Speed StdDev', 'Track Speed Variation', 'Track Sphericity Mean', 'Track Straightness', 'Track Volume Mean'])\n",
      "[info] -- confirmed all values for object 1000000003\n",
      "dict_keys(['Track Ar1 Mean', 'Track Ar1 X', 'Track Ar1 Y', 'Track Ar1 Z', 'Track Area Mean', 'Track Center of Homogeneous Mass X', 'Track Center of Homogeneous Mass Y', 'Track Center of Homogeneous Mass Z', 'Track Center of Image Mass X Channel_1', 'Track Center of Image Mass X Channel_2', 'Track Center of Image Mass X Channel_3', 'Track Center of Image Mass X Channel_4', 'Track Center of Image Mass X Channel_5', 'Track Center of Image Mass Y Channel_1', 'Track Center of Image Mass Y Channel_2', 'Track Center of Image Mass Y Channel_3', 'Track Center of Image Mass Y Channel_4', 'Track Center of Image Mass Y Channel_5', 'Track Center of Image Mass Z Channel_1', 'Track Center of Image Mass Z Channel_2', 'Track Center of Image Mass Z Channel_3', 'Track Center of Image Mass Z Channel_4', 'Track Center of Image Mass Z Channel_5', 'Track Displacement Length', 'Track Displacement X', 'Track Displacement Y', 'Track Displacement Z', 'Track Duration', 'Track Ellipsoid Axis A X Mean', 'Track Ellipsoid Axis A Y Mean', 'Track Ellipsoid Axis A Z Mean', 'Track Ellipsoid Axis B X Mean', 'Track Ellipsoid Axis B Y Mean', 'Track Ellipsoid Axis B Z Mean', 'Track Ellipsoid Axis C X Mean', 'Track Ellipsoid Axis C Y Mean', 'Track Ellipsoid Axis C Z Mean', 'Track Ellipsoid Axis Length A Mean', 'Track Ellipsoid Axis Length B Mean', 'Track Ellipsoid Axis Length C Mean', 'Track Ellipticity Oblate Mean', 'Track Ellipticity Prolate Mean', 'Track Intensity Center Mean Channel_1', 'Track Intensity Center Mean Channel_2', 'Track Intensity Center Mean Channel_3', 'Track Intensity Center Mean Channel_4', 'Track Intensity Center Mean Channel_5', 'Track Intensity Max Channel_1', 'Track Intensity Max Channel_2', 'Track Intensity Max Channel_3', 'Track Intensity Max Channel_4', 'Track Intensity Max Channel_5', 'Track Intensity Mean Channel_1', 'Track Intensity Mean Channel_2', 'Track Intensity Mean Channel_3', 'Track Intensity Mean Channel_4', 'Track Intensity Mean Channel_5', 'Track Intensity Median Channel_1', 'Track Intensity Median Channel_2', 'Track Intensity Median Channel_3', 'Track Intensity Median Channel_4', 'Track Intensity Median Channel_5', 'Track Intensity Min Channel_1', 'Track Intensity Min Channel_2', 'Track Intensity Min Channel_3', 'Track Intensity Min Channel_4', 'Track Intensity Min Channel_5', 'Track Intensity StdDev Channel_1', 'Track Intensity StdDev Channel_2', 'Track Intensity StdDev Channel_3', 'Track Intensity StdDev Channel_4', 'Track Intensity StdDev Channel_5', 'Track Intensity Sum Channel_1', 'Track Intensity Sum Channel_2', 'Track Intensity Sum Channel_3', 'Track Intensity Sum Channel_4', 'Track Intensity Sum Channel_5', 'Track Length', 'Track Number Of Generations', 'Track Number of Branches', 'Track Number of Fusions', 'Track Number of Surfaces', 'Track Number of Triangles', 'Track Number of Voxels', 'Track Position X Mean', 'Track Position X Start', 'Track Position Y Mean', 'Track Position Y Start', 'Track Position Z Mean', 'Track Position Z Start', 'Track Shortest Distance to Surfaces Min_Surfaces Unnamed 2 BCGmR.icsx_[ibrx_2023-06-26T09-47-24.240]', 'Track Shortest Distance to Surfaces Min_Surfaces Unnamed 3 BCGmR.icsx_[ibrx_2023-06-26T09-47-24.240]', 'Track Shortest Distance to Surfaces Min_Surfaces Unnamed 4 BCGmR.icsx_[ibrx_2023-06-26T09-47-24.240]', 'Track Shortest Distance to Surfaces Min_Surfaces Unnamed 1 CG.GC.C-.G-.icsx_[ibrx_2023-09-27T11-04-45.364]', 'Track Shortest Distance to Surfaces Min_Surfaces Unnamed 2 CG.GC.C-.G-.icsx_[ibrx_2023-09-27T11-04-45.364]', 'Track Shortest Distance to Surfaces Min_Surfaces Unnamed 3 CG.GC.C-.G-.icsx_[ibrx_2023-09-27T11-04-45.364]', 'Track Shortest Distance to Surfaces Min_Surfaces Unnamed 4 CG.GC.C-.G-.icsx_[ibrx_2023-09-27T11-04-45.364]', 'Track Speed Max', 'Track Speed Mean', 'Track Speed Min', 'Track Speed StdDev', 'Track Speed Variation', 'Track Sphericity Mean', 'Track Straightness', 'Track Volume Mean'])\n",
      "dict_keys(['Track Ar1 Mean', 'Track Ar1 X', 'Track Ar1 Y', 'Track Ar1 Z', 'Track Area Mean', 'Track Center of Homogeneous Mass X', 'Track Center of Homogeneous Mass Y', 'Track Center of Homogeneous Mass Z', 'Track Center of Image Mass X Channel_1', 'Track Center of Image Mass X Channel_2', 'Track Center of Image Mass X Channel_3', 'Track Center of Image Mass X Channel_4', 'Track Center of Image Mass X Channel_5', 'Track Center of Image Mass Y Channel_1', 'Track Center of Image Mass Y Channel_2', 'Track Center of Image Mass Y Channel_3', 'Track Center of Image Mass Y Channel_4', 'Track Center of Image Mass Y Channel_5', 'Track Center of Image Mass Z Channel_1', 'Track Center of Image Mass Z Channel_2', 'Track Center of Image Mass Z Channel_3', 'Track Center of Image Mass Z Channel_4', 'Track Center of Image Mass Z Channel_5', 'Track Displacement Length', 'Track Displacement X', 'Track Displacement Y', 'Track Displacement Z', 'Track Duration', 'Track Ellipsoid Axis A X Mean', 'Track Ellipsoid Axis A Y Mean', 'Track Ellipsoid Axis A Z Mean', 'Track Ellipsoid Axis B X Mean', 'Track Ellipsoid Axis B Y Mean', 'Track Ellipsoid Axis B Z Mean', 'Track Ellipsoid Axis C X Mean', 'Track Ellipsoid Axis C Y Mean', 'Track Ellipsoid Axis C Z Mean', 'Track Ellipsoid Axis Length A Mean', 'Track Ellipsoid Axis Length B Mean', 'Track Ellipsoid Axis Length C Mean', 'Track Ellipticity Oblate Mean', 'Track Ellipticity Prolate Mean', 'Track Intensity Center Mean Channel_1', 'Track Intensity Center Mean Channel_2', 'Track Intensity Center Mean Channel_3', 'Track Intensity Center Mean Channel_4', 'Track Intensity Center Mean Channel_5', 'Track Intensity Max Channel_1', 'Track Intensity Max Channel_2', 'Track Intensity Max Channel_3', 'Track Intensity Max Channel_4', 'Track Intensity Max Channel_5', 'Track Intensity Mean Channel_1', 'Track Intensity Mean Channel_2', 'Track Intensity Mean Channel_3', 'Track Intensity Mean Channel_4', 'Track Intensity Mean Channel_5', 'Track Intensity Median Channel_1', 'Track Intensity Median Channel_2', 'Track Intensity Median Channel_3', 'Track Intensity Median Channel_4', 'Track Intensity Median Channel_5', 'Track Intensity Min Channel_1', 'Track Intensity Min Channel_2', 'Track Intensity Min Channel_3', 'Track Intensity Min Channel_4', 'Track Intensity Min Channel_5', 'Track Intensity StdDev Channel_1', 'Track Intensity StdDev Channel_2', 'Track Intensity StdDev Channel_3', 'Track Intensity StdDev Channel_4', 'Track Intensity StdDev Channel_5', 'Track Intensity Sum Channel_1', 'Track Intensity Sum Channel_2', 'Track Intensity Sum Channel_3', 'Track Intensity Sum Channel_4', 'Track Intensity Sum Channel_5', 'Track Length', 'Track Number Of Generations', 'Track Number of Branches', 'Track Number of Fusions', 'Track Number of Surfaces', 'Track Number of Triangles', 'Track Number of Voxels', 'Track Position X Mean', 'Track Position X Start', 'Track Position Y Mean', 'Track Position Y Start', 'Track Position Z Mean', 'Track Position Z Start', 'Track Shortest Distance to Surfaces Min_Surfaces Unnamed 2 BCGmR.icsx_[ibrx_2023-06-26T09-47-24.240]', 'Track Shortest Distance to Surfaces Min_Surfaces Unnamed 3 BCGmR.icsx_[ibrx_2023-06-26T09-47-24.240]', 'Track Shortest Distance to Surfaces Min_Surfaces Unnamed 4 BCGmR.icsx_[ibrx_2023-06-26T09-47-24.240]', 'Track Shortest Distance to Surfaces Min_Surfaces Unnamed 1 CG.GC.C-.G-.icsx_[ibrx_2023-09-27T11-04-45.364]', 'Track Shortest Distance to Surfaces Min_Surfaces Unnamed 2 CG.GC.C-.G-.icsx_[ibrx_2023-09-27T11-04-45.364]', 'Track Shortest Distance to Surfaces Min_Surfaces Unnamed 3 CG.GC.C-.G-.icsx_[ibrx_2023-09-27T11-04-45.364]', 'Track Shortest Distance to Surfaces Min_Surfaces Unnamed 4 CG.GC.C-.G-.icsx_[ibrx_2023-09-27T11-04-45.364]', 'Track Speed Max', 'Track Speed Mean', 'Track Speed Min', 'Track Speed StdDev', 'Track Speed Variation', 'Track Sphericity Mean', 'Track Straightness', 'Track Volume Mean'])\n",
      "[info] -- confirmed all values for object 1000000005\n",
      "dict_keys(['Track Ar1 Mean', 'Track Ar1 X', 'Track Ar1 Y', 'Track Ar1 Z', 'Track Area Mean', 'Track Center of Homogeneous Mass X', 'Track Center of Homogeneous Mass Y', 'Track Center of Homogeneous Mass Z', 'Track Center of Image Mass X Channel_1', 'Track Center of Image Mass X Channel_2', 'Track Center of Image Mass X Channel_3', 'Track Center of Image Mass X Channel_4', 'Track Center of Image Mass X Channel_5', 'Track Center of Image Mass Y Channel_1', 'Track Center of Image Mass Y Channel_2', 'Track Center of Image Mass Y Channel_3', 'Track Center of Image Mass Y Channel_4', 'Track Center of Image Mass Y Channel_5', 'Track Center of Image Mass Z Channel_1', 'Track Center of Image Mass Z Channel_2', 'Track Center of Image Mass Z Channel_3', 'Track Center of Image Mass Z Channel_4', 'Track Center of Image Mass Z Channel_5', 'Track Displacement Length', 'Track Displacement X', 'Track Displacement Y', 'Track Displacement Z', 'Track Duration', 'Track Ellipsoid Axis A X Mean', 'Track Ellipsoid Axis A Y Mean', 'Track Ellipsoid Axis A Z Mean', 'Track Ellipsoid Axis B X Mean', 'Track Ellipsoid Axis B Y Mean', 'Track Ellipsoid Axis B Z Mean', 'Track Ellipsoid Axis C X Mean', 'Track Ellipsoid Axis C Y Mean', 'Track Ellipsoid Axis C Z Mean', 'Track Ellipsoid Axis Length A Mean', 'Track Ellipsoid Axis Length B Mean', 'Track Ellipsoid Axis Length C Mean', 'Track Ellipticity Oblate Mean', 'Track Ellipticity Prolate Mean', 'Track Intensity Center Mean Channel_1', 'Track Intensity Center Mean Channel_2', 'Track Intensity Center Mean Channel_3', 'Track Intensity Center Mean Channel_4', 'Track Intensity Center Mean Channel_5', 'Track Intensity Max Channel_1', 'Track Intensity Max Channel_2', 'Track Intensity Max Channel_3', 'Track Intensity Max Channel_4', 'Track Intensity Max Channel_5', 'Track Intensity Mean Channel_1', 'Track Intensity Mean Channel_2', 'Track Intensity Mean Channel_3', 'Track Intensity Mean Channel_4', 'Track Intensity Mean Channel_5', 'Track Intensity Median Channel_1', 'Track Intensity Median Channel_2', 'Track Intensity Median Channel_3', 'Track Intensity Median Channel_4', 'Track Intensity Median Channel_5', 'Track Intensity Min Channel_1', 'Track Intensity Min Channel_2', 'Track Intensity Min Channel_3', 'Track Intensity Min Channel_4', 'Track Intensity Min Channel_5', 'Track Intensity StdDev Channel_1', 'Track Intensity StdDev Channel_2', 'Track Intensity StdDev Channel_3', 'Track Intensity StdDev Channel_4', 'Track Intensity StdDev Channel_5', 'Track Intensity Sum Channel_1', 'Track Intensity Sum Channel_2', 'Track Intensity Sum Channel_3', 'Track Intensity Sum Channel_4', 'Track Intensity Sum Channel_5', 'Track Length', 'Track Number Of Generations', 'Track Number of Branches', 'Track Number of Fusions', 'Track Number of Surfaces', 'Track Number of Triangles', 'Track Number of Voxels', 'Track Position X Mean', 'Track Position X Start', 'Track Position Y Mean', 'Track Position Y Start', 'Track Position Z Mean', 'Track Position Z Start', 'Track Shortest Distance to Surfaces Min_Surfaces Unnamed 2 BCGmR.icsx_[ibrx_2023-06-26T09-47-24.240]', 'Track Shortest Distance to Surfaces Min_Surfaces Unnamed 3 BCGmR.icsx_[ibrx_2023-06-26T09-47-24.240]', 'Track Shortest Distance to Surfaces Min_Surfaces Unnamed 4 BCGmR.icsx_[ibrx_2023-06-26T09-47-24.240]', 'Track Shortest Distance to Surfaces Min_Surfaces Unnamed 1 CG.GC.C-.G-.icsx_[ibrx_2023-09-27T11-04-45.364]', 'Track Shortest Distance to Surfaces Min_Surfaces Unnamed 2 CG.GC.C-.G-.icsx_[ibrx_2023-09-27T11-04-45.364]', 'Track Shortest Distance to Surfaces Min_Surfaces Unnamed 3 CG.GC.C-.G-.icsx_[ibrx_2023-09-27T11-04-45.364]', 'Track Shortest Distance to Surfaces Min_Surfaces Unnamed 4 CG.GC.C-.G-.icsx_[ibrx_2023-09-27T11-04-45.364]', 'Track Speed Max', 'Track Speed Mean', 'Track Speed Min', 'Track Speed StdDev', 'Track Speed Variation', 'Track Sphericity Mean', 'Track Straightness', 'Track Volume Mean'])\n",
      "dict_keys(['Track Area Mean', 'Track Center of Homogeneous Mass X', 'Track Center of Homogeneous Mass Y', 'Track Center of Homogeneous Mass Z', 'Track Center of Image Mass X Channel_1', 'Track Center of Image Mass X Channel_2', 'Track Center of Image Mass X Channel_3', 'Track Center of Image Mass X Channel_4', 'Track Center of Image Mass X Channel_5', 'Track Center of Image Mass Y Channel_1', 'Track Center of Image Mass Y Channel_2', 'Track Center of Image Mass Y Channel_3', 'Track Center of Image Mass Y Channel_4', 'Track Center of Image Mass Y Channel_5', 'Track Center of Image Mass Z Channel_1', 'Track Center of Image Mass Z Channel_2', 'Track Center of Image Mass Z Channel_3', 'Track Center of Image Mass Z Channel_4', 'Track Center of Image Mass Z Channel_5', 'Track Displacement Length', 'Track Displacement X', 'Track Displacement Y', 'Track Displacement Z', 'Track Duration', 'Track Ellipsoid Axis A X Mean', 'Track Ellipsoid Axis A Y Mean', 'Track Ellipsoid Axis A Z Mean', 'Track Ellipsoid Axis B X Mean', 'Track Ellipsoid Axis B Y Mean', 'Track Ellipsoid Axis B Z Mean', 'Track Ellipsoid Axis C X Mean', 'Track Ellipsoid Axis C Y Mean', 'Track Ellipsoid Axis C Z Mean', 'Track Ellipsoid Axis Length A Mean', 'Track Ellipsoid Axis Length B Mean', 'Track Ellipsoid Axis Length C Mean', 'Track Ellipticity Oblate Mean', 'Track Ellipticity Prolate Mean', 'Track Intensity Center Mean Channel_1', 'Track Intensity Center Mean Channel_2', 'Track Intensity Center Mean Channel_3', 'Track Intensity Center Mean Channel_4', 'Track Intensity Center Mean Channel_5', 'Track Intensity Max Channel_1', 'Track Intensity Max Channel_2', 'Track Intensity Max Channel_3', 'Track Intensity Max Channel_4', 'Track Intensity Max Channel_5', 'Track Intensity Mean Channel_1', 'Track Intensity Mean Channel_2', 'Track Intensity Mean Channel_3', 'Track Intensity Mean Channel_4', 'Track Intensity Mean Channel_5', 'Track Intensity Median Channel_1', 'Track Intensity Median Channel_2', 'Track Intensity Median Channel_3', 'Track Intensity Median Channel_4', 'Track Intensity Median Channel_5', 'Track Intensity Min Channel_1', 'Track Intensity Min Channel_2', 'Track Intensity Min Channel_3', 'Track Intensity Min Channel_4', 'Track Intensity Min Channel_5', 'Track Intensity StdDev Channel_1', 'Track Intensity StdDev Channel_2', 'Track Intensity StdDev Channel_3', 'Track Intensity StdDev Channel_4', 'Track Intensity StdDev Channel_5', 'Track Intensity Sum Channel_1', 'Track Intensity Sum Channel_2', 'Track Intensity Sum Channel_3', 'Track Intensity Sum Channel_4', 'Track Intensity Sum Channel_5', 'Track Length', 'Track Number Of Generations', 'Track Number of Branches', 'Track Number of Fusions', 'Track Number of Surfaces', 'Track Number of Triangles', 'Track Number of Voxels', 'Track Position X Mean', 'Track Position X Start', 'Track Position Y Mean', 'Track Position Y Start', 'Track Position Z Mean', 'Track Position Z Start', 'Track Shortest Distance to Surfaces Min_Surfaces Unnamed 2 BCGmR.icsx_[ibrx_2023-06-26T09-47-24.240]', 'Track Shortest Distance to Surfaces Min_Surfaces Unnamed 3 BCGmR.icsx_[ibrx_2023-06-26T09-47-24.240]', 'Track Shortest Distance to Surfaces Min_Surfaces Unnamed 4 BCGmR.icsx_[ibrx_2023-06-26T09-47-24.240]', 'Track Shortest Distance to Surfaces Min_Surfaces Unnamed 1 CG.GC.C-.G-.icsx_[ibrx_2023-09-27T11-04-45.364]', 'Track Shortest Distance to Surfaces Min_Surfaces Unnamed 2 CG.GC.C-.G-.icsx_[ibrx_2023-09-27T11-04-45.364]', 'Track Shortest Distance to Surfaces Min_Surfaces Unnamed 3 CG.GC.C-.G-.icsx_[ibrx_2023-09-27T11-04-45.364]', 'Track Shortest Distance to Surfaces Min_Surfaces Unnamed 4 CG.GC.C-.G-.icsx_[ibrx_2023-09-27T11-04-45.364]', 'Track Speed Max', 'Track Speed Mean', 'Track Speed Min', 'Track Speed StdDev', 'Track Speed Variation', 'Track Sphericity Mean', 'Track Straightness', 'Track Volume Mean'])\n"
     ]
    },
    {
     "ename": "AssertionError",
     "evalue": "",
     "output_type": "error",
     "traceback": [
      "\u001b[1;31m---------------------------------------------------------------------------\u001b[0m",
      "\u001b[1;31mAssertionError\u001b[0m                            Traceback (most recent call last)",
      "\u001b[1;32mc:\\Users\\perer\\OneDrive\\Desktop\\latest_parser\\test_track_parser.ipynb Cell 8\u001b[0m line \u001b[0;36m1\n\u001b[1;32m----> <a href='vscode-notebook-cell:/c%3A/Users/perer/OneDrive/Desktop/latest_parser/test_track_parser.ipynb#X11sZmlsZQ%3D%3D?line=0'>1</a>\u001b[0m run_stats_validation(generated_df, raw_stats, stats_dict[\u001b[39m0\u001b[39m])\n",
      "\u001b[1;32mc:\\Users\\perer\\OneDrive\\Desktop\\latest_parser\\test_track_parser.ipynb Cell 8\u001b[0m line \u001b[0;36m1\n\u001b[0;32m     <a href='vscode-notebook-cell:/c%3A/Users/perer/OneDrive/Desktop/latest_parser/test_track_parser.ipynb#X11sZmlsZQ%3D%3D?line=15'>16</a>\u001b[0m \u001b[39m# get raw stats values for object id\u001b[39;00m\n\u001b[0;32m     <a href='vscode-notebook-cell:/c%3A/Users/perer/OneDrive/Desktop/latest_parser/test_track_parser.ipynb#X11sZmlsZQ%3D%3D?line=16'>17</a>\u001b[0m raw_obj_stats \u001b[39m=\u001b[39m raw_stats[raw_stats[\u001b[39m\"\u001b[39m\u001b[39mID_Object\u001b[39m\u001b[39m\"\u001b[39m] \u001b[39m==\u001b[39m object_id]\n\u001b[1;32m---> <a href='vscode-notebook-cell:/c%3A/Users/perer/OneDrive/Desktop/latest_parser/test_track_parser.ipynb#X11sZmlsZQ%3D%3D?line=18'>19</a>\u001b[0m validate(gen_stats, raw_obj_stats, stats_dict)\n",
      "\u001b[1;32mc:\\Users\\perer\\OneDrive\\Desktop\\latest_parser\\test_track_parser.ipynb Cell 8\u001b[0m line \u001b[0;36m4\n\u001b[0;32m     <a href='vscode-notebook-cell:/c%3A/Users/perer/OneDrive/Desktop/latest_parser/test_track_parser.ipynb#X11sZmlsZQ%3D%3D?line=37'>38</a>\u001b[0m \u001b[39mprint\u001b[39m(gen_values\u001b[39m.\u001b[39mkeys())\n\u001b[0;32m     <a href='vscode-notebook-cell:/c%3A/Users/perer/OneDrive/Desktop/latest_parser/test_track_parser.ipynb#X11sZmlsZQ%3D%3D?line=38'>39</a>\u001b[0m \u001b[39mprint\u001b[39m(raw_values\u001b[39m.\u001b[39mkeys())\n\u001b[1;32m---> <a href='vscode-notebook-cell:/c%3A/Users/perer/OneDrive/Desktop/latest_parser/test_track_parser.ipynb#X11sZmlsZQ%3D%3D?line=39'>40</a>\u001b[0m \u001b[39massert\u001b[39;00m \u001b[39mlist\u001b[39m(gen_values\u001b[39m.\u001b[39mkeys()) \u001b[39m==\u001b[39m \u001b[39mlist\u001b[39m(raw_values\u001b[39m.\u001b[39mkeys())\n\u001b[0;32m     <a href='vscode-notebook-cell:/c%3A/Users/perer/OneDrive/Desktop/latest_parser/test_track_parser.ipynb#X11sZmlsZQ%3D%3D?line=41'>42</a>\u001b[0m \u001b[39mfor\u001b[39;00m key \u001b[39min\u001b[39;00m gen_values\u001b[39m.\u001b[39mkeys():\n\u001b[0;32m     <a href='vscode-notebook-cell:/c%3A/Users/perer/OneDrive/Desktop/latest_parser/test_track_parser.ipynb#X11sZmlsZQ%3D%3D?line=42'>43</a>\u001b[0m     raw_value \u001b[39m=\u001b[39m raw_values[key]\n",
      "\u001b[1;31mAssertionError\u001b[0m: "
     ]
    }
   ],
   "source": [
    "run_stats_validation(generated_df, raw_stats, stats_dict[0])"
   ]
  },
  {
   "cell_type": "code",
   "execution_count": 9,
   "metadata": {},
   "outputs": [
    {
     "data": {
      "text/html": [
       "<div>\n",
       "<style scoped>\n",
       "    .dataframe tbody tr th:only-of-type {\n",
       "        vertical-align: middle;\n",
       "    }\n",
       "\n",
       "    .dataframe tbody tr th {\n",
       "        vertical-align: top;\n",
       "    }\n",
       "\n",
       "    .dataframe thead th {\n",
       "        text-align: right;\n",
       "    }\n",
       "</style>\n",
       "<table border=\"1\" class=\"dataframe\">\n",
       "  <thead>\n",
       "    <tr style=\"text-align: right;\">\n",
       "      <th></th>\n",
       "      <th>Track Ar1 Mean</th>\n",
       "      <th>Track Ar1 X</th>\n",
       "      <th>Track Ar1 Y</th>\n",
       "      <th>Track Ar1 Z</th>\n",
       "      <th>Track Area Mean</th>\n",
       "      <th>Track Center of Homogeneous Mass X</th>\n",
       "      <th>Track Center of Homogeneous Mass Y</th>\n",
       "      <th>Track Center of Homogeneous Mass Z</th>\n",
       "      <th>Track Center of Image Mass X Channel_1</th>\n",
       "      <th>Track Center of Image Mass X Channel_2</th>\n",
       "      <th>...</th>\n",
       "      <th>Track Shortest Distance to Surfaces Min_Surfaces Unnamed 4 CG.GC.C-.G-.icsx_[ibrx_2023-09-27T11-04-45.364]</th>\n",
       "      <th>Track Speed Max</th>\n",
       "      <th>Track Speed Mean</th>\n",
       "      <th>Track Speed Min</th>\n",
       "      <th>Track Speed StdDev</th>\n",
       "      <th>Track Speed Variation</th>\n",
       "      <th>Track Sphericity Mean</th>\n",
       "      <th>Track Straightness</th>\n",
       "      <th>Track Volume Mean</th>\n",
       "      <th>Object_ID</th>\n",
       "    </tr>\n",
       "  </thead>\n",
       "  <tbody>\n",
       "    <tr>\n",
       "      <th>1000221198</th>\n",
       "      <td>-0.56268</td>\n",
       "      <td>-0.532461</td>\n",
       "      <td>-0.496516</td>\n",
       "      <td>-0.659063</td>\n",
       "      <td>233.107971</td>\n",
       "      <td>56470.480469</td>\n",
       "      <td>37532.207031</td>\n",
       "      <td>11.191582</td>\n",
       "      <td>56470.46875</td>\n",
       "      <td>56470.546875</td>\n",
       "      <td>...</td>\n",
       "      <td>21.172438</td>\n",
       "      <td>0.017622</td>\n",
       "      <td>0.01373</td>\n",
       "      <td>0.009269</td>\n",
       "      <td>0.002958</td>\n",
       "      <td>0.215454</td>\n",
       "      <td>0.74188</td>\n",
       "      <td>0.490289</td>\n",
       "      <td>214.955383</td>\n",
       "      <td>1000221198</td>\n",
       "    </tr>\n",
       "  </tbody>\n",
       "</table>\n",
       "<p>1 rows × 106 columns</p>\n",
       "</div>"
      ],
      "text/plain": [
       "            Track Ar1 Mean  Track Ar1 X  Track Ar1 Y  Track Ar1 Z  \\\n",
       "1000221198        -0.56268    -0.532461    -0.496516    -0.659063   \n",
       "\n",
       "            Track Area Mean  Track Center of Homogeneous Mass X  \\\n",
       "1000221198       233.107971                        56470.480469   \n",
       "\n",
       "            Track Center of Homogeneous Mass Y  \\\n",
       "1000221198                        37532.207031   \n",
       "\n",
       "            Track Center of Homogeneous Mass Z  \\\n",
       "1000221198                           11.191582   \n",
       "\n",
       "            Track Center of Image Mass X Channel_1  \\\n",
       "1000221198                             56470.46875   \n",
       "\n",
       "            Track Center of Image Mass X Channel_2  ...  \\\n",
       "1000221198                            56470.546875  ...   \n",
       "\n",
       "            Track Shortest Distance to Surfaces Min_Surfaces Unnamed 4 CG.GC.C-.G-.icsx_[ibrx_2023-09-27T11-04-45.364]  \\\n",
       "1000221198                                          21.172438                                                            \n",
       "\n",
       "            Track Speed Max  Track Speed Mean  Track Speed Min  \\\n",
       "1000221198         0.017622           0.01373         0.009269   \n",
       "\n",
       "            Track Speed StdDev  Track Speed Variation  Track Sphericity Mean  \\\n",
       "1000221198            0.002958               0.215454                0.74188   \n",
       "\n",
       "            Track Straightness  Track Volume Mean   Object_ID  \n",
       "1000221198            0.490289         214.955383  1000221198  \n",
       "\n",
       "[1 rows x 106 columns]"
      ]
     },
     "execution_count": 9,
     "metadata": {},
     "output_type": "execute_result"
    }
   ],
   "source": [
    "generated_df[generated_df[\"Object_ID\"] == 1000221198]"
   ]
  },
  {
   "cell_type": "code",
   "execution_count": null,
   "metadata": {},
   "outputs": [],
   "source": []
  },
  {
   "cell_type": "code",
   "execution_count": null,
   "metadata": {},
   "outputs": [],
   "source": []
  }
 ],
 "metadata": {
  "kernelspec": {
   "display_name": "base",
   "language": "python",
   "name": "python3"
  },
  "language_info": {
   "codemirror_mode": {
    "name": "ipython",
    "version": 3
   },
   "file_extension": ".py",
   "mimetype": "text/x-python",
   "name": "python",
   "nbconvert_exporter": "python",
   "pygments_lexer": "ipython3",
   "version": "3.11.5"
  }
 },
 "nbformat": 4,
 "nbformat_minor": 2
}
