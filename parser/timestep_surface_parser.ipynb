{
 "cells": [
  {
   "cell_type": "code",
   "execution_count": 1,
   "metadata": {},
   "outputs": [],
   "source": [
    "import os\n",
    "import ray\n",
    "import numpy as np\n",
    "import pandas as pd\n",
    "from typing import List\n",
    "from utils.data import load_yaml\n",
    "from scripts.process_time_step_surface import run_surface_timestep_parser_parallel"
   ]
  },
  {
   "cell_type": "markdown",
   "metadata": {},
   "source": [
    "Load Config"
   ]
  },
  {
   "cell_type": "code",
   "execution_count": null,
   "metadata": {},
   "outputs": [],
   "source": [
    "config_path = \"config/config.yaml\""
   ]
  },
  {
   "cell_type": "code",
   "execution_count": null,
   "metadata": {},
   "outputs": [],
   "source": [
    "config = load_yaml(config_path)"
   ]
  },
  {
   "cell_type": "markdown",
   "metadata": {},
   "source": [
    "Run"
   ]
  },
  {
   "cell_type": "code",
   "execution_count": null,
   "metadata": {},
   "outputs": [],
   "source": [
    "# initiliaze ray\n",
    "ray.init(num_cpus=int(config[\"cpu_cores\"]), ignore_reinit_error=True)\n",
    "\n",
    "if not isinstance(config[\"valid_surfaces\"], list):\n",
    "    if int(config[\"valid_surfaces\"]) == -1:\n",
    "        run_surface_timestep_parser_parallel(\n",
    "            data_dirs=config[\"data_dir\"],\n",
    "            save_dirs=config[\"save_dir\"],\n",
    "            cpu_cores=config[\"cpu_cores\"],\n",
    "            time_step=0,\n",
    "        )\n",
    "\n",
    "\n",
    "elif isinstance(config[\"valid_surfaces\"], list):\n",
    "    valid_surfaces = [int(x) for x in config[\"valid_surfaces\"]]\n",
    "\n",
    "    run_surface_timestep_parser_parallel(\n",
    "        data_dirs=config[\"data_dir\"],\n",
    "        surface_ids=valid_surfaces,\n",
    "        save_dirs=config[\"save_dir\"],\n",
    "        cpu_cores=config[\"cpu_cores\"],\n",
    "        time_step=0,\n",
    "    )\n",
    "\n",
    "else:\n",
    "    raise NotImplementedError"
   ]
  },
  {
   "cell_type": "code",
   "execution_count": null,
   "metadata": {},
   "outputs": [],
   "source": [
    "# run tested"
   ]
  }
 ],
 "metadata": {
  "kernelspec": {
   "display_name": "corev2",
   "language": "python",
   "name": "python3"
  },
  "language_info": {
   "codemirror_mode": {
    "name": "ipython",
    "version": 3
   },
   "file_extension": ".py",
   "mimetype": "text/x-python",
   "name": "python",
   "nbconvert_exporter": "python",
   "pygments_lexer": "ipython3",
   "version": "3.10.10"
  }
 },
 "nbformat": 4,
 "nbformat_minor": 2
}
