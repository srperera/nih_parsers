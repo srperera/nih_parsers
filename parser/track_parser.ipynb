{
 "cells": [
  {
   "cell_type": "code",
   "execution_count": 5,
   "metadata": {},
   "outputs": [],
   "source": [
    "import os\n",
    "import ray\n",
    "\n",
    "\n",
    "import numpy as np\n",
    "\n",
    "\n",
    "import pandas as pd\n",
    "\n",
    "\n",
    "\n",
    "from typing import List\n",
    "\n",
    "\n",
    "\n",
    "from utils.data import load_yaml\n",
    "\n",
    "\n",
    "from scripts.process_tracks import run_track_parser_parallel"
   ]
  },
  {
   "cell_type": "markdown",
   "metadata": {},
   "source": [
    "Load Config"
   ]
  },
  {
   "cell_type": "code",
   "execution_count": 6,
   "metadata": {},
   "outputs": [],
   "source": [
    "config = load_yaml(\"config/config.yaml\")"
   ]
  },
  {
   "cell_type": "code",
   "execution_count": 7,
   "metadata": {},
   "outputs": [
    {
     "data": {
      "text/plain": [
       "{'data_dir': ['C:/Users/perer/Downloads/FIX/FIX/04052023 SHIV aLN iLN 6-color/04052023 SHIV aLN iLN 6-color'],\n",
       " 'save_dir': ['results/f1'],\n",
       " 'valid_surfaces': '-1',\n",
       " 'cpu_cores': '8'}"
      ]
     },
     "execution_count": 7,
     "metadata": {},
     "output_type": "execute_result"
    }
   ],
   "source": [
    "config"
   ]
  },
  {
   "cell_type": "markdown",
   "metadata": {},
   "source": [
    "Run"
   ]
  },
  {
   "cell_type": "code",
   "execution_count": 8,
   "metadata": {},
   "outputs": [
    {
     "name": "stderr",
     "output_type": "stream",
     "text": [
      "2023-11-22 18:46:25,606\tINFO worker.py:1673 -- Started a local Ray instance.\n"
     ]
    },
    {
     "name": "stdout",
     "output_type": "stream",
     "text": [
      "[info] -- running all available surfaces\n",
      "[info] -- no valid surfaces in ILN P3 whole tiled 2 .. skipping file\n",
      "[info] -- found 0 actors\n",
      "[info] -- extracting data ... \n",
      "[info] -- complete.\n"
     ]
    }
   ],
   "source": [
    "# initiliaze ray\n",
    "ray.init(num_cpus=int(config[\"cpu_cores\"]), ignore_reinit_error=True)\n",
    "\n",
    "if not isinstance(config[\"valid_surfaces\"], list):\n",
    "    print(f\"[info] -- running all available surfaces\")\n",
    "\n",
    "    if int(config[\"valid_surfaces\"]) == -1:\n",
    "        run_track_parser_parallel(\n",
    "            data_dirs=config[\"data_dir\"],\n",
    "            save_dirs=config[\"save_dir\"],\n",
    "\n",
    "            cpu_cores=14,\n",
    "        )\n",
    "\n",
    "\n",
    "\n",
    "elif isinstance(config[\"valid_surfaces\"], list):\n",
    "    print(f\"[info] -- running specified surfaces\")\n",
    "\n",
    "    valid_surfaces = [int(x) for x in config[\"valid_surfaces\"]]\n",
    "\n",
    "    run_track_parser_parallel(\n",
    "        data_dirs=config[\"data_dir\"],\n",
    "        surface_ids=valid_surfaces,\n",
    "        save_dirs=config[\"save_dir\"],\n",
    "\n",
    "        cpu_cores=14,\n",
    "    )"
   ]
  },
  {
   "cell_type": "code",
   "execution_count": 9,
   "metadata": {},
   "outputs": [],
   "source": [
    "# run tested"
   ]
  },
  {
   "cell_type": "code",
   "execution_count": null,
   "metadata": {},
   "outputs": [],
   "source": []
  }
 ],
 "metadata": {
  "kernelspec": {
   "display_name": "corev2",
   "language": "python",
   "name": "python3"
  },
  "language_info": {
   "codemirror_mode": {
    "name": "ipython",
    "version": 3
   },
   "file_extension": ".py",
   "mimetype": "text/x-python",
   "name": "python",
   "nbconvert_exporter": "python",
   "pygments_lexer": "ipython3",
   "version": "3.11.5"
  }
 },
 "nbformat": 4,
 "nbformat_minor": 2
}
