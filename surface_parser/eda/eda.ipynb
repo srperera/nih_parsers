{
 "cells": [
  {
   "cell_type": "code",
   "execution_count": 2,
   "metadata": {},
   "outputs": [],
   "source": [
    "from utils import *\n",
    "from rich import print\n",
    "import os\n",
    "from numba import jit, njit\n",
    "import copy"
   ]
  },
  {
   "cell_type": "code",
   "execution_count": 3,
   "metadata": {},
   "outputs": [],
   "source": [
    "# load h5py data\n",
    "data = load_data('../Surface_parser_column_swap_issue/Exp116-BACH1IKO42dpi_clec4f+tim4_10202022_New_[ii39_F480-AF532_FMO_3D_Merged_Image_40]_[ims1_2022-11-14T13-54-07.151].ims')"
   ]
  },
  {
   "cell_type": "code",
   "execution_count": 4,
   "metadata": {},
   "outputs": [
    {
     "data": {
      "text/plain": [
       "<KeysViewHDF5 ['DataSet', 'DataSetEvents', 'DataSetInfo', 'DataSetTimes', 'Scene', 'Scene8', 'Thumbnail']>"
      ]
     },
     "execution_count": 4,
     "metadata": {},
     "output_type": "execute_result"
    }
   ],
   "source": [
    "data.keys()\n"
   ]
  },
  {
   "cell_type": "code",
   "execution_count": 5,
   "metadata": {},
   "outputs": [
    {
     "data": {
      "text/plain": [
       "<KeysViewHDF5 ['MegaSurfaces0', 'MegaSurfaces1', 'MegaSurfaces2', 'MegaSurfaces3', 'MegaSurfaces4', 'MegaSurfaces5', 'MegaSurfaces6', 'MegaSurfaces7']>"
      ]
     },
     "execution_count": 5,
     "metadata": {},
     "output_type": "execute_result"
    }
   ],
   "source": [
    "data.get('Scene').get('Content').keys()"
   ]
  },
  {
   "cell_type": "code",
   "execution_count": 6,
   "metadata": {},
   "outputs": [
    {
     "data": {
      "text/plain": [
       "<KeysViewHDF5 ['BlockData', 'BlockInfo', 'BlockPath', 'Category', 'CategoryFunction', 'CreationParameters', 'Factor', 'FactorFunction', 'FactorList', 'FactorListFunction', 'LabelColor', 'LabelColorData', 'LabelColorLabelGroupNames', 'LabelColorLabelValues', 'LabelGroupNames', 'LabelSetLabelIDs', 'LabelSetObjectIDs', 'LabelSets', 'LabelValues', 'LevelInfo', 'MainTrackSegmentTable', 'MainTrackSegmentTable_Focus', 'SplitOffset', 'StatisticsType', 'StatisticsTypeFunction', 'StatisticsValue', 'StatisticsValueFunction', 'StatisticsValueTimeOffset', 'StatisticsValueTimeOffsetFunction', 'SurfaceModel', 'SurfaceModelInfo', 'SurfaceTimeOffset', 'Time', 'TimeBegin', 'TrackSegment0', 'TrackSegment0_Focus']>"
      ]
     },
     "execution_count": 6,
     "metadata": {},
     "output_type": "execute_result"
    }
   ],
   "source": [
    "data.get('Scene8').get('Content').get('MegaSurfaces0').keys()"
   ]
  },
  {
   "cell_type": "code",
   "execution_count": 8,
   "metadata": {},
   "outputs": [
    {
     "data": {
      "text/html": [
       "<pre style=\"white-space:pre;overflow-x:auto;line-height:normal;font-family:Menlo,'DejaVu Sans Mono',consolas,'Courier New',monospace\"><span style=\"font-weight: bold\">[</span>\n",
       "    <span style=\"color: #008000; text-decoration-color: #008000\">'MegaSurfaces0'</span>,\n",
       "    <span style=\"color: #008000; text-decoration-color: #008000\">'MegaSurfaces1'</span>,\n",
       "    <span style=\"color: #008000; text-decoration-color: #008000\">'MegaSurfaces2'</span>,\n",
       "    <span style=\"color: #008000; text-decoration-color: #008000\">'MegaSurfaces3'</span>,\n",
       "    <span style=\"color: #008000; text-decoration-color: #008000\">'MegaSurfaces4'</span>,\n",
       "    <span style=\"color: #008000; text-decoration-color: #008000\">'MegaSurfaces5'</span>,\n",
       "    <span style=\"color: #008000; text-decoration-color: #008000\">'MegaSurfaces6'</span>,\n",
       "    <span style=\"color: #008000; text-decoration-color: #008000\">'MegaSurfaces7'</span>\n",
       "<span style=\"font-weight: bold\">]</span>\n",
       "</pre>\n"
      ],
      "text/plain": [
       "\u001b[1m[\u001b[0m\n",
       "    \u001b[32m'MegaSurfaces0'\u001b[0m,\n",
       "    \u001b[32m'MegaSurfaces1'\u001b[0m,\n",
       "    \u001b[32m'MegaSurfaces2'\u001b[0m,\n",
       "    \u001b[32m'MegaSurfaces3'\u001b[0m,\n",
       "    \u001b[32m'MegaSurfaces4'\u001b[0m,\n",
       "    \u001b[32m'MegaSurfaces5'\u001b[0m,\n",
       "    \u001b[32m'MegaSurfaces6'\u001b[0m,\n",
       "    \u001b[32m'MegaSurfaces7'\u001b[0m\n",
       "\u001b[1m]\u001b[0m\n"
      ]
     },
     "metadata": {},
     "output_type": "display_data"
    }
   ],
   "source": [
    "## can we get surfaces by modifying following function\n",
    "def get_object_names(full_data_file: h5py.File, search_for: str) -> list:\n",
    "    \"\"\"\n",
    "    _summary_\n",
    "\n",
    "    Args:\n",
    "        full_data_file (h5py._hl.files.File): full imaris file in h5py File format\n",
    "        search_for (str): string containing full or partial filename to search for\n",
    "\n",
    "    Returns:\n",
    "        (list): a list of all the object names that match search_for parameter\n",
    "    \"\"\"\n",
    "\n",
    "    values = full_data_file.get('Scene').get('Content').keys()\n",
    "    storage = list()\n",
    "    for item in values:\n",
    "        if len(re.findall(search_for, item)):\n",
    "            storage.append(item)\n",
    "    return storage\n",
    "\n",
    "# test function -- working\n",
    "out = get_object_names(data, 'Surface')\n",
    "print(out)"
   ]
  },
  {
   "cell_type": "code",
   "execution_count": 39,
   "metadata": {},
   "outputs": [
    {
     "data": {
      "text/plain": [
       "{407: b'Area',\n",
       " 408: b'BoundingBoxAA Length X',\n",
       " 409: b'BoundingBoxAA Length Y',\n",
       " 410: b'BoundingBoxAA Length Z',\n",
       " 411: b'BoundingBoxOO Length A',\n",
       " 412: b'BoundingBoxOO Length B',\n",
       " 413: b'BoundingBoxOO Length C',\n",
       " 414: b'Center of Homogeneous Mass X',\n",
       " 415: b'Center of Homogeneous Mass Y',\n",
       " 416: b'Center of Homogeneous Mass Z',\n",
       " 417: b'Center of Image Mass X',\n",
       " 418: b'Center of Image Mass X',\n",
       " 419: b'Center of Image Mass X',\n",
       " 420: b'Center of Image Mass X',\n",
       " 421: b'Center of Image Mass X',\n",
       " 422: b'Center of Image Mass Y',\n",
       " 423: b'Center of Image Mass Y',\n",
       " 424: b'Center of Image Mass Y',\n",
       " 425: b'Center of Image Mass Y',\n",
       " 426: b'Center of Image Mass Y',\n",
       " 427: b'Center of Image Mass Z',\n",
       " 428: b'Center of Image Mass Z',\n",
       " 429: b'Center of Image Mass Z',\n",
       " 430: b'Center of Image Mass Z',\n",
       " 431: b'Center of Image Mass Z',\n",
       " 432: b'Distance from Origin',\n",
       " 433: b'Distance to Image Border XY',\n",
       " 434: b'Distance to Image Border XYZ',\n",
       " 435: b'Ellipsoid Axis A X',\n",
       " 436: b'Ellipsoid Axis A Y',\n",
       " 437: b'Ellipsoid Axis A Z',\n",
       " 438: b'Ellipsoid Axis B X',\n",
       " 439: b'Ellipsoid Axis B Y',\n",
       " 440: b'Ellipsoid Axis B Z',\n",
       " 441: b'Ellipsoid Axis C X',\n",
       " 442: b'Ellipsoid Axis C Y',\n",
       " 443: b'Ellipsoid Axis C Z',\n",
       " 444: b'Ellipsoid Axis Length A',\n",
       " 445: b'Ellipsoid Axis Length B',\n",
       " 446: b'Ellipsoid Axis Length C',\n",
       " 447: b'Ellipticity (oblate)',\n",
       " 448: b'Ellipticity (prolate)',\n",
       " 449: b'Generation',\n",
       " 450: b'Intensity Center',\n",
       " 451: b'Intensity Center',\n",
       " 452: b'Intensity Center',\n",
       " 453: b'Intensity Center',\n",
       " 454: b'Intensity Center',\n",
       " 455: b'Intensity Max',\n",
       " 456: b'Intensity Max',\n",
       " 457: b'Intensity Max',\n",
       " 458: b'Intensity Max',\n",
       " 459: b'Intensity Max',\n",
       " 460: b'Intensity Mean',\n",
       " 170: b'Intensity Mean',\n",
       " 461: b'Intensity Mean',\n",
       " 171: b'Intensity Mean',\n",
       " 462: b'Intensity Mean',\n",
       " 463: b'Intensity Median',\n",
       " 464: b'Intensity Median',\n",
       " 465: b'Intensity Median',\n",
       " 466: b'Intensity Median',\n",
       " 467: b'Intensity Median',\n",
       " 468: b'Intensity Min',\n",
       " 469: b'Intensity Min',\n",
       " 470: b'Intensity Min',\n",
       " 471: b'Intensity Min',\n",
       " 472: b'Intensity Min',\n",
       " 473: b'Intensity StdDev',\n",
       " 474: b'Intensity StdDev',\n",
       " 475: b'Intensity StdDev',\n",
       " 476: b'Intensity StdDev',\n",
       " 477: b'Intensity StdDev',\n",
       " 478: b'Intensity Sum',\n",
       " 479: b'Intensity Sum',\n",
       " 480: b'Intensity Sum',\n",
       " 481: b'Intensity Sum',\n",
       " 482: b'Intensity Sum',\n",
       " 483: b'Intensity Sum of Square',\n",
       " 484: b'Intensity Sum of Square',\n",
       " 485: b'Intensity Sum of Square',\n",
       " 486: b'Intensity Sum of Square',\n",
       " 487: b'Intensity Sum of Square',\n",
       " 488: b'Number of Disconnected Components',\n",
       " 489: b'Number of Disconnected Components per Time Point',\n",
       " 490: b'Number of Surfaces per Time Point',\n",
       " 4: b'Number of Tracks',\n",
       " 491: b'Number of Triangles',\n",
       " 2: b'Number of Voxels',\n",
       " 492: b'Position X',\n",
       " 493: b'Position Y',\n",
       " 494: b'Position Z',\n",
       " 495: b'Sphericity',\n",
       " 496: b'Time',\n",
       " 497: b'Time Index',\n",
       " 5: b'Total Number of Disconnected Components',\n",
       " 6: b'Total Number of Surfaces',\n",
       " 7: b'Total Number of Triangles',\n",
       " 8: b'Total Number of Voxels',\n",
       " 498: b'Volume'}"
      ]
     },
     "execution_count": 39,
     "metadata": {},
     "output_type": "execute_result"
    }
   ],
   "source": [
    "# once we know the object names we want to extract data from use following function\n",
    "# this function doesnt grab any data values, just names\n",
    "def get_statistics_names(full_data_file: h5py.File, object_name: str) -> dict:\n",
    "    \"\"\"\n",
    "    for a given object_name, extracts the statistics names and ids into a dict\n",
    "    ex: statistics name = mean intensity, associated id=404\n",
    "\n",
    "    Args:\n",
    "        full_data_file (h5py._hl.files.File): full imaris file in h5py File format\n",
    "        object_name (str): name of the object to get statistic names from\n",
    "\n",
    "    Returns:\n",
    "        dict: a dict where the keys=unique stats ID, value=static name\n",
    "    \"\"\"\n",
    "\n",
    "    # get object specific data\n",
    "    obj_specific_data = full_data_file['Scene8']['Content'][object_name]\n",
    "    \n",
    "    # rearrange data\n",
    "    statistics_name = np.asarray(obj_specific_data['StatisticsType'])\n",
    "    statistics_name = pd.DataFrame(statistics_name)\n",
    "    \n",
    "    # extract statistics names\n",
    "    stats_name = statistics_name['Name']\n",
    "    \n",
    "    # extract statistics ID names\n",
    "    stats_type = statistics_name['ID']\n",
    "    \n",
    "    # combine stats type and stats names\n",
    "    return  dict(zip(stats_type, stats_name))\n",
    "\n",
    "# test -- working\n",
    "out_stats_names = get_statistics_names(data, 'MegaSurfaces0')\n",
    "\n",
    "out_stats_names\n"
   ]
  },
  {
   "cell_type": "code",
   "execution_count": 8,
   "metadata": {},
   "outputs": [],
   "source": [
    "#np.savetxt('test.txt', list(out_stats_names.values()), fmt='%s')"
   ]
  },
  {
   "cell_type": "code",
   "execution_count": 11,
   "metadata": {},
   "outputs": [
    {
     "data": {
      "text/html": [
       "<pre style=\"white-space:pre;overflow-x:auto;line-height:normal;font-family:Menlo,'DejaVu Sans Mono',consolas,'Courier New',monospace\">        ID_Object  ID_StatisticsType         Value\n",
       "<span style=\"color: #008080; text-decoration-color: #008080; font-weight: bold\">0</span>              <span style=\"color: #008080; text-decoration-color: #008080; font-weight: bold\">-1</span>                  <span style=\"color: #008080; text-decoration-color: #008080; font-weight: bold\">4</span>  <span style=\"color: #008080; text-decoration-color: #008080; font-weight: bold\">0.000000e+00</span>\n",
       "<span style=\"color: #008080; text-decoration-color: #008080; font-weight: bold\">1</span>              <span style=\"color: #008080; text-decoration-color: #008080; font-weight: bold\">-1</span>                  <span style=\"color: #008080; text-decoration-color: #008080; font-weight: bold\">5</span>  <span style=\"color: #008080; text-decoration-color: #008080; font-weight: bold\">3.245000e+03</span>\n",
       "<span style=\"color: #008080; text-decoration-color: #008080; font-weight: bold\">2</span>              <span style=\"color: #008080; text-decoration-color: #008080; font-weight: bold\">-1</span>                  <span style=\"color: #008080; text-decoration-color: #008080; font-weight: bold\">6</span>  <span style=\"color: #008080; text-decoration-color: #008080; font-weight: bold\">3.245000e+03</span>\n",
       "<span style=\"color: #008080; text-decoration-color: #008080; font-weight: bold\">3</span>              <span style=\"color: #008080; text-decoration-color: #008080; font-weight: bold\">-1</span>                  <span style=\"color: #008080; text-decoration-color: #008080; font-weight: bold\">7</span>  <span style=\"color: #008080; text-decoration-color: #008080; font-weight: bold\">2.059412e+06</span>\n",
       "<span style=\"color: #008080; text-decoration-color: #008080; font-weight: bold\">4</span>              <span style=\"color: #008080; text-decoration-color: #008080; font-weight: bold\">-1</span>                  <span style=\"color: #008080; text-decoration-color: #008080; font-weight: bold\">8</span>  <span style=\"color: #008080; text-decoration-color: #008080; font-weight: bold\">5.809810e+05</span>\n",
       "<span style=\"color: #808000; text-decoration-color: #808000\">...</span>           <span style=\"color: #808000; text-decoration-color: #808000\">...</span>                <span style=\"color: #808000; text-decoration-color: #808000\">...</span>           <span style=\"color: #808000; text-decoration-color: #808000\">...</span>\n",
       "<span style=\"color: #008080; text-decoration-color: #008080; font-weight: bold\">301787</span>       <span style=\"color: #008080; text-decoration-color: #008080; font-weight: bold\">6627</span>                <span style=\"color: #008080; text-decoration-color: #008080; font-weight: bold\">498</span>  <span style=\"color: #008080; text-decoration-color: #008080; font-weight: bold\">3.506650e+02</span>\n",
       "<span style=\"color: #008080; text-decoration-color: #008080; font-weight: bold\">301788</span>       <span style=\"color: #008080; text-decoration-color: #008080; font-weight: bold\">6629</span>                <span style=\"color: #008080; text-decoration-color: #008080; font-weight: bold\">498</span>  <span style=\"color: #008080; text-decoration-color: #008080; font-weight: bold\">2.378527e+02</span>\n",
       "<span style=\"color: #008080; text-decoration-color: #008080; font-weight: bold\">301789</span>       <span style=\"color: #008080; text-decoration-color: #008080; font-weight: bold\">6630</span>                <span style=\"color: #008080; text-decoration-color: #008080; font-weight: bold\">498</span>  <span style=\"color: #008080; text-decoration-color: #008080; font-weight: bold\">2.887693e+02</span>\n",
       "<span style=\"color: #008080; text-decoration-color: #008080; font-weight: bold\">301790</span>       <span style=\"color: #008080; text-decoration-color: #008080; font-weight: bold\">6632</span>                <span style=\"color: #008080; text-decoration-color: #008080; font-weight: bold\">498</span>  <span style=\"color: #008080; text-decoration-color: #008080; font-weight: bold\">5.170854e+02</span>\n",
       "<span style=\"color: #008080; text-decoration-color: #008080; font-weight: bold\">301791</span>       <span style=\"color: #008080; text-decoration-color: #008080; font-weight: bold\">6633</span>                <span style=\"color: #008080; text-decoration-color: #008080; font-weight: bold\">498</span>  <span style=\"color: #008080; text-decoration-color: #008080; font-weight: bold\">7.442588e+02</span>\n",
       "\n",
       "<span style=\"font-weight: bold\">[</span><span style=\"color: #008080; text-decoration-color: #008080; font-weight: bold\">301792</span> rows x <span style=\"color: #008080; text-decoration-color: #008080; font-weight: bold\">3</span> columns<span style=\"font-weight: bold\">]</span>\n",
       "</pre>\n"
      ],
      "text/plain": [
       "        ID_Object  ID_StatisticsType         Value\n",
       "\u001b[1;36m0\u001b[0m              \u001b[1;36m-1\u001b[0m                  \u001b[1;36m4\u001b[0m  \u001b[1;36m0.000000e+00\u001b[0m\n",
       "\u001b[1;36m1\u001b[0m              \u001b[1;36m-1\u001b[0m                  \u001b[1;36m5\u001b[0m  \u001b[1;36m3.245000e+03\u001b[0m\n",
       "\u001b[1;36m2\u001b[0m              \u001b[1;36m-1\u001b[0m                  \u001b[1;36m6\u001b[0m  \u001b[1;36m3.245000e+03\u001b[0m\n",
       "\u001b[1;36m3\u001b[0m              \u001b[1;36m-1\u001b[0m                  \u001b[1;36m7\u001b[0m  \u001b[1;36m2.059412e+06\u001b[0m\n",
       "\u001b[1;36m4\u001b[0m              \u001b[1;36m-1\u001b[0m                  \u001b[1;36m8\u001b[0m  \u001b[1;36m5.809810e+05\u001b[0m\n",
       "\u001b[33m...\u001b[0m           \u001b[33m...\u001b[0m                \u001b[33m...\u001b[0m           \u001b[33m...\u001b[0m\n",
       "\u001b[1;36m301787\u001b[0m       \u001b[1;36m6627\u001b[0m                \u001b[1;36m498\u001b[0m  \u001b[1;36m3.506650e+02\u001b[0m\n",
       "\u001b[1;36m301788\u001b[0m       \u001b[1;36m6629\u001b[0m                \u001b[1;36m498\u001b[0m  \u001b[1;36m2.378527e+02\u001b[0m\n",
       "\u001b[1;36m301789\u001b[0m       \u001b[1;36m6630\u001b[0m                \u001b[1;36m498\u001b[0m  \u001b[1;36m2.887693e+02\u001b[0m\n",
       "\u001b[1;36m301790\u001b[0m       \u001b[1;36m6632\u001b[0m                \u001b[1;36m498\u001b[0m  \u001b[1;36m5.170854e+02\u001b[0m\n",
       "\u001b[1;36m301791\u001b[0m       \u001b[1;36m6633\u001b[0m                \u001b[1;36m498\u001b[0m  \u001b[1;36m7.442588e+02\u001b[0m\n",
       "\n",
       "\u001b[1m[\u001b[0m\u001b[1;36m301792\u001b[0m rows x \u001b[1;36m3\u001b[0m columns\u001b[1m]\u001b[0m\n"
      ]
     },
     "metadata": {},
     "output_type": "display_data"
    }
   ],
   "source": [
    "# once we have the statistics names we can get numerical statistics values\n",
    "# for each object id within the specified object\n",
    "def get_stats_values(full_data_file: h5py.File, object_name: str) -> pd.DataFrame:\n",
    "    \"\"\"\n",
    "    for a given object_name, extracts the statistics values for all object ids\n",
    "    within the object\n",
    "\n",
    "    Args:\n",
    "        full_data_file (h5py._hl.files.File): full imaris file in h5py File format\n",
    "        object_name (str): name of the object to get statistic names from\n",
    "\n",
    "    Returns:\n",
    "        pd.DataFrame: a pandas data frame that contains information about each object id\n",
    "        where each object id has a stats id and associated stats value.\n",
    "    \"\"\"\n",
    "    obj_specific_stats = full_data_file.get('Scene8').get('Content')[object_name]['StatisticsValue']\n",
    "    obj_specific_stats = np.asarray(obj_specific_stats)\n",
    "    return pd.DataFrame(obj_specific_stats)\n",
    "\n",
    "out = get_stats_values(data, 'MegaSurfaces0').drop('ID_Time', axis=1)\n",
    "print(out)"
   ]
  },
  {
   "cell_type": "code",
   "execution_count": 40,
   "metadata": {},
   "outputs": [
    {
     "data": {
      "text/html": [
       "<div>\n",
       "<style scoped>\n",
       "    .dataframe tbody tr th:only-of-type {\n",
       "        vertical-align: middle;\n",
       "    }\n",
       "\n",
       "    .dataframe tbody tr th {\n",
       "        vertical-align: top;\n",
       "    }\n",
       "\n",
       "    .dataframe thead th {\n",
       "        text-align: right;\n",
       "    }\n",
       "</style>\n",
       "<table border=\"1\" class=\"dataframe\">\n",
       "  <thead>\n",
       "    <tr style=\"text-align: right;\">\n",
       "      <th></th>\n",
       "      <th>ID_Object</th>\n",
       "      <th>ID_StatisticsType</th>\n",
       "      <th>Value</th>\n",
       "    </tr>\n",
       "  </thead>\n",
       "  <tbody>\n",
       "    <tr>\n",
       "      <th>174907</th>\n",
       "      <td>2</td>\n",
       "      <td>460</td>\n",
       "      <td>1.864865</td>\n",
       "    </tr>\n",
       "    <tr>\n",
       "      <th>174908</th>\n",
       "      <td>7</td>\n",
       "      <td>460</td>\n",
       "      <td>0.873950</td>\n",
       "    </tr>\n",
       "    <tr>\n",
       "      <th>174909</th>\n",
       "      <td>10</td>\n",
       "      <td>460</td>\n",
       "      <td>0.939024</td>\n",
       "    </tr>\n",
       "    <tr>\n",
       "      <th>174910</th>\n",
       "      <td>14</td>\n",
       "      <td>460</td>\n",
       "      <td>1.077029</td>\n",
       "    </tr>\n",
       "    <tr>\n",
       "      <th>174911</th>\n",
       "      <td>16</td>\n",
       "      <td>460</td>\n",
       "      <td>1.421053</td>\n",
       "    </tr>\n",
       "    <tr>\n",
       "      <th>...</th>\n",
       "      <td>...</td>\n",
       "      <td>...</td>\n",
       "      <td>...</td>\n",
       "    </tr>\n",
       "    <tr>\n",
       "      <th>173420</th>\n",
       "      <td>6627</td>\n",
       "      <td>460</td>\n",
       "      <td>1.775000</td>\n",
       "    </tr>\n",
       "    <tr>\n",
       "      <th>173421</th>\n",
       "      <td>6629</td>\n",
       "      <td>460</td>\n",
       "      <td>1.607143</td>\n",
       "    </tr>\n",
       "    <tr>\n",
       "      <th>173422</th>\n",
       "      <td>6630</td>\n",
       "      <td>460</td>\n",
       "      <td>1.903226</td>\n",
       "    </tr>\n",
       "    <tr>\n",
       "      <th>173423</th>\n",
       "      <td>6632</td>\n",
       "      <td>460</td>\n",
       "      <td>0.850000</td>\n",
       "    </tr>\n",
       "    <tr>\n",
       "      <th>173424</th>\n",
       "      <td>6633</td>\n",
       "      <td>460</td>\n",
       "      <td>1.579618</td>\n",
       "    </tr>\n",
       "  </tbody>\n",
       "</table>\n",
       "<p>3245 rows × 3 columns</p>\n",
       "</div>"
      ],
      "text/plain": [
       "        ID_Object  ID_StatisticsType     Value\n",
       "174907          2                460  1.864865\n",
       "174908          7                460  0.873950\n",
       "174909         10                460  0.939024\n",
       "174910         14                460  1.077029\n",
       "174911         16                460  1.421053\n",
       "...           ...                ...       ...\n",
       "173420       6627                460  1.775000\n",
       "173421       6629                460  1.607143\n",
       "173422       6630                460  1.903226\n",
       "173423       6632                460  0.850000\n",
       "173424       6633                460  1.579618\n",
       "\n",
       "[3245 rows x 3 columns]"
      ]
     },
     "execution_count": 40,
     "metadata": {},
     "output_type": "execute_result"
    }
   ],
   "source": [
    "out[out['ID_StatisticsType'] == 460].sort_values('ID_Object')"
   ]
  },
  {
   "cell_type": "code",
   "execution_count": null,
   "metadata": {},
   "outputs": [],
   "source": []
  },
  {
   "cell_type": "code",
   "execution_count": 12,
   "metadata": {},
   "outputs": [],
   "source": [
    "extracted_stats = out.groupby('ID_Object')[\n",
    "    ['ID_StatisticsType', 'Value']].apply(lambda x: x.set_index('ID_StatisticsType').to_dict(orient='dict')).to_dict()\n",
    "extracted_stats = {k: v['Value'] for k, v in extracted_stats.items()} # clean up step for line above"
   ]
  },
  {
   "cell_type": "code",
   "execution_count": 13,
   "metadata": {},
   "outputs": [],
   "source": [
    "def invert_stats_dict(stats_dict: dict=None):\n",
    "    '''\n",
    "    creates a inverted_stats_dict --> [Statistics Type: Numeric Value]\n",
    "    '''\n",
    "    \n",
    "    # sort the dict\n",
    "    sorted_dict_key = sorted(stats_dict.keys())\n",
    "    stats_dict = {key: str(stats_dict[key]).strip('b')[1:-1] for key in sorted_dict_key }\n",
    "    \n",
    "    # create an empty dictionary\n",
    "    storage = {}\n",
    "    \n",
    "    for key in stats_dict.keys():\n",
    "        # if the word is not in the new storage dict\n",
    "        if stats_dict[key] not in storage.keys():\n",
    "            storage[stats_dict[key]] = key\n",
    "        else:\n",
    "            # get the value inside the key \n",
    "            current_value = storage[stats_dict[key]]\n",
    "            \n",
    "            # if its a single value create a dict else create a dict\n",
    "            if type(current_value) != dict:\n",
    "                # then its the first value\n",
    "                storage[stats_dict[key]] = {}\n",
    "                storage[stats_dict[key]]['channel_1'] = current_value\n",
    "                \n",
    "                # current value\n",
    "                storage[stats_dict[key]]['channel_2'] = key\n",
    "            else:\n",
    "                # get the length of the dict\n",
    "                count = len(current_value.keys())\n",
    "                # updated count\n",
    "                count += 1 \n",
    "                # create new key\n",
    "                new_key = f\"channel_{count}\"\n",
    "                current_value[new_key] = key\n",
    "                storage[stats_dict[key]] = current_value\n",
    "                \n",
    "    return storage\n",
    "# we can directly use this to invert the dict\n",
    "# this inverted dict can be used to create the final excel file"
   ]
  },
  {
   "cell_type": "code",
   "execution_count": 14,
   "metadata": {},
   "outputs": [],
   "source": [
    "inverted_dict =  invert_stats_dict(out_stats_names)\n",
    "categories = [\n",
    "    'Position X',\n",
    "    'Position Y',\n",
    "    'Position Z',\n",
    "    'Intensity Mean_channel_1',\n",
    "    'Intensity Mean_channel_2',\n",
    "    'Intensity Mean_channel_3',\n",
    "    'Intensity Mean_channel_4',\n",
    "    'Intensity Mean_channel_5',\n",
    "    'Volume'\n",
    "]"
   ]
  },
  {
   "cell_type": "code",
   "execution_count": 15,
   "metadata": {},
   "outputs": [],
   "source": [
    "# flatten dict \n",
    "from collections.abc import MutableMapping\n",
    "\n",
    "def flatten(d, parent_key='', sep='_'):\n",
    "    items = []\n",
    "    for k, v in d.items():\n",
    "        new_key = parent_key + sep + k if parent_key else k\n",
    "        if isinstance(v, MutableMapping):\n",
    "            items.extend(flatten(v, new_key, sep=sep).items())\n",
    "        else:\n",
    "            items.append((new_key, v))\n",
    "    return dict(items)"
   ]
  },
  {
   "cell_type": "code",
   "execution_count": 16,
   "metadata": {},
   "outputs": [],
   "source": [
    "inverted_flatten = flatten(inverted_dict)\n",
    "# can we provide an editable list before anything starts so he can manually select which ones he wants\n",
    "# that way the names match exactly because I control it. \n",
    "\n",
    "# reverse dict again, key=num, value=name\n",
    "final_dict = {v: k for k,v in inverted_flatten.items()}\n",
    "\n",
    "# can we use the categories reqested to create a list of numbers we dont want?\n",
    "del_list = [None] * (len(inverted_flatten) - len(categories))\n",
    "counter = 0\n",
    "for idx, (k, v) in enumerate(inverted_flatten.items()):\n",
    "    \n",
    "    if k not in categories and v != None:\n",
    "        del_list[counter] = v\n",
    "        counter += 1\n",
    "    "
   ]
  },
  {
   "cell_type": "code",
   "execution_count": 28,
   "metadata": {},
   "outputs": [
    {
     "data": {
      "text/plain": [
       "'Intensity Mean_channel_1'"
      ]
     },
     "execution_count": 28,
     "metadata": {},
     "output_type": "execute_result"
    }
   ],
   "source": [
    "final_dict[170]"
   ]
  },
  {
   "cell_type": "code",
   "execution_count": 17,
   "metadata": {},
   "outputs": [],
   "source": [
    "# map what the user wants to numeric values\n",
    "user_request_numeric = [inverted_flatten[x] for x in categories]\n",
    "\n",
    "# we can look at the final dict where key=num, value=name to filter\n",
    "final_dict_copy = copy.deepcopy(final_dict)\n",
    "for value in user_request_numeric:\n",
    "    final_dict_copy.pop(value)\n",
    "    \n",
    "new_del_list = list(final_dict_copy.keys())"
   ]
  },
  {
   "cell_type": "code",
   "execution_count": 18,
   "metadata": {},
   "outputs": [
    {
     "data": {
      "text/html": [
       "<pre style=\"white-space:pre;overflow-x:auto;line-height:normal;font-family:Menlo,'DejaVu Sans Mono',consolas,'Courier New',monospace\"><span style=\"color: #008080; text-decoration-color: #008080; font-weight: bold\">91</span> <span style=\"color: #008080; text-decoration-color: #008080; font-weight: bold\">100</span> <span style=\"color: #008080; text-decoration-color: #008080; font-weight: bold\">9</span>\n",
       "</pre>\n"
      ],
      "text/plain": [
       "\u001b[1;36m91\u001b[0m \u001b[1;36m100\u001b[0m \u001b[1;36m9\u001b[0m\n"
      ]
     },
     "metadata": {},
     "output_type": "display_data"
    }
   ],
   "source": [
    "print(len(final_dict_copy.keys()), len(final_dict.keys()), len(user_request_numeric))"
   ]
  },
  {
   "cell_type": "code",
   "execution_count": null,
   "metadata": {},
   "outputs": [],
   "source": []
  },
  {
   "cell_type": "code",
   "execution_count": null,
   "metadata": {},
   "outputs": [],
   "source": []
  },
  {
   "cell_type": "code",
   "execution_count": 21,
   "metadata": {},
   "outputs": [
    {
     "data": {
      "text/html": [
       "<pre style=\"white-space:pre;overflow-x:auto;line-height:normal;font-family:Menlo,'DejaVu Sans Mono',consolas,'Courier New',monospace\">            <span style=\"color: #008080; text-decoration-color: #008080; font-weight: bold\">460</span>       <span style=\"color: #008080; text-decoration-color: #008080; font-weight: bold\">170</span>        <span style=\"color: #008080; text-decoration-color: #008080; font-weight: bold\">461</span>       <span style=\"color: #008080; text-decoration-color: #008080; font-weight: bold\">171</span>        <span style=\"color: #008080; text-decoration-color: #008080; font-weight: bold\">462</span>           <span style=\"color: #008080; text-decoration-color: #008080; font-weight: bold\">492</span>  \\\n",
       "<span style=\"color: #008080; text-decoration-color: #008080; font-weight: bold\">-1</span>          NaN       NaN        NaN       NaN        NaN           NaN   \n",
       " <span style=\"color: #008080; text-decoration-color: #008080; font-weight: bold\">2</span>     <span style=\"color: #008080; text-decoration-color: #008080; font-weight: bold\">1.864865</span>  <span style=\"color: #008080; text-decoration-color: #008080; font-weight: bold\">1.574324</span>  <span style=\"color: #008080; text-decoration-color: #008080; font-weight: bold\">34.121620</span>  <span style=\"color: #008080; text-decoration-color: #008080; font-weight: bold\">6.628378</span>  <span style=\"color: #008080; text-decoration-color: #008080; font-weight: bold\">47.337837</span>  <span style=\"color: #008080; text-decoration-color: #008080; font-weight: bold\">60797.417969</span>   \n",
       " <span style=\"color: #008080; text-decoration-color: #008080; font-weight: bold\">7</span>     <span style=\"color: #008080; text-decoration-color: #008080; font-weight: bold\">0.873950</span>  <span style=\"color: #008080; text-decoration-color: #008080; font-weight: bold\">1.193277</span>  <span style=\"color: #008080; text-decoration-color: #008080; font-weight: bold\">32.470589</span>  <span style=\"color: #008080; text-decoration-color: #008080; font-weight: bold\">4.731092</span>   <span style=\"color: #008080; text-decoration-color: #008080; font-weight: bold\">5.436975</span>  <span style=\"color: #008080; text-decoration-color: #008080; font-weight: bold\">60793.320312</span>   \n",
       " <span style=\"color: #008080; text-decoration-color: #008080; font-weight: bold\">10</span>    <span style=\"color: #008080; text-decoration-color: #008080; font-weight: bold\">0.939024</span>  <span style=\"color: #008080; text-decoration-color: #008080; font-weight: bold\">1.426829</span>  <span style=\"color: #008080; text-decoration-color: #008080; font-weight: bold\">30.585365</span>  <span style=\"color: #008080; text-decoration-color: #008080; font-weight: bold\">5.231707</span>   <span style=\"color: #008080; text-decoration-color: #008080; font-weight: bold\">5.085366</span>  <span style=\"color: #008080; text-decoration-color: #008080; font-weight: bold\">60812.757812</span>   \n",
       " <span style=\"color: #008080; text-decoration-color: #008080; font-weight: bold\">14</span>    <span style=\"color: #008080; text-decoration-color: #008080; font-weight: bold\">1.077029</span>  <span style=\"color: #008080; text-decoration-color: #008080; font-weight: bold\">1.112792</span>  <span style=\"color: #008080; text-decoration-color: #008080; font-weight: bold\">36.308117</span>  <span style=\"color: #008080; text-decoration-color: #008080; font-weight: bold\">5.674003</span>  <span style=\"color: #008080; text-decoration-color: #008080; font-weight: bold\">32.876205</span>  <span style=\"color: #008080; text-decoration-color: #008080; font-weight: bold\">60806.167969</span>   \n",
       "<span style=\"color: #808000; text-decoration-color: #808000\">...</span>         <span style=\"color: #808000; text-decoration-color: #808000\">...</span>       <span style=\"color: #808000; text-decoration-color: #808000\">...</span>        <span style=\"color: #808000; text-decoration-color: #808000\">...</span>       <span style=\"color: #808000; text-decoration-color: #808000\">...</span>        <span style=\"color: #808000; text-decoration-color: #808000\">...</span>           <span style=\"color: #808000; text-decoration-color: #808000\">...</span>   \n",
       " <span style=\"color: #008080; text-decoration-color: #008080; font-weight: bold\">6627</span>  <span style=\"color: #008080; text-decoration-color: #008080; font-weight: bold\">1.775000</span>  <span style=\"color: #008080; text-decoration-color: #008080; font-weight: bold\">2.412500</span>  <span style=\"color: #008080; text-decoration-color: #008080; font-weight: bold\">32.974998</span>  <span style=\"color: #008080; text-decoration-color: #008080; font-weight: bold\">7.125000</span>  <span style=\"color: #008080; text-decoration-color: #008080; font-weight: bold\">47.662498</span>  <span style=\"color: #008080; text-decoration-color: #008080; font-weight: bold\">59255.476562</span>   \n",
       " <span style=\"color: #008080; text-decoration-color: #008080; font-weight: bold\">6629</span>  <span style=\"color: #008080; text-decoration-color: #008080; font-weight: bold\">1.607143</span>  <span style=\"color: #008080; text-decoration-color: #008080; font-weight: bold\">1.535714</span>  <span style=\"color: #008080; text-decoration-color: #008080; font-weight: bold\">32.446430</span>  <span style=\"color: #008080; text-decoration-color: #008080; font-weight: bold\">6.071429</span>  <span style=\"color: #008080; text-decoration-color: #008080; font-weight: bold\">38.875000</span>  <span style=\"color: #008080; text-decoration-color: #008080; font-weight: bold\">59191.093750</span>   \n",
       " <span style=\"color: #008080; text-decoration-color: #008080; font-weight: bold\">6630</span>  <span style=\"color: #008080; text-decoration-color: #008080; font-weight: bold\">1.903226</span>  <span style=\"color: #008080; text-decoration-color: #008080; font-weight: bold\">1.161290</span>  <span style=\"color: #008080; text-decoration-color: #008080; font-weight: bold\">35.048386</span>  <span style=\"color: #008080; text-decoration-color: #008080; font-weight: bold\">5.580645</span>   <span style=\"color: #008080; text-decoration-color: #008080; font-weight: bold\">8.483871</span>  <span style=\"color: #008080; text-decoration-color: #008080; font-weight: bold\">59170.410156</span>   \n",
       " <span style=\"color: #008080; text-decoration-color: #008080; font-weight: bold\">6632</span>  <span style=\"color: #008080; text-decoration-color: #008080; font-weight: bold\">0.850000</span>  <span style=\"color: #008080; text-decoration-color: #008080; font-weight: bold\">1.441667</span>  <span style=\"color: #008080; text-decoration-color: #008080; font-weight: bold\">32.658333</span>  <span style=\"color: #008080; text-decoration-color: #008080; font-weight: bold\">4.341667</span>  <span style=\"color: #008080; text-decoration-color: #008080; font-weight: bold\">32.666668</span>  <span style=\"color: #008080; text-decoration-color: #008080; font-weight: bold\">59209.675781</span>   \n",
       " <span style=\"color: #008080; text-decoration-color: #008080; font-weight: bold\">6633</span>  <span style=\"color: #008080; text-decoration-color: #008080; font-weight: bold\">1.579618</span>  <span style=\"color: #008080; text-decoration-color: #008080; font-weight: bold\">1.082803</span>  <span style=\"color: #008080; text-decoration-color: #008080; font-weight: bold\">33.668789</span>  <span style=\"color: #008080; text-decoration-color: #008080; font-weight: bold\">6.133758</span>  <span style=\"color: #008080; text-decoration-color: #008080; font-weight: bold\">25.585987</span>  <span style=\"color: #008080; text-decoration-color: #008080; font-weight: bold\">59166.628906</span>   \n",
       "\n",
       "                <span style=\"color: #008080; text-decoration-color: #008080; font-weight: bold\">493</span>        <span style=\"color: #008080; text-decoration-color: #008080; font-weight: bold\">494</span>          <span style=\"color: #008080; text-decoration-color: #008080; font-weight: bold\">498</span>  \n",
       "<span style=\"color: #008080; text-decoration-color: #008080; font-weight: bold\">-1</span>              NaN        NaN          NaN  \n",
       " <span style=\"color: #008080; text-decoration-color: #008080; font-weight: bold\">2</span>     <span style=\"color: #008080; text-decoration-color: #008080; font-weight: bold\">42978.500000</span>   <span style=\"color: #008080; text-decoration-color: #008080; font-weight: bold\">8.622030</span>   <span style=\"color: #008080; text-decoration-color: #008080; font-weight: bold\">702.604126</span>  \n",
       " <span style=\"color: #008080; text-decoration-color: #008080; font-weight: bold\">7</span>     <span style=\"color: #008080; text-decoration-color: #008080; font-weight: bold\">42925.894531</span>  <span style=\"color: #008080; text-decoration-color: #008080; font-weight: bold\">10.504700</span>   <span style=\"color: #008080; text-decoration-color: #008080; font-weight: bold\">562.719177</span>  \n",
       " <span style=\"color: #008080; text-decoration-color: #008080; font-weight: bold\">10</span>    <span style=\"color: #008080; text-decoration-color: #008080; font-weight: bold\">42901.535156</span>  <span style=\"color: #008080; text-decoration-color: #008080; font-weight: bold\">11.220044</span>   <span style=\"color: #008080; text-decoration-color: #008080; font-weight: bold\">347.759796</span>  \n",
       " <span style=\"color: #008080; text-decoration-color: #008080; font-weight: bold\">14</span>    <span style=\"color: #008080; text-decoration-color: #008080; font-weight: bold\">42916.218750</span>   <span style=\"color: #008080; text-decoration-color: #008080; font-weight: bold\">9.763873</span>  <span style=\"color: #008080; text-decoration-color: #008080; font-weight: bold\">3688.319336</span>  \n",
       "<span style=\"color: #808000; text-decoration-color: #808000\">...</span>             <span style=\"color: #808000; text-decoration-color: #808000\">...</span>        <span style=\"color: #808000; text-decoration-color: #808000\">...</span>          <span style=\"color: #808000; text-decoration-color: #808000\">...</span>  \n",
       " <span style=\"color: #008080; text-decoration-color: #008080; font-weight: bold\">6627</span>  <span style=\"color: #008080; text-decoration-color: #008080; font-weight: bold\">41322.378906</span>  <span style=\"color: #008080; text-decoration-color: #008080; font-weight: bold\">24.501162</span>   <span style=\"color: #008080; text-decoration-color: #008080; font-weight: bold\">350.664978</span>  \n",
       " <span style=\"color: #008080; text-decoration-color: #008080; font-weight: bold\">6629</span>  <span style=\"color: #008080; text-decoration-color: #008080; font-weight: bold\">41379.593750</span>  <span style=\"color: #008080; text-decoration-color: #008080; font-weight: bold\">25.501207</span>   <span style=\"color: #008080; text-decoration-color: #008080; font-weight: bold\">237.852676</span>  \n",
       " <span style=\"color: #008080; text-decoration-color: #008080; font-weight: bold\">6630</span>  <span style=\"color: #008080; text-decoration-color: #008080; font-weight: bold\">41399.046875</span>  <span style=\"color: #008080; text-decoration-color: #008080; font-weight: bold\">21.678446</span>   <span style=\"color: #008080; text-decoration-color: #008080; font-weight: bold\">288.769348</span>  \n",
       " <span style=\"color: #008080; text-decoration-color: #008080; font-weight: bold\">6632</span>  <span style=\"color: #008080; text-decoration-color: #008080; font-weight: bold\">41353.503906</span>  <span style=\"color: #008080; text-decoration-color: #008080; font-weight: bold\">21.967707</span>   <span style=\"color: #008080; text-decoration-color: #008080; font-weight: bold\">517.085388</span>  \n",
       " <span style=\"color: #008080; text-decoration-color: #008080; font-weight: bold\">6633</span>  <span style=\"color: #008080; text-decoration-color: #008080; font-weight: bold\">41391.062500</span>  <span style=\"color: #008080; text-decoration-color: #008080; font-weight: bold\">22.943762</span>   <span style=\"color: #008080; text-decoration-color: #008080; font-weight: bold\">744.258789</span>  \n",
       "\n",
       "<span style=\"font-weight: bold\">[</span><span style=\"color: #008080; text-decoration-color: #008080; font-weight: bold\">3246</span> rows x <span style=\"color: #008080; text-decoration-color: #008080; font-weight: bold\">9</span> columns<span style=\"font-weight: bold\">]</span>\n",
       "</pre>\n"
      ],
      "text/plain": [
       "            \u001b[1;36m460\u001b[0m       \u001b[1;36m170\u001b[0m        \u001b[1;36m461\u001b[0m       \u001b[1;36m171\u001b[0m        \u001b[1;36m462\u001b[0m           \u001b[1;36m492\u001b[0m  \\\n",
       "\u001b[1;36m-1\u001b[0m          NaN       NaN        NaN       NaN        NaN           NaN   \n",
       " \u001b[1;36m2\u001b[0m     \u001b[1;36m1.864865\u001b[0m  \u001b[1;36m1.574324\u001b[0m  \u001b[1;36m34.121620\u001b[0m  \u001b[1;36m6.628378\u001b[0m  \u001b[1;36m47.337837\u001b[0m  \u001b[1;36m60797.417969\u001b[0m   \n",
       " \u001b[1;36m7\u001b[0m     \u001b[1;36m0.873950\u001b[0m  \u001b[1;36m1.193277\u001b[0m  \u001b[1;36m32.470589\u001b[0m  \u001b[1;36m4.731092\u001b[0m   \u001b[1;36m5.436975\u001b[0m  \u001b[1;36m60793.320312\u001b[0m   \n",
       " \u001b[1;36m10\u001b[0m    \u001b[1;36m0.939024\u001b[0m  \u001b[1;36m1.426829\u001b[0m  \u001b[1;36m30.585365\u001b[0m  \u001b[1;36m5.231707\u001b[0m   \u001b[1;36m5.085366\u001b[0m  \u001b[1;36m60812.757812\u001b[0m   \n",
       " \u001b[1;36m14\u001b[0m    \u001b[1;36m1.077029\u001b[0m  \u001b[1;36m1.112792\u001b[0m  \u001b[1;36m36.308117\u001b[0m  \u001b[1;36m5.674003\u001b[0m  \u001b[1;36m32.876205\u001b[0m  \u001b[1;36m60806.167969\u001b[0m   \n",
       "\u001b[33m...\u001b[0m         \u001b[33m...\u001b[0m       \u001b[33m...\u001b[0m        \u001b[33m...\u001b[0m       \u001b[33m...\u001b[0m        \u001b[33m...\u001b[0m           \u001b[33m...\u001b[0m   \n",
       " \u001b[1;36m6627\u001b[0m  \u001b[1;36m1.775000\u001b[0m  \u001b[1;36m2.412500\u001b[0m  \u001b[1;36m32.974998\u001b[0m  \u001b[1;36m7.125000\u001b[0m  \u001b[1;36m47.662498\u001b[0m  \u001b[1;36m59255.476562\u001b[0m   \n",
       " \u001b[1;36m6629\u001b[0m  \u001b[1;36m1.607143\u001b[0m  \u001b[1;36m1.535714\u001b[0m  \u001b[1;36m32.446430\u001b[0m  \u001b[1;36m6.071429\u001b[0m  \u001b[1;36m38.875000\u001b[0m  \u001b[1;36m59191.093750\u001b[0m   \n",
       " \u001b[1;36m6630\u001b[0m  \u001b[1;36m1.903226\u001b[0m  \u001b[1;36m1.161290\u001b[0m  \u001b[1;36m35.048386\u001b[0m  \u001b[1;36m5.580645\u001b[0m   \u001b[1;36m8.483871\u001b[0m  \u001b[1;36m59170.410156\u001b[0m   \n",
       " \u001b[1;36m6632\u001b[0m  \u001b[1;36m0.850000\u001b[0m  \u001b[1;36m1.441667\u001b[0m  \u001b[1;36m32.658333\u001b[0m  \u001b[1;36m4.341667\u001b[0m  \u001b[1;36m32.666668\u001b[0m  \u001b[1;36m59209.675781\u001b[0m   \n",
       " \u001b[1;36m6633\u001b[0m  \u001b[1;36m1.579618\u001b[0m  \u001b[1;36m1.082803\u001b[0m  \u001b[1;36m33.668789\u001b[0m  \u001b[1;36m6.133758\u001b[0m  \u001b[1;36m25.585987\u001b[0m  \u001b[1;36m59166.628906\u001b[0m   \n",
       "\n",
       "                \u001b[1;36m493\u001b[0m        \u001b[1;36m494\u001b[0m          \u001b[1;36m498\u001b[0m  \n",
       "\u001b[1;36m-1\u001b[0m              NaN        NaN          NaN  \n",
       " \u001b[1;36m2\u001b[0m     \u001b[1;36m42978.500000\u001b[0m   \u001b[1;36m8.622030\u001b[0m   \u001b[1;36m702.604126\u001b[0m  \n",
       " \u001b[1;36m7\u001b[0m     \u001b[1;36m42925.894531\u001b[0m  \u001b[1;36m10.504700\u001b[0m   \u001b[1;36m562.719177\u001b[0m  \n",
       " \u001b[1;36m10\u001b[0m    \u001b[1;36m42901.535156\u001b[0m  \u001b[1;36m11.220044\u001b[0m   \u001b[1;36m347.759796\u001b[0m  \n",
       " \u001b[1;36m14\u001b[0m    \u001b[1;36m42916.218750\u001b[0m   \u001b[1;36m9.763873\u001b[0m  \u001b[1;36m3688.319336\u001b[0m  \n",
       "\u001b[33m...\u001b[0m             \u001b[33m...\u001b[0m        \u001b[33m...\u001b[0m          \u001b[33m...\u001b[0m  \n",
       " \u001b[1;36m6627\u001b[0m  \u001b[1;36m41322.378906\u001b[0m  \u001b[1;36m24.501162\u001b[0m   \u001b[1;36m350.664978\u001b[0m  \n",
       " \u001b[1;36m6629\u001b[0m  \u001b[1;36m41379.593750\u001b[0m  \u001b[1;36m25.501207\u001b[0m   \u001b[1;36m237.852676\u001b[0m  \n",
       " \u001b[1;36m6630\u001b[0m  \u001b[1;36m41399.046875\u001b[0m  \u001b[1;36m21.678446\u001b[0m   \u001b[1;36m288.769348\u001b[0m  \n",
       " \u001b[1;36m6632\u001b[0m  \u001b[1;36m41353.503906\u001b[0m  \u001b[1;36m21.967707\u001b[0m   \u001b[1;36m517.085388\u001b[0m  \n",
       " \u001b[1;36m6633\u001b[0m  \u001b[1;36m41391.062500\u001b[0m  \u001b[1;36m22.943762\u001b[0m   \u001b[1;36m744.258789\u001b[0m  \n",
       "\n",
       "\u001b[1m[\u001b[0m\u001b[1;36m3246\u001b[0m rows x \u001b[1;36m9\u001b[0m columns\u001b[1m]\u001b[0m\n"
      ]
     },
     "metadata": {},
     "output_type": "display_data"
    }
   ],
   "source": [
    "final_df = pd.DataFrame(extracted_stats).transpose()\n",
    "f = final_df.drop(labels=del_list, axis=1)\n",
    "print(f)\n"
   ]
  },
  {
   "cell_type": "code",
   "execution_count": 23,
   "metadata": {},
   "outputs": [
    {
     "ename": "KeyError",
     "evalue": "'[None] not found in axis'",
     "output_type": "error",
     "traceback": [
      "\u001b[0;31m---------------------------------------------------------------------------\u001b[0m",
      "\u001b[0;31mKeyError\u001b[0m                                  Traceback (most recent call last)",
      "\u001b[1;32m/home/shehan/Documents/nih/surface_parser/eda/eda.ipynb Cell 21\u001b[0m in \u001b[0;36m<cell line: 2>\u001b[0;34m()\u001b[0m\n\u001b[1;32m      <a href='vscode-notebook-cell://ssh-remote%2Bshehan/home/shehan/Documents/nih/surface_parser/eda/eda.ipynb#X25sdnNjb2RlLXJlbW90ZQ%3D%3D?line=0'>1</a>\u001b[0m final_df \u001b[39m=\u001b[39m pd\u001b[39m.\u001b[39mDataFrame(extracted_stats)\u001b[39m.\u001b[39mtranspose()\n\u001b[0;32m----> <a href='vscode-notebook-cell://ssh-remote%2Bshehan/home/shehan/Documents/nih/surface_parser/eda/eda.ipynb#X25sdnNjb2RlLXJlbW90ZQ%3D%3D?line=1'>2</a>\u001b[0m f \u001b[39m=\u001b[39m final_df\u001b[39m.\u001b[39;49mdrop(labels\u001b[39m=\u001b[39;49m[\u001b[39mNone\u001b[39;49;00m], axis\u001b[39m=\u001b[39;49m\u001b[39m1\u001b[39;49m)\n\u001b[1;32m      <a href='vscode-notebook-cell://ssh-remote%2Bshehan/home/shehan/Documents/nih/surface_parser/eda/eda.ipynb#X25sdnNjb2RlLXJlbW90ZQ%3D%3D?line=2'>3</a>\u001b[0m \u001b[39mprint\u001b[39m(f)\n",
      "File \u001b[0;32m~/anaconda3/envs/core/lib/python3.8/site-packages/pandas/util/_decorators.py:311\u001b[0m, in \u001b[0;36mdeprecate_nonkeyword_arguments.<locals>.decorate.<locals>.wrapper\u001b[0;34m(*args, **kwargs)\u001b[0m\n\u001b[1;32m    305\u001b[0m \u001b[39mif\u001b[39;00m \u001b[39mlen\u001b[39m(args) \u001b[39m>\u001b[39m num_allow_args:\n\u001b[1;32m    306\u001b[0m     warnings\u001b[39m.\u001b[39mwarn(\n\u001b[1;32m    307\u001b[0m         msg\u001b[39m.\u001b[39mformat(arguments\u001b[39m=\u001b[39marguments),\n\u001b[1;32m    308\u001b[0m         \u001b[39mFutureWarning\u001b[39;00m,\n\u001b[1;32m    309\u001b[0m         stacklevel\u001b[39m=\u001b[39mstacklevel,\n\u001b[1;32m    310\u001b[0m     )\n\u001b[0;32m--> 311\u001b[0m \u001b[39mreturn\u001b[39;00m func(\u001b[39m*\u001b[39;49margs, \u001b[39m*\u001b[39;49m\u001b[39m*\u001b[39;49mkwargs)\n",
      "File \u001b[0;32m~/anaconda3/envs/core/lib/python3.8/site-packages/pandas/core/frame.py:4906\u001b[0m, in \u001b[0;36mDataFrame.drop\u001b[0;34m(self, labels, axis, index, columns, level, inplace, errors)\u001b[0m\n\u001b[1;32m   4774\u001b[0m \u001b[39m@deprecate_nonkeyword_arguments\u001b[39m(version\u001b[39m=\u001b[39m\u001b[39mNone\u001b[39;00m, allowed_args\u001b[39m=\u001b[39m[\u001b[39m\"\u001b[39m\u001b[39mself\u001b[39m\u001b[39m\"\u001b[39m, \u001b[39m\"\u001b[39m\u001b[39mlabels\u001b[39m\u001b[39m\"\u001b[39m])\n\u001b[1;32m   4775\u001b[0m \u001b[39mdef\u001b[39;00m \u001b[39mdrop\u001b[39m(\n\u001b[1;32m   4776\u001b[0m     \u001b[39mself\u001b[39m,\n\u001b[0;32m   (...)\u001b[0m\n\u001b[1;32m   4783\u001b[0m     errors: \u001b[39mstr\u001b[39m \u001b[39m=\u001b[39m \u001b[39m\"\u001b[39m\u001b[39mraise\u001b[39m\u001b[39m\"\u001b[39m,\n\u001b[1;32m   4784\u001b[0m ):\n\u001b[1;32m   4785\u001b[0m     \u001b[39m\"\"\"\u001b[39;00m\n\u001b[1;32m   4786\u001b[0m \u001b[39m    Drop specified labels from rows or columns.\u001b[39;00m\n\u001b[1;32m   4787\u001b[0m \n\u001b[0;32m   (...)\u001b[0m\n\u001b[1;32m   4904\u001b[0m \u001b[39m            weight  1.0     0.8\u001b[39;00m\n\u001b[1;32m   4905\u001b[0m \u001b[39m    \"\"\"\u001b[39;00m\n\u001b[0;32m-> 4906\u001b[0m     \u001b[39mreturn\u001b[39;00m \u001b[39msuper\u001b[39;49m()\u001b[39m.\u001b[39;49mdrop(\n\u001b[1;32m   4907\u001b[0m         labels\u001b[39m=\u001b[39;49mlabels,\n\u001b[1;32m   4908\u001b[0m         axis\u001b[39m=\u001b[39;49maxis,\n\u001b[1;32m   4909\u001b[0m         index\u001b[39m=\u001b[39;49mindex,\n\u001b[1;32m   4910\u001b[0m         columns\u001b[39m=\u001b[39;49mcolumns,\n\u001b[1;32m   4911\u001b[0m         level\u001b[39m=\u001b[39;49mlevel,\n\u001b[1;32m   4912\u001b[0m         inplace\u001b[39m=\u001b[39;49minplace,\n\u001b[1;32m   4913\u001b[0m         errors\u001b[39m=\u001b[39;49merrors,\n\u001b[1;32m   4914\u001b[0m     )\n",
      "File \u001b[0;32m~/anaconda3/envs/core/lib/python3.8/site-packages/pandas/core/generic.py:4150\u001b[0m, in \u001b[0;36mNDFrame.drop\u001b[0;34m(self, labels, axis, index, columns, level, inplace, errors)\u001b[0m\n\u001b[1;32m   4148\u001b[0m \u001b[39mfor\u001b[39;00m axis, labels \u001b[39min\u001b[39;00m axes\u001b[39m.\u001b[39mitems():\n\u001b[1;32m   4149\u001b[0m     \u001b[39mif\u001b[39;00m labels \u001b[39mis\u001b[39;00m \u001b[39mnot\u001b[39;00m \u001b[39mNone\u001b[39;00m:\n\u001b[0;32m-> 4150\u001b[0m         obj \u001b[39m=\u001b[39m obj\u001b[39m.\u001b[39;49m_drop_axis(labels, axis, level\u001b[39m=\u001b[39;49mlevel, errors\u001b[39m=\u001b[39;49merrors)\n\u001b[1;32m   4152\u001b[0m \u001b[39mif\u001b[39;00m inplace:\n\u001b[1;32m   4153\u001b[0m     \u001b[39mself\u001b[39m\u001b[39m.\u001b[39m_update_inplace(obj)\n",
      "File \u001b[0;32m~/anaconda3/envs/core/lib/python3.8/site-packages/pandas/core/generic.py:4185\u001b[0m, in \u001b[0;36mNDFrame._drop_axis\u001b[0;34m(self, labels, axis, level, errors)\u001b[0m\n\u001b[1;32m   4183\u001b[0m         new_axis \u001b[39m=\u001b[39m axis\u001b[39m.\u001b[39mdrop(labels, level\u001b[39m=\u001b[39mlevel, errors\u001b[39m=\u001b[39merrors)\n\u001b[1;32m   4184\u001b[0m     \u001b[39melse\u001b[39;00m:\n\u001b[0;32m-> 4185\u001b[0m         new_axis \u001b[39m=\u001b[39m axis\u001b[39m.\u001b[39;49mdrop(labels, errors\u001b[39m=\u001b[39;49merrors)\n\u001b[1;32m   4186\u001b[0m     result \u001b[39m=\u001b[39m \u001b[39mself\u001b[39m\u001b[39m.\u001b[39mreindex(\u001b[39m*\u001b[39m\u001b[39m*\u001b[39m{axis_name: new_axis})\n\u001b[1;32m   4188\u001b[0m \u001b[39m# Case for non-unique axis\u001b[39;00m\n\u001b[1;32m   4189\u001b[0m \u001b[39melse\u001b[39;00m:\n",
      "File \u001b[0;32m~/anaconda3/envs/core/lib/python3.8/site-packages/pandas/core/indexes/base.py:6017\u001b[0m, in \u001b[0;36mIndex.drop\u001b[0;34m(self, labels, errors)\u001b[0m\n\u001b[1;32m   6015\u001b[0m \u001b[39mif\u001b[39;00m mask\u001b[39m.\u001b[39many():\n\u001b[1;32m   6016\u001b[0m     \u001b[39mif\u001b[39;00m errors \u001b[39m!=\u001b[39m \u001b[39m\"\u001b[39m\u001b[39mignore\u001b[39m\u001b[39m\"\u001b[39m:\n\u001b[0;32m-> 6017\u001b[0m         \u001b[39mraise\u001b[39;00m \u001b[39mKeyError\u001b[39;00m(\u001b[39mf\u001b[39m\u001b[39m\"\u001b[39m\u001b[39m{\u001b[39;00mlabels[mask]\u001b[39m}\u001b[39;00m\u001b[39m not found in axis\u001b[39m\u001b[39m\"\u001b[39m)\n\u001b[1;32m   6018\u001b[0m     indexer \u001b[39m=\u001b[39m indexer[\u001b[39m~\u001b[39mmask]\n\u001b[1;32m   6019\u001b[0m \u001b[39mreturn\u001b[39;00m \u001b[39mself\u001b[39m\u001b[39m.\u001b[39mdelete(indexer)\n",
      "\u001b[0;31mKeyError\u001b[0m: '[None] not found in axis'"
     ]
    }
   ],
   "source": [
    "final_df = pd.DataFrame(extracted_stats).transpose()\n",
    "f = final_df.drop(labels=[None], axis=1)\n",
    "print(f)"
   ]
  },
  {
   "cell_type": "code",
   "execution_count": 25,
   "metadata": {},
   "outputs": [
    {
     "data": {
      "text/html": [
       "<pre style=\"white-space:pre;overflow-x:auto;line-height:normal;font-family:Menlo,'DejaVu Sans Mono',consolas,'Courier New',monospace\"><span style=\"color: #800080; text-decoration-color: #800080; font-weight: bold\">Int64Index</span><span style=\"font-weight: bold\">([</span><span style=\"color: #008080; text-decoration-color: #008080; font-weight: bold\">460</span>, <span style=\"color: #008080; text-decoration-color: #008080; font-weight: bold\">170</span>, <span style=\"color: #008080; text-decoration-color: #008080; font-weight: bold\">461</span>, <span style=\"color: #008080; text-decoration-color: #008080; font-weight: bold\">171</span>, <span style=\"color: #008080; text-decoration-color: #008080; font-weight: bold\">462</span>, <span style=\"color: #008080; text-decoration-color: #008080; font-weight: bold\">492</span>, <span style=\"color: #008080; text-decoration-color: #008080; font-weight: bold\">493</span>, <span style=\"color: #008080; text-decoration-color: #008080; font-weight: bold\">494</span>, <span style=\"color: #008080; text-decoration-color: #008080; font-weight: bold\">498</span><span style=\"font-weight: bold\">]</span>, <span style=\"color: #808000; text-decoration-color: #808000\">dtype</span>=<span style=\"color: #008000; text-decoration-color: #008000\">'int64'</span><span style=\"font-weight: bold\">)</span>\n",
       "</pre>\n"
      ],
      "text/plain": [
       "\u001b[1;35mInt64Index\u001b[0m\u001b[1m(\u001b[0m\u001b[1m[\u001b[0m\u001b[1;36m460\u001b[0m, \u001b[1;36m170\u001b[0m, \u001b[1;36m461\u001b[0m, \u001b[1;36m171\u001b[0m, \u001b[1;36m462\u001b[0m, \u001b[1;36m492\u001b[0m, \u001b[1;36m493\u001b[0m, \u001b[1;36m494\u001b[0m, \u001b[1;36m498\u001b[0m\u001b[1m]\u001b[0m, \u001b[33mdtype\u001b[0m=\u001b[32m'int64'\u001b[0m\u001b[1m)\u001b[0m\n"
      ]
     },
     "metadata": {},
     "output_type": "display_data"
    },
    {
     "data": {
      "text/html": [
       "<pre style=\"white-space:pre;overflow-x:auto;line-height:normal;font-family:Menlo,'DejaVu Sans Mono',consolas,'Courier New',monospace\"><span style=\"font-weight: bold\">{</span>\n",
       "    <span style=\"color: #008080; text-decoration-color: #008080; font-weight: bold\">460</span>: <span style=\"color: #008000; text-decoration-color: #008000\">'Intensity Mean_channel_3'</span>,\n",
       "    <span style=\"color: #008080; text-decoration-color: #008080; font-weight: bold\">170</span>: <span style=\"color: #008000; text-decoration-color: #008000\">'Intensity Mean_channel_1'</span>,\n",
       "    <span style=\"color: #008080; text-decoration-color: #008080; font-weight: bold\">461</span>: <span style=\"color: #008000; text-decoration-color: #008000\">'Intensity Mean_channel_4'</span>,\n",
       "    <span style=\"color: #008080; text-decoration-color: #008080; font-weight: bold\">171</span>: <span style=\"color: #008000; text-decoration-color: #008000\">'Intensity Mean_channel_2'</span>,\n",
       "    <span style=\"color: #008080; text-decoration-color: #008080; font-weight: bold\">462</span>: <span style=\"color: #008000; text-decoration-color: #008000\">'Intensity Mean_channel_5'</span>,\n",
       "    <span style=\"color: #008080; text-decoration-color: #008080; font-weight: bold\">492</span>: <span style=\"color: #008000; text-decoration-color: #008000\">'Position X'</span>,\n",
       "    <span style=\"color: #008080; text-decoration-color: #008080; font-weight: bold\">493</span>: <span style=\"color: #008000; text-decoration-color: #008000\">'Position Y'</span>,\n",
       "    <span style=\"color: #008080; text-decoration-color: #008080; font-weight: bold\">494</span>: <span style=\"color: #008000; text-decoration-color: #008000\">'Position Z'</span>,\n",
       "    <span style=\"color: #008080; text-decoration-color: #008080; font-weight: bold\">498</span>: <span style=\"color: #008000; text-decoration-color: #008000\">'Volume'</span>\n",
       "<span style=\"font-weight: bold\">}</span>\n",
       "</pre>\n"
      ],
      "text/plain": [
       "\u001b[1m{\u001b[0m\n",
       "    \u001b[1;36m460\u001b[0m: \u001b[32m'Intensity Mean_channel_3'\u001b[0m,\n",
       "    \u001b[1;36m170\u001b[0m: \u001b[32m'Intensity Mean_channel_1'\u001b[0m,\n",
       "    \u001b[1;36m461\u001b[0m: \u001b[32m'Intensity Mean_channel_4'\u001b[0m,\n",
       "    \u001b[1;36m171\u001b[0m: \u001b[32m'Intensity Mean_channel_2'\u001b[0m,\n",
       "    \u001b[1;36m462\u001b[0m: \u001b[32m'Intensity Mean_channel_5'\u001b[0m,\n",
       "    \u001b[1;36m492\u001b[0m: \u001b[32m'Position X'\u001b[0m,\n",
       "    \u001b[1;36m493\u001b[0m: \u001b[32m'Position Y'\u001b[0m,\n",
       "    \u001b[1;36m494\u001b[0m: \u001b[32m'Position Z'\u001b[0m,\n",
       "    \u001b[1;36m498\u001b[0m: \u001b[32m'Volume'\u001b[0m\n",
       "\u001b[1m}\u001b[0m\n"
      ]
     },
     "metadata": {},
     "output_type": "display_data"
    }
   ],
   "source": [
    "# clean up df by changing number to names and rearranging columns\n",
    "columns = f.columns\n",
    "print(columns)\n",
    "\n",
    "new_names = {key: final_dict[key] for key in columns}\n",
    "print(new_names)\n",
    "\n",
    "# rename dict\n"
   ]
  },
  {
   "cell_type": "code",
   "execution_count": 26,
   "metadata": {},
   "outputs": [
    {
     "data": {
      "text/html": [
       "<pre style=\"white-space:pre;overflow-x:auto;line-height:normal;font-family:Menlo,'DejaVu Sans Mono',consolas,'Courier New',monospace\">     Intensity Mean_channel_3  Intensity Mean_channel_1  \\\n",
       "<span style=\"color: #008080; text-decoration-color: #008080; font-weight: bold\">-1</span>                        NaN                       NaN   \n",
       " <span style=\"color: #008080; text-decoration-color: #008080; font-weight: bold\">2</span>                   <span style=\"color: #008080; text-decoration-color: #008080; font-weight: bold\">1.864865</span>                  <span style=\"color: #008080; text-decoration-color: #008080; font-weight: bold\">1.574324</span>   \n",
       " <span style=\"color: #008080; text-decoration-color: #008080; font-weight: bold\">7</span>                   <span style=\"color: #008080; text-decoration-color: #008080; font-weight: bold\">0.873950</span>                  <span style=\"color: #008080; text-decoration-color: #008080; font-weight: bold\">1.193277</span>   \n",
       " <span style=\"color: #008080; text-decoration-color: #008080; font-weight: bold\">10</span>                  <span style=\"color: #008080; text-decoration-color: #008080; font-weight: bold\">0.939024</span>                  <span style=\"color: #008080; text-decoration-color: #008080; font-weight: bold\">1.426829</span>   \n",
       " <span style=\"color: #008080; text-decoration-color: #008080; font-weight: bold\">14</span>                  <span style=\"color: #008080; text-decoration-color: #008080; font-weight: bold\">1.077029</span>                  <span style=\"color: #008080; text-decoration-color: #008080; font-weight: bold\">1.112792</span>   \n",
       "\n",
       "     Intensity Mean_channel_4  Intensity Mean_channel_2  \\\n",
       "<span style=\"color: #008080; text-decoration-color: #008080; font-weight: bold\">-1</span>                        NaN                       NaN   \n",
       " <span style=\"color: #008080; text-decoration-color: #008080; font-weight: bold\">2</span>                  <span style=\"color: #008080; text-decoration-color: #008080; font-weight: bold\">34.121620</span>                  <span style=\"color: #008080; text-decoration-color: #008080; font-weight: bold\">6.628378</span>   \n",
       " <span style=\"color: #008080; text-decoration-color: #008080; font-weight: bold\">7</span>                  <span style=\"color: #008080; text-decoration-color: #008080; font-weight: bold\">32.470589</span>                  <span style=\"color: #008080; text-decoration-color: #008080; font-weight: bold\">4.731092</span>   \n",
       " <span style=\"color: #008080; text-decoration-color: #008080; font-weight: bold\">10</span>                 <span style=\"color: #008080; text-decoration-color: #008080; font-weight: bold\">30.585365</span>                  <span style=\"color: #008080; text-decoration-color: #008080; font-weight: bold\">5.231707</span>   \n",
       " <span style=\"color: #008080; text-decoration-color: #008080; font-weight: bold\">14</span>                 <span style=\"color: #008080; text-decoration-color: #008080; font-weight: bold\">36.308117</span>                  <span style=\"color: #008080; text-decoration-color: #008080; font-weight: bold\">5.674003</span>   \n",
       "\n",
       "     Intensity Mean_channel_5    Position X    Position Y  Position Z  \\\n",
       "<span style=\"color: #008080; text-decoration-color: #008080; font-weight: bold\">-1</span>                        NaN           NaN           NaN         NaN   \n",
       " <span style=\"color: #008080; text-decoration-color: #008080; font-weight: bold\">2</span>                  <span style=\"color: #008080; text-decoration-color: #008080; font-weight: bold\">47.337837</span>  <span style=\"color: #008080; text-decoration-color: #008080; font-weight: bold\">60797.417969</span>  <span style=\"color: #008080; text-decoration-color: #008080; font-weight: bold\">42978.500000</span>    <span style=\"color: #008080; text-decoration-color: #008080; font-weight: bold\">8.622030</span>   \n",
       " <span style=\"color: #008080; text-decoration-color: #008080; font-weight: bold\">7</span>                   <span style=\"color: #008080; text-decoration-color: #008080; font-weight: bold\">5.436975</span>  <span style=\"color: #008080; text-decoration-color: #008080; font-weight: bold\">60793.320312</span>  <span style=\"color: #008080; text-decoration-color: #008080; font-weight: bold\">42925.894531</span>   <span style=\"color: #008080; text-decoration-color: #008080; font-weight: bold\">10.504700</span>   \n",
       " <span style=\"color: #008080; text-decoration-color: #008080; font-weight: bold\">10</span>                  <span style=\"color: #008080; text-decoration-color: #008080; font-weight: bold\">5.085366</span>  <span style=\"color: #008080; text-decoration-color: #008080; font-weight: bold\">60812.757812</span>  <span style=\"color: #008080; text-decoration-color: #008080; font-weight: bold\">42901.535156</span>   <span style=\"color: #008080; text-decoration-color: #008080; font-weight: bold\">11.220044</span>   \n",
       " <span style=\"color: #008080; text-decoration-color: #008080; font-weight: bold\">14</span>                 <span style=\"color: #008080; text-decoration-color: #008080; font-weight: bold\">32.876205</span>  <span style=\"color: #008080; text-decoration-color: #008080; font-weight: bold\">60806.167969</span>  <span style=\"color: #008080; text-decoration-color: #008080; font-weight: bold\">42916.218750</span>    <span style=\"color: #008080; text-decoration-color: #008080; font-weight: bold\">9.763873</span>   \n",
       "\n",
       "          Volume  \n",
       "<span style=\"color: #008080; text-decoration-color: #008080; font-weight: bold\">-1</span>           NaN  \n",
       " <span style=\"color: #008080; text-decoration-color: #008080; font-weight: bold\">2</span>    <span style=\"color: #008080; text-decoration-color: #008080; font-weight: bold\">702.604126</span>  \n",
       " <span style=\"color: #008080; text-decoration-color: #008080; font-weight: bold\">7</span>    <span style=\"color: #008080; text-decoration-color: #008080; font-weight: bold\">562.719177</span>  \n",
       " <span style=\"color: #008080; text-decoration-color: #008080; font-weight: bold\">10</span>   <span style=\"color: #008080; text-decoration-color: #008080; font-weight: bold\">347.759796</span>  \n",
       " <span style=\"color: #008080; text-decoration-color: #008080; font-weight: bold\">14</span>  <span style=\"color: #008080; text-decoration-color: #008080; font-weight: bold\">3688.319336</span>  \n",
       "</pre>\n"
      ],
      "text/plain": [
       "     Intensity Mean_channel_3  Intensity Mean_channel_1  \\\n",
       "\u001b[1;36m-1\u001b[0m                        NaN                       NaN   \n",
       " \u001b[1;36m2\u001b[0m                   \u001b[1;36m1.864865\u001b[0m                  \u001b[1;36m1.574324\u001b[0m   \n",
       " \u001b[1;36m7\u001b[0m                   \u001b[1;36m0.873950\u001b[0m                  \u001b[1;36m1.193277\u001b[0m   \n",
       " \u001b[1;36m10\u001b[0m                  \u001b[1;36m0.939024\u001b[0m                  \u001b[1;36m1.426829\u001b[0m   \n",
       " \u001b[1;36m14\u001b[0m                  \u001b[1;36m1.077029\u001b[0m                  \u001b[1;36m1.112792\u001b[0m   \n",
       "\n",
       "     Intensity Mean_channel_4  Intensity Mean_channel_2  \\\n",
       "\u001b[1;36m-1\u001b[0m                        NaN                       NaN   \n",
       " \u001b[1;36m2\u001b[0m                  \u001b[1;36m34.121620\u001b[0m                  \u001b[1;36m6.628378\u001b[0m   \n",
       " \u001b[1;36m7\u001b[0m                  \u001b[1;36m32.470589\u001b[0m                  \u001b[1;36m4.731092\u001b[0m   \n",
       " \u001b[1;36m10\u001b[0m                 \u001b[1;36m30.585365\u001b[0m                  \u001b[1;36m5.231707\u001b[0m   \n",
       " \u001b[1;36m14\u001b[0m                 \u001b[1;36m36.308117\u001b[0m                  \u001b[1;36m5.674003\u001b[0m   \n",
       "\n",
       "     Intensity Mean_channel_5    Position X    Position Y  Position Z  \\\n",
       "\u001b[1;36m-1\u001b[0m                        NaN           NaN           NaN         NaN   \n",
       " \u001b[1;36m2\u001b[0m                  \u001b[1;36m47.337837\u001b[0m  \u001b[1;36m60797.417969\u001b[0m  \u001b[1;36m42978.500000\u001b[0m    \u001b[1;36m8.622030\u001b[0m   \n",
       " \u001b[1;36m7\u001b[0m                   \u001b[1;36m5.436975\u001b[0m  \u001b[1;36m60793.320312\u001b[0m  \u001b[1;36m42925.894531\u001b[0m   \u001b[1;36m10.504700\u001b[0m   \n",
       " \u001b[1;36m10\u001b[0m                  \u001b[1;36m5.085366\u001b[0m  \u001b[1;36m60812.757812\u001b[0m  \u001b[1;36m42901.535156\u001b[0m   \u001b[1;36m11.220044\u001b[0m   \n",
       " \u001b[1;36m14\u001b[0m                 \u001b[1;36m32.876205\u001b[0m  \u001b[1;36m60806.167969\u001b[0m  \u001b[1;36m42916.218750\u001b[0m    \u001b[1;36m9.763873\u001b[0m   \n",
       "\n",
       "          Volume  \n",
       "\u001b[1;36m-1\u001b[0m           NaN  \n",
       " \u001b[1;36m2\u001b[0m    \u001b[1;36m702.604126\u001b[0m  \n",
       " \u001b[1;36m7\u001b[0m    \u001b[1;36m562.719177\u001b[0m  \n",
       " \u001b[1;36m10\u001b[0m   \u001b[1;36m347.759796\u001b[0m  \n",
       " \u001b[1;36m14\u001b[0m  \u001b[1;36m3688.319336\u001b[0m  \n"
      ]
     },
     "metadata": {},
     "output_type": "display_data"
    }
   ],
   "source": [
    "final_df = f.rename(new_names, axis=1)\n",
    "print(final_df.head())"
   ]
  },
  {
   "cell_type": "code",
   "execution_count": 57,
   "metadata": {},
   "outputs": [
    {
     "data": {
      "text/html": [
       "<pre style=\"white-space:pre;overflow-x:auto;line-height:normal;font-family:Menlo,'DejaVu Sans Mono',consolas,'Courier New',monospace\">           ID   Position X   Position Y  Position Z  Intensity Mean_channel_1  \\\n",
       "<span style=\"color: #008080; text-decoration-color: #008080; font-weight: bold\">-1</span>         <span style=\"color: #008080; text-decoration-color: #008080; font-weight: bold\">-1</span>          NaN          NaN         NaN                       NaN   \n",
       " <span style=\"color: #008080; text-decoration-color: #008080; font-weight: bold\">0</span>          <span style=\"color: #008080; text-decoration-color: #008080; font-weight: bold\">0</span>  <span style=\"color: #008080; text-decoration-color: #008080; font-weight: bold\">2189.359131</span>  <span style=\"color: #008080; text-decoration-color: #008080; font-weight: bold\">2202.812256</span>   <span style=\"color: #008080; text-decoration-color: #008080; font-weight: bold\">52.783691</span>                 <span style=\"color: #008080; text-decoration-color: #008080; font-weight: bold\">22.600000</span>   \n",
       " <span style=\"color: #008080; text-decoration-color: #008080; font-weight: bold\">1</span>          <span style=\"color: #008080; text-decoration-color: #008080; font-weight: bold\">1</span>  <span style=\"color: #008080; text-decoration-color: #008080; font-weight: bold\">2183.935791</span>  <span style=\"color: #008080; text-decoration-color: #008080; font-weight: bold\">2195.771240</span>   <span style=\"color: #008080; text-decoration-color: #008080; font-weight: bold\">47.824745</span>                 <span style=\"color: #008080; text-decoration-color: #008080; font-weight: bold\">20.820824</span>   \n",
       " <span style=\"color: #008080; text-decoration-color: #008080; font-weight: bold\">2</span>          <span style=\"color: #008080; text-decoration-color: #008080; font-weight: bold\">2</span>  <span style=\"color: #008080; text-decoration-color: #008080; font-weight: bold\">2178.945068</span>  <span style=\"color: #008080; text-decoration-color: #008080; font-weight: bold\">2182.046631</span>   <span style=\"color: #008080; text-decoration-color: #008080; font-weight: bold\">37.426094</span>                 <span style=\"color: #008080; text-decoration-color: #008080; font-weight: bold\">13.137931</span>   \n",
       " <span style=\"color: #008080; text-decoration-color: #008080; font-weight: bold\">3</span>          <span style=\"color: #008080; text-decoration-color: #008080; font-weight: bold\">3</span>  <span style=\"color: #008080; text-decoration-color: #008080; font-weight: bold\">2204.449463</span>  <span style=\"color: #008080; text-decoration-color: #008080; font-weight: bold\">2120.961670</span>   <span style=\"color: #008080; text-decoration-color: #008080; font-weight: bold\">28.069572</span>                 <span style=\"color: #008080; text-decoration-color: #008080; font-weight: bold\">13.305555</span>   \n",
       "<span style=\"color: #808000; text-decoration-color: #808000\">...</span>       <span style=\"color: #808000; text-decoration-color: #808000\">...</span>          <span style=\"color: #808000; text-decoration-color: #808000\">...</span>          <span style=\"color: #808000; text-decoration-color: #808000\">...</span>         <span style=\"color: #808000; text-decoration-color: #808000\">...</span>                       <span style=\"color: #808000; text-decoration-color: #808000\">...</span>   \n",
       " <span style=\"color: #008080; text-decoration-color: #008080; font-weight: bold\">27815</span>  <span style=\"color: #008080; text-decoration-color: #008080; font-weight: bold\">27815</span>     <span style=\"color: #008080; text-decoration-color: #008080; font-weight: bold\">1.185095</span>    <span style=\"color: #008080; text-decoration-color: #008080; font-weight: bold\">16.314802</span>   <span style=\"color: #008080; text-decoration-color: #008080; font-weight: bold\">46.986015</span>                 <span style=\"color: #008080; text-decoration-color: #008080; font-weight: bold\">13.260870</span>   \n",
       " <span style=\"color: #008080; text-decoration-color: #008080; font-weight: bold\">27816</span>  <span style=\"color: #008080; text-decoration-color: #008080; font-weight: bold\">27816</span>     <span style=\"color: #008080; text-decoration-color: #008080; font-weight: bold\">2.155134</span>    <span style=\"color: #008080; text-decoration-color: #008080; font-weight: bold\">22.085581</span>   <span style=\"color: #008080; text-decoration-color: #008080; font-weight: bold\">32.336147</span>                 <span style=\"color: #008080; text-decoration-color: #008080; font-weight: bold\">12.732000</span>   \n",
       " <span style=\"color: #008080; text-decoration-color: #008080; font-weight: bold\">27817</span>  <span style=\"color: #008080; text-decoration-color: #008080; font-weight: bold\">27817</span>    <span style=\"color: #008080; text-decoration-color: #008080; font-weight: bold\">10.448586</span>     <span style=\"color: #008080; text-decoration-color: #008080; font-weight: bold\">0.748731</span>   <span style=\"color: #008080; text-decoration-color: #008080; font-weight: bold\">60.644127</span>                 <span style=\"color: #008080; text-decoration-color: #008080; font-weight: bold\">19.453703</span>   \n",
       " <span style=\"color: #008080; text-decoration-color: #008080; font-weight: bold\">27818</span>  <span style=\"color: #008080; text-decoration-color: #008080; font-weight: bold\">27818</span>    <span style=\"color: #008080; text-decoration-color: #008080; font-weight: bold\">13.477354</span>     <span style=\"color: #008080; text-decoration-color: #008080; font-weight: bold\">9.190427</span>   <span style=\"color: #008080; text-decoration-color: #008080; font-weight: bold\">60.877293</span>                 <span style=\"color: #008080; text-decoration-color: #008080; font-weight: bold\">19.097952</span>   \n",
       " <span style=\"color: #008080; text-decoration-color: #008080; font-weight: bold\">27819</span>  <span style=\"color: #008080; text-decoration-color: #008080; font-weight: bold\">27819</span>     <span style=\"color: #008080; text-decoration-color: #008080; font-weight: bold\">2.357662</span>     <span style=\"color: #008080; text-decoration-color: #008080; font-weight: bold\">7.870090</span>   <span style=\"color: #008080; text-decoration-color: #008080; font-weight: bold\">59.777782</span>                 <span style=\"color: #008080; text-decoration-color: #008080; font-weight: bold\">22.074074</span>   \n",
       "\n",
       "        Intensity Mean_channel_2  Intensity Mean_channel_3  \\\n",
       "<span style=\"color: #008080; text-decoration-color: #008080; font-weight: bold\">-1</span>                           NaN                       NaN   \n",
       " <span style=\"color: #008080; text-decoration-color: #008080; font-weight: bold\">0</span>                     <span style=\"color: #008080; text-decoration-color: #008080; font-weight: bold\">12.806896</span>                  <span style=\"color: #008080; text-decoration-color: #008080; font-weight: bold\">6.082758</span>   \n",
       " <span style=\"color: #008080; text-decoration-color: #008080; font-weight: bold\">1</span>                      <span style=\"color: #008080; text-decoration-color: #008080; font-weight: bold\">8.719129</span>                  <span style=\"color: #008080; text-decoration-color: #008080; font-weight: bold\">4.641646</span>   \n",
       " <span style=\"color: #008080; text-decoration-color: #008080; font-weight: bold\">2</span>                      <span style=\"color: #008080; text-decoration-color: #008080; font-weight: bold\">5.896552</span>                  <span style=\"color: #008080; text-decoration-color: #008080; font-weight: bold\">3.241379</span>   \n",
       " <span style=\"color: #008080; text-decoration-color: #008080; font-weight: bold\">3</span>                     <span style=\"color: #008080; text-decoration-color: #008080; font-weight: bold\">14.666667</span>                  <span style=\"color: #008080; text-decoration-color: #008080; font-weight: bold\">8.583333</span>   \n",
       "<span style=\"color: #808000; text-decoration-color: #808000\">...</span>                          <span style=\"color: #808000; text-decoration-color: #808000\">...</span>                       <span style=\"color: #808000; text-decoration-color: #808000\">...</span>   \n",
       " <span style=\"color: #008080; text-decoration-color: #008080; font-weight: bold\">27815</span>                  <span style=\"color: #008080; text-decoration-color: #008080; font-weight: bold\">6.739130</span>                  <span style=\"color: #008080; text-decoration-color: #008080; font-weight: bold\">3.260870</span>   \n",
       " <span style=\"color: #008080; text-decoration-color: #008080; font-weight: bold\">27816</span>                  <span style=\"color: #008080; text-decoration-color: #008080; font-weight: bold\">4.512000</span>                  <span style=\"color: #008080; text-decoration-color: #008080; font-weight: bold\">2.368000</span>   \n",
       " <span style=\"color: #008080; text-decoration-color: #008080; font-weight: bold\">27817</span>                 <span style=\"color: #008080; text-decoration-color: #008080; font-weight: bold\">11.342592</span>                  <span style=\"color: #008080; text-decoration-color: #008080; font-weight: bold\">4.981482</span>   \n",
       " <span style=\"color: #008080; text-decoration-color: #008080; font-weight: bold\">27818</span>                 <span style=\"color: #008080; text-decoration-color: #008080; font-weight: bold\">10.386044</span>                  <span style=\"color: #008080; text-decoration-color: #008080; font-weight: bold\">3.898207</span>   \n",
       " <span style=\"color: #008080; text-decoration-color: #008080; font-weight: bold\">27819</span>                  <span style=\"color: #008080; text-decoration-color: #008080; font-weight: bold\">9.849537</span>                  <span style=\"color: #008080; text-decoration-color: #008080; font-weight: bold\">5.226852</span>   \n",
       "\n",
       "        Intensity Mean_channel_4  Intensity Mean_channel_5  \n",
       "<span style=\"color: #008080; text-decoration-color: #008080; font-weight: bold\">-1</span>                           NaN                       NaN  \n",
       " <span style=\"color: #008080; text-decoration-color: #008080; font-weight: bold\">0</span>                      <span style=\"color: #008080; text-decoration-color: #008080; font-weight: bold\">8.055172</span>                  <span style=\"color: #008080; text-decoration-color: #008080; font-weight: bold\">6.006896</span>  \n",
       " <span style=\"color: #008080; text-decoration-color: #008080; font-weight: bold\">1</span>                      <span style=\"color: #008080; text-decoration-color: #008080; font-weight: bold\">6.324455</span>                  <span style=\"color: #008080; text-decoration-color: #008080; font-weight: bold\">4.612591</span>  \n",
       " <span style=\"color: #008080; text-decoration-color: #008080; font-weight: bold\">2</span>                      <span style=\"color: #008080; text-decoration-color: #008080; font-weight: bold\">5.655172</span>                  <span style=\"color: #008080; text-decoration-color: #008080; font-weight: bold\">3.413793</span>  \n",
       " <span style=\"color: #008080; text-decoration-color: #008080; font-weight: bold\">3</span>                     <span style=\"color: #008080; text-decoration-color: #008080; font-weight: bold\">12.138889</span>                  <span style=\"color: #008080; text-decoration-color: #008080; font-weight: bold\">7.750000</span>  \n",
       "<span style=\"color: #808000; text-decoration-color: #808000\">...</span>                          <span style=\"color: #808000; text-decoration-color: #808000\">...</span>                       <span style=\"color: #808000; text-decoration-color: #808000\">...</span>  \n",
       " <span style=\"color: #008080; text-decoration-color: #008080; font-weight: bold\">27815</span>                  <span style=\"color: #008080; text-decoration-color: #008080; font-weight: bold\">3.934783</span>                  <span style=\"color: #008080; text-decoration-color: #008080; font-weight: bold\">4.130435</span>  \n",
       " <span style=\"color: #008080; text-decoration-color: #008080; font-weight: bold\">27816</span>                  <span style=\"color: #008080; text-decoration-color: #008080; font-weight: bold\">3.368000</span>                  <span style=\"color: #008080; text-decoration-color: #008080; font-weight: bold\">4.312000</span>  \n",
       " <span style=\"color: #008080; text-decoration-color: #008080; font-weight: bold\">27817</span>                  <span style=\"color: #008080; text-decoration-color: #008080; font-weight: bold\">7.148148</span>                  <span style=\"color: #008080; text-decoration-color: #008080; font-weight: bold\">5.870370</span>  \n",
       " <span style=\"color: #008080; text-decoration-color: #008080; font-weight: bold\">27818</span>                  <span style=\"color: #008080; text-decoration-color: #008080; font-weight: bold\">4.567862</span>                  <span style=\"color: #008080; text-decoration-color: #008080; font-weight: bold\">5.507682</span>  \n",
       " <span style=\"color: #008080; text-decoration-color: #008080; font-weight: bold\">27819</span>                  <span style=\"color: #008080; text-decoration-color: #008080; font-weight: bold\">6.215278</span>                  <span style=\"color: #008080; text-decoration-color: #008080; font-weight: bold\">6.120370</span>  \n",
       "\n",
       "<span style=\"font-weight: bold\">[</span><span style=\"color: #008080; text-decoration-color: #008080; font-weight: bold\">26014</span> rows x <span style=\"color: #008080; text-decoration-color: #008080; font-weight: bold\">9</span> columns<span style=\"font-weight: bold\">]</span>\n",
       "</pre>\n"
      ],
      "text/plain": [
       "           ID   Position X   Position Y  Position Z  Intensity Mean_channel_1  \\\n",
       "\u001b[1;36m-1\u001b[0m         \u001b[1;36m-1\u001b[0m          NaN          NaN         NaN                       NaN   \n",
       " \u001b[1;36m0\u001b[0m          \u001b[1;36m0\u001b[0m  \u001b[1;36m2189.359131\u001b[0m  \u001b[1;36m2202.812256\u001b[0m   \u001b[1;36m52.783691\u001b[0m                 \u001b[1;36m22.600000\u001b[0m   \n",
       " \u001b[1;36m1\u001b[0m          \u001b[1;36m1\u001b[0m  \u001b[1;36m2183.935791\u001b[0m  \u001b[1;36m2195.771240\u001b[0m   \u001b[1;36m47.824745\u001b[0m                 \u001b[1;36m20.820824\u001b[0m   \n",
       " \u001b[1;36m2\u001b[0m          \u001b[1;36m2\u001b[0m  \u001b[1;36m2178.945068\u001b[0m  \u001b[1;36m2182.046631\u001b[0m   \u001b[1;36m37.426094\u001b[0m                 \u001b[1;36m13.137931\u001b[0m   \n",
       " \u001b[1;36m3\u001b[0m          \u001b[1;36m3\u001b[0m  \u001b[1;36m2204.449463\u001b[0m  \u001b[1;36m2120.961670\u001b[0m   \u001b[1;36m28.069572\u001b[0m                 \u001b[1;36m13.305555\u001b[0m   \n",
       "\u001b[33m...\u001b[0m       \u001b[33m...\u001b[0m          \u001b[33m...\u001b[0m          \u001b[33m...\u001b[0m         \u001b[33m...\u001b[0m                       \u001b[33m...\u001b[0m   \n",
       " \u001b[1;36m27815\u001b[0m  \u001b[1;36m27815\u001b[0m     \u001b[1;36m1.185095\u001b[0m    \u001b[1;36m16.314802\u001b[0m   \u001b[1;36m46.986015\u001b[0m                 \u001b[1;36m13.260870\u001b[0m   \n",
       " \u001b[1;36m27816\u001b[0m  \u001b[1;36m27816\u001b[0m     \u001b[1;36m2.155134\u001b[0m    \u001b[1;36m22.085581\u001b[0m   \u001b[1;36m32.336147\u001b[0m                 \u001b[1;36m12.732000\u001b[0m   \n",
       " \u001b[1;36m27817\u001b[0m  \u001b[1;36m27817\u001b[0m    \u001b[1;36m10.448586\u001b[0m     \u001b[1;36m0.748731\u001b[0m   \u001b[1;36m60.644127\u001b[0m                 \u001b[1;36m19.453703\u001b[0m   \n",
       " \u001b[1;36m27818\u001b[0m  \u001b[1;36m27818\u001b[0m    \u001b[1;36m13.477354\u001b[0m     \u001b[1;36m9.190427\u001b[0m   \u001b[1;36m60.877293\u001b[0m                 \u001b[1;36m19.097952\u001b[0m   \n",
       " \u001b[1;36m27819\u001b[0m  \u001b[1;36m27819\u001b[0m     \u001b[1;36m2.357662\u001b[0m     \u001b[1;36m7.870090\u001b[0m   \u001b[1;36m59.777782\u001b[0m                 \u001b[1;36m22.074074\u001b[0m   \n",
       "\n",
       "        Intensity Mean_channel_2  Intensity Mean_channel_3  \\\n",
       "\u001b[1;36m-1\u001b[0m                           NaN                       NaN   \n",
       " \u001b[1;36m0\u001b[0m                     \u001b[1;36m12.806896\u001b[0m                  \u001b[1;36m6.082758\u001b[0m   \n",
       " \u001b[1;36m1\u001b[0m                      \u001b[1;36m8.719129\u001b[0m                  \u001b[1;36m4.641646\u001b[0m   \n",
       " \u001b[1;36m2\u001b[0m                      \u001b[1;36m5.896552\u001b[0m                  \u001b[1;36m3.241379\u001b[0m   \n",
       " \u001b[1;36m3\u001b[0m                     \u001b[1;36m14.666667\u001b[0m                  \u001b[1;36m8.583333\u001b[0m   \n",
       "\u001b[33m...\u001b[0m                          \u001b[33m...\u001b[0m                       \u001b[33m...\u001b[0m   \n",
       " \u001b[1;36m27815\u001b[0m                  \u001b[1;36m6.739130\u001b[0m                  \u001b[1;36m3.260870\u001b[0m   \n",
       " \u001b[1;36m27816\u001b[0m                  \u001b[1;36m4.512000\u001b[0m                  \u001b[1;36m2.368000\u001b[0m   \n",
       " \u001b[1;36m27817\u001b[0m                 \u001b[1;36m11.342592\u001b[0m                  \u001b[1;36m4.981482\u001b[0m   \n",
       " \u001b[1;36m27818\u001b[0m                 \u001b[1;36m10.386044\u001b[0m                  \u001b[1;36m3.898207\u001b[0m   \n",
       " \u001b[1;36m27819\u001b[0m                  \u001b[1;36m9.849537\u001b[0m                  \u001b[1;36m5.226852\u001b[0m   \n",
       "\n",
       "        Intensity Mean_channel_4  Intensity Mean_channel_5  \n",
       "\u001b[1;36m-1\u001b[0m                           NaN                       NaN  \n",
       " \u001b[1;36m0\u001b[0m                      \u001b[1;36m8.055172\u001b[0m                  \u001b[1;36m6.006896\u001b[0m  \n",
       " \u001b[1;36m1\u001b[0m                      \u001b[1;36m6.324455\u001b[0m                  \u001b[1;36m4.612591\u001b[0m  \n",
       " \u001b[1;36m2\u001b[0m                      \u001b[1;36m5.655172\u001b[0m                  \u001b[1;36m3.413793\u001b[0m  \n",
       " \u001b[1;36m3\u001b[0m                     \u001b[1;36m12.138889\u001b[0m                  \u001b[1;36m7.750000\u001b[0m  \n",
       "\u001b[33m...\u001b[0m                          \u001b[33m...\u001b[0m                       \u001b[33m...\u001b[0m  \n",
       " \u001b[1;36m27815\u001b[0m                  \u001b[1;36m3.934783\u001b[0m                  \u001b[1;36m4.130435\u001b[0m  \n",
       " \u001b[1;36m27816\u001b[0m                  \u001b[1;36m3.368000\u001b[0m                  \u001b[1;36m4.312000\u001b[0m  \n",
       " \u001b[1;36m27817\u001b[0m                  \u001b[1;36m7.148148\u001b[0m                  \u001b[1;36m5.870370\u001b[0m  \n",
       " \u001b[1;36m27818\u001b[0m                  \u001b[1;36m4.567862\u001b[0m                  \u001b[1;36m5.507682\u001b[0m  \n",
       " \u001b[1;36m27819\u001b[0m                  \u001b[1;36m6.215278\u001b[0m                  \u001b[1;36m6.120370\u001b[0m  \n",
       "\n",
       "\u001b[1m[\u001b[0m\u001b[1;36m26014\u001b[0m rows x \u001b[1;36m9\u001b[0m columns\u001b[1m]\u001b[0m\n"
      ]
     },
     "metadata": {},
     "output_type": "display_data"
    }
   ],
   "source": [
    "# create the final id column\n",
    "final_df['ID'] = final_df.index\n",
    "\n",
    "\n",
    "# rearrange\n",
    "final_order = [\n",
    "    'ID',\n",
    "    'Position X',\n",
    "    'Position Y',\n",
    "    'Position Z',\n",
    "    'Intensity Mean_channel_1',\n",
    "    'Intensity Mean_channel_2',\n",
    "    'Intensity Mean_channel_3',\n",
    "    'Intensity Mean_channel_4',\n",
    "    'Intensity Mean_channel_5',\n",
    "]\n",
    "\n",
    "final = final_df[final_order]\n",
    "print(final)"
   ]
  },
  {
   "cell_type": "code",
   "execution_count": null,
   "metadata": {},
   "outputs": [],
   "source": [
    "\n"
   ]
  },
  {
   "cell_type": "code",
   "execution_count": null,
   "metadata": {},
   "outputs": [],
   "source": []
  }
 ],
 "metadata": {
  "kernelspec": {
   "display_name": "Python 3.8.13 ('core')",
   "language": "python",
   "name": "python3"
  },
  "language_info": {
   "codemirror_mode": {
    "name": "ipython",
    "version": 3
   },
   "file_extension": ".py",
   "mimetype": "text/x-python",
   "name": "python",
   "nbconvert_exporter": "python",
   "pygments_lexer": "ipython3",
   "version": "3.8.13"
  },
  "orig_nbformat": 4,
  "vscode": {
   "interpreter": {
    "hash": "04aae946aefb73757d94e4e7bfb7ede85957aa0149a3e71cc39e2fcc66c8e46e"
   }
  }
 },
 "nbformat": 4,
 "nbformat_minor": 2
}
