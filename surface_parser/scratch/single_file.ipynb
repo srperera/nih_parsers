{
 "cells": [
  {
   "cell_type": "code",
   "execution_count": 6,
   "metadata": {},
   "outputs": [],
   "source": [
    "import os\n",
    "import utils\n",
    "import numpy as np\n",
    "import ray\n"
   ]
  },
  {
   "cell_type": "markdown",
   "metadata": {},
   "source": [
    "how should we use this system\n",
    "\n",
    "1. we need a quick way to iterate thru a folder or a single file and return available stats names\n",
    "   this will be the mega list and user will delete which ever ones they dont need and save the \n",
    "   final condensed list as a .txt file. if multiple files or surfaces require different stats \n",
    "   they can create multiple .txt files and then pass them in seperately. \n",
    "\n",
    "2. we have the assumption that for each folder the user will create a seperate config file which\n",
    "   is the meta_config file. "
   ]
  },
  {
   "cell_type": "code",
   "execution_count": null,
   "metadata": {},
   "outputs": [],
   "source": [
    "# how should the config file look for a single ims file\n",
    "# this config should be constructed for each file based on meta_config file\n",
    "\n",
    "# config = {\n",
    "    \n",
    "#     'ims_file_path': ims_file_path,\n",
    "#     'csv_save_path': csv_save_path,\n",
    "#     'valid_surfaces': {\n",
    "#         'surface_1': {\n",
    "#             'valid_stats': valid_stats,\n",
    "#             'organization_order': organization_order,\n",
    "#         },\n",
    "#         'surface_2': {             \n",
    "#             'valid_stats': valid_stats,\n",
    "#             'organization_order': organization_order,\n",
    "#         }\n",
    "#     },\n",
    "#     available_stats_save_path: available_stats_save_path,\n",
    "# }"
   ]
  },
  {
   "cell_type": "code",
   "execution_count": null,
   "metadata": {},
   "outputs": [],
   "source": [
    "# how should the meta_config file look like\n",
    "\n"
   ]
  },
  {
   "cell_type": "code",
   "execution_count": 8,
   "metadata": {},
   "outputs": [],
   "source": [
    "class SurfaceDataContainer:\n",
    "    \"\"\"\n",
    "    Usage Notes:\n",
    "    \n",
    "    -- a single instance of the class will parse stats for a single/multiple surfaces\n",
    "    -- the surface number(s) for which stats needs to be calculated must be includes in config\n",
    "    -- the final surface that will be generated will be saved in the same folder(ask about this)?\n",
    "    -- this function is only used to neatly contain information of a single ims file\n",
    "    \"\"\"\n",
    "    \n",
    "    def __init__(self, \n",
    "                 ims_file_path: str,\n",
    "                 csv_save_path: str,\n",
    "                 valid_surface: int,\n",
    "                 valid_stats: list,\n",
    "                 organization_order: list, \n",
    "                 available_stats_save_path: str=None):\n",
    "        \n",
    "        # load the data so the class has access to this information\n",
    "        self.data = utils.load_ims(ims_file_path)\n",
    "        \n",
    "        # based on the data get the available metasurfaces\n",
    "        self.surface = utils.get_object_names(\n",
    "            full_data_file = self.data, \n",
    "            search_for = 'Surface')[valid_surface]\n",
    "        \n",
    "        # get names of all available statistics names\n",
    "        # format -> key=numeric_id, value=name\n",
    "        self.available_stats = utils.get_statistics_names(\n",
    "            full_data_file = self.data,\n",
    "            object_name = self.surface,\n",
    "        )\n",
    "        \n",
    "        # invert and reorganize stats and flatten\n",
    "        # format -> key=name, value=numeric_id\n",
    "        # the version saved to user to edit\n",
    "        self.inverted_dict = utils.invert_stats_dict(self.available_stats)\n",
    "        self.inverted_dict = utils.flatten(self.inverted_dict)\n",
    "        \n",
    "        # reverse flatten dict\n",
    "        # format -> key=numeric_id, value=name\n",
    "        self.available_stats_final = {v: k for k,v in self.inverted_dict.items()}\n",
    "        \n",
    "        # generate a filename\n",
    "        # filename = ims_file_path + valid_surface\n",
    "        self.filename = ims_file_path + f'_{self.surface}'\n",
    "        \n",
    "        # if available stats save path is provided \n",
    "        # we dont extract and data, we simply provide the user with the available stats\n",
    "        if available_stats_save_path:\n",
    "            save_path = os.path.join(available_stats_save_path, f'{self.filename}.txt')\n",
    "            np.savetxt(save_path, list(self.inverted_dict.keys()), fmt='%s')"
   ]
  },
  {
   "cell_type": "code",
   "execution_count": null,
   "metadata": {},
   "outputs": [],
   "source": [
    "# def extract_and_save(data, surface_name, avilable_stats, )"
   ]
  },
  {
   "cell_type": "code",
   "execution_count": null,
   "metadata": {},
   "outputs": [],
   "source": [
    "    # def filter_statistics(self, inverted_flatten: dict, categories: list) -> list:\n",
    "    #     \"\"\"\n",
    "    #     filter_statistics will search the inverted_flatten dict where data is\n",
    "    #     organized as key=name, value=numeric id to identify statistics we are\n",
    "    #     not interested in. The statistics name we are interested in will be \n",
    "    #     given in the categories list. \n",
    "\n",
    "    #     Args:\n",
    "    #         inverted_flatten (dict): a dictionary with key=stats name, value=numeric id\n",
    "    #         categories (list): a list of statistics names we are interested in\n",
    "\n",
    "    #     Returns:\n",
    "    #         list: a list of statistics name we want to filter out. \n",
    "    #     \"\"\"\n",
    "\n",
    "    #     # create a empty list to store data we want to delete\n",
    "    #     del_list = [None] * (len(inverted_flatten) - len(categories))\n",
    "    #     # iterate and filter\n",
    "    #     counter = 0\n",
    "    #     for stats_name, num_id in inverted_flatten.items():\n",
    "    #         if stats_name not in categories and num_id != None:\n",
    "    #             del_list[counter] = num_id\n",
    "    #             counter += 1\n",
    "        \n",
    "    #     return del_list"
   ]
  }
 ],
 "metadata": {
  "kernelspec": {
   "display_name": "Python 3.8.13 ('core')",
   "language": "python",
   "name": "python3"
  },
  "language_info": {
   "codemirror_mode": {
    "name": "ipython",
    "version": 3
   },
   "file_extension": ".py",
   "mimetype": "text/x-python",
   "name": "python",
   "nbconvert_exporter": "python",
   "pygments_lexer": "ipython3",
   "version": "3.8.13"
  },
  "orig_nbformat": 4,
  "vscode": {
   "interpreter": {
    "hash": "04aae946aefb73757d94e4e7bfb7ede85957aa0149a3e71cc39e2fcc66c8e46e"
   }
  }
 },
 "nbformat": 4,
 "nbformat_minor": 2
}
