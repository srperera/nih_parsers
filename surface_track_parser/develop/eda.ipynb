{
 "cells": [
  {
   "cell_type": "code",
   "execution_count": 65,
   "metadata": {},
   "outputs": [],
   "source": [
    "from utils import *\n",
    "from rich import print as rprint\n",
    "import os\n",
    "from numba import jit, njit\n",
    "import copy\n",
    "import utils\n",
    "#import statscols"
   ]
  },
  {
   "cell_type": "code",
   "execution_count": 66,
   "metadata": {},
   "outputs": [],
   "source": [
    "# load h5py data\n",
    "data = load_ims(\n",
    "    \"/home/shehan/Documents/nih_projects/parsers/data/multi_surface_track_parser_dev_data/GFP #1 Sec2 Roi1 2x2 1h30min.ims\"\n",
    ")"
   ]
  },
  {
   "cell_type": "code",
   "execution_count": 67,
   "metadata": {},
   "outputs": [
    {
     "name": "stdout",
     "output_type": "stream",
     "text": [
      "Content <HDF5 group \"/Scene8/Content\" (8 members)>\n",
      "Data <HDF5 dataset \"Data\": shape (1,), type \"|O\">\n"
     ]
    }
   ],
   "source": [
    "for k, v in data.get('Scene8').items():\n",
    "    print(k, v)"
   ]
  },
  {
   "cell_type": "code",
   "execution_count": 68,
   "metadata": {},
   "outputs": [
    {
     "name": "stdout",
     "output_type": "stream",
     "text": [
      "MegaSurfaces0 <HDF5 group \"/Scene8/Content/MegaSurfaces0\" (40 members)>\n",
      "MegaSurfaces1 <HDF5 group \"/Scene8/Content/MegaSurfaces1\" (40 members)>\n",
      "MegaSurfaces2 <HDF5 group \"/Scene8/Content/MegaSurfaces2\" (40 members)>\n",
      "MegaSurfaces3 <HDF5 group \"/Scene8/Content/MegaSurfaces3\" (40 members)>\n",
      "MegaSurfaces4 <HDF5 group \"/Scene8/Content/MegaSurfaces4\" (40 members)>\n",
      "MegaSurfaces5 <HDF5 group \"/Scene8/Content/MegaSurfaces5\" (40 members)>\n",
      "MegaSurfaces6 <HDF5 group \"/Scene8/Content/MegaSurfaces6\" (40 members)>\n",
      "MegaSurfaces7 <HDF5 group \"/Scene8/Content/MegaSurfaces7\" (40 members)>\n"
     ]
    }
   ],
   "source": [
    "for k, v in data.get('Scene8').get('Content').items():\n",
    "    print(k, v)"
   ]
  },
  {
   "cell_type": "code",
   "execution_count": 69,
   "metadata": {},
   "outputs": [
    {
     "name": "stdout",
     "output_type": "stream",
     "text": [
      "BlockData <HDF5 dataset \"BlockData\": shape (280, 131072), type \"<i8\">\n",
      "BlockInfo <HDF5 dataset \"BlockInfo\": shape (94816,), type \"|V72\">\n",
      "BlockPath <HDF5 dataset \"BlockPath\": shape (0,), type \"|V8\">\n",
      "Category <HDF5 dataset \"Category\": shape (3,), type \"|V520\">\n",
      "CategoryFunction <HDF5 dataset \"CategoryFunction\": shape (1,), type \"|V520\">\n",
      "CreationParameters <HDF5 dataset \"CreationParameters\": shape (1,), type \"|S3506\">\n",
      "Factor <HDF5 dataset \"Factor\": shape (69,), type \"|V520\">\n",
      "FactorFunction <HDF5 dataset \"FactorFunction\": shape (198,), type \"|V520\">\n",
      "FactorList <HDF5 dataset \"FactorList\": shape (44,), type \"|V8\">\n",
      "FactorListFunction <HDF5 dataset \"FactorListFunction\": shape (42,), type \"|V8\">\n",
      "LabelColor <HDF5 dataset \"LabelColor\": shape (1,), type \"|V12\">\n",
      "LabelColorData <HDF5 dataset \"LabelColorData\": shape (2,), type \"|V272\">\n",
      "LabelColorLabelGroupNames <HDF5 dataset \"LabelColorLabelGroupNames\": shape (2,), type \"|V264\">\n",
      "LabelColorLabelValues <HDF5 dataset \"LabelColorLabelValues\": shape (2,), type \"|V256\">\n",
      "LabelGroupNames <HDF5 dataset \"LabelGroupNames\": shape (0,), type \"|V264\">\n",
      "LabelSetLabelIDs <HDF5 dataset \"LabelSetLabelIDs\": shape (0,), type \"|V8\">\n",
      "LabelSetObjectIDs <HDF5 dataset \"LabelSetObjectIDs\": shape (0,), type \"|V8\">\n",
      "LabelSets <HDF5 dataset \"LabelSets\": shape (0,), type \"|V16\">\n",
      "LabelValues <HDF5 dataset \"LabelValues\": shape (0,), type \"|V256\">\n",
      "LevelInfo <HDF5 dataset \"LevelInfo\": shape (94816,), type \"|V24\">\n",
      "MainTrackSegmentTable <HDF5 dataset \"MainTrackSegmentTable\": shape (1,), type \"|V512\">\n",
      "MainTrackSegmentTable_Focus <HDF5 dataset \"MainTrackSegmentTable_Focus\": shape (1,), type \"|V512\">\n",
      "MainTrackTable <HDF5 dataset \"MainTrackTable\": shape (1,), type \"|V1024\">\n",
      "SplitOffset <HDF5 dataset \"SplitOffset\": shape (72301,), type \"|V8\">\n",
      "StatisticsType <HDF5 dataset \"StatisticsType\": shape (11070,), type \"|V536\">\n",
      "StatisticsTypeFunction <HDF5 dataset \"StatisticsTypeFunction\": shape (5346,), type \"|V536\">\n",
      "StatisticsValue <HDF5 dataset \"StatisticsValue\": shape (3109327,), type \"|V32\">\n",
      "StatisticsValueFunction <HDF5 dataset \"StatisticsValueFunction\": shape (69388,), type \"|V40\">\n",
      "StatisticsValueTimeOffset <HDF5 dataset \"StatisticsValueTimeOffset\": shape (81,), type \"|V24\">\n",
      "StatisticsValueTimeOffsetFunction <HDF5 dataset \"StatisticsValueTimeOffsetFunction\": shape (81,), type \"|V24\">\n",
      "SurfaceModel <HDF5 dataset \"SurfaceModel\": shape (22515,), type \"|V116\">\n",
      "SurfaceModelInfo <HDF5 dataset \"SurfaceModelInfo\": shape (22515,), type \"|V256\">\n",
      "SurfaceTimeOffset <HDF5 dataset \"SurfaceTimeOffset\": shape (80,), type \"|V24\">\n",
      "Time <HDF5 dataset \"Time\": shape (80,), type \"|V32\">\n",
      "TimeBegin <HDF5 dataset \"TimeBegin\": shape (1,), type \"|V264\">\n",
      "Track0 <HDF5 dataset \"Track0\": shape (665,), type \"|V40\">\n",
      "TrackEdge0 <HDF5 dataset \"TrackEdge0\": shape (21850,), type \"|V16\">\n",
      "TrackObject0 <HDF5 dataset \"TrackObject0\": shape (22515,), type \"|V8\">\n",
      "TrackSegment0 <HDF5 dataset \"TrackSegment0\": shape (665,), type \"|V24\">\n",
      "TrackSegment0_Focus <HDF5 dataset \"TrackSegment0_Focus\": shape (665,), type \"|V24\">\n"
     ]
    }
   ],
   "source": [
    "for k, v in data.get('Scene8').get('Content').get(\"MegaSurfaces1\").items():\n",
    "    print(k, v)"
   ]
  },
  {
   "cell_type": "code",
   "execution_count": 79,
   "metadata": {},
   "outputs": [
    {
     "data": {
      "text/plain": [
       "array([(b'Surface', 0, 0), (b'Track', 1, 0)],\n",
       "      dtype=[('LabelCategoryName', 'S256'), ('LabelID', '<i8'), ('ColorID', '<i8')])"
      ]
     },
     "execution_count": 79,
     "metadata": {},
     "output_type": "execute_result"
    }
   ],
   "source": [
    "np.array(data.get('Scene8').get('Content').get(\"MegaSurfaces1\").get('LabelColorData'))"
   ]
  },
  {
   "cell_type": "code",
   "execution_count": 81,
   "metadata": {},
   "outputs": [
    {
     "data": {
      "text/plain": [
       "array([(b'Surface_UnlabelName',), (b'Track_UnlabelName',)],\n",
       "      dtype=[('LabelValue', 'S256')])"
      ]
     },
     "execution_count": 81,
     "metadata": {},
     "output_type": "execute_result"
    }
   ],
   "source": [
    "np.asarray(data.get('Scene8').get('Content').get(\"MegaSurfaces1\").get(\"LabelColorLabelValues\"))"
   ]
  },
  {
   "cell_type": "code",
   "execution_count": 73,
   "metadata": {},
   "outputs": [],
   "source": [
    "# np.asarray(data.get('Scene8').get('Content').get(\"MegaSurfaces0\").get(\"FactorFunction\"))"
   ]
  },
  {
   "cell_type": "code",
   "execution_count": null,
   "metadata": {},
   "outputs": [],
   "source": []
  },
  {
   "cell_type": "code",
   "execution_count": null,
   "metadata": {},
   "outputs": [],
   "source": [
    "stats_names = np.asarray(data[\"Scene8\"][\"Content\"][\"MegaSurfaces0\"][\"StatisticsType\"])\n",
    "stats_names"
   ]
  },
  {
   "cell_type": "code",
   "execution_count": null,
   "metadata": {},
   "outputs": [],
   "source": [
    "stats_values = pd.DataFrame(\n",
    "    np.asarray(data[\"Scene8\"][\"Content\"][\"MegaSurfaces0\"][\"StatisticsValue\"])\n",
    ")\n",
    "stats_values"
   ]
  },
  {
   "cell_type": "code",
   "execution_count": null,
   "metadata": {},
   "outputs": [],
   "source": [
    "track_ids = pd.DataFrame(\n",
    "    np.asarray(data[\"Scene8\"][\"Content\"][\"MegaSurfaces0\"][\"Track0\"])\n",
    ")[\"ID\"]\n",
    "type(track_ids)"
   ]
  },
  {
   "cell_type": "code",
   "execution_count": null,
   "metadata": {},
   "outputs": [],
   "source": [
    "# get stats dict for whole ims file\n",
    "full_stats_dict = track_utils.get_statistics_dict(data, \"MegaSurfaces0\")\n",
    "invert_stats_dict = track_utils.invert_stats_dict(full_stats_dict)"
   ]
  },
  {
   "cell_type": "code",
   "execution_count": null,
   "metadata": {},
   "outputs": [],
   "source": [
    "# filter dataset to only have tracks\n",
    "track_only_df = stats_values[stats_values[\"ID_Object\"].isin(track_ids)]"
   ]
  },
  {
   "cell_type": "code",
   "execution_count": null,
   "metadata": {},
   "outputs": [],
   "source": [
    "# filter the full stats dict to only have the info from the tracks\n",
    "filtered_stats = {}\n",
    "for stat_type in track_only_df[\"ID_StatisticsType\"].to_list():\n",
    "    filtered_stats[stat_type] = full_stats_dict[stat_type]\n",
    "\n",
    "full_stats_dict"
   ]
  },
  {
   "cell_type": "code",
   "execution_count": null,
   "metadata": {},
   "outputs": [],
   "source": [
    "inv_filtered = track_utils.invert_stats_dict(filtered_stats)"
   ]
  },
  {
   "cell_type": "code",
   "execution_count": null,
   "metadata": {},
   "outputs": [],
   "source": [
    "invert_stats_dict['Time Index']"
   ]
  },
  {
   "cell_type": "code",
   "execution_count": null,
   "metadata": {},
   "outputs": [],
   "source": []
  },
  {
   "cell_type": "code",
   "execution_count": null,
   "metadata": {},
   "outputs": [],
   "source": []
  },
  {
   "cell_type": "code",
   "execution_count": null,
   "metadata": {},
   "outputs": [],
   "source": []
  },
  {
   "cell_type": "code",
   "execution_count": null,
   "metadata": {},
   "outputs": [],
   "source": []
  },
  {
   "cell_type": "code",
   "execution_count": null,
   "metadata": {},
   "outputs": [],
   "source": []
  },
  {
   "cell_type": "code",
   "execution_count": null,
   "metadata": {},
   "outputs": [],
   "source": [
    "full_stats_dict = track_utils.get_statistics_dict(data, \"MegaSurfaces0\")\n",
    "full_stats_dict[16873]"
   ]
  },
  {
   "cell_type": "code",
   "execution_count": null,
   "metadata": {},
   "outputs": [],
   "source": [
    "f = stats_values[stats_values[\"ID_StatisticsType\"] == 16873]\n",
    "first_objects = f[f[\"Value\"] == 1]['ID_Object']"
   ]
  },
  {
   "cell_type": "code",
   "execution_count": null,
   "metadata": {},
   "outputs": [],
   "source": [
    "stats_values[stats_values['ID_Object'].isin(first_objects)]"
   ]
  },
  {
   "cell_type": "code",
   "execution_count": null,
   "metadata": {},
   "outputs": [],
   "source": [
    "track_and_object_id_info = track_utils.convert_to_matrix(\n",
    "    track_id_data, track_object_data\n",
    ")"
   ]
  },
  {
   "cell_type": "code",
   "execution_count": null,
   "metadata": {},
   "outputs": [],
   "source": [
    "temp_dict = track_utils.create_dict(track_and_object_id_info)"
   ]
  },
  {
   "cell_type": "code",
   "execution_count": null,
   "metadata": {},
   "outputs": [],
   "source": [
    "stats_data = track_utils.extract_data(track_and_object_id_info, stats_values)"
   ]
  },
  {
   "cell_type": "code",
   "execution_count": null,
   "metadata": {},
   "outputs": [],
   "source": [
    "stats_dict[16969]"
   ]
  },
  {
   "cell_type": "code",
   "execution_count": null,
   "metadata": {},
   "outputs": [],
   "source": [
    "inv_stats_dicts = track_utils.invert_stats_dict(stats_dict)"
   ]
  },
  {
   "cell_type": "code",
   "execution_count": null,
   "metadata": {},
   "outputs": [],
   "source": [
    "inv_stats_dicts[\"Time\"]"
   ]
  },
  {
   "cell_type": "code",
   "execution_count": null,
   "metadata": {},
   "outputs": [],
   "source": [
    "statscols = statscols.StatsColumns(\n",
    "    0,\n",
    "    stats_dict,\n",
    "    track_id_data,\n",
    "    track_object_data,\n",
    "    stats_values,\n",
    "    track_and_object_id_info,\n",
    "    stats_data,\n",
    "    inv_stats_dicts,\n",
    ")"
   ]
  },
  {
   "cell_type": "code",
   "execution_count": null,
   "metadata": {},
   "outputs": [],
   "source": [
    "statscols"
   ]
  },
  {
   "cell_type": "code",
   "execution_count": null,
   "metadata": {},
   "outputs": [],
   "source": []
  },
  {
   "cell_type": "code",
   "execution_count": null,
   "metadata": {},
   "outputs": [],
   "source": []
  },
  {
   "cell_type": "code",
   "execution_count": null,
   "metadata": {},
   "outputs": [],
   "source": []
  },
  {
   "cell_type": "code",
   "execution_count": null,
   "metadata": {},
   "outputs": [],
   "source": []
  },
  {
   "cell_type": "code",
   "execution_count": null,
   "metadata": {},
   "outputs": [],
   "source": []
  },
  {
   "cell_type": "code",
   "execution_count": null,
   "metadata": {},
   "outputs": [],
   "source": [
    "## can we get surfaces by modifying following function\n",
    "def get_object_names(full_data_file: h5py.File, search_for: str) -> list:\n",
    "    \"\"\"\n",
    "    _summary_\n",
    "\n",
    "    Args:\n",
    "        full_data_file (h5py._hl.files.File): full imaris file in h5py File format\n",
    "        search_for (str): string containing full or partial filename to search for\n",
    "\n",
    "    Returns:\n",
    "        (list): a list of all the object names that match search_for parameter\n",
    "    \"\"\"\n",
    "\n",
    "    values = full_data_file.get(\"Scene\").get(\"Content\").keys()\n",
    "    storage = list()\n",
    "    for item in values:\n",
    "        if len(re.findall(search_for, item)):\n",
    "            storage.append(item)\n",
    "    return storage\n",
    "\n",
    "\n",
    "# test function -- working\n",
    "out = get_object_names(data, \"Surface\")\n",
    "print(out)"
   ]
  },
  {
   "cell_type": "code",
   "execution_count": null,
   "metadata": {},
   "outputs": [],
   "source": [
    "# once we know the object names we want to extract data from use following function\n",
    "# this function doesnt grab any data values, just names\n",
    "def get_statistics_names(full_data_file: h5py.File, object_name: str) -> dict:\n",
    "    \"\"\"\n",
    "    for a given object_name, extracts the statistics names and ids into a dict\n",
    "    ex: statistics name = mean intensity, associated id=404\n",
    "\n",
    "    Args:\n",
    "        full_data_file (h5py._hl.files.File): full imaris file in h5py File format\n",
    "        object_name (str): name of the object to get statistic names from\n",
    "\n",
    "    Returns:\n",
    "        dict: a dict where the keys=unique stats ID, value=static name\n",
    "    \"\"\"\n",
    "\n",
    "    # get object specific data\n",
    "    obj_specific_data = full_data_file[\"Scene8\"][\"Content\"][object_name]\n",
    "\n",
    "    # rearrange data\n",
    "    statistics_name = np.asarray(obj_specific_data[\"StatisticsType\"])\n",
    "    statistics_name = pd.DataFrame(statistics_name)\n",
    "\n",
    "    # extract statistics names\n",
    "    stats_name = statistics_name[\"Name\"]\n",
    "\n",
    "    # extract statistics ID names\n",
    "    stats_type = statistics_name[\"ID\"]\n",
    "\n",
    "    # combine stats type and stats names\n",
    "    return dict(zip(stats_type, stats_name))\n",
    "\n",
    "\n",
    "# test -- working\n",
    "out_stats_names = get_statistics_names(data, \"MegaSurfaces0\")\n",
    "\n",
    "out_stats_names"
   ]
  },
  {
   "cell_type": "code",
   "execution_count": null,
   "metadata": {},
   "outputs": [],
   "source": [
    "# np.savetxt('test.txt', list(out_stats_names.values()), fmt='%s')"
   ]
  },
  {
   "cell_type": "code",
   "execution_count": null,
   "metadata": {},
   "outputs": [],
   "source": [
    "# once we have the statistics names we can get numerical statistics values\n",
    "# for each object id within the specified object\n",
    "def get_stats_values(full_data_file: h5py.File, object_name: str) -> pd.DataFrame:\n",
    "    \"\"\"\n",
    "    for a given object_name, extracts the statistics values for all object ids\n",
    "    within the object\n",
    "\n",
    "    Args:\n",
    "        full_data_file (h5py._hl.files.File): full imaris file in h5py File format\n",
    "        object_name (str): name of the object to get statistic names from\n",
    "\n",
    "    Returns:\n",
    "        pd.DataFrame: a pandas data frame that contains information about each object id\n",
    "        where each object id has a stats id and associated stats value.\n",
    "    \"\"\"\n",
    "    obj_specific_stats = full_data_file.get(\"Scene8\").get(\"Content\")[object_name][\n",
    "        \"StatisticsValue\"\n",
    "    ]\n",
    "    obj_specific_stats = np.asarray(obj_specific_stats)\n",
    "    return pd.DataFrame(obj_specific_stats)\n",
    "\n",
    "\n",
    "out = get_stats_values(data, \"MegaSurfaces0\").drop(\"ID_Time\", axis=1)\n",
    "print(out)"
   ]
  },
  {
   "cell_type": "code",
   "execution_count": null,
   "metadata": {},
   "outputs": [],
   "source": [
    "out[out[\"ID_StatisticsType\"] == 16991].sort_values(\"ID_Object\")"
   ]
  },
  {
   "cell_type": "code",
   "execution_count": null,
   "metadata": {},
   "outputs": [],
   "source": []
  },
  {
   "cell_type": "code",
   "execution_count": null,
   "metadata": {},
   "outputs": [],
   "source": [
    "extracted_stats = (\n",
    "    out.groupby(\"ID_Object\")[[\"ID_StatisticsType\", \"Value\"]]\n",
    "    .apply(lambda x: x.set_index(\"ID_StatisticsType\").to_dict(orient=\"dict\"))\n",
    "    .to_dict()\n",
    ")\n",
    "extracted_stats = {\n",
    "    k: v[\"Value\"] for k, v in extracted_stats.items()\n",
    "}  # clean up step for line above"
   ]
  },
  {
   "cell_type": "code",
   "execution_count": null,
   "metadata": {},
   "outputs": [],
   "source": [
    "def invert_stats_dict(stats_dict: dict = None):\n",
    "    \"\"\"\n",
    "    creates a inverted_stats_dict --> [Statistics Type: Numeric Value]\n",
    "    \"\"\"\n",
    "\n",
    "    # sort the dict\n",
    "    sorted_dict_key = sorted(stats_dict.keys())\n",
    "    stats_dict = {key: str(stats_dict[key]).strip(\"b\")[1:-1] for key in sorted_dict_key}\n",
    "\n",
    "    # create an empty dictionary\n",
    "    storage = {}\n",
    "\n",
    "    for key in stats_dict.keys():\n",
    "        # if the word is not in the new storage dict\n",
    "        if stats_dict[key] not in storage.keys():\n",
    "            storage[stats_dict[key]] = key\n",
    "        else:\n",
    "            # get the value inside the key\n",
    "            current_value = storage[stats_dict[key]]\n",
    "\n",
    "            # if its a single value create a dict else create a dict\n",
    "            if type(current_value) != dict:\n",
    "                # then its the first value\n",
    "                storage[stats_dict[key]] = {}\n",
    "                storage[stats_dict[key]][\"channel_1\"] = current_value\n",
    "\n",
    "                # current value\n",
    "                storage[stats_dict[key]][\"channel_2\"] = key\n",
    "            else:\n",
    "                # get the length of the dict\n",
    "                count = len(current_value.keys())\n",
    "                # updated count\n",
    "                count += 1\n",
    "                # create new key\n",
    "                new_key = f\"channel_{count}\"\n",
    "                current_value[new_key] = key\n",
    "                storage[stats_dict[key]] = current_value\n",
    "\n",
    "    return storage\n",
    "\n",
    "\n",
    "# we can directly use this to invert the dict\n",
    "# this inverted dict can be used to create the final excel file"
   ]
  },
  {
   "cell_type": "code",
   "execution_count": null,
   "metadata": {},
   "outputs": [],
   "source": [
    "inverted_dict = invert_stats_dict(out_stats_names)\n",
    "categories = [\n",
    "    \"Position X\",\n",
    "    \"Position Y\",\n",
    "    \"Position Z\",\n",
    "    \"Intensity Mean_channel_1\",\n",
    "    \"Intensity Mean_channel_2\",\n",
    "    \"Intensity Mean_channel_3\",\n",
    "    \"Intensity Mean_channel_4\",\n",
    "    \"Intensity Mean_channel_5\",\n",
    "    \"Volume\",\n",
    "]"
   ]
  },
  {
   "cell_type": "code",
   "execution_count": null,
   "metadata": {},
   "outputs": [],
   "source": [
    "# flatten dict\n",
    "from collections.abc import MutableMapping\n",
    "\n",
    "\n",
    "def flatten(d, parent_key=\"\", sep=\"_\"):\n",
    "    items = []\n",
    "    for k, v in d.items():\n",
    "        new_key = parent_key + sep + k if parent_key else k\n",
    "        if isinstance(v, MutableMapping):\n",
    "            items.extend(flatten(v, new_key, sep=sep).items())\n",
    "        else:\n",
    "            items.append((new_key, v))\n",
    "    return dict(items)"
   ]
  },
  {
   "cell_type": "code",
   "execution_count": null,
   "metadata": {},
   "outputs": [],
   "source": [
    "inverted_flatten = flatten(inverted_dict)\n",
    "# can we provide an editable list before anything starts so he can manually select which ones he wants\n",
    "# that way the names match exactly because I control it.\n",
    "\n",
    "# reverse dict again, key=num, value=name\n",
    "final_dict = {v: k for k, v in inverted_flatten.items()}\n",
    "\n",
    "# can we use the categories reqested to create a list of numbers we dont want?\n",
    "del_list = [None] * (len(inverted_flatten) - len(categories))\n",
    "counter = 0\n",
    "for idx, (k, v) in enumerate(inverted_flatten.items()):\n",
    "    if k not in categories and v != None:\n",
    "        del_list[counter] = v\n",
    "        counter += 1"
   ]
  },
  {
   "cell_type": "code",
   "execution_count": null,
   "metadata": {},
   "outputs": [],
   "source": [
    "final_dict[170]"
   ]
  },
  {
   "cell_type": "code",
   "execution_count": null,
   "metadata": {},
   "outputs": [],
   "source": [
    "# map what the user wants to numeric values\n",
    "user_request_numeric = [inverted_flatten[x] for x in categories]\n",
    "\n",
    "# we can look at the final dict where key=num, value=name to filter\n",
    "final_dict_copy = copy.deepcopy(final_dict)\n",
    "for value in user_request_numeric:\n",
    "    final_dict_copy.pop(value)\n",
    "\n",
    "new_del_list = list(final_dict_copy.keys())"
   ]
  },
  {
   "cell_type": "code",
   "execution_count": null,
   "metadata": {},
   "outputs": [],
   "source": [
    "print(len(final_dict_copy.keys()), len(final_dict.keys()), len(user_request_numeric))"
   ]
  },
  {
   "cell_type": "code",
   "execution_count": null,
   "metadata": {},
   "outputs": [],
   "source": []
  },
  {
   "cell_type": "code",
   "execution_count": null,
   "metadata": {},
   "outputs": [],
   "source": []
  },
  {
   "cell_type": "code",
   "execution_count": null,
   "metadata": {},
   "outputs": [],
   "source": [
    "final_df = pd.DataFrame(extracted_stats).transpose()\n",
    "f = final_df.drop(labels=del_list, axis=1)\n",
    "print(f)"
   ]
  },
  {
   "cell_type": "code",
   "execution_count": null,
   "metadata": {},
   "outputs": [],
   "source": [
    "final_df = pd.DataFrame(extracted_stats).transpose()\n",
    "f = final_df.drop(labels=[None], axis=1)\n",
    "print(f)"
   ]
  },
  {
   "cell_type": "code",
   "execution_count": null,
   "metadata": {},
   "outputs": [],
   "source": [
    "# clean up df by changing number to names and rearranging columns\n",
    "columns = f.columns\n",
    "print(columns)\n",
    "\n",
    "new_names = {key: final_dict[key] for key in columns}\n",
    "print(new_names)\n",
    "\n",
    "# rename dict"
   ]
  },
  {
   "cell_type": "code",
   "execution_count": null,
   "metadata": {},
   "outputs": [],
   "source": [
    "final_df = f.rename(new_names, axis=1)\n",
    "print(final_df.head())"
   ]
  },
  {
   "cell_type": "code",
   "execution_count": null,
   "metadata": {},
   "outputs": [],
   "source": [
    "# create the final id column\n",
    "final_df[\"ID\"] = final_df.index\n",
    "\n",
    "\n",
    "# rearrange\n",
    "final_order = [\n",
    "    \"ID\",\n",
    "    \"Position X\",\n",
    "    \"Position Y\",\n",
    "    \"Position Z\",\n",
    "    \"Intensity Mean_channel_1\",\n",
    "    \"Intensity Mean_channel_2\",\n",
    "    \"Intensity Mean_channel_3\",\n",
    "    \"Intensity Mean_channel_4\",\n",
    "    \"Intensity Mean_channel_5\",\n",
    "]\n",
    "\n",
    "final = final_df[final_order]\n",
    "print(final)"
   ]
  },
  {
   "cell_type": "code",
   "execution_count": null,
   "metadata": {},
   "outputs": [],
   "source": []
  },
  {
   "cell_type": "code",
   "execution_count": null,
   "metadata": {},
   "outputs": [],
   "source": []
  }
 ],
 "metadata": {
  "kernelspec": {
   "display_name": "Python 3.8.13 ('core')",
   "language": "python",
   "name": "python3"
  },
  "language_info": {
   "codemirror_mode": {
    "name": "ipython",
    "version": 3
   },
   "file_extension": ".py",
   "mimetype": "text/x-python",
   "name": "python",
   "nbconvert_exporter": "python",
   "pygments_lexer": "ipython3",
   "version": "3.10.10"
  },
  "orig_nbformat": 4,
  "vscode": {
   "interpreter": {
    "hash": "04aae946aefb73757d94e4e7bfb7ede85957aa0149a3e71cc39e2fcc66c8e46e"
   }
  }
 },
 "nbformat": 4,
 "nbformat_minor": 2
}
