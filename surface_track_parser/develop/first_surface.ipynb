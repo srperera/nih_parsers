{
 "cells": [
  {
   "cell_type": "code",
   "execution_count": null,
   "metadata": {},
   "outputs": [],
   "source": [
    "import utils\n",
    "import numpy as np\n",
    "import glob\n",
    "import os\n",
    "import pandas as pd\n",
    "\n",
    "print(np.__version__)\n",
    "from first_surface_parser import extract_and_save\n",
    "import ray"
   ]
  },
  {
   "cell_type": "markdown",
   "metadata": {},
   "source": [
    "Get Available Categories"
   ]
  },
  {
   "cell_type": "code",
   "execution_count": null,
   "metadata": {},
   "outputs": [],
   "source": [
    "def available_categories(ims_file_path: str, valid_surface: int):\n",
    "    # load the imaris file\n",
    "    data = utils.load_ims(ims_file_path)\n",
    "\n",
    "    # get surface we want to parse\n",
    "    surface_name = utils.get_object_names(full_data_file=data, search_for=\"Surface\")[\n",
    "        valid_surface\n",
    "    ]\n",
    "\n",
    "    # get all the statistics names\n",
    "    surface_stats_names = utils.get_statistics_names(\n",
    "        full_data_file=data, object_name=surface_name\n",
    "    )\n",
    "\n",
    "    # get the statistics values in the surface\n",
    "    surface_stats_values = utils.get_stats_values(\n",
    "        full_data_file=data, object_name=surface_name\n",
    "    )\n",
    "\n",
    "    # get only the traack ids\n",
    "    track_ids = utils.get_first_timeframe_objects(\n",
    "        stats_values=surface_stats_values, stats_dict=surface_stats_names\n",
    "    )\n",
    "\n",
    "    # filter full stats values based on track ids\n",
    "    filtered_stats_df = utils.filter_by_object_id(\n",
    "        stats_values=surface_stats_values, object_ids=track_ids\n",
    "    )\n",
    "\n",
    "    # filter stats dict\n",
    "    filtered_dict = utils.filter_stats_dict(\n",
    "        stats_dict=surface_stats_names, filtered_df=filtered_stats_df\n",
    "    )\n",
    "\n",
    "    # invert dictionary + name modifications\n",
    "    # this step is a cosmetic step\n",
    "    inverted_stats_names = utils.invert_stats_dict(filtered_dict)\n",
    "    inverted_stats_names = utils.flatten(inverted_stats_names)\n",
    "\n",
    "    # reverse the stats names again such that key=num, value=name\n",
    "    # final_stats_names = {v: k for k,v in inverted_stats_names.items()}\n",
    "\n",
    "    np.savetxt(\"stats_categories_new3.txt\", list(inverted_stats_names.keys()), fmt=\"%s\")\n",
    "\n",
    "    print(\n",
    "        f\"Saved Stats Categories in directory: {os.path.dirname(os.path.abspath(ims_file_path))}\"\n",
    "    )\n",
    "\n",
    "    # return list(inverted_stats_names.keys())"
   ]
  },
  {
   "cell_type": "code",
   "execution_count": null,
   "metadata": {},
   "outputs": [],
   "source": [
    "def generate_available_categories(config_path: str):\n",
    "    # load config path\n",
    "    yaml = utils.load_yaml(\"config.yaml\")\n",
    "\n",
    "    # files to scan\n",
    "    directories = yaml[\"data_dir\"]\n",
    "\n",
    "    # valid surface\n",
    "    valid_surface = int(yaml[\"valid_surface\"]) - 1\n",
    "\n",
    "    for directory in directories:\n",
    "        # grab all the files in the directory w/ .ims\n",
    "        filenames = list(glob.glob(os.path.join(directory, \"*.ims\")))\n",
    "\n",
    "        for filename in filenames:\n",
    "            # file path\n",
    "            file_path = filename\n",
    "\n",
    "            # print(file_path, filename, 'dafd')\n",
    "\n",
    "            # get and save the available categories csv file\n",
    "            available_categories(file_path, valid_surface)\n",
    "\n",
    "            break\n",
    "\n",
    "        break\n",
    "\n",
    "    print(\"[info] Please Edit The Statistics File\")"
   ]
  },
  {
   "cell_type": "code",
   "execution_count": null,
   "metadata": {},
   "outputs": [],
   "source": [
    "# RUN GENERATE CATEGORIES\n",
    "# generate_available_categories(\"config.yaml\")"
   ]
  },
  {
   "cell_type": "markdown",
   "metadata": {},
   "source": [
    "Generate Statistics "
   ]
  },
  {
   "cell_type": "code",
   "execution_count": null,
   "metadata": {},
   "outputs": [],
   "source": [
    "def generate_statistics(config_path: str):\n",
    "    # load config path\n",
    "    yaml = utils.load_yaml(\"config.yaml\")\n",
    "\n",
    "    # files to scan\n",
    "    directories = yaml[\"data_dir\"]\n",
    "\n",
    "    # get the stats categories\n",
    "    stats_categories = utils.read_txt(yaml[\"stats_category_path\"])\n",
    "\n",
    "    # valid surface\n",
    "    valid_surface = int(yaml[\"valid_surface\"]) - 1\n",
    "\n",
    "    # create a list to hold ray subprocess\n",
    "    processes = []\n",
    "\n",
    "    for directory in directories:\n",
    "        # grab all the files in the directory w/ .ims\n",
    "        filenames = list(glob.glob(os.path.join(directory, \"*.ims\")))\n",
    "\n",
    "        for filename in filenames:\n",
    "            # file path\n",
    "            file_path = filename  # os.path.join(directory, filename)\n",
    "\n",
    "            # save_file_path\n",
    "            save_path = os.path.splitext(filename)[0] + \".csv\"\n",
    "            # save_path = os.path.join(directory, save_path)\n",
    "\n",
    "            # extract and save\n",
    "            processes.append(\n",
    "                extract_and_save.remote(\n",
    "                    file_path, valid_surface, stats_categories, save_path\n",
    "                )\n",
    "            )\n",
    "\n",
    "    print(\"info -- running subprocesses:\")\n",
    "\n",
    "    ray.get(processes)"
   ]
  },
  {
   "cell_type": "code",
   "execution_count": null,
   "metadata": {},
   "outputs": [],
   "source": [
    "# RUN GENERATE STATISTICS\n",
    "generate_statistics(config_path=\"config.yaml\")"
   ]
  },
  {
   "cell_type": "code",
   "execution_count": null,
   "metadata": {},
   "outputs": [],
   "source": [
    "# Working"
   ]
  },
  {
   "cell_type": "code",
   "execution_count": null,
   "metadata": {},
   "outputs": [],
   "source": []
  }
 ],
 "metadata": {
  "kernelspec": {
   "display_name": "Python 3.8.13 ('core')",
   "language": "python",
   "name": "python3"
  },
  "language_info": {
   "codemirror_mode": {
    "name": "ipython",
    "version": 3
   },
   "file_extension": ".py",
   "mimetype": "text/x-python",
   "name": "python",
   "nbconvert_exporter": "python",
   "pygments_lexer": "ipython3",
   "version": "3.10.10"
  },
  "orig_nbformat": 4,
  "vscode": {
   "interpreter": {
    "hash": "04aae946aefb73757d94e4e7bfb7ede85957aa0149a3e71cc39e2fcc66c8e46e"
   }
  }
 },
 "nbformat": 4,
 "nbformat_minor": 2
}
