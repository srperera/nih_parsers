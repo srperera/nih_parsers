{
 "cells": [
  {
   "cell_type": "code",
   "execution_count": 6,
   "metadata": {},
   "outputs": [],
   "source": [
    "import utils\n",
    "import numpy as np\n",
    "import glob\n",
    "import os\n",
    "import pandas as pd\n",
    "import ray"
   ]
  },
  {
   "cell_type": "markdown",
   "metadata": {},
   "source": [
    "Get Available Categories"
   ]
  },
  {
   "cell_type": "code",
   "execution_count": 7,
   "metadata": {},
   "outputs": [],
   "source": [
    "def generate_available_categories(config_path: str):\n",
    "    # load config path\n",
    "    yaml = utils.load_yaml(\"config.yaml\")\n",
    "\n",
    "    # type of parser\n",
    "    parser_type = yaml[\"parser_type\"]\n",
    "\n",
    "    # extract category func\n",
    "    extract_categories = utils.get_category_function(parser_type)\n",
    "\n",
    "    # files to scan\n",
    "    directories = yaml[\"data_dir\"]\n",
    "\n",
    "    # valid surface\n",
    "    valid_surface = int(yaml[\"valid_surface\"]) - 1\n",
    "\n",
    "    for directory in directories:\n",
    "        # grab all the files in the directory w/ .ims\n",
    "        filenames = list(glob.glob(os.path.join(directory, \"*.ims\")))\n",
    "\n",
    "        for filename in filenames:\n",
    "            # file path\n",
    "            file_path = filename\n",
    "\n",
    "            # get and save the available categories csv file\n",
    "            extract_categories(file_path, valid_surface)\n",
    "\n",
    "            break\n",
    "\n",
    "        break\n",
    "\n",
    "    print(\"[info] Please Edit The Statistics File\")"
   ]
  },
  {
   "cell_type": "code",
   "execution_count": 8,
   "metadata": {},
   "outputs": [
    {
     "name": "stdout",
     "output_type": "stream",
     "text": [
      "Saved Stats Categories in directory: /home/shehan/Documents/nih_projects/parsers/data/surface_track_parser_dev_data\n",
      "[info] Please Edit The Statistics File\n"
     ]
    }
   ],
   "source": [
    "# RUN GENERATE CATEGORIES\n",
    "generate_available_categories(\"config.yaml\")"
   ]
  },
  {
   "cell_type": "markdown",
   "metadata": {},
   "source": [
    "Generate Statistics "
   ]
  },
  {
   "cell_type": "code",
   "execution_count": 10,
   "metadata": {},
   "outputs": [],
   "source": [
    "def generate_statistics(config_path: str):\n",
    "    # load config path\n",
    "    yaml = utils.load_yaml(config_path)\n",
    "\n",
    "    ray.init()\n",
    "\n",
    "    # type of parser\n",
    "    parser_type = yaml[\"parser_type\"]\n",
    "\n",
    "    if parser_type == \"track\":\n",
    "        from track_parser import extract_and_save\n",
    "\n",
    "    elif parser_type == \"surface\":\n",
    "        from surface_parser import extract_and_save\n",
    "\n",
    "    elif parser_type == \"first\":\n",
    "        from first_surface_parser import extract_and_save\n",
    "\n",
    "    else:\n",
    "        raise ValueError(\"Invalid Parser Type\")\n",
    "\n",
    "    # files to scan\n",
    "    directories = yaml[\"data_dir\"]\n",
    "\n",
    "    # get the stats categories\n",
    "    stats_categories = utils.read_txt(yaml[\"stats_category_path\"])\n",
    "\n",
    "    # valid surface\n",
    "    valid_surface = int(yaml[\"valid_surface\"]) - 1\n",
    "\n",
    "    # create a list to hold ray subprocess\n",
    "    processes = []\n",
    "\n",
    "    for directory in directories:\n",
    "        # grab all the files in the directory w/ .ims\n",
    "        filenames = list(glob.glob(os.path.join(directory, \"*.ims\")))\n",
    "\n",
    "        for filename in filenames:\n",
    "            # file path\n",
    "            file_path = filename  # os.path.join(directory, filename)\n",
    "\n",
    "            # save_file_path\n",
    "            save_path = utils.get_save_filepath(parser_type, filename)\n",
    "\n",
    "            # extract and save\n",
    "            processes.append(\n",
    "                extract_and_save.remote(\n",
    "                    file_path, valid_surface, stats_categories, save_path\n",
    "                )\n",
    "            )\n",
    "\n",
    "    print(\"info -- running subprocesses:\")\n",
    "\n",
    "    ray.get(processes)"
   ]
  },
  {
   "cell_type": "code",
   "execution_count": 11,
   "metadata": {},
   "outputs": [
    {
     "name": "stderr",
     "output_type": "stream",
     "text": [
      "2023-07-20 21:48:31,124\tINFO worker.py:1636 -- Started a local Ray instance.\n"
     ]
    },
    {
     "ename": "NameError",
     "evalue": "name 'extract_and_save' is not defined",
     "output_type": "error",
     "traceback": [
      "\u001b[0;31m---------------------------------------------------------------------------\u001b[0m",
      "\u001b[0;31mNameError\u001b[0m                                 Traceback (most recent call last)",
      "Cell \u001b[0;32mIn[11], line 2\u001b[0m\n\u001b[1;32m      1\u001b[0m \u001b[39m# RUN GENERATE STATISTICS\u001b[39;00m\n\u001b[0;32m----> 2\u001b[0m generate_statistics(config_path\u001b[39m=\u001b[39;49m\u001b[39m\"\u001b[39;49m\u001b[39mconfig.yaml\u001b[39;49m\u001b[39m\"\u001b[39;49m)\n",
      "Cell \u001b[0;32mIn[10], line 38\u001b[0m, in \u001b[0;36mgenerate_statistics\u001b[0;34m(config_path)\u001b[0m\n\u001b[1;32m     34\u001b[0m         save_path \u001b[39m=\u001b[39m utils\u001b[39m.\u001b[39mget_save_filepath(parser_type, filename)\n\u001b[1;32m     36\u001b[0m         \u001b[39m# extract and save\u001b[39;00m\n\u001b[1;32m     37\u001b[0m         processes\u001b[39m.\u001b[39mappend(\n\u001b[0;32m---> 38\u001b[0m             extract_and_save\u001b[39m.\u001b[39mremote(\n\u001b[1;32m     39\u001b[0m                 file_path, valid_surface, stats_categories, save_path\n\u001b[1;32m     40\u001b[0m             )\n\u001b[1;32m     41\u001b[0m         )\n\u001b[1;32m     43\u001b[0m \u001b[39mprint\u001b[39m(\u001b[39m\"\u001b[39m\u001b[39minfo -- running subprocesses:\u001b[39m\u001b[39m\"\u001b[39m)\n\u001b[1;32m     45\u001b[0m ray\u001b[39m.\u001b[39mget(processes)\n",
      "\u001b[0;31mNameError\u001b[0m: name 'extract_and_save' is not defined"
     ]
    },
    {
     "name": "stderr",
     "output_type": "stream",
     "text": [
      "\u001b[2m\u001b[33m(raylet)\u001b[0m [2023-07-20 21:48:41,030 E 26441 26454] (raylet) file_system_monitor.cc:111: /tmp/ray/session_2023-07-20_21-48-29_525541_23939 is over 95% full, available space: 74704470016; capacity: 1958874054656. Object creation will fail if spilling is required.\n",
      "\u001b[2m\u001b[33m(raylet)\u001b[0m [2023-07-20 21:48:51,041 E 26441 26454] (raylet) file_system_monitor.cc:111: /tmp/ray/session_2023-07-20_21-48-29_525541_23939 is over 95% full, available space: 74703745024; capacity: 1958874054656. Object creation will fail if spilling is required.\n",
      "\u001b[2m\u001b[33m(raylet)\u001b[0m [2023-07-20 21:49:01,053 E 26441 26454] (raylet) file_system_monitor.cc:111: /tmp/ray/session_2023-07-20_21-48-29_525541_23939 is over 95% full, available space: 74703728640; capacity: 1958874054656. Object creation will fail if spilling is required.\n",
      "\u001b[2m\u001b[33m(raylet)\u001b[0m [2023-07-20 21:49:11,065 E 26441 26454] (raylet) file_system_monitor.cc:111: /tmp/ray/session_2023-07-20_21-48-29_525541_23939 is over 95% full, available space: 74703716352; capacity: 1958874054656. Object creation will fail if spilling is required.\n",
      "\u001b[2m\u001b[33m(raylet)\u001b[0m [2023-07-20 21:49:21,079 E 26441 26454] (raylet) file_system_monitor.cc:111: /tmp/ray/session_2023-07-20_21-48-29_525541_23939 is over 95% full, available space: 74703699968; capacity: 1958874054656. Object creation will fail if spilling is required.\n",
      "\u001b[2m\u001b[33m(raylet)\u001b[0m [2023-07-20 21:49:31,092 E 26441 26454] (raylet) file_system_monitor.cc:111: /tmp/ray/session_2023-07-20_21-48-29_525541_23939 is over 95% full, available space: 74703667200; capacity: 1958874054656. Object creation will fail if spilling is required.\n",
      "\u001b[2m\u001b[33m(raylet)\u001b[0m [2023-07-20 21:49:41,103 E 26441 26454] (raylet) file_system_monitor.cc:111: /tmp/ray/session_2023-07-20_21-48-29_525541_23939 is over 95% full, available space: 74703519744; capacity: 1958874054656. Object creation will fail if spilling is required.\n",
      "\u001b[2m\u001b[33m(raylet)\u001b[0m [2023-07-20 21:49:51,116 E 26441 26454] (raylet) file_system_monitor.cc:111: /tmp/ray/session_2023-07-20_21-48-29_525541_23939 is over 95% full, available space: 74703462400; capacity: 1958874054656. Object creation will fail if spilling is required.\n"
     ]
    }
   ],
   "source": [
    "# RUN GENERATE STATISTICS\n",
    "generate_statistics(config_path=\"config.yaml\")"
   ]
  },
  {
   "cell_type": "code",
   "execution_count": 6,
   "metadata": {},
   "outputs": [],
   "source": [
    "# Working"
   ]
  },
  {
   "cell_type": "code",
   "execution_count": null,
   "metadata": {},
   "outputs": [],
   "source": []
  }
 ],
 "metadata": {
  "kernelspec": {
   "display_name": "Python 3.8.13 ('core')",
   "language": "python",
   "name": "python3"
  },
  "language_info": {
   "codemirror_mode": {
    "name": "ipython",
    "version": 3
   },
   "file_extension": ".py",
   "mimetype": "text/x-python",
   "name": "python",
   "nbconvert_exporter": "python",
   "pygments_lexer": "ipython3",
   "version": "3.10.10"
  },
  "orig_nbformat": 4,
  "vscode": {
   "interpreter": {
    "hash": "04aae946aefb73757d94e4e7bfb7ede85957aa0149a3e71cc39e2fcc66c8e46e"
   }
  }
 },
 "nbformat": 4,
 "nbformat_minor": 2
}
