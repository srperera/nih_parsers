{
 "cells": [
  {
   "cell_type": "code",
   "execution_count": 1,
   "metadata": {},
   "outputs": [
    {
     "name": "stdout",
     "output_type": "stream",
     "text": [
      "1.23.5\n"
     ]
    }
   ],
   "source": [
    "import utils\n",
    "import numpy as np\n",
    "import glob\n",
    "import os\n",
    "import pandas as pd\n",
    "\n",
    "print(np.__version__)\n",
    "from surface_parser import extract_and_save\n",
    "import ray"
   ]
  },
  {
   "cell_type": "markdown",
   "metadata": {},
   "source": [
    "Get Available Categories"
   ]
  },
  {
   "cell_type": "code",
   "execution_count": 2,
   "metadata": {},
   "outputs": [],
   "source": [
    "def available_categories(ims_file_path: str, valid_surface: int):\n",
    "    # load the imaris file\n",
    "    data = utils.load_ims(ims_file_path)\n",
    "\n",
    "    # get surface we want to parse\n",
    "    surface_name = utils.get_object_names(full_data_file=data, search_for=\"Surface\")[\n",
    "        valid_surface\n",
    "    ]\n",
    "\n",
    "    # get all the statistics names\n",
    "    surface_stats_names = utils.get_statistics_names(\n",
    "        full_data_file=data, object_name=surface_name\n",
    "    )\n",
    "\n",
    "    # invert dictionary + name modifications\n",
    "    # this step is a cosmetic step\n",
    "    inverted_stats_names = utils.invert_stats_dict(surface_stats_names)\n",
    "    inverted_stats_names = utils.flatten(inverted_stats_names)\n",
    "\n",
    "    # reverse the stats names again such that key=num, value=name\n",
    "    # final_stats_names = {v: k for k,v in inverted_stats_names.items()}\n",
    "\n",
    "    np.savetxt(\"stats_categories_new.txt\", list(inverted_stats_names.keys()), fmt=\"%s\")\n",
    "\n",
    "    print(\n",
    "        f\"Saved Stats Categories in directory: {os.path.dirname(os.path.abspath(ims_file_path))}\"\n",
    "    )\n",
    "\n",
    "    # return list(inverted_stats_names.keys())"
   ]
  },
  {
   "cell_type": "code",
   "execution_count": 3,
   "metadata": {},
   "outputs": [],
   "source": [
    "def generate_available_categories(config_path: str):\n",
    "    # load config path\n",
    "    yaml = utils.load_yaml(\"config.yaml\")\n",
    "\n",
    "    # files to scan\n",
    "    directories = yaml[\"data_dir\"]\n",
    "\n",
    "    # valid surface\n",
    "    valid_surface = int(yaml[\"valid_surface\"]) - 1\n",
    "\n",
    "    for directory in directories:\n",
    "        # grab all the files in the directory w/ .ims\n",
    "        filenames = list(glob.glob(os.path.join(directory, \"*.ims\")))\n",
    "\n",
    "        for filename in filenames:\n",
    "            # file path\n",
    "            file_path = filename\n",
    "\n",
    "            # print(file_path, filename, 'dafd')\n",
    "\n",
    "            # get and save the available categories csv file\n",
    "            available_categories(file_path, valid_surface)\n",
    "\n",
    "            break\n",
    "\n",
    "        break\n",
    "\n",
    "    print(\"[info] Please Edit The Statistics File\")"
   ]
  },
  {
   "cell_type": "code",
   "execution_count": null,
   "metadata": {},
   "outputs": [],
   "source": [
    "# RUN GENERATE CATEGORIES\n",
    "# generate_available_categories('config.yaml')"
   ]
  },
  {
   "cell_type": "markdown",
   "metadata": {},
   "source": [
    "Generate Statistics "
   ]
  },
  {
   "cell_type": "code",
   "execution_count": 4,
   "metadata": {},
   "outputs": [],
   "source": [
    "def generate_statistics(config_path: str):\n",
    "    # load config path\n",
    "    yaml = utils.load_yaml(\"config.yaml\")\n",
    "\n",
    "    # files to scan\n",
    "    directories = yaml[\"data_dir\"]\n",
    "\n",
    "    # get the stats categories\n",
    "    stats_categories = utils.read_txt(yaml[\"stats_category_path\"])\n",
    "\n",
    "    # valid surface\n",
    "    valid_surface = int(yaml[\"valid_surface\"]) - 1\n",
    "\n",
    "    # create a list to hold ray subprocess\n",
    "    processes = []\n",
    "\n",
    "    for directory in directories:\n",
    "        # grab all the files in the directory w/ .ims\n",
    "        filenames = list(glob.glob(os.path.join(directory, \"*.ims\")))\n",
    "\n",
    "        for filename in filenames:\n",
    "            # file path\n",
    "            file_path = filename  # os.path.join(directory, filename)\n",
    "\n",
    "            # save_file_path\n",
    "            save_path = os.path.splitext(filename)[0] + \".csv\"\n",
    "            # save_path = os.path.join(directory, save_path)\n",
    "\n",
    "            # extract and save\n",
    "            processes.append(\n",
    "                extract_and_save.remote(\n",
    "                    file_path, valid_surface, stats_categories, save_path\n",
    "                )\n",
    "            )\n",
    "\n",
    "    print(\"info -- running subprocesses:\")\n",
    "\n",
    "    ray.get(processes)"
   ]
  },
  {
   "cell_type": "code",
   "execution_count": 5,
   "metadata": {},
   "outputs": [
    {
     "name": "stderr",
     "output_type": "stream",
     "text": [
      "2023-08-16 18:19:32,057\tINFO worker.py:1621 -- Started a local Ray instance.\n"
     ]
    },
    {
     "name": "stdout",
     "output_type": "stream",
     "text": [
      "info -- running subprocesses:\n",
      "\u001b[2m\u001b[36m(extract_and_save pid=278049)\u001b[0m [info] working on file /home/shehan/Documents/nih_projects/parsers/data/temp/ILN with VLP Tiled 12x18 incomplete.ims\n"
     ]
    },
    {
     "name": "stderr",
     "output_type": "stream",
     "text": [
      "\u001b[2m\u001b[33m(raylet)\u001b[0m [2023-08-16 18:19:41,958 E 277961 277975] (raylet) file_system_monitor.cc:111: /tmp/ray/session_2023-08-16_18-19-30_335449_277809 is over 95% full, available space: 32223543296; capacity: 1958874054656. Object creation will fail if spilling is required.\n"
     ]
    },
    {
     "name": "stdout",
     "output_type": "stream",
     "text": [
      "\u001b[2m\u001b[36m(extract_and_save pid=278049)\u001b[0m --- [warning] -- user requested category Track Duration is NOT in current file\n",
      "\u001b[2m\u001b[36m(extract_and_save pid=278049)\u001b[0m --- [warning] -- user requested category Acceleration is NOT in current file\n",
      "\u001b[2m\u001b[36m(extract_and_save pid=278049)\u001b[0m --- [warning] -- user requested category Acceleration X is NOT in current file\n",
      "\u001b[2m\u001b[36m(extract_and_save pid=278049)\u001b[0m --- [warning] -- user requested category Acceleration Y is NOT in current file\n",
      "\u001b[2m\u001b[36m(extract_and_save pid=278049)\u001b[0m --- [warning] -- user requested category Acceleration Z is NOT in current file\n",
      "\u001b[2m\u001b[36m(extract_and_save pid=278049)\u001b[0m --- [warning] -- user requested category Displacement Delta Length is NOT in current file\n",
      "\u001b[2m\u001b[36m(extract_and_save pid=278049)\u001b[0m --- [warning] -- user requested category Displacement Delta X is NOT in current file\n",
      "\u001b[2m\u001b[36m(extract_and_save pid=278049)\u001b[0m --- [warning] -- user requested category Displacement Delta Y is NOT in current file\n",
      "\u001b[2m\u001b[36m(extract_and_save pid=278049)\u001b[0m --- [warning] -- user requested category Displacement Delta Z is NOT in current file\n",
      "\u001b[2m\u001b[36m(extract_and_save pid=278049)\u001b[0m --- [warning] -- user requested category Displacement Length is NOT in current file\n",
      "\u001b[2m\u001b[36m(extract_and_save pid=278049)\u001b[0m --- [warning] -- user requested category Displacement X is NOT in current file\n",
      "\u001b[2m\u001b[36m(extract_and_save pid=278049)\u001b[0m --- [warning] -- user requested category Displacement Y is NOT in current file\n",
      "\u001b[2m\u001b[36m(extract_and_save pid=278049)\u001b[0m --- [warning] -- user requested category Displacement Z is NOT in current file\n",
      "\u001b[2m\u001b[36m(extract_and_save pid=278049)\u001b[0m --- [warning] -- user requested category Displacement^2 is NOT in current file\n",
      "\u001b[2m\u001b[36m(extract_and_save pid=278049)\u001b[0m --- [warning] -- user requested category Speed is NOT in current file\n",
      "\u001b[2m\u001b[36m(extract_and_save pid=278049)\u001b[0m --- [warning] -- user requested category Time Since Track Start is NOT in current file\n",
      "\u001b[2m\u001b[36m(extract_and_save pid=278049)\u001b[0m --- [warning] -- user requested category Track Ar1 Mean is NOT in current file\n",
      "\u001b[2m\u001b[36m(extract_and_save pid=278049)\u001b[0m --- [warning] -- user requested category Track Ar1 X is NOT in current file\n",
      "\u001b[2m\u001b[36m(extract_and_save pid=278049)\u001b[0m --- [warning] -- user requested category Track Ar1 Y is NOT in current file\n",
      "\u001b[2m\u001b[36m(extract_and_save pid=278049)\u001b[0m --- [warning] -- user requested category Track Ar1 Z is NOT in current file\n",
      "\u001b[2m\u001b[36m(extract_and_save pid=278049)\u001b[0m --- [warning] -- user requested category Track Area Mean is NOT in current file\n",
      "\u001b[2m\u001b[36m(extract_and_save pid=278049)\u001b[0m --- [warning] -- user requested category Track Center of Homogeneous Mass X is NOT in current file\n",
      "\u001b[2m\u001b[36m(extract_and_save pid=278049)\u001b[0m --- [warning] -- user requested category Track Center of Homogeneous Mass Y is NOT in current file\n",
      "\u001b[2m\u001b[36m(extract_and_save pid=278049)\u001b[0m --- [warning] -- user requested category Track Center of Homogeneous Mass Z is NOT in current file\n",
      "\u001b[2m\u001b[36m(extract_and_save pid=278049)\u001b[0m --- [warning] -- user requested category Track Center of Image Mass X_channel_1 is NOT in current file\n",
      "\u001b[2m\u001b[36m(extract_and_save pid=278049)\u001b[0m --- [warning] -- user requested category Track Center of Image Mass X_channel_2 is NOT in current file\n",
      "\u001b[2m\u001b[36m(extract_and_save pid=278049)\u001b[0m --- [warning] -- user requested category Track Center of Image Mass X_channel_3 is NOT in current file\n",
      "\u001b[2m\u001b[36m(extract_and_save pid=278049)\u001b[0m --- [warning] -- user requested category Track Center of Image Mass X_channel_4 is NOT in current file\n",
      "\u001b[2m\u001b[36m(extract_and_save pid=278049)\u001b[0m --- [warning] -- user requested category Track Center of Image Mass X_channel_5 is NOT in current file\n",
      "\u001b[2m\u001b[36m(extract_and_save pid=278049)\u001b[0m --- [warning] -- user requested category Track Center of Image Mass X_channel_6 is NOT in current file\n",
      "\u001b[2m\u001b[36m(extract_and_save pid=278049)\u001b[0m --- [warning] -- user requested category Track Center of Image Mass Y_channel_1 is NOT in current file\n",
      "\u001b[2m\u001b[36m(extract_and_save pid=278049)\u001b[0m --- [warning] -- user requested category Track Center of Image Mass Y_channel_2 is NOT in current file\n",
      "\u001b[2m\u001b[36m(extract_and_save pid=278049)\u001b[0m --- [warning] -- user requested category Track Center of Image Mass Y_channel_3 is NOT in current file\n",
      "\u001b[2m\u001b[36m(extract_and_save pid=278049)\u001b[0m --- [warning] -- user requested category Track Center of Image Mass Y_channel_4 is NOT in current file\n",
      "\u001b[2m\u001b[36m(extract_and_save pid=278049)\u001b[0m --- [warning] -- user requested category Track Center of Image Mass Y_channel_5 is NOT in current file\n",
      "\u001b[2m\u001b[36m(extract_and_save pid=278049)\u001b[0m --- [warning] -- user requested category Track Center of Image Mass Y_channel_6 is NOT in current file\n",
      "\u001b[2m\u001b[36m(extract_and_save pid=278049)\u001b[0m --- [warning] -- user requested category Track Center of Image Mass Z_channel_1 is NOT in current file\n",
      "\u001b[2m\u001b[36m(extract_and_save pid=278049)\u001b[0m --- [warning] -- user requested category Track Center of Image Mass Z_channel_2 is NOT in current file\n",
      "\u001b[2m\u001b[36m(extract_and_save pid=278049)\u001b[0m --- [warning] -- user requested category Track Center of Image Mass Z_channel_3 is NOT in current file\n",
      "\u001b[2m\u001b[36m(extract_and_save pid=278049)\u001b[0m --- [warning] -- user requested category Track Center of Image Mass Z_channel_4 is NOT in current file\n",
      "\u001b[2m\u001b[36m(extract_and_save pid=278049)\u001b[0m --- [warning] -- user requested category Track Center of Image Mass Z_channel_5 is NOT in current file\n",
      "\u001b[2m\u001b[36m(extract_and_save pid=278049)\u001b[0m --- [warning] -- user requested category Track Center of Image Mass Z_channel_6 is NOT in current file\n",
      "\u001b[2m\u001b[36m(extract_and_save pid=278049)\u001b[0m --- [warning] -- user requested category Track Displacement Length is NOT in current file\n",
      "\u001b[2m\u001b[36m(extract_and_save pid=278049)\u001b[0m --- [warning] -- user requested category Track Displacement X is NOT in current file\n",
      "\u001b[2m\u001b[36m(extract_and_save pid=278049)\u001b[0m --- [warning] -- user requested category Track Displacement Y is NOT in current file\n",
      "\u001b[2m\u001b[36m(extract_and_save pid=278049)\u001b[0m --- [warning] -- user requested category Track Displacement Z is NOT in current file\n",
      "\u001b[2m\u001b[36m(extract_and_save pid=278049)\u001b[0m --- [warning] -- user requested category Track Ellipsoid Axis A X Mean is NOT in current file\n",
      "\u001b[2m\u001b[36m(extract_and_save pid=278049)\u001b[0m --- [warning] -- user requested category Track Ellipsoid Axis A Y Mean is NOT in current file\n",
      "\u001b[2m\u001b[36m(extract_and_save pid=278049)\u001b[0m --- [warning] -- user requested category Track Ellipsoid Axis A Z Mean is NOT in current file\n",
      "\u001b[2m\u001b[36m(extract_and_save pid=278049)\u001b[0m --- [warning] -- user requested category Track Ellipsoid Axis B X Mean is NOT in current file\n",
      "\u001b[2m\u001b[36m(extract_and_save pid=278049)\u001b[0m --- [warning] -- user requested category Track Ellipsoid Axis B Y Mean is NOT in current file\n",
      "\u001b[2m\u001b[36m(extract_and_save pid=278049)\u001b[0m --- [warning] -- user requested category Track Ellipsoid Axis B Z Mean is NOT in current file\n",
      "\u001b[2m\u001b[36m(extract_and_save pid=278049)\u001b[0m --- [warning] -- user requested category Track Ellipsoid Axis C X Mean is NOT in current file\n",
      "\u001b[2m\u001b[36m(extract_and_save pid=278049)\u001b[0m --- [warning] -- user requested category Track Ellipsoid Axis C Y Mean is NOT in current file\n",
      "\u001b[2m\u001b[36m(extract_and_save pid=278049)\u001b[0m --- [warning] -- user requested category Track Ellipsoid Axis C Z Mean is NOT in current file\n",
      "\u001b[2m\u001b[36m(extract_and_save pid=278049)\u001b[0m --- [warning] -- user requested category Track Ellipsoid Axis Length A Mean is NOT in current file\n",
      "\u001b[2m\u001b[36m(extract_and_save pid=278049)\u001b[0m --- [warning] -- user requested category Track Ellipsoid Axis Length B Mean is NOT in current file\n",
      "\u001b[2m\u001b[36m(extract_and_save pid=278049)\u001b[0m --- [warning] -- user requested category Track Ellipsoid Axis Length C Mean is NOT in current file\n",
      "\u001b[2m\u001b[36m(extract_and_save pid=278049)\u001b[0m --- [warning] -- user requested category Track Ellipticity Oblate Mean is NOT in current file\n",
      "\u001b[2m\u001b[36m(extract_and_save pid=278049)\u001b[0m --- [warning] -- user requested category Track Ellipticity Prolate Mean is NOT in current file\n",
      "\u001b[2m\u001b[36m(extract_and_save pid=278049)\u001b[0m --- [warning] -- user requested category Track Intensity Center Mean_channel_1 is NOT in current file\n",
      "\u001b[2m\u001b[36m(extract_and_save pid=278049)\u001b[0m --- [warning] -- user requested category Track Intensity Center Mean_channel_2 is NOT in current file\n",
      "\u001b[2m\u001b[36m(extract_and_save pid=278049)\u001b[0m --- [warning] -- user requested category Track Intensity Center Mean_channel_3 is NOT in current file\n",
      "\u001b[2m\u001b[36m(extract_and_save pid=278049)\u001b[0m --- [warning] -- user requested category Track Intensity Center Mean_channel_4 is NOT in current file\n",
      "\u001b[2m\u001b[36m(extract_and_save pid=278049)\u001b[0m --- [warning] -- user requested category Track Intensity Center Mean_channel_5 is NOT in current file\n",
      "\u001b[2m\u001b[36m(extract_and_save pid=278049)\u001b[0m --- [warning] -- user requested category Track Intensity Center Mean_channel_6 is NOT in current file\n",
      "\u001b[2m\u001b[36m(extract_and_save pid=278049)\u001b[0m --- [warning] -- user requested category Track Intensity Max_channel_1 is NOT in current file\n",
      "\u001b[2m\u001b[36m(extract_and_save pid=278049)\u001b[0m --- [warning] -- user requested category Track Intensity Max_channel_2 is NOT in current file\n",
      "\u001b[2m\u001b[36m(extract_and_save pid=278049)\u001b[0m --- [warning] -- user requested category Track Intensity Max_channel_3 is NOT in current file\n",
      "\u001b[2m\u001b[36m(extract_and_save pid=278049)\u001b[0m --- [warning] -- user requested category Track Intensity Max_channel_4 is NOT in current file\n",
      "\u001b[2m\u001b[36m(extract_and_save pid=278049)\u001b[0m --- [warning] -- user requested category Track Intensity Max_channel_5 is NOT in current file\n",
      "\u001b[2m\u001b[36m(extract_and_save pid=278049)\u001b[0m --- [warning] -- user requested category Track Intensity Max_channel_6 is NOT in current file\n",
      "\u001b[2m\u001b[36m(extract_and_save pid=278049)\u001b[0m --- [warning] -- user requested category Track Intensity Mean_channel_1 is NOT in current file\n",
      "\u001b[2m\u001b[36m(extract_and_save pid=278049)\u001b[0m --- [warning] -- user requested category Track Intensity Mean_channel_2 is NOT in current file\n",
      "\u001b[2m\u001b[36m(extract_and_save pid=278049)\u001b[0m --- [warning] -- user requested category Track Intensity Mean_channel_3 is NOT in current file\n",
      "\u001b[2m\u001b[36m(extract_and_save pid=278049)\u001b[0m --- [warning] -- user requested category Track Intensity Mean_channel_4 is NOT in current file\n",
      "\u001b[2m\u001b[36m(extract_and_save pid=278049)\u001b[0m --- [warning] -- user requested category Track Intensity Mean_channel_5 is NOT in current file\n",
      "\u001b[2m\u001b[36m(extract_and_save pid=278049)\u001b[0m --- [warning] -- user requested category Track Intensity Mean_channel_6 is NOT in current file\n",
      "\u001b[2m\u001b[36m(extract_and_save pid=278049)\u001b[0m --- [warning] -- user requested category Track Intensity Median_channel_1 is NOT in current file\n",
      "\u001b[2m\u001b[36m(extract_and_save pid=278049)\u001b[0m --- [warning] -- user requested category Track Intensity Median_channel_2 is NOT in current file\n",
      "\u001b[2m\u001b[36m(extract_and_save pid=278049)\u001b[0m --- [warning] -- user requested category Track Intensity Median_channel_3 is NOT in current file\n",
      "\u001b[2m\u001b[36m(extract_and_save pid=278049)\u001b[0m --- [warning] -- user requested category Track Intensity Median_channel_4 is NOT in current file\n",
      "\u001b[2m\u001b[36m(extract_and_save pid=278049)\u001b[0m --- [warning] -- user requested category Track Intensity Median_channel_5 is NOT in current file\n",
      "\u001b[2m\u001b[36m(extract_and_save pid=278049)\u001b[0m --- [warning] -- user requested category Track Intensity Median_channel_6 is NOT in current file\n",
      "\u001b[2m\u001b[36m(extract_and_save pid=278049)\u001b[0m --- [warning] -- user requested category Track Intensity Min_channel_1 is NOT in current file\n",
      "\u001b[2m\u001b[36m(extract_and_save pid=278049)\u001b[0m --- [warning] -- user requested category Track Intensity Min_channel_2 is NOT in current file\n",
      "\u001b[2m\u001b[36m(extract_and_save pid=278049)\u001b[0m --- [warning] -- user requested category Track Intensity Min_channel_3 is NOT in current file\n",
      "\u001b[2m\u001b[36m(extract_and_save pid=278049)\u001b[0m --- [warning] -- user requested category Track Intensity Min_channel_4 is NOT in current file\n",
      "\u001b[2m\u001b[36m(extract_and_save pid=278049)\u001b[0m --- [warning] -- user requested category Track Intensity Min_channel_5 is NOT in current file\n",
      "\u001b[2m\u001b[36m(extract_and_save pid=278049)\u001b[0m --- [warning] -- user requested category Track Intensity Min_channel_6 is NOT in current file\n",
      "\u001b[2m\u001b[36m(extract_and_save pid=278049)\u001b[0m --- [warning] -- user requested category Track Intensity StdDev_channel_1 is NOT in current file\n",
      "\u001b[2m\u001b[36m(extract_and_save pid=278049)\u001b[0m --- [warning] -- user requested category Track Intensity StdDev_channel_2 is NOT in current file\n",
      "\u001b[2m\u001b[36m(extract_and_save pid=278049)\u001b[0m --- [warning] -- user requested category Track Intensity StdDev_channel_3 is NOT in current file\n",
      "\u001b[2m\u001b[36m(extract_and_save pid=278049)\u001b[0m --- [warning] -- user requested category Track Intensity StdDev_channel_4 is NOT in current file\n",
      "\u001b[2m\u001b[36m(extract_and_save pid=278049)\u001b[0m --- [warning] -- user requested category Track Intensity StdDev_channel_5 is NOT in current file\n",
      "\u001b[2m\u001b[36m(extract_and_save pid=278049)\u001b[0m --- [warning] -- user requested category Track Intensity StdDev_channel_6 is NOT in current file\n",
      "\u001b[2m\u001b[36m(extract_and_save pid=278049)\u001b[0m --- [warning] -- user requested category Track Intensity Sum_channel_1 is NOT in current file\n",
      "\u001b[2m\u001b[36m(extract_and_save pid=278049)\u001b[0m --- [warning] -- user requested category Track Intensity Sum_channel_2 is NOT in current file\n",
      "\u001b[2m\u001b[36m(extract_and_save pid=278049)\u001b[0m --- [warning] -- user requested category Track Intensity Sum_channel_3 is NOT in current file\n",
      "\u001b[2m\u001b[36m(extract_and_save pid=278049)\u001b[0m --- [warning] -- user requested category Track Intensity Sum_channel_4 is NOT in current file\n",
      "\u001b[2m\u001b[36m(extract_and_save pid=278049)\u001b[0m --- [warning] -- user requested category Track Intensity Sum_channel_5 is NOT in current file\n",
      "\u001b[2m\u001b[36m(extract_and_save pid=278049)\u001b[0m --- [warning] -- user requested category Track Intensity Sum_channel_6 is NOT in current file\n",
      "\u001b[2m\u001b[36m(extract_and_save pid=278049)\u001b[0m --- [warning] -- user requested category Track Length is NOT in current file\n",
      "\u001b[2m\u001b[36m(extract_and_save pid=278049)\u001b[0m --- [warning] -- user requested category Track Number Of Generations is NOT in current file\n",
      "\u001b[2m\u001b[36m(extract_and_save pid=278049)\u001b[0m --- [warning] -- user requested category Track Number of Branches is NOT in current file\n",
      "\u001b[2m\u001b[36m(extract_and_save pid=278049)\u001b[0m --- [warning] -- user requested category Track Number of Fusions is NOT in current file\n",
      "\u001b[2m\u001b[36m(extract_and_save pid=278049)\u001b[0m --- [warning] -- user requested category Track Number of Surfaces is NOT in current file\n",
      "\u001b[2m\u001b[36m(extract_and_save pid=278049)\u001b[0m --- [warning] -- user requested category Track Number of Triangles is NOT in current file\n",
      "\u001b[2m\u001b[36m(extract_and_save pid=278049)\u001b[0m --- [warning] -- user requested category Track Number of Voxels is NOT in current file\n",
      "\u001b[2m\u001b[36m(extract_and_save pid=278049)\u001b[0m --- [warning] -- user requested category Track Position X Mean is NOT in current file\n",
      "\u001b[2m\u001b[36m(extract_and_save pid=278049)\u001b[0m --- [warning] -- user requested category Track Position X Start is NOT in current file\n",
      "\u001b[2m\u001b[36m(extract_and_save pid=278049)\u001b[0m --- [warning] -- user requested category Track Position Y Mean is NOT in current file\n",
      "\u001b[2m\u001b[36m(extract_and_save pid=278049)\u001b[0m --- [warning] -- user requested category Track Position Y Start is NOT in current file\n",
      "\u001b[2m\u001b[36m(extract_and_save pid=278049)\u001b[0m --- [warning] -- user requested category Track Position Z Mean is NOT in current file\n",
      "\u001b[2m\u001b[36m(extract_and_save pid=278049)\u001b[0m --- [warning] -- user requested category Track Position Z Start is NOT in current file\n",
      "\u001b[2m\u001b[36m(extract_and_save pid=278049)\u001b[0m --- [warning] -- user requested category Track Shortest Distance to Surfaces Min_channel_1 is NOT in current file\n",
      "\u001b[2m\u001b[36m(extract_and_save pid=278049)\u001b[0m --- [warning] -- user requested category Track Shortest Distance to Surfaces Min_channel_2 is NOT in current file\n",
      "\u001b[2m\u001b[36m(extract_and_save pid=278049)\u001b[0m --- [warning] -- user requested category Track Shortest Distance to Surfaces Min_channel_3 is NOT in current file\n",
      "\u001b[2m\u001b[36m(extract_and_save pid=278049)\u001b[0m --- [warning] -- user requested category Track Speed Max is NOT in current file\n",
      "\u001b[2m\u001b[36m(extract_and_save pid=278049)\u001b[0m --- [warning] -- user requested category Track Speed Mean is NOT in current file\n",
      "\u001b[2m\u001b[36m(extract_and_save pid=278049)\u001b[0m --- [warning] -- user requested category Track Speed Min is NOT in current file\n",
      "\u001b[2m\u001b[36m(extract_and_save pid=278049)\u001b[0m --- [warning] -- user requested category Track Speed StdDev is NOT in current file\n",
      "\u001b[2m\u001b[36m(extract_and_save pid=278049)\u001b[0m --- [warning] -- user requested category Track Speed Variation is NOT in current file\n",
      "\u001b[2m\u001b[36m(extract_and_save pid=278049)\u001b[0m --- [warning] -- user requested category Track Sphericity Mean is NOT in current file\n",
      "\u001b[2m\u001b[36m(extract_and_save pid=278049)\u001b[0m --- [warning] -- user requested category Track Straightness is NOT in current file\n",
      "\u001b[2m\u001b[36m(extract_and_save pid=278049)\u001b[0m --- [warning] -- user requested category Track Volume Mean is NOT in current file\n",
      "\u001b[2m\u001b[36m(extract_and_save pid=278049)\u001b[0m --- [warning] -- user requested category Velocity Angle X is NOT in current file\n",
      "\u001b[2m\u001b[36m(extract_and_save pid=278049)\u001b[0m --- [warning] -- user requested category Velocity Angle Y is NOT in current file\n",
      "\u001b[2m\u001b[36m(extract_and_save pid=278049)\u001b[0m --- [warning] -- user requested category Velocity Angle Z is NOT in current file\n",
      "\u001b[2m\u001b[36m(extract_and_save pid=278049)\u001b[0m --- [warning] -- user requested category Velocity X is NOT in current file\n",
      "\u001b[2m\u001b[36m(extract_and_save pid=278049)\u001b[0m --- [warning] -- user requested category Velocity Y is NOT in current file\n",
      "\u001b[2m\u001b[36m(extract_and_save pid=278049)\u001b[0m --- [warning] -- user requested category Velocity Z is NOT in current file\n",
      "\u001b[2m\u001b[36m(extract_and_save pid=278049)\u001b[0m [info] finished! \n",
      "\u001b[2m\u001b[36m(extract_and_save pid=278049)\u001b[0m \n"
     ]
    },
    {
     "name": "stderr",
     "output_type": "stream",
     "text": [
      "\u001b[2m\u001b[33m(raylet)\u001b[0m [2023-08-16 18:19:51,969 E 277961 277975] (raylet) file_system_monitor.cc:111: /tmp/ray/session_2023-08-16_18-19-30_335449_277809 is over 95% full, available space: 32156684288; capacity: 1958874054656. Object creation will fail if spilling is required.\n",
      "\u001b[2m\u001b[33m(raylet)\u001b[0m [2023-08-16 18:20:01,979 E 277961 277975] (raylet) file_system_monitor.cc:111: /tmp/ray/session_2023-08-16_18-19-30_335449_277809 is over 95% full, available space: 32172302336; capacity: 1958874054656. Object creation will fail if spilling is required.\n"
     ]
    }
   ],
   "source": [
    "# RUN GENERATE STATISTICS\n",
    "generate_statistics(config_path=\"config.yaml\")"
   ]
  },
  {
   "cell_type": "code",
   "execution_count": null,
   "metadata": {},
   "outputs": [],
   "source": [
    "# Working"
   ]
  },
  {
   "cell_type": "code",
   "execution_count": null,
   "metadata": {},
   "outputs": [],
   "source": []
  }
 ],
 "metadata": {
  "kernelspec": {
   "display_name": "Python 3.8.13 ('core')",
   "language": "python",
   "name": "python3"
  },
  "language_info": {
   "codemirror_mode": {
    "name": "ipython",
    "version": 3
   },
   "file_extension": ".py",
   "mimetype": "text/x-python",
   "name": "python",
   "nbconvert_exporter": "python",
   "pygments_lexer": "ipython3",
   "version": "3.10.10"
  },
  "orig_nbformat": 4,
  "vscode": {
   "interpreter": {
    "hash": "04aae946aefb73757d94e4e7bfb7ede85957aa0149a3e71cc39e2fcc66c8e46e"
   }
  }
 },
 "nbformat": 4,
 "nbformat_minor": 2
}
