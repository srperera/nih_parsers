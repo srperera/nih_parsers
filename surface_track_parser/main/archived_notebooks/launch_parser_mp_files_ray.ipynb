{
 "cells": [
  {
   "cell_type": "markdown",
   "metadata": {},
   "source": [
    "* Notes\n",
    "    * Filename: launch_parser_mp_files.ipynb\n",
    "    * Multiprocessing performed for each directory\n",
    "    * Example: For all files in each directory all surfaces for every file are executed in parallel\n",
    "    * High Memory Consumption IF imaris files are large"
   ]
  },
  {
   "cell_type": "code",
   "execution_count": 1,
   "metadata": {},
   "outputs": [],
   "source": [
    "import sys\n",
    "\n",
    "sys.path.append(\".\")\n",
    "\n",
    "import os\n",
    "import gc\n",
    "import ray\n",
    "import glob\n",
    "import time\n",
    "from utils import utils\n",
    "import concurrent.futures\n",
    "from tqdm.notebook import tqdm\n",
    "\n",
    "os.environ[\"HDF5_USE_FILE_LOCKING\"] = \"FALSE\"  # disables read filelock"
   ]
  },
  {
   "cell_type": "markdown",
   "metadata": {},
   "source": [
    "Get Available Categories"
   ]
  },
  {
   "cell_type": "code",
   "execution_count": 2,
   "metadata": {},
   "outputs": [],
   "source": [
    "def generate_available_categories(config_path: str, save_path: str):\n",
    "    # load config path\n",
    "    yaml = utils.load_yaml(config_path)\n",
    "\n",
    "    # type of parser\n",
    "    parser_type = yaml[\"parser_type\"]\n",
    "\n",
    "    # extract category func\n",
    "    extract_categories = utils.get_category_function(parser_type)\n",
    "\n",
    "    # files to scan\n",
    "    directories = yaml[\"data_dir\"]\n",
    "\n",
    "    # valid surface\n",
    "    valid_surface = int(yaml[\"valid_surface\"][0]) - 1\n",
    "\n",
    "    for directory in directories:\n",
    "        # grab all the files in the directory w/ .ims\n",
    "        filenames = list(glob.glob(os.path.join(directory, \"*.ims\")))\n",
    "\n",
    "        for filename in filenames:\n",
    "            # file path\n",
    "            file_path = filename\n",
    "\n",
    "            # get and save the available categories csv file\n",
    "            extract_categories(file_path, valid_surface, save_path)\n",
    "\n",
    "            break\n",
    "\n",
    "        break\n",
    "\n",
    "    print(\"[info] Please Edit The Statistics File\")"
   ]
  },
  {
   "cell_type": "code",
   "execution_count": 3,
   "metadata": {},
   "outputs": [],
   "source": [
    "# RUN GENERATE CATEGORIES\n",
    "# generate_available_categories(\"configs/config.yaml\", \".\")"
   ]
  },
  {
   "cell_type": "markdown",
   "metadata": {},
   "source": [
    "Generate Statistics "
   ]
  },
  {
   "cell_type": "code",
   "execution_count": 4,
   "metadata": {},
   "outputs": [],
   "source": [
    "def generate_statistics(config_path: str):\n",
    "    # init ray\n",
    "    ray.init(\n",
    "        ignore_reinit_error=True,\n",
    "    )\n",
    "\n",
    "    # load config path\n",
    "    yaml = utils.load_yaml(config_path)\n",
    "\n",
    "    # type of parser\n",
    "    parser_type = yaml[\"parser_type\"]\n",
    "\n",
    "    if parser_type == \"track\":\n",
    "        from parsers.track_parser import extract_data, process_and_save\n",
    "\n",
    "        print(f\"[info] -- parser mode: {parser_type}\")\n",
    "\n",
    "    elif parser_type == \"surface\":\n",
    "        from parsers.surface_parser import extract_data, process_and_save\n",
    "\n",
    "        print(f\"[info] -- parser mode: {parser_type}\")\n",
    "\n",
    "    elif parser_type == \"first\":\n",
    "        from parsers.first_surface_parser import extract_data, process_and_save\n",
    "\n",
    "        print(f\"[info] -- parser mode: {parser_type}\")\n",
    "\n",
    "    else:\n",
    "        raise ValueError(\"Invalid Parser Type\")\n",
    "\n",
    "    # files to scan\n",
    "    directories = yaml[\"data_dir\"]\n",
    "\n",
    "    # get the stats categories\n",
    "    stats_categories = utils.read_txt(yaml[\"stats_category_path\"])\n",
    "\n",
    "    # valid surface\n",
    "    valid_surfaces = yaml[\"valid_surface\"]\n",
    "\n",
    "    # iterate, process and save\n",
    "    # parallel processes all files within 1 directory at at time\n",
    "    for idx, directory in tqdm(enumerate(directories)):\n",
    "        print(f\"[info] -- processing directory index: {idx+1}/{len(directories)}\")\n",
    "\n",
    "        # save dir\n",
    "        save_dir = yaml[\"save_dir\"][idx]\n",
    "\n",
    "        # grab all the files in the directory w/ .ims\n",
    "        filenames = list(glob.glob(os.path.join(directory, \"*.ims\")))\n",
    "\n",
    "        # create a list to hold ray subprocess\n",
    "        processes = []\n",
    "        for filename in filenames:\n",
    "            print(f\"\\n[info] -- processing file {os.path.basename(filename)}\\n\")\n",
    "\n",
    "            # load the imaris file\n",
    "            data = utils.load_ims(filename)\n",
    "\n",
    "            for surface in valid_surfaces:\n",
    "                # create folder\n",
    "                folder_path = os.path.join(save_dir, str(surface))\n",
    "                if not os.path.isdir(folder_path):\n",
    "                    os.makedirs(folder_path)\n",
    "\n",
    "                # convert to zero indexed surface value\n",
    "                current_surface = int(surface) - 1\n",
    "\n",
    "                # save_file_path\n",
    "                save_path = utils.get_save_filepath(\n",
    "                    parser_type, folder_path, filename, (current_surface + 1)\n",
    "                )\n",
    "\n",
    "                # extract data\n",
    "                extracted_data = extract_data(\n",
    "                    filename, data, current_surface, save_path\n",
    "                )\n",
    "\n",
    "                # process and save\n",
    "                if extracted_data:\n",
    "                    # append stats categories to extracted data\n",
    "                    extracted_data.update({\"categories_list\": stats_categories})\n",
    "                    task_ref = process_and_save.remote(extracted_data)\n",
    "                    processes.append(task_ref)\n",
    "\n",
    "                else:\n",
    "                    # there is no surface deleting folder\n",
    "                    if not os.listdir(folder_path):\n",
    "                        os.rmdir(folder_path)\n",
    "\n",
    "        print(\"\\n\\t[info] -- finished data extraction\")\n",
    "        print(f\"\\t[info] -- found {len(processes)} surfaces\")\n",
    "        print(f\"\\t[info] -- processing {len(processes)} surfaces\\n\")\n",
    "\n",
    "        ray.wait(processes, num_returns=len(processes))\n",
    "\n",
    "        # memory clean up\n",
    "        del data\n",
    "        del processes\n",
    "        gc.collect()\n",
    "\n",
    "    ray.shutdown()\n",
    "    print(f\"\\n[info] -- DONE\")"
   ]
  },
  {
   "cell_type": "code",
   "execution_count": 5,
   "metadata": {},
   "outputs": [
    {
     "name": "stderr",
     "output_type": "stream",
     "text": [
      "2023-08-18 00:13:21,127\tINFO worker.py:1621 -- Started a local Ray instance.\n"
     ]
    },
    {
     "name": "stdout",
     "output_type": "stream",
     "text": [
      "[info] -- parser mode: surface\n"
     ]
    },
    {
     "data": {
      "application/vnd.jupyter.widget-view+json": {
       "model_id": "9391cfa060834c16bb5009bb4a684f70",
       "version_major": 2,
       "version_minor": 0
      },
      "text/plain": [
       "0it [00:00, ?it/s]"
      ]
     },
     "metadata": {},
     "output_type": "display_data"
    },
    {
     "name": "stdout",
     "output_type": "stream",
     "text": [
      "[info] -- processing directory index: 1/1\n",
      "\n",
      "[info] -- processing file ALN Sec2 Roi1 2x2 1h20min.ims\n",
      "\n",
      "\t[info] extracting data: ALN Sec2 Roi1 2x2 1h20min.ims -- surface: 0\n",
      "\t[info] extracting data: ALN Sec2 Roi1 2x2 1h20min.ims -- surface: 1\n",
      "\t[info] extracting data: ALN Sec2 Roi1 2x2 1h20min.ims -- surface: 2\n",
      "\t[info] extracting data: ALN Sec2 Roi1 2x2 1h20min.ims -- surface: 3\n",
      "\u001b[2m\u001b[36m(process_and_save pid=37150)\u001b[0m \t[info] working on file: ALN Sec2 Roi1 2x2 1h20min.ims -- surface 0\n",
      "\t[info] extracting data: ALN Sec2 Roi1 2x2 1h20min.ims -- surface: 4\n",
      "\t\t[info] -- raised index error\n",
      "\t\t[info] -- skipping file ALN Sec2 Roi1 2x2 1h20min.ims -- surface 4 not found\n",
      "\t[info] extracting data: ALN Sec2 Roi1 2x2 1h20min.ims -- surface: 5\n",
      "\t\t[info] -- raised index error\n",
      "\t\t[info] -- skipping file ALN Sec2 Roi1 2x2 1h20min.ims -- surface 5 not found\n",
      "\t[info] extracting data: ALN Sec2 Roi1 2x2 1h20min.ims -- surface: 7\n",
      "\t\t[info] -- raised index error\n",
      "\t\t[info] -- skipping file ALN Sec2 Roi1 2x2 1h20min.ims -- surface 7 not found\n",
      "\t[info] extracting data: ALN Sec2 Roi1 2x2 1h20min.ims -- surface: 9\n",
      "\t\t[info] -- raised index error\n",
      "\t\t[info] -- skipping file ALN Sec2 Roi1 2x2 1h20min.ims -- surface 9 not found\n",
      "\n",
      "[info] -- processing file ILN with VLP Tiled 12x18 incomplete.ims\n",
      "\n",
      "\t[info] extracting data: ILN with VLP Tiled 12x18 incomplete.ims -- surface: 0\n",
      "\t[info] extracting data: ILN with VLP Tiled 12x18 incomplete.ims -- surface: 1\n",
      "\u001b[2m\u001b[36m(process_and_save pid=37135)\u001b[0m \t[info] working on file: ILN with VLP Tiled 12x18 incomplete.ims -- surface 0\n",
      "\t[info] extracting data: ILN with VLP Tiled 12x18 incomplete.ims -- surface: 2\n",
      "\t[info] extracting data: ILN with VLP Tiled 12x18 incomplete.ims -- surface: 3\n",
      "\u001b[2m\u001b[36m(process_and_save pid=37133)\u001b[0m \t[info] finished: ALN Sec2 Roi1 2x2 1h20min.ims -- surface 2 -- processed 4659 items\n",
      "\t[info] extracting data: ILN with VLP Tiled 12x18 incomplete.ims -- surface: 4\n",
      "\t[info] extracting data: ILN with VLP Tiled 12x18 incomplete.ims -- surface: 5\n",
      "\t\t[info] -- raised index error\n",
      "\t\t[info] -- skipping file ILN with VLP Tiled 12x18 incomplete.ims -- surface 5 not found\n",
      "\t[info] extracting data: ILN with VLP Tiled 12x18 incomplete.ims -- surface: 7\n",
      "\t\t[info] -- raised index error\n",
      "\t\t[info] -- skipping file ILN with VLP Tiled 12x18 incomplete.ims -- surface 7 not found\n",
      "\t[info] extracting data: ILN with VLP Tiled 12x18 incomplete.ims -- surface: 9\n",
      "\t\t[info] -- raised index error\n",
      "\t\t[info] -- skipping file ILN with VLP Tiled 12x18 incomplete.ims -- surface 9 not found\n",
      "\n",
      "[info] -- processing file ALN Sec1 Tiled 16x20.ims\n",
      "\n",
      "\t[info] extracting data: ALN Sec1 Tiled 16x20.ims -- surface: 0\n",
      "\t\t[info] -- raised no surface exception\n",
      "\t\t[info] -- skipping file ALN Sec1 Tiled 16x20.ims -- no surfaces found\n",
      "\t[info] extracting data: ALN Sec1 Tiled 16x20.ims -- surface: 1\n",
      "\t\t[info] -- raised no surface exception\n",
      "\t\t[info] -- skipping file ALN Sec1 Tiled 16x20.ims -- no surfaces found\n",
      "\t[info] extracting data: ALN Sec1 Tiled 16x20.ims -- surface: 2\n",
      "\t\t[info] -- raised no surface exception\n",
      "\t\t[info] -- skipping file ALN Sec1 Tiled 16x20.ims -- no surfaces found\n",
      "\t[info] extracting data: ALN Sec1 Tiled 16x20.ims -- surface: 3\n",
      "\t\t[info] -- raised no surface exception\n",
      "\t\t[info] -- skipping file ALN Sec1 Tiled 16x20.ims -- no surfaces found\n",
      "\t[info] extracting data: ALN Sec1 Tiled 16x20.ims -- surface: 4\n",
      "\t\t[info] -- raised no surface exception\n",
      "\t\t[info] -- skipping file ALN Sec1 Tiled 16x20.ims -- no surfaces found\n",
      "\t[info] extracting data: ALN Sec1 Tiled 16x20.ims -- surface: 5\n",
      "\t\t[info] -- raised no surface exception\n",
      "\t\t[info] -- skipping file ALN Sec1 Tiled 16x20.ims -- no surfaces found\n",
      "\t[info] extracting data: ALN Sec1 Tiled 16x20.ims -- surface: 7\n",
      "\t\t[info] -- raised no surface exception\n",
      "\t\t[info] -- skipping file ALN Sec1 Tiled 16x20.ims -- no surfaces found\n",
      "\t[info] extracting data: ALN Sec1 Tiled 16x20.ims -- surface: 9\n",
      "\t\t[info] -- raised no surface exception\n",
      "\t\t[info] -- skipping file ALN Sec1 Tiled 16x20.ims -- no surfaces found\n",
      "\n",
      "\t[info] -- finished data extraction\n",
      "\t[info] -- found 9 surfaces\n",
      "\t[info] -- processing 9 surfaces\n",
      "\n",
      "\u001b[2m\u001b[36m(process_and_save pid=37136)\u001b[0m \t[info] working on file: ALN Sec2 Roi1 2x2 1h20min.ims -- surface 3\u001b[32m [repeated 3x across cluster] (Ray deduplicates logs by default. Set RAY_DEDUP_LOGS=0 to disable log deduplication, or see https://docs.ray.io/en/master/ray-observability/ray-logging.html#log-deduplication for more options.)\u001b[0m\n"
     ]
    },
    {
     "name": "stderr",
     "output_type": "stream",
     "text": [
      "\u001b[2m\u001b[33m(raylet)\u001b[0m [2023-08-18 00:13:31,030 E 37045 37058] (raylet) file_system_monitor.cc:111: /tmp/ray/session_2023-08-18_00-13-19_422218_36830 is over 95% full, available space: 5690396672; capacity: 1958874054656. Object creation will fail if spilling is required.\n"
     ]
    },
    {
     "name": "stdout",
     "output_type": "stream",
     "text": [
      "\u001b[2m\u001b[36m(process_and_save pid=37146)\u001b[0m \t[info] working on file: ILN with VLP Tiled 12x18 incomplete.ims -- surface 4\u001b[32m [repeated 4x across cluster]\u001b[0m\n",
      "\u001b[2m\u001b[36m(process_and_save pid=37136)\u001b[0m \t[info] finished: ALN Sec2 Roi1 2x2 1h20min.ims -- surface 3 -- processed 19280 items\n",
      "\u001b[2m\u001b[36m(process_and_save pid=37147)\u001b[0m \t[info] finished: ILN with VLP Tiled 12x18 incomplete.ims -- surface 2 -- processed 28652 items\n",
      "\u001b[2m\u001b[36m(process_and_save pid=37128)\u001b[0m \t[info] finished: ALN Sec2 Roi1 2x2 1h20min.ims -- surface 1 -- processed 29497 items\n"
     ]
    },
    {
     "name": "stderr",
     "output_type": "stream",
     "text": [
      "\u001b[2m\u001b[33m(raylet)\u001b[0m [2023-08-18 00:13:41,040 E 37045 37058] (raylet) file_system_monitor.cc:111: /tmp/ray/session_2023-08-18_00-13-19_422218_36830 is over 95% full, available space: 5718761472; capacity: 1958874054656. Object creation will fail if spilling is required.\n"
     ]
    },
    {
     "name": "stdout",
     "output_type": "stream",
     "text": [
      "\u001b[2m\u001b[36m(process_and_save pid=37135)\u001b[0m \t[info] finished: ILN with VLP Tiled 12x18 incomplete.ims -- surface 0 -- processed 36889 items\n",
      "\u001b[2m\u001b[36m(process_and_save pid=37150)\u001b[0m \t[info] finished: ALN Sec2 Roi1 2x2 1h20min.ims -- surface 0 -- processed 48631 items\n"
     ]
    },
    {
     "name": "stderr",
     "output_type": "stream",
     "text": [
      "\u001b[2m\u001b[33m(raylet)\u001b[0m [2023-08-18 00:13:51,052 E 37045 37058] (raylet) file_system_monitor.cc:111: /tmp/ray/session_2023-08-18_00-13-19_422218_36830 is over 95% full, available space: 5687914496; capacity: 1958874054656. Object creation will fail if spilling is required.\n",
      "\u001b[2m\u001b[33m(raylet)\u001b[0m [2023-08-18 00:14:01,065 E 37045 37058] (raylet) file_system_monitor.cc:111: /tmp/ray/session_2023-08-18_00-13-19_422218_36830 is over 95% full, available space: 5687914496; capacity: 1958874054656. Object creation will fail if spilling is required.\n",
      "\u001b[2m\u001b[33m(raylet)\u001b[0m [2023-08-18 00:14:11,076 E 37045 37058] (raylet) file_system_monitor.cc:111: /tmp/ray/session_2023-08-18_00-13-19_422218_36830 is over 95% full, available space: 5709389824; capacity: 1958874054656. Object creation will fail if spilling is required.\n"
     ]
    },
    {
     "name": "stdout",
     "output_type": "stream",
     "text": [
      "\u001b[2m\u001b[36m(process_and_save pid=37148)\u001b[0m \t[info] finished: ILN with VLP Tiled 12x18 incomplete.ims -- surface 1 -- processed 131886 items\n"
     ]
    },
    {
     "name": "stderr",
     "output_type": "stream",
     "text": [
      "\u001b[2m\u001b[33m(raylet)\u001b[0m [2023-08-18 00:14:21,087 E 37045 37058] (raylet) file_system_monitor.cc:111: /tmp/ray/session_2023-08-18_00-13-19_422218_36830 is over 95% full, available space: 5687869440; capacity: 1958874054656. Object creation will fail if spilling is required.\n",
      "\u001b[2m\u001b[33m(raylet)\u001b[0m [2023-08-18 00:14:31,098 E 37045 37058] (raylet) file_system_monitor.cc:111: /tmp/ray/session_2023-08-18_00-13-19_422218_36830 is over 95% full, available space: 5687623680; capacity: 1958874054656. Object creation will fail if spilling is required.\n",
      "\u001b[2m\u001b[33m(raylet)\u001b[0m [2023-08-18 00:14:41,110 E 37045 37058] (raylet) file_system_monitor.cc:111: /tmp/ray/session_2023-08-18_00-13-19_422218_36830 is over 95% full, available space: 6011678720; capacity: 1958874054656. Object creation will fail if spilling is required.\n",
      "\u001b[2m\u001b[33m(raylet)\u001b[0m [2023-08-18 00:14:51,122 E 37045 37058] (raylet) file_system_monitor.cc:111: /tmp/ray/session_2023-08-18_00-13-19_422218_36830 is over 95% full, available space: 5846081536; capacity: 1958874054656. Object creation will fail if spilling is required.\n"
     ]
    },
    {
     "name": "stdout",
     "output_type": "stream",
     "text": [
      "\u001b[2m\u001b[36m(process_and_save pid=37146)\u001b[0m \t[info] finished: ILN with VLP Tiled 12x18 incomplete.ims -- surface 4 -- processed 268480 items\n"
     ]
    },
    {
     "name": "stderr",
     "output_type": "stream",
     "text": [
      "\u001b[2m\u001b[33m(raylet)\u001b[0m [2023-08-18 00:15:01,134 E 37045 37058] (raylet) file_system_monitor.cc:111: /tmp/ray/session_2023-08-18_00-13-19_422218_36830 is over 95% full, available space: 5687152640; capacity: 1958874054656. Object creation will fail if spilling is required.\n",
      "\u001b[2m\u001b[33m(raylet)\u001b[0m [2023-08-18 00:15:11,142 E 37045 37058] (raylet) file_system_monitor.cc:111: /tmp/ray/session_2023-08-18_00-13-19_422218_36830 is over 95% full, available space: 5687128064; capacity: 1958874054656. Object creation will fail if spilling is required.\n",
      "\u001b[2m\u001b[33m(raylet)\u001b[0m [2023-08-18 00:15:21,155 E 37045 37058] (raylet) file_system_monitor.cc:111: /tmp/ray/session_2023-08-18_00-13-19_422218_36830 is over 95% full, available space: 5687078912; capacity: 1958874054656. Object creation will fail if spilling is required.\n",
      "\u001b[2m\u001b[33m(raylet)\u001b[0m [2023-08-18 00:15:31,165 E 37045 37058] (raylet) file_system_monitor.cc:111: /tmp/ray/session_2023-08-18_00-13-19_422218_36830 is over 95% full, available space: 5687046144; capacity: 1958874054656. Object creation will fail if spilling is required.\n",
      "\u001b[2m\u001b[33m(raylet)\u001b[0m [2023-08-18 00:15:41,177 E 37045 37058] (raylet) file_system_monitor.cc:111: /tmp/ray/session_2023-08-18_00-13-19_422218_36830 is over 95% full, available space: 5687046144; capacity: 1958874054656. Object creation will fail if spilling is required.\n",
      "\u001b[2m\u001b[33m(raylet)\u001b[0m [2023-08-18 00:15:51,189 E 37045 37058] (raylet) file_system_monitor.cc:111: /tmp/ray/session_2023-08-18_00-13-19_422218_36830 is over 95% full, available space: 5687037952; capacity: 1958874054656. Object creation will fail if spilling is required.\n",
      "\u001b[2m\u001b[33m(raylet)\u001b[0m [2023-08-18 00:16:01,201 E 37045 37058] (raylet) file_system_monitor.cc:111: /tmp/ray/session_2023-08-18_00-13-19_422218_36830 is over 95% full, available space: 5687033856; capacity: 1958874054656. Object creation will fail if spilling is required.\n",
      "\u001b[2m\u001b[33m(raylet)\u001b[0m [2023-08-18 00:16:11,213 E 37045 37058] (raylet) file_system_monitor.cc:111: /tmp/ray/session_2023-08-18_00-13-19_422218_36830 is over 95% full, available space: 5686980608; capacity: 1958874054656. Object creation will fail if spilling is required.\n",
      "\u001b[2m\u001b[33m(raylet)\u001b[0m [2023-08-18 00:16:21,224 E 37045 37058] (raylet) file_system_monitor.cc:111: /tmp/ray/session_2023-08-18_00-13-19_422218_36830 is over 95% full, available space: 5686947840; capacity: 1958874054656. Object creation will fail if spilling is required.\n",
      "\u001b[2m\u001b[33m(raylet)\u001b[0m [2023-08-18 00:16:31,235 E 37045 37058] (raylet) file_system_monitor.cc:111: /tmp/ray/session_2023-08-18_00-13-19_422218_36830 is over 95% full, available space: 5686837248; capacity: 1958874054656. Object creation will fail if spilling is required.\n",
      "\u001b[2m\u001b[33m(raylet)\u001b[0m [2023-08-18 00:16:41,248 E 37045 37058] (raylet) file_system_monitor.cc:111: /tmp/ray/session_2023-08-18_00-13-19_422218_36830 is over 95% full, available space: 5686804480; capacity: 1958874054656. Object creation will fail if spilling is required.\n",
      "\u001b[2m\u001b[33m(raylet)\u001b[0m [2023-08-18 00:16:51,260 E 37045 37058] (raylet) file_system_monitor.cc:111: /tmp/ray/session_2023-08-18_00-13-19_422218_36830 is over 95% full, available space: 5671129088; capacity: 1958874054656. Object creation will fail if spilling is required.\n",
      "\u001b[2m\u001b[33m(raylet)\u001b[0m [2023-08-18 00:17:01,273 E 37045 37058] (raylet) file_system_monitor.cc:111: /tmp/ray/session_2023-08-18_00-13-19_422218_36830 is over 95% full, available space: 5686747136; capacity: 1958874054656. Object creation will fail if spilling is required.\n",
      "\u001b[2m\u001b[33m(raylet)\u001b[0m [2023-08-18 00:17:11,285 E 37045 37058] (raylet) file_system_monitor.cc:111: /tmp/ray/session_2023-08-18_00-13-19_422218_36830 is over 95% full, available space: 5685903360; capacity: 1958874054656. Object creation will fail if spilling is required.\n",
      "\u001b[2m\u001b[33m(raylet)\u001b[0m [2023-08-18 00:17:21,298 E 37045 37058] (raylet) file_system_monitor.cc:111: /tmp/ray/session_2023-08-18_00-13-19_422218_36830 is over 95% full, available space: 5685559296; capacity: 1958874054656. Object creation will fail if spilling is required.\n",
      "\u001b[2m\u001b[33m(raylet)\u001b[0m [2023-08-18 00:17:31,310 E 37045 37058] (raylet) file_system_monitor.cc:111: /tmp/ray/session_2023-08-18_00-13-19_422218_36830 is over 95% full, available space: 5685534720; capacity: 1958874054656. Object creation will fail if spilling is required.\n",
      "\u001b[2m\u001b[33m(raylet)\u001b[0m [2023-08-18 00:17:41,321 E 37045 37058] (raylet) file_system_monitor.cc:111: /tmp/ray/session_2023-08-18_00-13-19_422218_36830 is over 95% full, available space: 5684633600; capacity: 1958874054656. Object creation will fail if spilling is required.\n",
      "\u001b[2m\u001b[33m(raylet)\u001b[0m [2023-08-18 00:17:51,332 E 37045 37058] (raylet) file_system_monitor.cc:111: /tmp/ray/session_2023-08-18_00-13-19_422218_36830 is over 95% full, available space: 6691151872; capacity: 1958874054656. Object creation will fail if spilling is required.\n",
      "\u001b[2m\u001b[33m(raylet)\u001b[0m [2023-08-18 00:18:01,344 E 37045 37058] (raylet) file_system_monitor.cc:111: /tmp/ray/session_2023-08-18_00-13-19_422218_36830 is over 95% full, available space: 6527127552; capacity: 1958874054656. Object creation will fail if spilling is required.\n",
      "\u001b[2m\u001b[33m(raylet)\u001b[0m [2023-08-18 00:18:11,359 E 37045 37058] (raylet) file_system_monitor.cc:111: /tmp/ray/session_2023-08-18_00-13-19_422218_36830 is over 95% full, available space: 6363582464; capacity: 1958874054656. Object creation will fail if spilling is required.\n",
      "\u001b[2m\u001b[33m(raylet)\u001b[0m [2023-08-18 00:18:21,371 E 37045 37058] (raylet) file_system_monitor.cc:111: /tmp/ray/session_2023-08-18_00-13-19_422218_36830 is over 95% full, available space: 6200250368; capacity: 1958874054656. Object creation will fail if spilling is required.\n",
      "\u001b[2m\u001b[33m(raylet)\u001b[0m [2023-08-18 00:18:31,384 E 37045 37058] (raylet) file_system_monitor.cc:111: /tmp/ray/session_2023-08-18_00-13-19_422218_36830 is over 95% full, available space: 6037659648; capacity: 1958874054656. Object creation will fail if spilling is required.\n",
      "\u001b[2m\u001b[33m(raylet)\u001b[0m [2023-08-18 00:18:41,397 E 37045 37058] (raylet) file_system_monitor.cc:111: /tmp/ray/session_2023-08-18_00-13-19_422218_36830 is over 95% full, available space: 5860925440; capacity: 1958874054656. Object creation will fail if spilling is required.\n",
      "\u001b[2m\u001b[33m(raylet)\u001b[0m [2023-08-18 00:18:51,407 E 37045 37058] (raylet) file_system_monitor.cc:111: /tmp/ray/session_2023-08-18_00-13-19_422218_36830 is over 95% full, available space: 5717147648; capacity: 1958874054656. Object creation will fail if spilling is required.\n"
     ]
    },
    {
     "name": "stdout",
     "output_type": "stream",
     "text": [
      "\u001b[2m\u001b[36m(process_and_save pid=37133)\u001b[0m \t[info] finished: ILN with VLP Tiled 12x18 incomplete.ims -- surface 3 -- processed 906436 items\n",
      "\n",
      "[info] -- DONE\n",
      "Total Run Time: 337.79867222699977\n"
     ]
    }
   ],
   "source": [
    "# RUN GENERATE STATISTICS\n",
    "start = time.perf_counter()\n",
    "generate_statistics(config_path=\"configs/config.yaml\")\n",
    "stop = time.perf_counter()\n",
    "print(f\"Total Run Time: {stop - start}\")"
   ]
  },
  {
   "cell_type": "code",
   "execution_count": 6,
   "metadata": {},
   "outputs": [],
   "source": [
    "# Working"
   ]
  },
  {
   "cell_type": "code",
   "execution_count": null,
   "metadata": {},
   "outputs": [],
   "source": []
  }
 ],
 "metadata": {
  "kernelspec": {
   "display_name": "Python 3.8.13 ('core')",
   "language": "python",
   "name": "python3"
  },
  "language_info": {
   "codemirror_mode": {
    "name": "ipython",
    "version": 3
   },
   "file_extension": ".py",
   "mimetype": "text/x-python",
   "name": "python",
   "nbconvert_exporter": "python",
   "pygments_lexer": "ipython3",
   "version": "3.10.10"
  },
  "orig_nbformat": 4,
  "vscode": {
   "interpreter": {
    "hash": "04aae946aefb73757d94e4e7bfb7ede85957aa0149a3e71cc39e2fcc66c8e46e"
   }
  }
 },
 "nbformat": 4,
 "nbformat_minor": 2
}
