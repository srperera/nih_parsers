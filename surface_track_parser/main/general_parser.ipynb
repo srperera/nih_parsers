{
 "cells": [
  {
   "cell_type": "code",
   "execution_count": null,
   "metadata": {},
   "outputs": [],
   "source": [
    "import utils\n",
    "import numpy as np\n",
    "import glob\n",
    "import os\n",
    "import pandas as pd\n",
    "import ray\n",
    "\n",
    "os.environ[\"HDF5_USE_FILE_LOCKING\"] = \"FALSE\"  # disables read filelock\n"
   ]
  },
  {
   "cell_type": "markdown",
   "metadata": {},
   "source": [
    "Get Available Categories"
   ]
  },
  {
   "cell_type": "code",
   "execution_count": null,
   "metadata": {},
   "outputs": [],
   "source": [
    "def generate_available_categories(config_path: str):\n",
    "    # load config path\n",
    "    yaml = utils.load_yaml(parser_type)\n",
    "\n",
    "    # type of parser\n",
    "    parser_type = yaml[\"parser_type\"]\n",
    "\n",
    "    # extract category func\n",
    "    extract_categories = utils.get_category_function(parser_type)\n",
    "\n",
    "    # files to scan\n",
    "    directories = yaml[\"data_dir\"]\n",
    "\n",
    "    # valid surface\n",
    "    valid_surface = int(yaml[\"valid_surface\"]) - 1\n",
    "\n",
    "    for directory in directories:\n",
    "        # grab all the files in the directory w/ .ims\n",
    "        filenames = list(glob.glob(os.path.join(directory, \"*.ims\")))\n",
    "\n",
    "        for filename in filenames:\n",
    "            # file path\n",
    "            file_path = filename\n",
    "\n",
    "            # get and save the available categories csv file\n",
    "            extract_categories(file_path, valid_surface)\n",
    "\n",
    "            break\n",
    "\n",
    "        break\n",
    "\n",
    "    print(\"[info] Please Edit The Statistics File\")"
   ]
  },
  {
   "cell_type": "code",
   "execution_count": null,
   "metadata": {},
   "outputs": [],
   "source": [
    "# RUN GENERATE CATEGORIES\n",
    "# generate_available_categories(\"config.yaml\")"
   ]
  },
  {
   "cell_type": "markdown",
   "metadata": {},
   "source": [
    "Generate Statistics "
   ]
  },
  {
   "cell_type": "code",
   "execution_count": null,
   "metadata": {},
   "outputs": [],
   "source": [
    "def generate_statistics(config_path: str):\n",
    "    # load config path\n",
    "    yaml = utils.load_yaml(config_path)\n",
    "\n",
    "    ray.init()\n",
    "\n",
    "    # type of parser\n",
    "    parser_type = yaml[\"parser_type\"]\n",
    "\n",
    "    if parser_type == \"track\":\n",
    "        from track_parser import extract_data, process_and_save\n",
    "\n",
    "    elif parser_type == \"surface\":\n",
    "        from surface_parser import extract_data, process_and_save\n",
    "\n",
    "    elif parser_type == \"first\":\n",
    "        from first_surface_parser import extract_data, process_and_save\n",
    "\n",
    "    else:\n",
    "        raise ValueError(\"Invalid Parser Type\")\n",
    "\n",
    "    # files to scan\n",
    "    directories = yaml[\"data_dir\"]\n",
    "\n",
    "    # get the stats categories\n",
    "    stats_categories = utils.read_txt(yaml[\"stats_category_path\"])\n",
    "\n",
    "    # valid surface\n",
    "    valid_surfaces = yaml[\"valid_surface\"]\n",
    "\n",
    "    # create a list to hold ray subprocess\n",
    "    processes = []\n",
    "\n",
    "    for idx, directory in enumerate(directories):\n",
    "        # save dir\n",
    "        save_dir = yaml[\"save_dir\"][idx]\n",
    "\n",
    "        # grab all the files in the directory w/ .ims\n",
    "        filenames = list(glob.glob(os.path.join(directory, \"*.ims\")))\n",
    "\n",
    "        for filename in filenames:\n",
    "            # load the imaris file\n",
    "            data = utils.load_ims(filename)\n",
    "\n",
    "            for surface in valid_surfaces:\n",
    "                # create folder\n",
    "                folder_path = os.path.join(save_dir, str(surface))\n",
    "                if not os.path.isdir(folder_path):\n",
    "                    os.makedirs(folder_path)\n",
    "\n",
    "                current_surface = int(surface) - 1\n",
    "\n",
    "                # save_file_path\n",
    "                save_path = utils.get_save_filepath(\n",
    "                    parser_type, folder_path, filename, (current_surface + 1)\n",
    "                )\n",
    "\n",
    "                # process data\n",
    "                data_dict = extract_data(filename, data, current_surface, save_path)\n",
    "\n",
    "                if data_dict:\n",
    "                    processes.append(\n",
    "                        process_and_save.remote(\n",
    "                            ims_file_path=filename,\n",
    "                            surface_stats_values=data_dict[\"surface_stats_values\"],\n",
    "                            surface_stats_names=data_dict[\"surface_stats_names\"],\n",
    "                            categories_list=stats_categories,\n",
    "                            save_path=save_path,\n",
    "                        )\n",
    "                    )\n",
    "                else:\n",
    "                    # there is no surface deleting folde\n",
    "                    pass\n",
    "\n",
    "    print(\"\\ninfo -- running subprocesses:\")\n",
    "    print(f\"info -- num processes launched {len(processes)}\\n\")\n",
    "\n",
    "    ray.get(processes)"
   ]
  },
  {
   "cell_type": "code",
   "execution_count": null,
   "metadata": {},
   "outputs": [],
   "source": [
    "# RUN GENERATE STATISTICS\n",
    "generate_statistics(config_path=\"config.yaml\")"
   ]
  },
  {
   "cell_type": "code",
   "execution_count": null,
   "metadata": {},
   "outputs": [],
   "source": [
    "# Working"
   ]
  },
  {
   "cell_type": "code",
   "execution_count": null,
   "metadata": {},
   "outputs": [],
   "source": []
  }
 ],
 "metadata": {
  "kernelspec": {
   "display_name": "Python 3.8.13 ('core')",
   "language": "python",
   "name": "python3"
  },
  "language_info": {
   "codemirror_mode": {
    "name": "ipython",
    "version": 3
   },
   "file_extension": ".py",
   "mimetype": "text/x-python",
   "name": "python",
   "nbconvert_exporter": "python",
   "pygments_lexer": "ipython3",
   "version": "3.9.7"
  },
  "orig_nbformat": 4,
  "vscode": {
   "interpreter": {
    "hash": "04aae946aefb73757d94e4e7bfb7ede85957aa0149a3e71cc39e2fcc66c8e46e"
   }
  }
 },
 "nbformat": 4,
 "nbformat_minor": 2
}
