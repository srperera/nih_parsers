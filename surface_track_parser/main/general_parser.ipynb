{
 "cells": [
  {
   "cell_type": "code",
   "execution_count": 1,
   "metadata": {},
   "outputs": [],
   "source": [
    "import utils\n",
    "import numpy as np\n",
    "import glob\n",
    "import os\n",
    "import pandas as pd\n",
    "import ray"
   ]
  },
  {
   "cell_type": "markdown",
   "metadata": {},
   "source": [
    "Get Available Categories"
   ]
  },
  {
   "cell_type": "code",
   "execution_count": 2,
   "metadata": {},
   "outputs": [],
   "source": [
    "def generate_available_categories(config_path: str):\n",
    "    # load config path\n",
    "    yaml = utils.load_yaml(\"config.yaml\")\n",
    "\n",
    "    # type of parser\n",
    "    parser_type = yaml[\"parser_type\"]\n",
    "\n",
    "    # extract category func\n",
    "    extract_categories = utils.get_category_function(parser_type)\n",
    "\n",
    "    # files to scan\n",
    "    directories = yaml[\"data_dir\"]\n",
    "\n",
    "    # valid surface\n",
    "    valid_surface = int(yaml[\"valid_surface\"]) - 1\n",
    "\n",
    "    for directory in directories:\n",
    "        # grab all the files in the directory w/ .ims\n",
    "        filenames = list(glob.glob(os.path.join(directory, \"*.ims\")))\n",
    "\n",
    "        for filename in filenames:\n",
    "            # file path\n",
    "            file_path = filename\n",
    "\n",
    "            # get and save the available categories csv file\n",
    "            extract_categories(file_path, valid_surface)\n",
    "\n",
    "            break\n",
    "\n",
    "        break\n",
    "\n",
    "    print(\"[info] Please Edit The Statistics File\")"
   ]
  },
  {
   "cell_type": "code",
   "execution_count": 3,
   "metadata": {},
   "outputs": [
    {
     "name": "stdout",
     "output_type": "stream",
     "text": [
      "Saved Stats Categories in directory: /home/shehan/Documents/nih_projects/parsers/surface_track_parser/main\n",
      "[info] Please Edit The Statistics File\n"
     ]
    }
   ],
   "source": [
    "# RUN GENERATE CATEGORIES\n",
    "generate_available_categories(\"config.yaml\")"
   ]
  },
  {
   "cell_type": "markdown",
   "metadata": {},
   "source": [
    "Generate Statistics "
   ]
  },
  {
   "cell_type": "code",
   "execution_count": 4,
   "metadata": {},
   "outputs": [],
   "source": [
    "def generate_statistics(config_path: str):\n",
    "    # load config path\n",
    "    yaml = utils.load_yaml(config_path)\n",
    "\n",
    "    ray.init()\n",
    "\n",
    "    # type of parser\n",
    "    parser_type = yaml[\"parser_type\"]\n",
    "\n",
    "    if parser_type == \"track\":\n",
    "        from track_parser import extract_and_save\n",
    "\n",
    "    elif parser_type == \"surface\":\n",
    "        from surface_parser import extract_and_save\n",
    "\n",
    "    elif parser_type == \"first\":\n",
    "        from first_surface_parser import extract_and_save\n",
    "\n",
    "    else:\n",
    "        raise ValueError(\"Invalid Parser Type\")\n",
    "\n",
    "    # files to scan\n",
    "    directories = yaml[\"data_dir\"]\n",
    "\n",
    "    # get the stats categories\n",
    "    stats_categories = utils.read_txt(yaml[\"stats_category_path\"])\n",
    "\n",
    "    # valid surface\n",
    "    valid_surface = int(yaml[\"valid_surface\"]) - 1\n",
    "\n",
    "    # create a list to hold ray subprocess\n",
    "    processes = []\n",
    "\n",
    "    for directory in directories:\n",
    "        # grab all the files in the directory w/ .ims\n",
    "        filenames = list(glob.glob(os.path.join(directory, \"*.ims\")))\n",
    "\n",
    "        for filename in filenames:\n",
    "            # file path\n",
    "            file_path = filename  # os.path.join(directory, filename)\n",
    "\n",
    "            # save_file_path\n",
    "            save_path = utils.get_save_filepath(parser_type, filename)\n",
    "\n",
    "            # extract and save\n",
    "            processes.append(\n",
    "                extract_and_save.remote(\n",
    "                    file_path, valid_surface, stats_categories, save_path\n",
    "                )\n",
    "            )\n",
    "\n",
    "    print(\"info -- running subprocesses:\")\n",
    "\n",
    "    ray.get(processes)"
   ]
  },
  {
   "cell_type": "code",
   "execution_count": 5,
   "metadata": {},
   "outputs": [
    {
     "name": "stderr",
     "output_type": "stream",
     "text": [
      "2023-07-20 22:01:43,045\tINFO worker.py:1636 -- Started a local Ray instance.\n"
     ]
    },
    {
     "name": "stdout",
     "output_type": "stream",
     "text": [
      "info -- running subprocesses:\n",
      "\u001b[2m\u001b[36m(extract_and_save pid=39692)\u001b[0m [info] working on file ../../data/surface_track_parser_dev_data/ALN Sec2 Roi1 2x2 1h20min.ims\n"
     ]
    }
   ],
   "source": [
    "# RUN GENERATE STATISTICS\n",
    "generate_statistics(config_path=\"config.yaml\")"
   ]
  },
  {
   "cell_type": "code",
   "execution_count": null,
   "metadata": {},
   "outputs": [
    {
     "name": "stderr",
     "output_type": "stream",
     "text": [
      "\u001b[2m\u001b[33m(raylet)\u001b[0m [2023-07-20 22:01:28,602 E 36282 36295] (raylet) file_system_monitor.cc:111: /tmp/ray/session_2023-07-20_22-00-57_080349_35179 is over 95% full, available space: 74698108928; capacity: 1958874054656. Object creation will fail if spilling is required.\n",
      "\u001b[2m\u001b[33m(raylet)\u001b[0m [2023-07-20 22:01:38,614 E 36282 36295] (raylet) file_system_monitor.cc:111: /tmp/ray/session_2023-07-20_22-00-57_080349_35179 is over 95% full, available space: 74698088448; capacity: 1958874054656. Object creation will fail if spilling is required.\n"
     ]
    }
   ],
   "source": [
    "# Working"
   ]
  },
  {
   "cell_type": "code",
   "execution_count": null,
   "metadata": {},
   "outputs": [],
   "source": []
  }
 ],
 "metadata": {
  "kernelspec": {
   "display_name": "Python 3.8.13 ('core')",
   "language": "python",
   "name": "python3"
  },
  "language_info": {
   "codemirror_mode": {
    "name": "ipython",
    "version": 3
   },
   "file_extension": ".py",
   "mimetype": "text/x-python",
   "name": "python",
   "nbconvert_exporter": "python",
   "pygments_lexer": "ipython3",
   "version": "3.10.10"
  },
  "orig_nbformat": 4,
  "vscode": {
   "interpreter": {
    "hash": "04aae946aefb73757d94e4e7bfb7ede85957aa0149a3e71cc39e2fcc66c8e46e"
   }
  }
 },
 "nbformat": 4,
 "nbformat_minor": 2
}
