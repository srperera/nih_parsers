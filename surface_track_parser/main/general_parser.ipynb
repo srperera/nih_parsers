{
 "cells": [
  {
   "cell_type": "code",
   "execution_count": 1,
   "metadata": {},
   "outputs": [],
   "source": [
    "import utils\n",
    "import numpy as np\n",
    "import glob\n",
    "import os\n",
    "import pandas as pd\n",
    "import ray"
   ]
  },
  {
   "cell_type": "markdown",
   "metadata": {},
   "source": [
    "Get Available Categories"
   ]
  },
  {
   "cell_type": "code",
   "execution_count": 2,
   "metadata": {},
   "outputs": [],
   "source": [
    "def generate_available_categories(config_path: str):\n",
    "    # load config path\n",
    "    yaml = utils.load_yaml(parser_type)\n",
    "\n",
    "    # type of parser\n",
    "    parser_type = yaml[\"parser_type\"]\n",
    "\n",
    "    # extract category func\n",
    "    extract_categories = utils.get_category_function(parser_type)\n",
    "\n",
    "    # files to scan\n",
    "    directories = yaml[\"data_dir\"]\n",
    "\n",
    "    # valid surface\n",
    "    valid_surface = int(yaml[\"valid_surface\"]) - 1\n",
    "\n",
    "    for directory in directories:\n",
    "        # grab all the files in the directory w/ .ims\n",
    "        filenames = list(glob.glob(os.path.join(directory, \"*.ims\")))\n",
    "\n",
    "        for filename in filenames:\n",
    "            # file path\n",
    "            file_path = filename\n",
    "\n",
    "            # get and save the available categories csv file\n",
    "            extract_categories(file_path, valid_surface)\n",
    "\n",
    "            break\n",
    "\n",
    "        break\n",
    "\n",
    "    print(\"[info] Please Edit The Statistics File\")"
   ]
  },
  {
   "cell_type": "code",
   "execution_count": 3,
   "metadata": {},
   "outputs": [],
   "source": [
    "# RUN GENERATE CATEGORIES\n",
    "# generate_available_categories(\"config.yaml\")"
   ]
  },
  {
   "cell_type": "markdown",
   "metadata": {},
   "source": [
    "Generate Statistics "
   ]
  },
  {
   "cell_type": "code",
   "execution_count": 4,
   "metadata": {},
   "outputs": [],
   "source": [
    "def generate_statistics(config_path: str):\n",
    "    # load config path\n",
    "    yaml = utils.load_yaml(config_path)\n",
    "\n",
    "    ray.init()\n",
    "\n",
    "    # type of parser\n",
    "    parser_type = yaml[\"parser_type\"]\n",
    "\n",
    "    if parser_type == \"track\":\n",
    "        from track_parser import extract_and_save\n",
    "\n",
    "    elif parser_type == \"surface\":\n",
    "        from surface_parser import extract_and_save\n",
    "\n",
    "    elif parser_type == \"first\":\n",
    "        from first_surface_parser import extract_and_save\n",
    "\n",
    "    else:\n",
    "        raise ValueError(\"Invalid Parser Type\")\n",
    "\n",
    "    # files to scan\n",
    "    directories = yaml[\"data_dir\"]\n",
    "\n",
    "    # get the stats categories\n",
    "    stats_categories = utils.read_txt(yaml[\"stats_category_path\"])\n",
    "\n",
    "    # save dir\n",
    "    save_dir = yaml[\"save_dir\"][0]\n",
    "\n",
    "    # valid surface\n",
    "    valid_surface = int(yaml[\"valid_surface\"])\n",
    "\n",
    "    # folder name to save data to\n",
    "    folder_name = yaml[\"valid_surface_dict\"][str(valid_surface)]\n",
    "    valid_surface -= valid_surface\n",
    "\n",
    "    # create folder\n",
    "    folder_path = os.path.join(save_dir, folder_name)\n",
    "    if not os.path.isdir(folder_path):\n",
    "        os.makedirs(folder_path)\n",
    "\n",
    "    # create a list to hold ray subprocess\n",
    "    processes = []\n",
    "\n",
    "    for directory in directories:\n",
    "        # grab all the files in the directory w/ .ims\n",
    "        filenames = list(glob.glob(os.path.join(directory, \"*.ims\")))\n",
    "\n",
    "        for filename in filenames:\n",
    "            # file path\n",
    "            file_path = filename  # os.path.join(directory, filename)\n",
    "\n",
    "            # save_file_path\n",
    "            save_path = utils.get_save_filepath(parser_type, folder_path, filename)\n",
    "\n",
    "            # extract and save\n",
    "            processes.append(\n",
    "                extract_and_save.remote(\n",
    "                    file_path, valid_surface, stats_categories, save_path\n",
    "                )\n",
    "            )\n",
    "            print(save_path)\n",
    "\n",
    "    print(\"info -- running subprocesses:\")\n",
    "\n",
    "    ray.get(processes)"
   ]
  },
  {
   "cell_type": "code",
   "execution_count": 5,
   "metadata": {},
   "outputs": [
    {
     "name": "stderr",
     "output_type": "stream",
     "text": [
      "2023-08-15 11:47:59,888\tINFO worker.py:1636 -- Started a local Ray instance.\n"
     ]
    },
    {
     "name": "stdout",
     "output_type": "stream",
     "text": [
      "surface_track_parser/temp/Blue/ALN Sec2 Roi1 2x2 1h20min_first.csv\n",
      "info -- running subprocesses:\n",
      "\u001b[2m\u001b[36m(extract_and_save pid=114357)\u001b[0m [info] working on file ../../data/surface_track_parser_dev_data/ALN Sec2 Roi1 2x2 1h20min.ims\n"
     ]
    }
   ],
   "source": [
    "# RUN GENERATE STATISTICS\n",
    "generate_statistics(config_path=\"config.yaml\")"
   ]
  },
  {
   "cell_type": "code",
   "execution_count": 6,
   "metadata": {},
   "outputs": [
    {
     "name": "stdout",
     "output_type": "stream",
     "text": [
      "\u001b[2m\u001b[36m(extract_and_save pid=114357)\u001b[0m [info] finished! \n",
      "\u001b[2m\u001b[36m(extract_and_save pid=114357)\u001b[0m \n"
     ]
    },
    {
     "name": "stderr",
     "output_type": "stream",
     "text": [
      "\u001b[2m\u001b[33m(raylet)\u001b[0m [2023-08-15 11:48:09,789 E 114277 114290] (raylet) file_system_monitor.cc:111: /tmp/ray/session_2023-08-15_11-47-58_296637_114092 is over 95% full, available space: 51585593344; capacity: 1958874054656. Object creation will fail if spilling is required.\n",
      "\u001b[2m\u001b[33m(raylet)\u001b[0m [2023-08-15 11:48:19,801 E 114277 114290] (raylet) file_system_monitor.cc:111: /tmp/ray/session_2023-08-15_11-47-58_296637_114092 is over 95% full, available space: 51585576960; capacity: 1958874054656. Object creation will fail if spilling is required.\n"
     ]
    }
   ],
   "source": [
    "# Working"
   ]
  },
  {
   "cell_type": "code",
   "execution_count": null,
   "metadata": {},
   "outputs": [],
   "source": []
  }
 ],
 "metadata": {
  "kernelspec": {
   "display_name": "Python 3.8.13 ('core')",
   "language": "python",
   "name": "python3"
  },
  "language_info": {
   "codemirror_mode": {
    "name": "ipython",
    "version": 3
   },
   "file_extension": ".py",
   "mimetype": "text/x-python",
   "name": "python",
   "nbconvert_exporter": "python",
   "pygments_lexer": "ipython3",
   "version": "3.10.10"
  },
  "orig_nbformat": 4,
  "vscode": {
   "interpreter": {
    "hash": "04aae946aefb73757d94e4e7bfb7ede85957aa0149a3e71cc39e2fcc66c8e46e"
   }
  }
 },
 "nbformat": 4,
 "nbformat_minor": 2
}
